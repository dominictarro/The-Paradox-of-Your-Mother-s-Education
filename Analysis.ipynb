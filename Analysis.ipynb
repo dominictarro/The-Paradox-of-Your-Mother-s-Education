{
 "cells": [
  {
   "attachments": {},
   "cell_type": "markdown",
   "metadata": {},
   "source": [
    "# The Paradox of Your Mother's Education\n",
    "\n",
    "This notebook explores fertility trends in the US population. The focus of this piece is on the fertility differences between education segments.\n",
    "\n",
    "- [Population Trends](#population-trends)\n",
    "- [Fertility Trends by Education Segments](#fertility-trends-by-education-segments)\n",
    "- [Advancing the Statistic](#advancing-the-statistic)\n",
    "- [The Paradox](#the-paradox)"
   ]
  },
  {
   "cell_type": "code",
   "execution_count": 1,
   "metadata": {},
   "outputs": [
    {
     "data": {
      "text/html": [
       "<div>\n",
       "<style scoped>\n",
       "    .dataframe tbody tr th:only-of-type {\n",
       "        vertical-align: middle;\n",
       "    }\n",
       "\n",
       "    .dataframe tbody tr th {\n",
       "        vertical-align: top;\n",
       "    }\n",
       "\n",
       "    .dataframe thead th {\n",
       "        text-align: right;\n",
       "    }\n",
       "</style>\n",
       "<table border=\"1\" class=\"dataframe\">\n",
       "  <thead>\n",
       "    <tr style=\"text-align: right;\">\n",
       "      <th></th>\n",
       "      <th>Year</th>\n",
       "      <th>Education</th>\n",
       "      <th>Age Group</th>\n",
       "      <th>Marital Status</th>\n",
       "      <th>Children Ever Born per Woman</th>\n",
       "      <th>Total Women</th>\n",
       "      <th>Childlessness</th>\n",
       "    </tr>\n",
       "  </thead>\n",
       "  <tbody>\n",
       "    <tr>\n",
       "      <th>0</th>\n",
       "      <td>2012</td>\n",
       "      <td>Associate's degree</td>\n",
       "      <td>15 - 19</td>\n",
       "      <td>All Marital Statuses</td>\n",
       "      <td>0.000</td>\n",
       "      <td>63000.0</td>\n",
       "      <td>1.000</td>\n",
       "    </tr>\n",
       "    <tr>\n",
       "      <th>1</th>\n",
       "      <td>2012</td>\n",
       "      <td>Bachelor's degree</td>\n",
       "      <td>15 - 19</td>\n",
       "      <td>All Marital Statuses</td>\n",
       "      <td>0.047</td>\n",
       "      <td>28000.0</td>\n",
       "      <td>0.953</td>\n",
       "    </tr>\n",
       "    <tr>\n",
       "      <th>2</th>\n",
       "      <td>2012</td>\n",
       "      <td>Graduate or professional degree</td>\n",
       "      <td>15 - 19</td>\n",
       "      <td>All Marital Statuses</td>\n",
       "      <td>0.524</td>\n",
       "      <td>7000.0</td>\n",
       "      <td>0.476</td>\n",
       "    </tr>\n",
       "    <tr>\n",
       "      <th>3</th>\n",
       "      <td>2012</td>\n",
       "      <td>High school graduate</td>\n",
       "      <td>15 - 19</td>\n",
       "      <td>All Marital Statuses</td>\n",
       "      <td>0.166</td>\n",
       "      <td>1481000.0</td>\n",
       "      <td>0.860</td>\n",
       "    </tr>\n",
       "    <tr>\n",
       "      <th>4</th>\n",
       "      <td>2012</td>\n",
       "      <td>Not a high school graduate</td>\n",
       "      <td>15 - 19</td>\n",
       "      <td>All Marital Statuses</td>\n",
       "      <td>0.045</td>\n",
       "      <td>7509000.0</td>\n",
       "      <td>0.967</td>\n",
       "    </tr>\n",
       "  </tbody>\n",
       "</table>\n",
       "</div>"
      ],
      "text/plain": [
       "   Year                        Education Age Group        Marital Status   \n",
       "0  2012               Associate's degree   15 - 19  All Marital Statuses  \\\n",
       "1  2012                Bachelor's degree   15 - 19  All Marital Statuses   \n",
       "2  2012  Graduate or professional degree   15 - 19  All Marital Statuses   \n",
       "3  2012             High school graduate   15 - 19  All Marital Statuses   \n",
       "4  2012       Not a high school graduate   15 - 19  All Marital Statuses   \n",
       "\n",
       "   Children Ever Born per Woman  Total Women  Childlessness  \n",
       "0                         0.000      63000.0          1.000  \n",
       "1                         0.047      28000.0          0.953  \n",
       "2                         0.524       7000.0          0.476  \n",
       "3                         0.166    1481000.0          0.860  \n",
       "4                         0.045    7509000.0          0.967  "
      ]
     },
     "execution_count": 1,
     "metadata": {},
     "output_type": "execute_result"
    }
   ],
   "source": [
    "import pandas as pd\n",
    "\n",
    "df = pd.read_csv(\"data/clean/biannual_census_2012-2020.csv\")\n",
    "df.head()"
   ]
  },
  {
   "cell_type": "code",
   "execution_count": 2,
   "metadata": {},
   "outputs": [
    {
     "data": {
      "text/html": [
       "<div>\n",
       "<style scoped>\n",
       "    .dataframe tbody tr th:only-of-type {\n",
       "        vertical-align: middle;\n",
       "    }\n",
       "\n",
       "    .dataframe tbody tr th {\n",
       "        vertical-align: top;\n",
       "    }\n",
       "\n",
       "    .dataframe thead th {\n",
       "        text-align: right;\n",
       "    }\n",
       "</style>\n",
       "<table border=\"1\" class=\"dataframe\">\n",
       "  <thead>\n",
       "    <tr style=\"text-align: right;\">\n",
       "      <th></th>\n",
       "      <th>Year</th>\n",
       "      <th>Education</th>\n",
       "      <th>Age Group</th>\n",
       "      <th>Marital Status</th>\n",
       "      <th>Children Ever Born per Woman</th>\n",
       "      <th>Total Women</th>\n",
       "      <th>Childlessness</th>\n",
       "      <th>Total Children</th>\n",
       "    </tr>\n",
       "  </thead>\n",
       "  <tbody>\n",
       "    <tr>\n",
       "      <th>0</th>\n",
       "      <td>2012</td>\n",
       "      <td>Associate's degree</td>\n",
       "      <td>15 - 19</td>\n",
       "      <td>All Marital Statuses</td>\n",
       "      <td>0.000</td>\n",
       "      <td>63000.0</td>\n",
       "      <td>1.000</td>\n",
       "      <td>0.0</td>\n",
       "    </tr>\n",
       "    <tr>\n",
       "      <th>1</th>\n",
       "      <td>2012</td>\n",
       "      <td>Bachelor's degree</td>\n",
       "      <td>15 - 19</td>\n",
       "      <td>All Marital Statuses</td>\n",
       "      <td>0.047</td>\n",
       "      <td>28000.0</td>\n",
       "      <td>0.953</td>\n",
       "      <td>1316.0</td>\n",
       "    </tr>\n",
       "    <tr>\n",
       "      <th>2</th>\n",
       "      <td>2012</td>\n",
       "      <td>Graduate or professional degree</td>\n",
       "      <td>15 - 19</td>\n",
       "      <td>All Marital Statuses</td>\n",
       "      <td>0.524</td>\n",
       "      <td>7000.0</td>\n",
       "      <td>0.476</td>\n",
       "      <td>3668.0</td>\n",
       "    </tr>\n",
       "    <tr>\n",
       "      <th>3</th>\n",
       "      <td>2012</td>\n",
       "      <td>High school graduate</td>\n",
       "      <td>15 - 19</td>\n",
       "      <td>All Marital Statuses</td>\n",
       "      <td>0.166</td>\n",
       "      <td>1481000.0</td>\n",
       "      <td>0.860</td>\n",
       "      <td>245846.0</td>\n",
       "    </tr>\n",
       "    <tr>\n",
       "      <th>4</th>\n",
       "      <td>2012</td>\n",
       "      <td>Not a high school graduate</td>\n",
       "      <td>15 - 19</td>\n",
       "      <td>All Marital Statuses</td>\n",
       "      <td>0.045</td>\n",
       "      <td>7509000.0</td>\n",
       "      <td>0.967</td>\n",
       "      <td>337905.0</td>\n",
       "    </tr>\n",
       "  </tbody>\n",
       "</table>\n",
       "</div>"
      ],
      "text/plain": [
       "   Year                        Education Age Group        Marital Status   \n",
       "0  2012               Associate's degree   15 - 19  All Marital Statuses  \\\n",
       "1  2012                Bachelor's degree   15 - 19  All Marital Statuses   \n",
       "2  2012  Graduate or professional degree   15 - 19  All Marital Statuses   \n",
       "3  2012             High school graduate   15 - 19  All Marital Statuses   \n",
       "4  2012       Not a high school graduate   15 - 19  All Marital Statuses   \n",
       "\n",
       "   Children Ever Born per Woman  Total Women  Childlessness  Total Children  \n",
       "0                         0.000      63000.0          1.000             0.0  \n",
       "1                         0.047      28000.0          0.953          1316.0  \n",
       "2                         0.524       7000.0          0.476          3668.0  \n",
       "3                         0.166    1481000.0          0.860        245846.0  \n",
       "4                         0.045    7509000.0          0.967        337905.0  "
      ]
     },
     "execution_count": 2,
     "metadata": {},
     "output_type": "execute_result"
    }
   ],
   "source": [
    "df[\"Total Children\"] = df[\"Children Ever Born per Woman\"] * df[\"Total Women\"]\n",
    "df.head()"
   ]
  },
  {
   "cell_type": "code",
   "execution_count": 3,
   "metadata": {},
   "outputs": [
    {
     "data": {
      "text/html": [
       "<div>\n",
       "<style scoped>\n",
       "    .dataframe tbody tr th:only-of-type {\n",
       "        vertical-align: middle;\n",
       "    }\n",
       "\n",
       "    .dataframe tbody tr th {\n",
       "        vertical-align: top;\n",
       "    }\n",
       "\n",
       "    .dataframe thead th {\n",
       "        text-align: right;\n",
       "    }\n",
       "</style>\n",
       "<table border=\"1\" class=\"dataframe\">\n",
       "  <thead>\n",
       "    <tr style=\"text-align: right;\">\n",
       "      <th></th>\n",
       "      <th>Year</th>\n",
       "      <th>Education</th>\n",
       "      <th>Age Group</th>\n",
       "      <th>Marital Status</th>\n",
       "      <th>Children Ever Born per Woman</th>\n",
       "      <th>Total Women</th>\n",
       "      <th>Childlessness</th>\n",
       "      <th>Total Children</th>\n",
       "      <th>Total Births</th>\n",
       "    </tr>\n",
       "  </thead>\n",
       "  <tbody>\n",
       "    <tr>\n",
       "      <th>18</th>\n",
       "      <td>2012</td>\n",
       "      <td>Associate's degree</td>\n",
       "      <td>20 - 29</td>\n",
       "      <td>All Marital Statuses</td>\n",
       "      <td>0.734</td>\n",
       "      <td>2007000.0</td>\n",
       "      <td>0.584</td>\n",
       "      <td>1473138.0</td>\n",
       "      <td>1473138.0</td>\n",
       "    </tr>\n",
       "    <tr>\n",
       "      <th>19</th>\n",
       "      <td>2012</td>\n",
       "      <td>Bachelor's degree</td>\n",
       "      <td>20 - 29</td>\n",
       "      <td>All Marital Statuses</td>\n",
       "      <td>0.294</td>\n",
       "      <td>4397000.0</td>\n",
       "      <td>0.794</td>\n",
       "      <td>1292718.0</td>\n",
       "      <td>1292718.0</td>\n",
       "    </tr>\n",
       "    <tr>\n",
       "      <th>20</th>\n",
       "      <td>2012</td>\n",
       "      <td>Graduate or professional degree</td>\n",
       "      <td>20 - 29</td>\n",
       "      <td>All Marital Statuses</td>\n",
       "      <td>0.310</td>\n",
       "      <td>1041000.0</td>\n",
       "      <td>0.801</td>\n",
       "      <td>322710.0</td>\n",
       "      <td>322710.0</td>\n",
       "    </tr>\n",
       "    <tr>\n",
       "      <th>21</th>\n",
       "      <td>2012</td>\n",
       "      <td>High school graduate</td>\n",
       "      <td>20 - 29</td>\n",
       "      <td>All Marital Statuses</td>\n",
       "      <td>0.955</td>\n",
       "      <td>5305000.0</td>\n",
       "      <td>0.454</td>\n",
       "      <td>5066275.0</td>\n",
       "      <td>5066275.0</td>\n",
       "    </tr>\n",
       "    <tr>\n",
       "      <th>22</th>\n",
       "      <td>2012</td>\n",
       "      <td>Not a high school graduate</td>\n",
       "      <td>20 - 29</td>\n",
       "      <td>All Marital Statuses</td>\n",
       "      <td>1.482</td>\n",
       "      <td>2008000.0</td>\n",
       "      <td>0.275</td>\n",
       "      <td>2975856.0</td>\n",
       "      <td>2975856.0</td>\n",
       "    </tr>\n",
       "  </tbody>\n",
       "</table>\n",
       "</div>"
      ],
      "text/plain": [
       "    Year                        Education Age Group        Marital Status   \n",
       "18  2012               Associate's degree   20 - 29  All Marital Statuses  \\\n",
       "19  2012                Bachelor's degree   20 - 29  All Marital Statuses   \n",
       "20  2012  Graduate or professional degree   20 - 29  All Marital Statuses   \n",
       "21  2012             High school graduate   20 - 29  All Marital Statuses   \n",
       "22  2012       Not a high school graduate   20 - 29  All Marital Statuses   \n",
       "\n",
       "    Children Ever Born per Woman  Total Women  Childlessness  Total Children   \n",
       "18                         0.734    2007000.0          0.584       1473138.0  \\\n",
       "19                         0.294    4397000.0          0.794       1292718.0   \n",
       "20                         0.310    1041000.0          0.801        322710.0   \n",
       "21                         0.955    5305000.0          0.454       5066275.0   \n",
       "22                         1.482    2008000.0          0.275       2975856.0   \n",
       "\n",
       "    Total Births  \n",
       "18     1473138.0  \n",
       "19     1292718.0  \n",
       "20      322710.0  \n",
       "21     5066275.0  \n",
       "22     2975856.0  "
      ]
     },
     "execution_count": 3,
     "metadata": {},
     "output_type": "execute_result"
    }
   ],
   "source": [
    "# Calculate the number of children born to each age group for each year\n",
    "\n",
    "df = df.filter(\n",
    "    df[~df[\"Age Group\"].isin([\"15 - 19\", \"15 - 44\", \"15 - 50\"])].index,\n",
    "    axis=0,\n",
    ")\n",
    "\n",
    "for year in df[\"Year\"].unique():\n",
    "    ydf = df[df[\"Year\"] == year]\n",
    "    for _, gdf in ydf.groupby(\"Education\"):\n",
    "        # Trying to estimate the number of children born. Don't have multi-decade data, so assuming\n",
    "        # the \"Total Children\" difference between 40-50 group and 30-39 group approximates the number\n",
    "        # of children born to 40-50 year old mothers\n",
    "        gdf = gdf.sort_values(\"Age Group\", ascending=True)\n",
    "        births_up_to = gdf[\"Total Children\"].shift(1, fill_value=0)\n",
    "        df.loc[gdf.index, \"Total Births\"] = gdf[\"Total Children\"] - births_up_to\n",
    "df.head()"
   ]
  },
  {
   "cell_type": "code",
   "execution_count": 4,
   "metadata": {},
   "outputs": [
    {
     "data": {
      "text/html": [
       "<div>\n",
       "<style scoped>\n",
       "    .dataframe tbody tr th:only-of-type {\n",
       "        vertical-align: middle;\n",
       "    }\n",
       "\n",
       "    .dataframe tbody tr th {\n",
       "        vertical-align: top;\n",
       "    }\n",
       "\n",
       "    .dataframe thead th {\n",
       "        text-align: right;\n",
       "    }\n",
       "</style>\n",
       "<table border=\"1\" class=\"dataframe\">\n",
       "  <thead>\n",
       "    <tr style=\"text-align: right;\">\n",
       "      <th></th>\n",
       "      <th>Year</th>\n",
       "      <th>Education</th>\n",
       "      <th>Age Group</th>\n",
       "      <th>Marital Status</th>\n",
       "      <th>Children Ever Born per Woman</th>\n",
       "      <th>Total Women</th>\n",
       "      <th>Childlessness</th>\n",
       "      <th>Total Children</th>\n",
       "      <th>Total Births</th>\n",
       "      <th>Birth Rate</th>\n",
       "    </tr>\n",
       "  </thead>\n",
       "  <tbody>\n",
       "    <tr>\n",
       "      <th>18</th>\n",
       "      <td>2012</td>\n",
       "      <td>Associate's degree</td>\n",
       "      <td>20 - 29</td>\n",
       "      <td>All Marital Statuses</td>\n",
       "      <td>0.734</td>\n",
       "      <td>2007000.0</td>\n",
       "      <td>0.584</td>\n",
       "      <td>1473138.0</td>\n",
       "      <td>1473138.0</td>\n",
       "      <td>0.734</td>\n",
       "    </tr>\n",
       "    <tr>\n",
       "      <th>19</th>\n",
       "      <td>2012</td>\n",
       "      <td>Bachelor's degree</td>\n",
       "      <td>20 - 29</td>\n",
       "      <td>All Marital Statuses</td>\n",
       "      <td>0.294</td>\n",
       "      <td>4397000.0</td>\n",
       "      <td>0.794</td>\n",
       "      <td>1292718.0</td>\n",
       "      <td>1292718.0</td>\n",
       "      <td>0.294</td>\n",
       "    </tr>\n",
       "    <tr>\n",
       "      <th>20</th>\n",
       "      <td>2012</td>\n",
       "      <td>Graduate or professional degree</td>\n",
       "      <td>20 - 29</td>\n",
       "      <td>All Marital Statuses</td>\n",
       "      <td>0.310</td>\n",
       "      <td>1041000.0</td>\n",
       "      <td>0.801</td>\n",
       "      <td>322710.0</td>\n",
       "      <td>322710.0</td>\n",
       "      <td>0.310</td>\n",
       "    </tr>\n",
       "    <tr>\n",
       "      <th>21</th>\n",
       "      <td>2012</td>\n",
       "      <td>High school graduate</td>\n",
       "      <td>20 - 29</td>\n",
       "      <td>All Marital Statuses</td>\n",
       "      <td>0.955</td>\n",
       "      <td>5305000.0</td>\n",
       "      <td>0.454</td>\n",
       "      <td>5066275.0</td>\n",
       "      <td>5066275.0</td>\n",
       "      <td>0.955</td>\n",
       "    </tr>\n",
       "    <tr>\n",
       "      <th>22</th>\n",
       "      <td>2012</td>\n",
       "      <td>Not a high school graduate</td>\n",
       "      <td>20 - 29</td>\n",
       "      <td>All Marital Statuses</td>\n",
       "      <td>1.482</td>\n",
       "      <td>2008000.0</td>\n",
       "      <td>0.275</td>\n",
       "      <td>2975856.0</td>\n",
       "      <td>2975856.0</td>\n",
       "      <td>1.482</td>\n",
       "    </tr>\n",
       "  </tbody>\n",
       "</table>\n",
       "</div>"
      ],
      "text/plain": [
       "    Year                        Education Age Group        Marital Status   \n",
       "18  2012               Associate's degree   20 - 29  All Marital Statuses  \\\n",
       "19  2012                Bachelor's degree   20 - 29  All Marital Statuses   \n",
       "20  2012  Graduate or professional degree   20 - 29  All Marital Statuses   \n",
       "21  2012             High school graduate   20 - 29  All Marital Statuses   \n",
       "22  2012       Not a high school graduate   20 - 29  All Marital Statuses   \n",
       "\n",
       "    Children Ever Born per Woman  Total Women  Childlessness  Total Children   \n",
       "18                         0.734    2007000.0          0.584       1473138.0  \\\n",
       "19                         0.294    4397000.0          0.794       1292718.0   \n",
       "20                         0.310    1041000.0          0.801        322710.0   \n",
       "21                         0.955    5305000.0          0.454       5066275.0   \n",
       "22                         1.482    2008000.0          0.275       2975856.0   \n",
       "\n",
       "    Total Births  Birth Rate  \n",
       "18     1473138.0       0.734  \n",
       "19     1292718.0       0.294  \n",
       "20      322710.0       0.310  \n",
       "21     5066275.0       0.955  \n",
       "22     2975856.0       1.482  "
      ]
     },
     "execution_count": 4,
     "metadata": {},
     "output_type": "execute_result"
    }
   ],
   "source": [
    "df[\"Birth Rate\"] = df[\"Total Births\"] / df[\"Total Women\"]\n",
    "df.head()"
   ]
  },
  {
   "cell_type": "code",
   "execution_count": 5,
   "metadata": {},
   "outputs": [
    {
     "data": {
      "text/html": [
       "<div>\n",
       "<style scoped>\n",
       "    .dataframe tbody tr th:only-of-type {\n",
       "        vertical-align: middle;\n",
       "    }\n",
       "\n",
       "    .dataframe tbody tr th {\n",
       "        vertical-align: top;\n",
       "    }\n",
       "\n",
       "    .dataframe thead th {\n",
       "        text-align: right;\n",
       "    }\n",
       "</style>\n",
       "<table border=\"1\" class=\"dataframe\">\n",
       "  <thead>\n",
       "    <tr style=\"text-align: right;\">\n",
       "      <th></th>\n",
       "      <th>Year</th>\n",
       "      <th>Children Ever Born per Woman</th>\n",
       "      <th>Total Women</th>\n",
       "      <th>Childlessness</th>\n",
       "      <th>Total Children</th>\n",
       "      <th>Total Births</th>\n",
       "      <th>Birth Rate</th>\n",
       "    </tr>\n",
       "  </thead>\n",
       "  <tbody>\n",
       "    <tr>\n",
       "      <th>count</th>\n",
       "      <td>90.000000</td>\n",
       "      <td>90.000000</td>\n",
       "      <td>9.000000e+01</td>\n",
       "      <td>90.000000</td>\n",
       "      <td>9.000000e+01</td>\n",
       "      <td>9.000000e+01</td>\n",
       "      <td>90.000000</td>\n",
       "    </tr>\n",
       "    <tr>\n",
       "      <th>mean</th>\n",
       "      <td>2016.000000</td>\n",
       "      <td>1.489278</td>\n",
       "      <td>3.645600e+06</td>\n",
       "      <td>0.342900</td>\n",
       "      <td>5.208723e+06</td>\n",
       "      <td>2.530541e+06</td>\n",
       "      <td>0.728516</td>\n",
       "    </tr>\n",
       "    <tr>\n",
       "      <th>std</th>\n",
       "      <td>2.844273</td>\n",
       "      <td>0.720141</td>\n",
       "      <td>1.607000e+06</td>\n",
       "      <td>0.237758</td>\n",
       "      <td>3.005329e+06</td>\n",
       "      <td>1.472514e+06</td>\n",
       "      <td>0.375945</td>\n",
       "    </tr>\n",
       "    <tr>\n",
       "      <th>min</th>\n",
       "      <td>2012.000000</td>\n",
       "      <td>0.252000</td>\n",
       "      <td>1.041000e+06</td>\n",
       "      <td>0.077000</td>\n",
       "      <td>3.227100e+05</td>\n",
       "      <td>1.639400e+04</td>\n",
       "      <td>0.005147</td>\n",
       "    </tr>\n",
       "    <tr>\n",
       "      <th>25%</th>\n",
       "      <td>2014.000000</td>\n",
       "      <td>0.860000</td>\n",
       "      <td>2.233750e+06</td>\n",
       "      <td>0.150250</td>\n",
       "      <td>3.280426e+06</td>\n",
       "      <td>1.296234e+06</td>\n",
       "      <td>0.422102</td>\n",
       "    </tr>\n",
       "    <tr>\n",
       "      <th>50%</th>\n",
       "      <td>2016.000000</td>\n",
       "      <td>1.713500</td>\n",
       "      <td>3.512000e+06</td>\n",
       "      <td>0.227000</td>\n",
       "      <td>5.056691e+06</td>\n",
       "      <td>2.541895e+06</td>\n",
       "      <td>0.649224</td>\n",
       "    </tr>\n",
       "    <tr>\n",
       "      <th>75%</th>\n",
       "      <td>2018.000000</td>\n",
       "      <td>1.999750</td>\n",
       "      <td>5.176750e+06</td>\n",
       "      <td>0.503500</td>\n",
       "      <td>6.779255e+06</td>\n",
       "      <td>3.367580e+06</td>\n",
       "      <td>1.052632</td>\n",
       "    </tr>\n",
       "    <tr>\n",
       "      <th>max</th>\n",
       "      <td>2020.000000</td>\n",
       "      <td>2.710000</td>\n",
       "      <td>6.601000e+06</td>\n",
       "      <td>0.840000</td>\n",
       "      <td>1.336900e+07</td>\n",
       "      <td>6.596352e+06</td>\n",
       "      <td>1.671732</td>\n",
       "    </tr>\n",
       "  </tbody>\n",
       "</table>\n",
       "</div>"
      ],
      "text/plain": [
       "              Year  Children Ever Born per Woman   Total Women  Childlessness   \n",
       "count    90.000000                     90.000000  9.000000e+01      90.000000  \\\n",
       "mean   2016.000000                      1.489278  3.645600e+06       0.342900   \n",
       "std       2.844273                      0.720141  1.607000e+06       0.237758   \n",
       "min    2012.000000                      0.252000  1.041000e+06       0.077000   \n",
       "25%    2014.000000                      0.860000  2.233750e+06       0.150250   \n",
       "50%    2016.000000                      1.713500  3.512000e+06       0.227000   \n",
       "75%    2018.000000                      1.999750  5.176750e+06       0.503500   \n",
       "max    2020.000000                      2.710000  6.601000e+06       0.840000   \n",
       "\n",
       "       Total Children  Total Births  Birth Rate  \n",
       "count    9.000000e+01  9.000000e+01   90.000000  \n",
       "mean     5.208723e+06  2.530541e+06    0.728516  \n",
       "std      3.005329e+06  1.472514e+06    0.375945  \n",
       "min      3.227100e+05  1.639400e+04    0.005147  \n",
       "25%      3.280426e+06  1.296234e+06    0.422102  \n",
       "50%      5.056691e+06  2.541895e+06    0.649224  \n",
       "75%      6.779255e+06  3.367580e+06    1.052632  \n",
       "max      1.336900e+07  6.596352e+06    1.671732  "
      ]
     },
     "execution_count": 5,
     "metadata": {},
     "output_type": "execute_result"
    }
   ],
   "source": [
    "df.describe()"
   ]
  },
  {
   "attachments": {},
   "cell_type": "markdown",
   "metadata": {},
   "source": [
    "# Population Trends"
   ]
  },
  {
   "cell_type": "code",
   "execution_count": 6,
   "metadata": {},
   "outputs": [],
   "source": [
    "import plotly.express as px\n",
    "import plotly.graph_objects as go\n",
    "from plotly.colors import colorbrewer\n",
    "from plotly.subplots import make_subplots"
   ]
  },
  {
   "cell_type": "code",
   "execution_count": 7,
   "metadata": {},
   "outputs": [
    {
     "data": {
      "application/vnd.plotly.v1+json": {
       "config": {
        "plotlyServerURL": "https://plot.ly"
       },
       "data": [
        {
         "legendgroup": "Total",
         "legendgrouptitle": {
          "text": "Total"
         },
         "line": {
          "color": "rgb(102,102,102)"
         },
         "name": "Children",
         "type": "scatter",
         "x": [
          2012,
          2014,
          2016,
          2018,
          2020
         ],
         "y": [
          97081327,
          95287769,
          94467277,
          93297949,
          88650736
         ]
        },
        {
         "hovertext": [
          "nan%",
          "-1.8%",
          "-0.9%",
          "-1.2%",
          "-5.0%"
         ],
         "legendgroup": "YoY Change",
         "legendgrouptitle": {
          "text": "YoY Change"
         },
         "line": {
          "color": "rgb(102,102,102)",
          "dash": "dot"
         },
         "name": "Children",
         "type": "scatter",
         "x": [
          2012,
          2014,
          2016,
          2018,
          2020
         ],
         "xaxis": "x",
         "y": [
          null,
          -1793558,
          -820492,
          -1169328,
          -4647213
         ],
         "yaxis": "y2"
        },
        {
         "legendgroup": "Total",
         "line": {
          "color": "rgb(166,118,29)"
         },
         "name": "Women",
         "type": "scatter",
         "x": [
          2012,
          2014,
          2016,
          2018,
          2020
         ],
         "y": [
          65043000,
          65242000,
          65626000,
          66121000,
          66072000
         ]
        },
        {
         "hovertext": [
          "nan%",
          "0.3%",
          "0.6%",
          "0.8%",
          "-0.1%"
         ],
         "legendgroup": "YoY Change",
         "line": {
          "color": "rgb(166,118,29)",
          "dash": "dot"
         },
         "name": "Women",
         "type": "scatter",
         "x": [
          2012,
          2014,
          2016,
          2018,
          2020
         ],
         "xaxis": "x",
         "y": [
          null,
          199000,
          384000,
          495000,
          -49000
         ],
         "yaxis": "y2"
        }
       ],
       "layout": {
        "paper_bgcolor": "rgba(0,0,0,0)",
        "plot_bgcolor": "rgba(0,0,0,0)",
        "template": {
         "data": {
          "bar": [
           {
            "error_x": {
             "color": "#f2f5fa"
            },
            "error_y": {
             "color": "#f2f5fa"
            },
            "marker": {
             "line": {
              "color": "rgb(17,17,17)",
              "width": 0.5
             },
             "pattern": {
              "fillmode": "overlay",
              "size": 10,
              "solidity": 0.2
             }
            },
            "type": "bar"
           }
          ],
          "barpolar": [
           {
            "marker": {
             "line": {
              "color": "rgb(17,17,17)",
              "width": 0.5
             },
             "pattern": {
              "fillmode": "overlay",
              "size": 10,
              "solidity": 0.2
             }
            },
            "type": "barpolar"
           }
          ],
          "carpet": [
           {
            "aaxis": {
             "endlinecolor": "#A2B1C6",
             "gridcolor": "#506784",
             "linecolor": "#506784",
             "minorgridcolor": "#506784",
             "startlinecolor": "#A2B1C6"
            },
            "baxis": {
             "endlinecolor": "#A2B1C6",
             "gridcolor": "#506784",
             "linecolor": "#506784",
             "minorgridcolor": "#506784",
             "startlinecolor": "#A2B1C6"
            },
            "type": "carpet"
           }
          ],
          "choropleth": [
           {
            "colorbar": {
             "outlinewidth": 0,
             "ticks": ""
            },
            "type": "choropleth"
           }
          ],
          "contour": [
           {
            "colorbar": {
             "outlinewidth": 0,
             "ticks": ""
            },
            "colorscale": [
             [
              0,
              "#0d0887"
             ],
             [
              0.1111111111111111,
              "#46039f"
             ],
             [
              0.2222222222222222,
              "#7201a8"
             ],
             [
              0.3333333333333333,
              "#9c179e"
             ],
             [
              0.4444444444444444,
              "#bd3786"
             ],
             [
              0.5555555555555556,
              "#d8576b"
             ],
             [
              0.6666666666666666,
              "#ed7953"
             ],
             [
              0.7777777777777778,
              "#fb9f3a"
             ],
             [
              0.8888888888888888,
              "#fdca26"
             ],
             [
              1,
              "#f0f921"
             ]
            ],
            "type": "contour"
           }
          ],
          "contourcarpet": [
           {
            "colorbar": {
             "outlinewidth": 0,
             "ticks": ""
            },
            "type": "contourcarpet"
           }
          ],
          "heatmap": [
           {
            "colorbar": {
             "outlinewidth": 0,
             "ticks": ""
            },
            "colorscale": [
             [
              0,
              "#0d0887"
             ],
             [
              0.1111111111111111,
              "#46039f"
             ],
             [
              0.2222222222222222,
              "#7201a8"
             ],
             [
              0.3333333333333333,
              "#9c179e"
             ],
             [
              0.4444444444444444,
              "#bd3786"
             ],
             [
              0.5555555555555556,
              "#d8576b"
             ],
             [
              0.6666666666666666,
              "#ed7953"
             ],
             [
              0.7777777777777778,
              "#fb9f3a"
             ],
             [
              0.8888888888888888,
              "#fdca26"
             ],
             [
              1,
              "#f0f921"
             ]
            ],
            "type": "heatmap"
           }
          ],
          "heatmapgl": [
           {
            "colorbar": {
             "outlinewidth": 0,
             "ticks": ""
            },
            "colorscale": [
             [
              0,
              "#0d0887"
             ],
             [
              0.1111111111111111,
              "#46039f"
             ],
             [
              0.2222222222222222,
              "#7201a8"
             ],
             [
              0.3333333333333333,
              "#9c179e"
             ],
             [
              0.4444444444444444,
              "#bd3786"
             ],
             [
              0.5555555555555556,
              "#d8576b"
             ],
             [
              0.6666666666666666,
              "#ed7953"
             ],
             [
              0.7777777777777778,
              "#fb9f3a"
             ],
             [
              0.8888888888888888,
              "#fdca26"
             ],
             [
              1,
              "#f0f921"
             ]
            ],
            "type": "heatmapgl"
           }
          ],
          "histogram": [
           {
            "marker": {
             "pattern": {
              "fillmode": "overlay",
              "size": 10,
              "solidity": 0.2
             }
            },
            "type": "histogram"
           }
          ],
          "histogram2d": [
           {
            "colorbar": {
             "outlinewidth": 0,
             "ticks": ""
            },
            "colorscale": [
             [
              0,
              "#0d0887"
             ],
             [
              0.1111111111111111,
              "#46039f"
             ],
             [
              0.2222222222222222,
              "#7201a8"
             ],
             [
              0.3333333333333333,
              "#9c179e"
             ],
             [
              0.4444444444444444,
              "#bd3786"
             ],
             [
              0.5555555555555556,
              "#d8576b"
             ],
             [
              0.6666666666666666,
              "#ed7953"
             ],
             [
              0.7777777777777778,
              "#fb9f3a"
             ],
             [
              0.8888888888888888,
              "#fdca26"
             ],
             [
              1,
              "#f0f921"
             ]
            ],
            "type": "histogram2d"
           }
          ],
          "histogram2dcontour": [
           {
            "colorbar": {
             "outlinewidth": 0,
             "ticks": ""
            },
            "colorscale": [
             [
              0,
              "#0d0887"
             ],
             [
              0.1111111111111111,
              "#46039f"
             ],
             [
              0.2222222222222222,
              "#7201a8"
             ],
             [
              0.3333333333333333,
              "#9c179e"
             ],
             [
              0.4444444444444444,
              "#bd3786"
             ],
             [
              0.5555555555555556,
              "#d8576b"
             ],
             [
              0.6666666666666666,
              "#ed7953"
             ],
             [
              0.7777777777777778,
              "#fb9f3a"
             ],
             [
              0.8888888888888888,
              "#fdca26"
             ],
             [
              1,
              "#f0f921"
             ]
            ],
            "type": "histogram2dcontour"
           }
          ],
          "mesh3d": [
           {
            "colorbar": {
             "outlinewidth": 0,
             "ticks": ""
            },
            "type": "mesh3d"
           }
          ],
          "parcoords": [
           {
            "line": {
             "colorbar": {
              "outlinewidth": 0,
              "ticks": ""
             }
            },
            "type": "parcoords"
           }
          ],
          "pie": [
           {
            "automargin": true,
            "type": "pie"
           }
          ],
          "scatter": [
           {
            "marker": {
             "line": {
              "color": "#283442"
             }
            },
            "type": "scatter"
           }
          ],
          "scatter3d": [
           {
            "line": {
             "colorbar": {
              "outlinewidth": 0,
              "ticks": ""
             }
            },
            "marker": {
             "colorbar": {
              "outlinewidth": 0,
              "ticks": ""
             }
            },
            "type": "scatter3d"
           }
          ],
          "scattercarpet": [
           {
            "marker": {
             "colorbar": {
              "outlinewidth": 0,
              "ticks": ""
             }
            },
            "type": "scattercarpet"
           }
          ],
          "scattergeo": [
           {
            "marker": {
             "colorbar": {
              "outlinewidth": 0,
              "ticks": ""
             }
            },
            "type": "scattergeo"
           }
          ],
          "scattergl": [
           {
            "marker": {
             "line": {
              "color": "#283442"
             }
            },
            "type": "scattergl"
           }
          ],
          "scattermapbox": [
           {
            "marker": {
             "colorbar": {
              "outlinewidth": 0,
              "ticks": ""
             }
            },
            "type": "scattermapbox"
           }
          ],
          "scatterpolar": [
           {
            "marker": {
             "colorbar": {
              "outlinewidth": 0,
              "ticks": ""
             }
            },
            "type": "scatterpolar"
           }
          ],
          "scatterpolargl": [
           {
            "marker": {
             "colorbar": {
              "outlinewidth": 0,
              "ticks": ""
             }
            },
            "type": "scatterpolargl"
           }
          ],
          "scatterternary": [
           {
            "marker": {
             "colorbar": {
              "outlinewidth": 0,
              "ticks": ""
             }
            },
            "type": "scatterternary"
           }
          ],
          "surface": [
           {
            "colorbar": {
             "outlinewidth": 0,
             "ticks": ""
            },
            "colorscale": [
             [
              0,
              "#0d0887"
             ],
             [
              0.1111111111111111,
              "#46039f"
             ],
             [
              0.2222222222222222,
              "#7201a8"
             ],
             [
              0.3333333333333333,
              "#9c179e"
             ],
             [
              0.4444444444444444,
              "#bd3786"
             ],
             [
              0.5555555555555556,
              "#d8576b"
             ],
             [
              0.6666666666666666,
              "#ed7953"
             ],
             [
              0.7777777777777778,
              "#fb9f3a"
             ],
             [
              0.8888888888888888,
              "#fdca26"
             ],
             [
              1,
              "#f0f921"
             ]
            ],
            "type": "surface"
           }
          ],
          "table": [
           {
            "cells": {
             "fill": {
              "color": "#506784"
             },
             "line": {
              "color": "rgb(17,17,17)"
             }
            },
            "header": {
             "fill": {
              "color": "#2a3f5f"
             },
             "line": {
              "color": "rgb(17,17,17)"
             }
            },
            "type": "table"
           }
          ]
         },
         "layout": {
          "annotationdefaults": {
           "arrowcolor": "#f2f5fa",
           "arrowhead": 0,
           "arrowwidth": 1
          },
          "autotypenumbers": "strict",
          "coloraxis": {
           "colorbar": {
            "outlinewidth": 0,
            "ticks": ""
           }
          },
          "colorscale": {
           "diverging": [
            [
             0,
             "#8e0152"
            ],
            [
             0.1,
             "#c51b7d"
            ],
            [
             0.2,
             "#de77ae"
            ],
            [
             0.3,
             "#f1b6da"
            ],
            [
             0.4,
             "#fde0ef"
            ],
            [
             0.5,
             "#f7f7f7"
            ],
            [
             0.6,
             "#e6f5d0"
            ],
            [
             0.7,
             "#b8e186"
            ],
            [
             0.8,
             "#7fbc41"
            ],
            [
             0.9,
             "#4d9221"
            ],
            [
             1,
             "#276419"
            ]
           ],
           "sequential": [
            [
             0,
             "#0d0887"
            ],
            [
             0.1111111111111111,
             "#46039f"
            ],
            [
             0.2222222222222222,
             "#7201a8"
            ],
            [
             0.3333333333333333,
             "#9c179e"
            ],
            [
             0.4444444444444444,
             "#bd3786"
            ],
            [
             0.5555555555555556,
             "#d8576b"
            ],
            [
             0.6666666666666666,
             "#ed7953"
            ],
            [
             0.7777777777777778,
             "#fb9f3a"
            ],
            [
             0.8888888888888888,
             "#fdca26"
            ],
            [
             1,
             "#f0f921"
            ]
           ],
           "sequentialminus": [
            [
             0,
             "#0d0887"
            ],
            [
             0.1111111111111111,
             "#46039f"
            ],
            [
             0.2222222222222222,
             "#7201a8"
            ],
            [
             0.3333333333333333,
             "#9c179e"
            ],
            [
             0.4444444444444444,
             "#bd3786"
            ],
            [
             0.5555555555555556,
             "#d8576b"
            ],
            [
             0.6666666666666666,
             "#ed7953"
            ],
            [
             0.7777777777777778,
             "#fb9f3a"
            ],
            [
             0.8888888888888888,
             "#fdca26"
            ],
            [
             1,
             "#f0f921"
            ]
           ]
          },
          "colorway": [
           "#636efa",
           "#EF553B",
           "#00cc96",
           "#ab63fa",
           "#FFA15A",
           "#19d3f3",
           "#FF6692",
           "#B6E880",
           "#FF97FF",
           "#FECB52"
          ],
          "font": {
           "color": "#f2f5fa"
          },
          "geo": {
           "bgcolor": "rgb(17,17,17)",
           "lakecolor": "rgb(17,17,17)",
           "landcolor": "rgb(17,17,17)",
           "showlakes": true,
           "showland": true,
           "subunitcolor": "#506784"
          },
          "hoverlabel": {
           "align": "left"
          },
          "hovermode": "closest",
          "mapbox": {
           "style": "dark"
          },
          "paper_bgcolor": "rgb(17,17,17)",
          "plot_bgcolor": "rgb(17,17,17)",
          "polar": {
           "angularaxis": {
            "gridcolor": "#506784",
            "linecolor": "#506784",
            "ticks": ""
           },
           "bgcolor": "rgb(17,17,17)",
           "radialaxis": {
            "gridcolor": "#506784",
            "linecolor": "#506784",
            "ticks": ""
           }
          },
          "scene": {
           "xaxis": {
            "backgroundcolor": "rgb(17,17,17)",
            "gridcolor": "#506784",
            "gridwidth": 2,
            "linecolor": "#506784",
            "showbackground": true,
            "ticks": "",
            "zerolinecolor": "#C8D4E3"
           },
           "yaxis": {
            "backgroundcolor": "rgb(17,17,17)",
            "gridcolor": "#506784",
            "gridwidth": 2,
            "linecolor": "#506784",
            "showbackground": true,
            "ticks": "",
            "zerolinecolor": "#C8D4E3"
           },
           "zaxis": {
            "backgroundcolor": "rgb(17,17,17)",
            "gridcolor": "#506784",
            "gridwidth": 2,
            "linecolor": "#506784",
            "showbackground": true,
            "ticks": "",
            "zerolinecolor": "#C8D4E3"
           }
          },
          "shapedefaults": {
           "line": {
            "color": "#f2f5fa"
           }
          },
          "sliderdefaults": {
           "bgcolor": "#C8D4E3",
           "bordercolor": "rgb(17,17,17)",
           "borderwidth": 1,
           "tickwidth": 0
          },
          "ternary": {
           "aaxis": {
            "gridcolor": "#506784",
            "linecolor": "#506784",
            "ticks": ""
           },
           "baxis": {
            "gridcolor": "#506784",
            "linecolor": "#506784",
            "ticks": ""
           },
           "bgcolor": "rgb(17,17,17)",
           "caxis": {
            "gridcolor": "#506784",
            "linecolor": "#506784",
            "ticks": ""
           }
          },
          "title": {
           "x": 0.05
          },
          "updatemenudefaults": {
           "bgcolor": "#506784",
           "borderwidth": 0
          },
          "xaxis": {
           "automargin": true,
           "gridcolor": "#283442",
           "linecolor": "#506784",
           "ticks": "",
           "title": {
            "standoff": 15
           },
           "zerolinecolor": "#283442",
           "zerolinewidth": 2
          },
          "yaxis": {
           "automargin": true,
           "gridcolor": "#283442",
           "linecolor": "#506784",
           "ticks": "",
           "title": {
            "standoff": 15
           },
           "zerolinecolor": "#283442",
           "zerolinewidth": 2
          }
         }
        },
        "title": {
         "text": "Women Aged 20-50 and Their Children by Year"
        },
        "xaxis": {
         "anchor": "y",
         "domain": [
          0,
          0.94
         ]
        },
        "yaxis": {
         "anchor": "x",
         "domain": [
          0,
          1
         ],
         "title": {
          "text": "Total"
         }
        },
        "yaxis2": {
         "anchor": "x",
         "overlaying": "y",
         "side": "right",
         "title": {
          "text": "YoY Change"
         }
        }
       }
      }
     },
     "metadata": {},
     "output_type": "display_data"
    }
   ],
   "source": [
    "# Plot the child and female populations over the decade\n",
    "\n",
    "fig = make_subplots(specs=[[{\"secondary_y\": True}]])\n",
    "\n",
    "by_year = df.groupby(\"Year\", as_index=False).sum()\n",
    "\n",
    "by_year[\"Children per Woman\"] = by_year[\"Total Children\"] / by_year[\"Total Women\"]\n",
    "# Calculate YoY Change in Children\n",
    "by_year[\"Children Change\"] = by_year[\"Total Children\"] - by_year[\"Total Children\"].shift()\n",
    "by_year[\"Children Percent Change\"] = by_year[\"Children Change\"] / by_year[\"Total Children\"].shift() * 100\n",
    "# Calculate YoY Change in Women\n",
    "by_year[\"Women Change\"] = by_year[\"Total Women\"] - by_year[\"Total Women\"].shift()\n",
    "by_year[\"Women Percent Change\"] = by_year[\"Women Change\"] / by_year[\"Total Women\"].shift() * 100\n",
    "\n",
    "CHILDREN_COLOR = colorbrewer.Dark2_r[0]\n",
    "WOMEN_COLOR = colorbrewer.Dark2_r[1]\n",
    "\n",
    "# Add children traces\n",
    "fig.add_trace(\n",
    "        go.Scatter(\n",
    "                x=by_year[\"Year\"],\n",
    "                y=by_year[\"Total Children\"],\n",
    "                name=\"Children\",\n",
    "                line=dict(color=CHILDREN_COLOR),\n",
    "                legendgroup=\"Total\",\n",
    "                legendgrouptitle_text=\"Total\",\n",
    "        )\n",
    ")\n",
    "fig.add_trace(\n",
    "        go.Scatter(\n",
    "                x=by_year[\"Year\"],\n",
    "                y=by_year[\"Children Change\"],\n",
    "                name=\"Children\",\n",
    "                line=dict(color=CHILDREN_COLOR, dash=\"dot\"),\n",
    "                legendgroup=\"YoY Change\",\n",
    "                legendgrouptitle_text=\"YoY Change\",\n",
    "                hovertext=by_year[\"Children Percent Change\"].round(1).astype(str) + \"%\",\n",
    "        ),\n",
    "        secondary_y=True\n",
    ")\n",
    "# Add women traces\n",
    "fig.add_trace(\n",
    "        go.Scatter(\n",
    "                x=by_year[\"Year\"],\n",
    "                y=by_year[\"Total Women\"],\n",
    "                name=\"Women\",\n",
    "                line=dict(color=WOMEN_COLOR),\n",
    "                legendgroup=\"Total\",\n",
    "        )\n",
    ")\n",
    "fig.add_trace(\n",
    "        go.Scatter(\n",
    "                x=by_year[\"Year\"],\n",
    "                y=by_year[\"Women Change\"],\n",
    "                name=\"Women\",\n",
    "                line=dict(color=WOMEN_COLOR, dash=\"dot\"),\n",
    "                legendgroup=\"YoY Change\",\n",
    "                hovertext=by_year[\"Women Percent Change\"].round(1).astype(str) + \"%\",\n",
    "        ),\n",
    "        secondary_y=True,\n",
    ")\n",
    "\n",
    "fig.update_layout(\n",
    "        title=\"Women Aged 20-50 and Their Children by Year\",\n",
    "        template=\"plotly_dark\",\n",
    "        paper_bgcolor='rgba(0,0,0,0)',\n",
    "        plot_bgcolor='rgba(0,0,0,0)'\n",
    ")\n",
    "fig.update_yaxes(title_text=\"Total\", secondary_y=False)\n",
    "fig.update_yaxes(title_text=\"YoY Change\", secondary_y=True)\n",
    "\n",
    "\n",
    "fig"
   ]
  },
  {
   "attachments": {},
   "cell_type": "markdown",
   "metadata": {},
   "source": [
    "**Commentary**\n",
    "\n",
    "The change in the population of children from 2018 to 2020 is fairly radical. There is a regular trend towards fewer and fewer children, but from 2018 to 2020 the trend accelerates. This is not a product of COVID, as the effects of US COVID policy on births would not be felt any earlier than December 2020. This sharp decline is suggestive that a segment (or segments) of the female population had significantly fewer births compared to the women of that segment 2 years prior. The norm has been between 1-2% decreases in the number of children YoY – 2020 sees a 5% decrease.\n",
    "\n",
    "Notably, 2020 is the first year where this population of women *decreases*. This would require a smaller group of women to have more children to offset any population loss."
   ]
  },
  {
   "attachments": {},
   "cell_type": "markdown",
   "metadata": {},
   "source": [
    "# Fertility Trends by Education Segments"
   ]
  },
  {
   "cell_type": "code",
   "execution_count": 8,
   "metadata": {},
   "outputs": [],
   "source": [
    "def make_education_filtered_df(df):\n",
    "    # Keeping things simple and only looking at the 3 most common education levels\n",
    "    education_level_map = {\n",
    "            \"High school graduate\": \"High School\",\n",
    "            \"Some college, no degree\": \"High School\",\n",
    "            # \"Associate's degree\": \"High School\", # I apologize to all the associates degree holders\n",
    "            \"Bachelor's degree\": \"Bachelor's\",\n",
    "            \"Graduate or professional degree\": \"Graduate\"\n",
    "    }\n",
    "    df[\"Education\"] = df[\"Education\"].replace(education_level_map)\n",
    "    df = df.filter(\n",
    "        df[df[\"Education\"].isin(education_level_map.values())].index,\n",
    "        axis=0,\n",
    "    )\n",
    "    df = df.groupby([\"Year\", \"Education\", \"Age Group\"], as_index=False).sum()\n",
    "    df[\"Children Ever Born per Woman\"] = df[\"Total Children\"] / df[\"Total Women\"]\n",
    "    df[\"Birth Rate\"] = df[\"Total Births\"] / df[\"Total Women\"]\n",
    "    df = df.drop(columns=[\"Childlessness\"])\n",
    "    return df\n"
   ]
  },
  {
   "cell_type": "code",
   "execution_count": 9,
   "metadata": {},
   "outputs": [
    {
     "data": {
      "application/vnd.plotly.v1+json": {
       "config": {
        "plotlyServerURL": "https://plot.ly"
       },
       "data": [
        {
         "hovertext": "Bachelor's",
         "legendgroup": "Bachelor's",
         "legendgrouptitle": {
          "text": "Bachelor's"
         },
         "legendrank": 1,
         "line": {
          "color": "rgb(27,158,119)"
         },
         "name": "Total Children",
         "type": "scatter",
         "x": [
          2012,
          2014,
          2016,
          2018,
          2020
         ],
         "xaxis": "x",
         "y": [
          17540611,
          18477356,
          18215660,
          19152206,
          20680245
         ],
         "yaxis": "y"
        },
        {
         "hovertext": [
          "Bachelor's nan%",
          "Bachelor's 5.3%",
          "Bachelor's -1.4%",
          "Bachelor's 5.1%",
          "Bachelor's 8.0%"
         ],
         "legendgroup": "Bachelor's",
         "line": {
          "color": "rgb(27,158,119)",
          "dash": "dot"
         },
         "name": "Children YoY Change",
         "type": "scatter",
         "x": [
          2012,
          2014,
          2016,
          2018,
          2020
         ],
         "xaxis": "x",
         "y": [
          null,
          936745,
          -261696,
          936546,
          1528039
         ],
         "yaxis": "y2"
        },
        {
         "hovertext": "Bachelor's",
         "legendgroup": "Bachelor's",
         "line": {
          "color": "rgb(27,158,119)"
         },
         "name": "Total Women",
         "type": "scatter",
         "x": [
          2012,
          2014,
          2016,
          2018,
          2020
         ],
         "xaxis": "x2",
         "y": [
          14413000,
          15342000,
          15587000,
          16383000,
          18501000
         ],
         "yaxis": "y3"
        },
        {
         "hovertext": [
          "Bachelor's nan%",
          "Bachelor's 6.4%",
          "Bachelor's 1.6%",
          "Bachelor's 5.1%",
          "Bachelor's 12.9%"
         ],
         "legendgroup": "Bachelor's",
         "line": {
          "color": "rgb(27,158,119)",
          "dash": "dot"
         },
         "name": "Women YoY Change",
         "type": "scatter",
         "x": [
          2012,
          2014,
          2016,
          2018,
          2020
         ],
         "xaxis": "x2",
         "y": [
          null,
          929000,
          245000,
          796000,
          2118000
         ],
         "yaxis": "y4"
        },
        {
         "legendgroup": "Bachelor's",
         "line": {
          "color": "rgb(27,158,119)",
          "dash": "longdash"
         },
         "name": "% Points",
         "type": "scatter",
         "x": [
          2012,
          2014,
          2016,
          2018,
          2020
         ],
         "xaxis": "x3",
         "y": [
          null,
          -1.1,
          -3,
          0,
          -4.9
         ],
         "yaxis": "y5"
        },
        {
         "hovertext": "Graduate",
         "legendgroup": "Graduate",
         "legendgrouptitle": {
          "text": "Graduate"
         },
         "legendrank": 2,
         "line": {
          "color": "rgb(217,95,2)"
         },
         "name": "Total Children",
         "type": "scatter",
         "x": [
          2012,
          2014,
          2016,
          2018,
          2020
         ],
         "xaxis": "x",
         "y": [
          8599977,
          8838867,
          10291948,
          11035264,
          12611391
         ],
         "yaxis": "y"
        },
        {
         "hovertext": [
          "Graduate nan%",
          "Graduate 2.8%",
          "Graduate 16.4%",
          "Graduate 7.2%",
          "Graduate 14.3%"
         ],
         "legendgroup": "Graduate",
         "line": {
          "color": "rgb(217,95,2)",
          "dash": "dot"
         },
         "name": "Children YoY Change",
         "type": "scatter",
         "x": [
          2012,
          2014,
          2016,
          2018,
          2020
         ],
         "xaxis": "x",
         "y": [
          null,
          238890,
          1453081,
          743316,
          1576127
         ],
         "yaxis": "y2"
        },
        {
         "hovertext": "Graduate",
         "legendgroup": "Graduate",
         "line": {
          "color": "rgb(217,95,2)"
         },
         "name": "Total Women",
         "type": "scatter",
         "x": [
          2012,
          2014,
          2016,
          2018,
          2020
         ],
         "xaxis": "x2",
         "y": [
          6680000,
          7191000,
          8294000,
          8632000,
          9994000
         ],
         "yaxis": "y3"
        },
        {
         "hovertext": [
          "Graduate nan%",
          "Graduate 7.6%",
          "Graduate 15.3%",
          "Graduate 4.1%",
          "Graduate 15.8%"
         ],
         "legendgroup": "Graduate",
         "line": {
          "color": "rgb(217,95,2)",
          "dash": "dot"
         },
         "name": "Women YoY Change",
         "type": "scatter",
         "x": [
          2012,
          2014,
          2016,
          2018,
          2020
         ],
         "xaxis": "x2",
         "y": [
          null,
          511000,
          1103000,
          338000,
          1362000
         ],
         "yaxis": "y4"
        },
        {
         "legendgroup": "Graduate",
         "line": {
          "color": "rgb(217,95,2)",
          "dash": "longdash"
         },
         "name": "% Points",
         "type": "scatter",
         "x": [
          2012,
          2014,
          2016,
          2018,
          2020
         ],
         "xaxis": "x3",
         "y": [
          null,
          -4.9,
          1.1,
          3.1,
          -1.5
         ],
         "yaxis": "y5"
        },
        {
         "hovertext": "High School",
         "legendgroup": "High School",
         "legendgrouptitle": {
          "text": "High School"
         },
         "legendrank": 0,
         "line": {
          "color": "rgb(117,112,179)"
         },
         "name": "Total Children",
         "type": "scatter",
         "x": [
          2012,
          2014,
          2016,
          2018,
          2020
         ],
         "xaxis": "x",
         "y": [
          45676546,
          43264281,
          42300685,
          39777062,
          35666155
         ],
         "yaxis": "y"
        },
        {
         "hovertext": [
          "High School nan%",
          "High School -5.3%",
          "High School -2.2%",
          "High School -6.0%",
          "High School -10.3%"
         ],
         "legendgroup": "High School",
         "line": {
          "color": "rgb(117,112,179)",
          "dash": "dot"
         },
         "name": "Children YoY Change",
         "type": "scatter",
         "x": [
          2012,
          2014,
          2016,
          2018,
          2020
         ],
         "xaxis": "x",
         "y": [
          null,
          -2412265,
          -963596,
          -2523623,
          -4110907
         ],
         "yaxis": "y2"
        },
        {
         "hovertext": "High School",
         "legendgroup": "High School",
         "line": {
          "color": "rgb(117,112,179)"
         },
         "name": "Total Women",
         "type": "scatter",
         "x": [
          2012,
          2014,
          2016,
          2018,
          2020
         ],
         "xaxis": "x2",
         "y": [
          30442000,
          29599000,
          28983000,
          28155000,
          26232000
         ],
         "yaxis": "y3"
        },
        {
         "hovertext": [
          "High School nan%",
          "High School -2.8%",
          "High School -2.1%",
          "High School -2.9%",
          "High School -6.8%"
         ],
         "legendgroup": "High School",
         "line": {
          "color": "rgb(117,112,179)",
          "dash": "dot"
         },
         "name": "Women YoY Change",
         "type": "scatter",
         "x": [
          2012,
          2014,
          2016,
          2018,
          2020
         ],
         "xaxis": "x2",
         "y": [
          null,
          -843000,
          -616000,
          -828000,
          -1923000
         ],
         "yaxis": "y4"
        },
        {
         "legendgroup": "High School",
         "line": {
          "color": "rgb(117,112,179)",
          "dash": "longdash"
         },
         "name": "% Points",
         "type": "scatter",
         "x": [
          2012,
          2014,
          2016,
          2018,
          2020
         ],
         "xaxis": "x3",
         "y": [
          null,
          -2.5,
          -0.1,
          -3.1,
          -3.5
         ],
         "yaxis": "y5"
        }
       ],
       "layout": {
        "annotations": [
         {
          "font": {
           "size": 16
          },
          "showarrow": false,
          "text": "Children",
          "x": 0.47,
          "xanchor": "center",
          "xref": "paper",
          "y": 1,
          "yanchor": "bottom",
          "yref": "paper"
         },
         {
          "font": {
           "size": 16
          },
          "showarrow": false,
          "text": "Women",
          "x": 0.47,
          "xanchor": "center",
          "xref": "paper",
          "y": 0.6111111111111112,
          "yanchor": "bottom",
          "yref": "paper"
         },
         {
          "font": {
           "size": 16
          },
          "showarrow": false,
          "text": "Fertility Trends by Education Segment <br><sup>Difference Between Children's and Womens' YoY Change Rates</sup>",
          "x": 0.47,
          "xanchor": "center",
          "xref": "paper",
          "y": 0.22222222222222224,
          "yanchor": "bottom",
          "yref": "paper"
         }
        ],
        "height": 600,
        "hovermode": "x",
        "paper_bgcolor": "rgba(0,0,0,0)",
        "plot_bgcolor": "rgba(0,0,0,0)",
        "template": {
         "data": {
          "bar": [
           {
            "error_x": {
             "color": "#f2f5fa"
            },
            "error_y": {
             "color": "#f2f5fa"
            },
            "marker": {
             "line": {
              "color": "rgb(17,17,17)",
              "width": 0.5
             },
             "pattern": {
              "fillmode": "overlay",
              "size": 10,
              "solidity": 0.2
             }
            },
            "type": "bar"
           }
          ],
          "barpolar": [
           {
            "marker": {
             "line": {
              "color": "rgb(17,17,17)",
              "width": 0.5
             },
             "pattern": {
              "fillmode": "overlay",
              "size": 10,
              "solidity": 0.2
             }
            },
            "type": "barpolar"
           }
          ],
          "carpet": [
           {
            "aaxis": {
             "endlinecolor": "#A2B1C6",
             "gridcolor": "#506784",
             "linecolor": "#506784",
             "minorgridcolor": "#506784",
             "startlinecolor": "#A2B1C6"
            },
            "baxis": {
             "endlinecolor": "#A2B1C6",
             "gridcolor": "#506784",
             "linecolor": "#506784",
             "minorgridcolor": "#506784",
             "startlinecolor": "#A2B1C6"
            },
            "type": "carpet"
           }
          ],
          "choropleth": [
           {
            "colorbar": {
             "outlinewidth": 0,
             "ticks": ""
            },
            "type": "choropleth"
           }
          ],
          "contour": [
           {
            "colorbar": {
             "outlinewidth": 0,
             "ticks": ""
            },
            "colorscale": [
             [
              0,
              "#0d0887"
             ],
             [
              0.1111111111111111,
              "#46039f"
             ],
             [
              0.2222222222222222,
              "#7201a8"
             ],
             [
              0.3333333333333333,
              "#9c179e"
             ],
             [
              0.4444444444444444,
              "#bd3786"
             ],
             [
              0.5555555555555556,
              "#d8576b"
             ],
             [
              0.6666666666666666,
              "#ed7953"
             ],
             [
              0.7777777777777778,
              "#fb9f3a"
             ],
             [
              0.8888888888888888,
              "#fdca26"
             ],
             [
              1,
              "#f0f921"
             ]
            ],
            "type": "contour"
           }
          ],
          "contourcarpet": [
           {
            "colorbar": {
             "outlinewidth": 0,
             "ticks": ""
            },
            "type": "contourcarpet"
           }
          ],
          "heatmap": [
           {
            "colorbar": {
             "outlinewidth": 0,
             "ticks": ""
            },
            "colorscale": [
             [
              0,
              "#0d0887"
             ],
             [
              0.1111111111111111,
              "#46039f"
             ],
             [
              0.2222222222222222,
              "#7201a8"
             ],
             [
              0.3333333333333333,
              "#9c179e"
             ],
             [
              0.4444444444444444,
              "#bd3786"
             ],
             [
              0.5555555555555556,
              "#d8576b"
             ],
             [
              0.6666666666666666,
              "#ed7953"
             ],
             [
              0.7777777777777778,
              "#fb9f3a"
             ],
             [
              0.8888888888888888,
              "#fdca26"
             ],
             [
              1,
              "#f0f921"
             ]
            ],
            "type": "heatmap"
           }
          ],
          "heatmapgl": [
           {
            "colorbar": {
             "outlinewidth": 0,
             "ticks": ""
            },
            "colorscale": [
             [
              0,
              "#0d0887"
             ],
             [
              0.1111111111111111,
              "#46039f"
             ],
             [
              0.2222222222222222,
              "#7201a8"
             ],
             [
              0.3333333333333333,
              "#9c179e"
             ],
             [
              0.4444444444444444,
              "#bd3786"
             ],
             [
              0.5555555555555556,
              "#d8576b"
             ],
             [
              0.6666666666666666,
              "#ed7953"
             ],
             [
              0.7777777777777778,
              "#fb9f3a"
             ],
             [
              0.8888888888888888,
              "#fdca26"
             ],
             [
              1,
              "#f0f921"
             ]
            ],
            "type": "heatmapgl"
           }
          ],
          "histogram": [
           {
            "marker": {
             "pattern": {
              "fillmode": "overlay",
              "size": 10,
              "solidity": 0.2
             }
            },
            "type": "histogram"
           }
          ],
          "histogram2d": [
           {
            "colorbar": {
             "outlinewidth": 0,
             "ticks": ""
            },
            "colorscale": [
             [
              0,
              "#0d0887"
             ],
             [
              0.1111111111111111,
              "#46039f"
             ],
             [
              0.2222222222222222,
              "#7201a8"
             ],
             [
              0.3333333333333333,
              "#9c179e"
             ],
             [
              0.4444444444444444,
              "#bd3786"
             ],
             [
              0.5555555555555556,
              "#d8576b"
             ],
             [
              0.6666666666666666,
              "#ed7953"
             ],
             [
              0.7777777777777778,
              "#fb9f3a"
             ],
             [
              0.8888888888888888,
              "#fdca26"
             ],
             [
              1,
              "#f0f921"
             ]
            ],
            "type": "histogram2d"
           }
          ],
          "histogram2dcontour": [
           {
            "colorbar": {
             "outlinewidth": 0,
             "ticks": ""
            },
            "colorscale": [
             [
              0,
              "#0d0887"
             ],
             [
              0.1111111111111111,
              "#46039f"
             ],
             [
              0.2222222222222222,
              "#7201a8"
             ],
             [
              0.3333333333333333,
              "#9c179e"
             ],
             [
              0.4444444444444444,
              "#bd3786"
             ],
             [
              0.5555555555555556,
              "#d8576b"
             ],
             [
              0.6666666666666666,
              "#ed7953"
             ],
             [
              0.7777777777777778,
              "#fb9f3a"
             ],
             [
              0.8888888888888888,
              "#fdca26"
             ],
             [
              1,
              "#f0f921"
             ]
            ],
            "type": "histogram2dcontour"
           }
          ],
          "mesh3d": [
           {
            "colorbar": {
             "outlinewidth": 0,
             "ticks": ""
            },
            "type": "mesh3d"
           }
          ],
          "parcoords": [
           {
            "line": {
             "colorbar": {
              "outlinewidth": 0,
              "ticks": ""
             }
            },
            "type": "parcoords"
           }
          ],
          "pie": [
           {
            "automargin": true,
            "type": "pie"
           }
          ],
          "scatter": [
           {
            "marker": {
             "line": {
              "color": "#283442"
             }
            },
            "type": "scatter"
           }
          ],
          "scatter3d": [
           {
            "line": {
             "colorbar": {
              "outlinewidth": 0,
              "ticks": ""
             }
            },
            "marker": {
             "colorbar": {
              "outlinewidth": 0,
              "ticks": ""
             }
            },
            "type": "scatter3d"
           }
          ],
          "scattercarpet": [
           {
            "marker": {
             "colorbar": {
              "outlinewidth": 0,
              "ticks": ""
             }
            },
            "type": "scattercarpet"
           }
          ],
          "scattergeo": [
           {
            "marker": {
             "colorbar": {
              "outlinewidth": 0,
              "ticks": ""
             }
            },
            "type": "scattergeo"
           }
          ],
          "scattergl": [
           {
            "marker": {
             "line": {
              "color": "#283442"
             }
            },
            "type": "scattergl"
           }
          ],
          "scattermapbox": [
           {
            "marker": {
             "colorbar": {
              "outlinewidth": 0,
              "ticks": ""
             }
            },
            "type": "scattermapbox"
           }
          ],
          "scatterpolar": [
           {
            "marker": {
             "colorbar": {
              "outlinewidth": 0,
              "ticks": ""
             }
            },
            "type": "scatterpolar"
           }
          ],
          "scatterpolargl": [
           {
            "marker": {
             "colorbar": {
              "outlinewidth": 0,
              "ticks": ""
             }
            },
            "type": "scatterpolargl"
           }
          ],
          "scatterternary": [
           {
            "marker": {
             "colorbar": {
              "outlinewidth": 0,
              "ticks": ""
             }
            },
            "type": "scatterternary"
           }
          ],
          "surface": [
           {
            "colorbar": {
             "outlinewidth": 0,
             "ticks": ""
            },
            "colorscale": [
             [
              0,
              "#0d0887"
             ],
             [
              0.1111111111111111,
              "#46039f"
             ],
             [
              0.2222222222222222,
              "#7201a8"
             ],
             [
              0.3333333333333333,
              "#9c179e"
             ],
             [
              0.4444444444444444,
              "#bd3786"
             ],
             [
              0.5555555555555556,
              "#d8576b"
             ],
             [
              0.6666666666666666,
              "#ed7953"
             ],
             [
              0.7777777777777778,
              "#fb9f3a"
             ],
             [
              0.8888888888888888,
              "#fdca26"
             ],
             [
              1,
              "#f0f921"
             ]
            ],
            "type": "surface"
           }
          ],
          "table": [
           {
            "cells": {
             "fill": {
              "color": "#506784"
             },
             "line": {
              "color": "rgb(17,17,17)"
             }
            },
            "header": {
             "fill": {
              "color": "#2a3f5f"
             },
             "line": {
              "color": "rgb(17,17,17)"
             }
            },
            "type": "table"
           }
          ]
         },
         "layout": {
          "annotationdefaults": {
           "arrowcolor": "#f2f5fa",
           "arrowhead": 0,
           "arrowwidth": 1
          },
          "autotypenumbers": "strict",
          "coloraxis": {
           "colorbar": {
            "outlinewidth": 0,
            "ticks": ""
           }
          },
          "colorscale": {
           "diverging": [
            [
             0,
             "#8e0152"
            ],
            [
             0.1,
             "#c51b7d"
            ],
            [
             0.2,
             "#de77ae"
            ],
            [
             0.3,
             "#f1b6da"
            ],
            [
             0.4,
             "#fde0ef"
            ],
            [
             0.5,
             "#f7f7f7"
            ],
            [
             0.6,
             "#e6f5d0"
            ],
            [
             0.7,
             "#b8e186"
            ],
            [
             0.8,
             "#7fbc41"
            ],
            [
             0.9,
             "#4d9221"
            ],
            [
             1,
             "#276419"
            ]
           ],
           "sequential": [
            [
             0,
             "#0d0887"
            ],
            [
             0.1111111111111111,
             "#46039f"
            ],
            [
             0.2222222222222222,
             "#7201a8"
            ],
            [
             0.3333333333333333,
             "#9c179e"
            ],
            [
             0.4444444444444444,
             "#bd3786"
            ],
            [
             0.5555555555555556,
             "#d8576b"
            ],
            [
             0.6666666666666666,
             "#ed7953"
            ],
            [
             0.7777777777777778,
             "#fb9f3a"
            ],
            [
             0.8888888888888888,
             "#fdca26"
            ],
            [
             1,
             "#f0f921"
            ]
           ],
           "sequentialminus": [
            [
             0,
             "#0d0887"
            ],
            [
             0.1111111111111111,
             "#46039f"
            ],
            [
             0.2222222222222222,
             "#7201a8"
            ],
            [
             0.3333333333333333,
             "#9c179e"
            ],
            [
             0.4444444444444444,
             "#bd3786"
            ],
            [
             0.5555555555555556,
             "#d8576b"
            ],
            [
             0.6666666666666666,
             "#ed7953"
            ],
            [
             0.7777777777777778,
             "#fb9f3a"
            ],
            [
             0.8888888888888888,
             "#fdca26"
            ],
            [
             1,
             "#f0f921"
            ]
           ]
          },
          "colorway": [
           "#636efa",
           "#EF553B",
           "#00cc96",
           "#ab63fa",
           "#FFA15A",
           "#19d3f3",
           "#FF6692",
           "#B6E880",
           "#FF97FF",
           "#FECB52"
          ],
          "font": {
           "color": "#f2f5fa"
          },
          "geo": {
           "bgcolor": "rgb(17,17,17)",
           "lakecolor": "rgb(17,17,17)",
           "landcolor": "rgb(17,17,17)",
           "showlakes": true,
           "showland": true,
           "subunitcolor": "#506784"
          },
          "hoverlabel": {
           "align": "left"
          },
          "hovermode": "closest",
          "mapbox": {
           "style": "dark"
          },
          "paper_bgcolor": "rgb(17,17,17)",
          "plot_bgcolor": "rgb(17,17,17)",
          "polar": {
           "angularaxis": {
            "gridcolor": "#506784",
            "linecolor": "#506784",
            "ticks": ""
           },
           "bgcolor": "rgb(17,17,17)",
           "radialaxis": {
            "gridcolor": "#506784",
            "linecolor": "#506784",
            "ticks": ""
           }
          },
          "scene": {
           "xaxis": {
            "backgroundcolor": "rgb(17,17,17)",
            "gridcolor": "#506784",
            "gridwidth": 2,
            "linecolor": "#506784",
            "showbackground": true,
            "ticks": "",
            "zerolinecolor": "#C8D4E3"
           },
           "yaxis": {
            "backgroundcolor": "rgb(17,17,17)",
            "gridcolor": "#506784",
            "gridwidth": 2,
            "linecolor": "#506784",
            "showbackground": true,
            "ticks": "",
            "zerolinecolor": "#C8D4E3"
           },
           "zaxis": {
            "backgroundcolor": "rgb(17,17,17)",
            "gridcolor": "#506784",
            "gridwidth": 2,
            "linecolor": "#506784",
            "showbackground": true,
            "ticks": "",
            "zerolinecolor": "#C8D4E3"
           }
          },
          "shapedefaults": {
           "line": {
            "color": "#f2f5fa"
           }
          },
          "sliderdefaults": {
           "bgcolor": "#C8D4E3",
           "bordercolor": "rgb(17,17,17)",
           "borderwidth": 1,
           "tickwidth": 0
          },
          "ternary": {
           "aaxis": {
            "gridcolor": "#506784",
            "linecolor": "#506784",
            "ticks": ""
           },
           "baxis": {
            "gridcolor": "#506784",
            "linecolor": "#506784",
            "ticks": ""
           },
           "bgcolor": "rgb(17,17,17)",
           "caxis": {
            "gridcolor": "#506784",
            "linecolor": "#506784",
            "ticks": ""
           }
          },
          "title": {
           "x": 0.05
          },
          "updatemenudefaults": {
           "bgcolor": "#506784",
           "borderwidth": 0
          },
          "xaxis": {
           "automargin": true,
           "gridcolor": "#283442",
           "linecolor": "#506784",
           "ticks": "",
           "title": {
            "standoff": 15
           },
           "zerolinecolor": "#283442",
           "zerolinewidth": 2
          },
          "yaxis": {
           "automargin": true,
           "gridcolor": "#283442",
           "linecolor": "#506784",
           "ticks": "",
           "title": {
            "standoff": 15
           },
           "zerolinecolor": "#283442",
           "zerolinewidth": 2
          }
         }
        },
        "title": {
         "text": "Women Aged 20-50 and Their Children by Year and Education Level"
        },
        "xaxis": {
         "anchor": "y",
         "domain": [
          0,
          0.94
         ],
         "matches": "x3",
         "showticklabels": false
        },
        "xaxis2": {
         "anchor": "y3",
         "domain": [
          0,
          0.94
         ],
         "matches": "x3",
         "showticklabels": false
        },
        "xaxis3": {
         "anchor": "y5",
         "domain": [
          0,
          0.94
         ]
        },
        "yaxis": {
         "anchor": "x",
         "domain": [
          0.7777777777777778,
          1
         ],
         "title": {
          "text": "Total Children"
         }
        },
        "yaxis2": {
         "anchor": "x",
         "overlaying": "y",
         "side": "right",
         "title": {
          "text": "YoY Change"
         }
        },
        "yaxis3": {
         "anchor": "x2",
         "domain": [
          0.3888888888888889,
          0.6111111111111112
         ],
         "title": {
          "text": "Total Women"
         }
        },
        "yaxis4": {
         "anchor": "x2",
         "overlaying": "y3",
         "side": "right",
         "title": {
          "text": "YoY Change"
         }
        },
        "yaxis5": {
         "anchor": "x3",
         "domain": [
          0,
          0.22222222222222224
         ],
         "title": {
          "text": "% Points"
         }
        }
       }
      }
     },
     "metadata": {},
     "output_type": "display_data"
    }
   ],
   "source": [
    "# The change in children of 20-50 year old women broken down by educational attainment\n",
    "\n",
    "fig = make_subplots(\n",
    "        rows=3,\n",
    "        specs=[[{\"secondary_y\": True}], [{\"secondary_y\": True}], [{}]],\n",
    "        subplot_titles=(\"Children\", \"Women\", \"Fertility Trends by Education Segment <br><sup>Difference Between Children's and Womens' YoY Change Rates</sup>\"),\n",
    "        shared_xaxes=True\n",
    ")\n",
    "\n",
    "fdf = make_education_filtered_df(df.copy())\n",
    "\n",
    "education_rank_order = [\"High School\", \"Bachelor's\", \"Graduate\"]\n",
    "\n",
    "for i, (education, edf) in enumerate(fdf.groupby(\"Education\")):\n",
    "        by_year = edf.groupby(\"Year\", as_index=False).sum()\n",
    "\n",
    "        by_year[\"Children per Woman\"] = by_year[\"Total Children\"] / by_year[\"Total Women\"]\n",
    "        # Calculate YoY Change in Children\n",
    "        by_year[\"Children Change\"] = by_year[\"Total Children\"] - by_year[\"Total Children\"].shift()\n",
    "        by_year[\"Children Percent Change\"] = by_year[\"Children Change\"] / by_year[\"Total Children\"].shift() * 100\n",
    "        # Calculate YoY Change in Women\n",
    "        by_year[\"Women Change\"] = by_year[\"Total Women\"] - by_year[\"Total Women\"].shift()\n",
    "        by_year[\"Women Percent Change\"] = by_year[\"Women Change\"] / by_year[\"Total Women\"].shift() * 100\n",
    "\n",
    "        education_color = colorbrewer.Dark2[i]\n",
    "\n",
    "        # Add children traces\n",
    "        fig.add_trace(\n",
    "                go.Scatter(\n",
    "                        x=by_year[\"Year\"],\n",
    "                        y=by_year[\"Total Children\"],\n",
    "                        name=\"Total Children\",\n",
    "                        line=dict(color=education_color),\n",
    "                        legendgroup=education,\n",
    "                        legendgrouptitle_text=education,\n",
    "                        legendrank=education_rank_order.index(education),\n",
    "                        hovertext=education\n",
    "                ),\n",
    "                row=1,\n",
    "                col=1,\n",
    "        )\n",
    "        fig.add_trace(\n",
    "                go.Scatter(\n",
    "                        x=by_year[\"Year\"],\n",
    "                        y=by_year[\"Children Change\"],\n",
    "                        name=\"Children YoY Change\",\n",
    "                        line=dict(color=education_color, dash=\"dot\"),\n",
    "                        legendgroup=education,\n",
    "                        hovertext=education + \" \" + by_year[\"Children Percent Change\"].round(1).astype(str) + \"%\",\n",
    "                ),\n",
    "                row=1,\n",
    "                col=1,\n",
    "                secondary_y=True,\n",
    "        )\n",
    "        # Add women traces\n",
    "        fig.add_trace(\n",
    "                go.Scatter(\n",
    "                        x=by_year[\"Year\"],\n",
    "                        y=by_year[\"Total Women\"],\n",
    "                        name=\"Total Women\",\n",
    "                        line=dict(color=education_color),\n",
    "                        legendgroup=education,\n",
    "                        hovertext=education\n",
    "                ),\n",
    "                row=2,\n",
    "                col=1,\n",
    "        )\n",
    "        fig.add_trace(\n",
    "                go.Scatter(\n",
    "                        x=by_year[\"Year\"],\n",
    "                        y=by_year[\"Women Change\"],\n",
    "                        name=\"Women YoY Change\",\n",
    "                        line=dict(color=education_color, dash=\"dot\"),\n",
    "                        legendgroup=education,\n",
    "                        hovertext=education + \" \" + by_year[\"Women Percent Change\"].round(1).astype(str) + \"%\",\n",
    "                ),\n",
    "                row=2,\n",
    "                col=1,\n",
    "                secondary_y=True,\n",
    "        )\n",
    "\n",
    "        # Point differential traces\n",
    "        fig.add_trace(\n",
    "                go.Scatter(\n",
    "                        x=by_year[\"Year\"],\n",
    "                        y=(by_year[\"Children Percent Change\"] - by_year[\"Women Percent Change\"]).round(1),\n",
    "                        name=\"% Points\",\n",
    "                        line=dict(color=education_color, dash=\"longdash\"),\n",
    "                        legendgroup=education,\n",
    "                ),\n",
    "                row=3,\n",
    "                col=1,\n",
    "        )\n",
    "\n",
    "fig.update_layout(\n",
    "        title=\"Women Aged 20-50 and Their Children by Year and Education Level\",\n",
    "        template=\"plotly_dark\",\n",
    "        paper_bgcolor='rgba(0,0,0,0)',\n",
    "        plot_bgcolor='rgba(0,0,0,0)'\n",
    ")\n",
    "fig.update_yaxes(title_text=\"Total Children\", row=1, secondary_y=False)\n",
    "fig.update_yaxes(title_text=\"Total Women\", row=2, secondary_y=False)\n",
    "fig.update_yaxes(title_text=\"% Points\", row=3, secondary_y=False)\n",
    "fig.update_yaxes(title_text=\"YoY Change\", secondary_y=True)\n",
    "\n",
    "fig.update_layout(height=600, hovermode=\"x\")\n",
    "fig"
   ]
  },
  {
   "attachments": {},
   "cell_type": "markdown",
   "metadata": {},
   "source": [
    "**Commentary**\n",
    "\n",
    "Women with graduate degrees are trending better than those who stopped at bachelor's degrees or high school diplomas. Lately, this segment has seen more growth in the population of their children than growth in the population of women, suggesting improved conditions for fertility. The other two groups are in a chronic deficit. They have fewer children than the change in their population size would expect them to experience.\n",
    "\n",
    "It's important to use the point differential over total populations or YoY change. The point differential accounts for the fact that these education segments are on the move, while the number or change in children born to women who attained bachelor's degrees would mislead you to believe that segment is doing better than it did in the past."
   ]
  },
  {
   "attachments": {},
   "cell_type": "markdown",
   "metadata": {},
   "source": [
    "# Advancing the Statistic\n",
    "\n",
    "While point differential is better than raw change, point differential doesn't account for the fact that adding 1 woman to the population ought to increase the number of children by the crude fertility rate. If the crude fertility rate of a population is 1.7, then the expected change in children after adding 1 women is 1.7. Therefore, a better method for assessing the segment's trend is one that accounts for expectations.\n",
    "\n",
    "A raw figure would be the difference in expected children and observed children from period $t_0$ to $t_1$.\n",
    "\n",
    "**Variables**\n",
    "\n",
    "$C$: Children\n",
    "\n",
    "$W$: Women\n",
    "\n",
    "$r$: Children per woman (child rate)\n",
    "\n",
    "$t_0$: Beginning of period\n",
    "\n",
    "$t_1$: End of period\n",
    "\n",
    "$$\\hat{C} = W_{t_1} r_{t_0}$$\n",
    "$$e = C_{t_1} - \\hat{C}$$\n",
    "\n",
    "When the segment has a stable child rate, the error should approximate 0.\n",
    "\n",
    "To standardize this we can divide by the observed and predicted children. This only really holds as long as observed or predicted children aren't 0, but we have bigger problems if we're running into that edge case.\n",
    "\n",
    "$$\\sigma = \\frac{e}{C_{t_1} \\hat{C}}$$\n",
    "\n",
    "$$=\\frac{C_{t_1} - \\hat{C}}{C_{t_1} \\hat{C}}$$\n",
    "\n",
    "$$=\\frac{1}{\\hat{C}} - \\frac{1}{C_{t_1}}$$\n",
    "\n",
    "\n",
    "If the expectation is 1 child, but the observed is 2, $\\sigma=0.5$. If the expectation is 2 children but the observed is 1, $\\sigma=-0.5$. If the expectation is 100 children but the observed is 1, $\\sigma=-.99$.\n",
    "\n",
    "**Notes**\n",
    "\n",
    "$-1 < \\sigma < 1$ is easily interpretable, but I found interpreting $\\sigma$ plots with large populations difficult as $\\sigma$ becomes impossibly small. I convert population totals to millions for legibility in plots. The constant has a linear impact on $\\sigma$.\n",
    "\n",
    "$C=xc$\n",
    "\n",
    "$W=xw$\n",
    "\n",
    "$\\hat{C} = xw_{t_1} r_{t_0}$\n",
    "\n",
    "$$\\sigma=\\frac{1}{\\hat{C}} - \\frac{1}{C_{t_1}}$$\n",
    "\n",
    "$$=\\frac{1}{xw_{t_1} r_{t_0}} - \\frac{1}{xc_{t_1}}$$\n",
    "\n",
    "$$=\\frac{1}{x} \\cdot (\\frac{1}{w_{t_1} r_{t_0}} - \\frac{1}{c_{t_1}})$$"
   ]
  },
  {
   "cell_type": "code",
   "execution_count": 10,
   "metadata": {},
   "outputs": [
    {
     "data": {
      "application/vnd.plotly.v1+json": {
       "config": {
        "plotlyServerURL": "https://plot.ly"
       },
       "data": [
        {
         "customdata": [
          [
           17.540611,
           14.413
          ],
          [
           18.477356,
           15.341999999999999
          ],
          [
           18.21566,
           15.587
          ],
          [
           19.152206,
           16.383
          ],
          [
           20.680245,
           18.501
          ]
         ],
         "hovertemplate": "<b>%{hovertext}</b><br><br>Education=Bachelor's<br>Year=%{x}<br>Sigma (YoY)=%{y}<br>Women (Millions)=%{customdata[1]:.2f}<br>Children (Millions)=%{customdata[0]:.2f}<extra></extra>",
         "hovertext": [
          "Bachelor's",
          "Bachelor's",
          "Bachelor's",
          "Bachelor's",
          "Bachelor's"
         ],
         "legendgroup": "Bachelor's",
         "legendrank": 1,
         "marker": {
          "color": "rgb(27,158,119)",
          "size": [
           14.413,
           15.341999999999999,
           15.587,
           16.383,
           18.501
          ],
          "sizemode": "area",
          "sizeref": 0.076105,
          "symbol": "arrow"
         },
         "mode": "markers+lines",
         "name": "Bachelor's",
         "orientation": "v",
         "showlegend": true,
         "type": "scatter",
         "x": [
          2012,
          2014,
          2016,
          2018,
          2020
         ],
         "xaxis": "x",
         "y": [
          null,
          -0.0005618853968476243,
          -0.0016281964956089102,
          0.00001719473041579202,
          -0.0021194150451477774
         ],
         "yaxis": "y"
        },
        {
         "customdata": [
          [
           8.599977,
           6.68
          ],
          [
           8.838866999999999,
           7.191
          ],
          [
           10.291948,
           8.294
          ],
          [
           11.035263999999998,
           8.632
          ],
          [
           12.611391000000001,
           9.994
          ]
         ],
         "hovertemplate": "<b>%{hovertext}</b><br><br>Education=Graduate<br>Year=%{x}<br>Sigma (YoY)=%{y}<br>Women (Millions)=%{customdata[1]:.2f}<br>Children (Millions)=%{customdata[0]:.2f}<extra></extra>",
         "hovertext": [
          "Graduate",
          "Graduate",
          "Graduate",
          "Graduate",
          "Graduate"
         ],
         "legendgroup": "Graduate",
         "legendrank": 2,
         "marker": {
          "color": "rgb(217,95,2)",
          "size": [
           6.68,
           7.191,
           8.294,
           8.632,
           9.994
          ],
          "sizemode": "area",
          "sizeref": 0.076105,
          "symbol": "arrow"
         },
         "mode": "markers+lines",
         "name": "Graduate",
         "orientation": "v",
         "showlegend": true,
         "type": "scatter",
         "x": [
          2012,
          2014,
          2016,
          2018,
          2020
         ],
         "xaxis": "x",
         "y": [
          null,
          -0.005120226352668583,
          0.0009275504718515363,
          0.0027401631868265897,
          -0.0010244711216593789
         ],
         "yaxis": "y"
        },
        {
         "customdata": [
          [
           45.676546,
           30.442
          ],
          [
           43.264281,
           29.599
          ],
          [
           42.300685,
           28.983
          ],
          [
           39.777062,
           28.155
          ],
          [
           35.666154999999996,
           26.232
          ]
         ],
         "hovertemplate": "<b>%{hovertext}</b><br><br>Education=High School<br>Year=%{x}<br>Sigma (YoY)=%{y}<br>Women (Millions)=%{customdata[1]:.2f}<br>Children (Millions)=%{customdata[0]:.2f}<extra></extra>",
         "hovertext": [
          "High School",
          "High School",
          "High School",
          "High School",
          "High School"
         ],
         "legendgroup": "High School",
         "legendrank": 0,
         "marker": {
          "color": "rgb(117,112,179)",
          "size": [
           30.442,
           29.599,
           28.983,
           28.155,
           26.232
          ],
          "sizemode": "area",
          "sizeref": 0.076105,
          "symbol": "arrow"
         },
         "mode": "markers+lines",
         "name": "High School",
         "orientation": "v",
         "showlegend": true,
         "type": "scatter",
         "x": [
          2012,
          2014,
          2016,
          2018,
          2020
         ],
         "xaxis": "x",
         "y": [
          null,
          -0.0005971513427420066,
          -0.00003526789070004835,
          -0.0008046098345640412,
          -0.001054711317721007
         ],
         "yaxis": "y"
        }
       ],
       "layout": {
        "hovermode": "x",
        "legend": {
         "itemsizing": "constant",
         "title": {
          "text": "Education"
         },
         "tracegroupgap": 0
        },
        "paper_bgcolor": "rgba(0,0,0,0)",
        "plot_bgcolor": "rgba(0,0,0,0)",
        "template": {
         "data": {
          "bar": [
           {
            "error_x": {
             "color": "#f2f5fa"
            },
            "error_y": {
             "color": "#f2f5fa"
            },
            "marker": {
             "line": {
              "color": "rgb(17,17,17)",
              "width": 0.5
             },
             "pattern": {
              "fillmode": "overlay",
              "size": 10,
              "solidity": 0.2
             }
            },
            "type": "bar"
           }
          ],
          "barpolar": [
           {
            "marker": {
             "line": {
              "color": "rgb(17,17,17)",
              "width": 0.5
             },
             "pattern": {
              "fillmode": "overlay",
              "size": 10,
              "solidity": 0.2
             }
            },
            "type": "barpolar"
           }
          ],
          "carpet": [
           {
            "aaxis": {
             "endlinecolor": "#A2B1C6",
             "gridcolor": "#506784",
             "linecolor": "#506784",
             "minorgridcolor": "#506784",
             "startlinecolor": "#A2B1C6"
            },
            "baxis": {
             "endlinecolor": "#A2B1C6",
             "gridcolor": "#506784",
             "linecolor": "#506784",
             "minorgridcolor": "#506784",
             "startlinecolor": "#A2B1C6"
            },
            "type": "carpet"
           }
          ],
          "choropleth": [
           {
            "colorbar": {
             "outlinewidth": 0,
             "ticks": ""
            },
            "type": "choropleth"
           }
          ],
          "contour": [
           {
            "colorbar": {
             "outlinewidth": 0,
             "ticks": ""
            },
            "colorscale": [
             [
              0,
              "#0d0887"
             ],
             [
              0.1111111111111111,
              "#46039f"
             ],
             [
              0.2222222222222222,
              "#7201a8"
             ],
             [
              0.3333333333333333,
              "#9c179e"
             ],
             [
              0.4444444444444444,
              "#bd3786"
             ],
             [
              0.5555555555555556,
              "#d8576b"
             ],
             [
              0.6666666666666666,
              "#ed7953"
             ],
             [
              0.7777777777777778,
              "#fb9f3a"
             ],
             [
              0.8888888888888888,
              "#fdca26"
             ],
             [
              1,
              "#f0f921"
             ]
            ],
            "type": "contour"
           }
          ],
          "contourcarpet": [
           {
            "colorbar": {
             "outlinewidth": 0,
             "ticks": ""
            },
            "type": "contourcarpet"
           }
          ],
          "heatmap": [
           {
            "colorbar": {
             "outlinewidth": 0,
             "ticks": ""
            },
            "colorscale": [
             [
              0,
              "#0d0887"
             ],
             [
              0.1111111111111111,
              "#46039f"
             ],
             [
              0.2222222222222222,
              "#7201a8"
             ],
             [
              0.3333333333333333,
              "#9c179e"
             ],
             [
              0.4444444444444444,
              "#bd3786"
             ],
             [
              0.5555555555555556,
              "#d8576b"
             ],
             [
              0.6666666666666666,
              "#ed7953"
             ],
             [
              0.7777777777777778,
              "#fb9f3a"
             ],
             [
              0.8888888888888888,
              "#fdca26"
             ],
             [
              1,
              "#f0f921"
             ]
            ],
            "type": "heatmap"
           }
          ],
          "heatmapgl": [
           {
            "colorbar": {
             "outlinewidth": 0,
             "ticks": ""
            },
            "colorscale": [
             [
              0,
              "#0d0887"
             ],
             [
              0.1111111111111111,
              "#46039f"
             ],
             [
              0.2222222222222222,
              "#7201a8"
             ],
             [
              0.3333333333333333,
              "#9c179e"
             ],
             [
              0.4444444444444444,
              "#bd3786"
             ],
             [
              0.5555555555555556,
              "#d8576b"
             ],
             [
              0.6666666666666666,
              "#ed7953"
             ],
             [
              0.7777777777777778,
              "#fb9f3a"
             ],
             [
              0.8888888888888888,
              "#fdca26"
             ],
             [
              1,
              "#f0f921"
             ]
            ],
            "type": "heatmapgl"
           }
          ],
          "histogram": [
           {
            "marker": {
             "pattern": {
              "fillmode": "overlay",
              "size": 10,
              "solidity": 0.2
             }
            },
            "type": "histogram"
           }
          ],
          "histogram2d": [
           {
            "colorbar": {
             "outlinewidth": 0,
             "ticks": ""
            },
            "colorscale": [
             [
              0,
              "#0d0887"
             ],
             [
              0.1111111111111111,
              "#46039f"
             ],
             [
              0.2222222222222222,
              "#7201a8"
             ],
             [
              0.3333333333333333,
              "#9c179e"
             ],
             [
              0.4444444444444444,
              "#bd3786"
             ],
             [
              0.5555555555555556,
              "#d8576b"
             ],
             [
              0.6666666666666666,
              "#ed7953"
             ],
             [
              0.7777777777777778,
              "#fb9f3a"
             ],
             [
              0.8888888888888888,
              "#fdca26"
             ],
             [
              1,
              "#f0f921"
             ]
            ],
            "type": "histogram2d"
           }
          ],
          "histogram2dcontour": [
           {
            "colorbar": {
             "outlinewidth": 0,
             "ticks": ""
            },
            "colorscale": [
             [
              0,
              "#0d0887"
             ],
             [
              0.1111111111111111,
              "#46039f"
             ],
             [
              0.2222222222222222,
              "#7201a8"
             ],
             [
              0.3333333333333333,
              "#9c179e"
             ],
             [
              0.4444444444444444,
              "#bd3786"
             ],
             [
              0.5555555555555556,
              "#d8576b"
             ],
             [
              0.6666666666666666,
              "#ed7953"
             ],
             [
              0.7777777777777778,
              "#fb9f3a"
             ],
             [
              0.8888888888888888,
              "#fdca26"
             ],
             [
              1,
              "#f0f921"
             ]
            ],
            "type": "histogram2dcontour"
           }
          ],
          "mesh3d": [
           {
            "colorbar": {
             "outlinewidth": 0,
             "ticks": ""
            },
            "type": "mesh3d"
           }
          ],
          "parcoords": [
           {
            "line": {
             "colorbar": {
              "outlinewidth": 0,
              "ticks": ""
             }
            },
            "type": "parcoords"
           }
          ],
          "pie": [
           {
            "automargin": true,
            "type": "pie"
           }
          ],
          "scatter": [
           {
            "marker": {
             "line": {
              "color": "#283442"
             }
            },
            "type": "scatter"
           }
          ],
          "scatter3d": [
           {
            "line": {
             "colorbar": {
              "outlinewidth": 0,
              "ticks": ""
             }
            },
            "marker": {
             "colorbar": {
              "outlinewidth": 0,
              "ticks": ""
             }
            },
            "type": "scatter3d"
           }
          ],
          "scattercarpet": [
           {
            "marker": {
             "colorbar": {
              "outlinewidth": 0,
              "ticks": ""
             }
            },
            "type": "scattercarpet"
           }
          ],
          "scattergeo": [
           {
            "marker": {
             "colorbar": {
              "outlinewidth": 0,
              "ticks": ""
             }
            },
            "type": "scattergeo"
           }
          ],
          "scattergl": [
           {
            "marker": {
             "line": {
              "color": "#283442"
             }
            },
            "type": "scattergl"
           }
          ],
          "scattermapbox": [
           {
            "marker": {
             "colorbar": {
              "outlinewidth": 0,
              "ticks": ""
             }
            },
            "type": "scattermapbox"
           }
          ],
          "scatterpolar": [
           {
            "marker": {
             "colorbar": {
              "outlinewidth": 0,
              "ticks": ""
             }
            },
            "type": "scatterpolar"
           }
          ],
          "scatterpolargl": [
           {
            "marker": {
             "colorbar": {
              "outlinewidth": 0,
              "ticks": ""
             }
            },
            "type": "scatterpolargl"
           }
          ],
          "scatterternary": [
           {
            "marker": {
             "colorbar": {
              "outlinewidth": 0,
              "ticks": ""
             }
            },
            "type": "scatterternary"
           }
          ],
          "surface": [
           {
            "colorbar": {
             "outlinewidth": 0,
             "ticks": ""
            },
            "colorscale": [
             [
              0,
              "#0d0887"
             ],
             [
              0.1111111111111111,
              "#46039f"
             ],
             [
              0.2222222222222222,
              "#7201a8"
             ],
             [
              0.3333333333333333,
              "#9c179e"
             ],
             [
              0.4444444444444444,
              "#bd3786"
             ],
             [
              0.5555555555555556,
              "#d8576b"
             ],
             [
              0.6666666666666666,
              "#ed7953"
             ],
             [
              0.7777777777777778,
              "#fb9f3a"
             ],
             [
              0.8888888888888888,
              "#fdca26"
             ],
             [
              1,
              "#f0f921"
             ]
            ],
            "type": "surface"
           }
          ],
          "table": [
           {
            "cells": {
             "fill": {
              "color": "#506784"
             },
             "line": {
              "color": "rgb(17,17,17)"
             }
            },
            "header": {
             "fill": {
              "color": "#2a3f5f"
             },
             "line": {
              "color": "rgb(17,17,17)"
             }
            },
            "type": "table"
           }
          ]
         },
         "layout": {
          "annotationdefaults": {
           "arrowcolor": "#f2f5fa",
           "arrowhead": 0,
           "arrowwidth": 1
          },
          "autotypenumbers": "strict",
          "coloraxis": {
           "colorbar": {
            "outlinewidth": 0,
            "ticks": ""
           }
          },
          "colorscale": {
           "diverging": [
            [
             0,
             "#8e0152"
            ],
            [
             0.1,
             "#c51b7d"
            ],
            [
             0.2,
             "#de77ae"
            ],
            [
             0.3,
             "#f1b6da"
            ],
            [
             0.4,
             "#fde0ef"
            ],
            [
             0.5,
             "#f7f7f7"
            ],
            [
             0.6,
             "#e6f5d0"
            ],
            [
             0.7,
             "#b8e186"
            ],
            [
             0.8,
             "#7fbc41"
            ],
            [
             0.9,
             "#4d9221"
            ],
            [
             1,
             "#276419"
            ]
           ],
           "sequential": [
            [
             0,
             "#0d0887"
            ],
            [
             0.1111111111111111,
             "#46039f"
            ],
            [
             0.2222222222222222,
             "#7201a8"
            ],
            [
             0.3333333333333333,
             "#9c179e"
            ],
            [
             0.4444444444444444,
             "#bd3786"
            ],
            [
             0.5555555555555556,
             "#d8576b"
            ],
            [
             0.6666666666666666,
             "#ed7953"
            ],
            [
             0.7777777777777778,
             "#fb9f3a"
            ],
            [
             0.8888888888888888,
             "#fdca26"
            ],
            [
             1,
             "#f0f921"
            ]
           ],
           "sequentialminus": [
            [
             0,
             "#0d0887"
            ],
            [
             0.1111111111111111,
             "#46039f"
            ],
            [
             0.2222222222222222,
             "#7201a8"
            ],
            [
             0.3333333333333333,
             "#9c179e"
            ],
            [
             0.4444444444444444,
             "#bd3786"
            ],
            [
             0.5555555555555556,
             "#d8576b"
            ],
            [
             0.6666666666666666,
             "#ed7953"
            ],
            [
             0.7777777777777778,
             "#fb9f3a"
            ],
            [
             0.8888888888888888,
             "#fdca26"
            ],
            [
             1,
             "#f0f921"
            ]
           ]
          },
          "colorway": [
           "#636efa",
           "#EF553B",
           "#00cc96",
           "#ab63fa",
           "#FFA15A",
           "#19d3f3",
           "#FF6692",
           "#B6E880",
           "#FF97FF",
           "#FECB52"
          ],
          "font": {
           "color": "#f2f5fa"
          },
          "geo": {
           "bgcolor": "rgb(17,17,17)",
           "lakecolor": "rgb(17,17,17)",
           "landcolor": "rgb(17,17,17)",
           "showlakes": true,
           "showland": true,
           "subunitcolor": "#506784"
          },
          "hoverlabel": {
           "align": "left"
          },
          "hovermode": "closest",
          "mapbox": {
           "style": "dark"
          },
          "paper_bgcolor": "rgb(17,17,17)",
          "plot_bgcolor": "rgb(17,17,17)",
          "polar": {
           "angularaxis": {
            "gridcolor": "#506784",
            "linecolor": "#506784",
            "ticks": ""
           },
           "bgcolor": "rgb(17,17,17)",
           "radialaxis": {
            "gridcolor": "#506784",
            "linecolor": "#506784",
            "ticks": ""
           }
          },
          "scene": {
           "xaxis": {
            "backgroundcolor": "rgb(17,17,17)",
            "gridcolor": "#506784",
            "gridwidth": 2,
            "linecolor": "#506784",
            "showbackground": true,
            "ticks": "",
            "zerolinecolor": "#C8D4E3"
           },
           "yaxis": {
            "backgroundcolor": "rgb(17,17,17)",
            "gridcolor": "#506784",
            "gridwidth": 2,
            "linecolor": "#506784",
            "showbackground": true,
            "ticks": "",
            "zerolinecolor": "#C8D4E3"
           },
           "zaxis": {
            "backgroundcolor": "rgb(17,17,17)",
            "gridcolor": "#506784",
            "gridwidth": 2,
            "linecolor": "#506784",
            "showbackground": true,
            "ticks": "",
            "zerolinecolor": "#C8D4E3"
           }
          },
          "shapedefaults": {
           "line": {
            "color": "#f2f5fa"
           }
          },
          "sliderdefaults": {
           "bgcolor": "#C8D4E3",
           "bordercolor": "rgb(17,17,17)",
           "borderwidth": 1,
           "tickwidth": 0
          },
          "ternary": {
           "aaxis": {
            "gridcolor": "#506784",
            "linecolor": "#506784",
            "ticks": ""
           },
           "baxis": {
            "gridcolor": "#506784",
            "linecolor": "#506784",
            "ticks": ""
           },
           "bgcolor": "rgb(17,17,17)",
           "caxis": {
            "gridcolor": "#506784",
            "linecolor": "#506784",
            "ticks": ""
           }
          },
          "title": {
           "x": 0.05
          },
          "updatemenudefaults": {
           "bgcolor": "#506784",
           "borderwidth": 0
          },
          "xaxis": {
           "automargin": true,
           "gridcolor": "#283442",
           "linecolor": "#506784",
           "ticks": "",
           "title": {
            "standoff": 15
           },
           "zerolinecolor": "#283442",
           "zerolinewidth": 2
          },
          "yaxis": {
           "automargin": true,
           "gridcolor": "#283442",
           "linecolor": "#506784",
           "ticks": "",
           "title": {
            "standoff": 15
           },
           "zerolinecolor": "#283442",
           "zerolinewidth": 2
          }
         }
        },
        "title": {
         "text": "Fertility Trends by Education Segment<br><sup>YoY Sigma</sup>"
        },
        "xaxis": {
         "anchor": "y",
         "domain": [
          0,
          1
         ],
         "title": {
          "text": "Year"
         }
        },
        "yaxis": {
         "anchor": "x",
         "domain": [
          0,
          1
         ],
         "title": {
          "text": "Sigma (YoY)"
         }
        }
       }
      }
     },
     "metadata": {},
     "output_type": "display_data"
    }
   ],
   "source": [
    "def sigma(r: float, w: int, c: int) -> float:\n",
    "    \"\"\"Calculate the standardized error between the predicted number of children and the observed number of children.\n",
    "\n",
    "    :param r:   The child rate to predict with.\n",
    "    :param w:   The observed number of women.\n",
    "    :param c:   The observed number of children.\n",
    "    :return:    The standardized error between the predicted number of children and the observed number of children.\n",
    "    \"\"\"\n",
    "    # Calculate the error between the predicted number of children and the actual number of children\n",
    "    predicted = w * r\n",
    "    error = c - predicted\n",
    "    # Return the standardized error\n",
    "    return error / (c * predicted)\n",
    "\n",
    "fdf = make_education_filtered_df(df.copy())\n",
    "# Convert to millions\n",
    "fdf[\"Women (Millions)\"] = fdf[\"Total Women\"] / 1_000_000\n",
    "fdf[\"Children (Millions)\"] = fdf[\"Total Children\"] / 1_000_000\n",
    "\n",
    "ed_by_year_dataframes = []\n",
    "for education, edf in fdf.groupby(\"Education\"):\n",
    "    by_year = edf.groupby(\"Year\", as_index=False).agg(\n",
    "        {\n",
    "            \"Children (Millions)\": \"sum\",\n",
    "            \"Women (Millions)\": \"sum\",\n",
    "        }\n",
    "    )\n",
    "    by_year[\"Child Rate\"] = by_year[\"Children (Millions)\"] / by_year[\"Women (Millions)\"]\n",
    "    by_year[\"Sigma\"] = sigma(by_year[\"Child Rate\"].shift(), by_year[\"Women (Millions)\"], by_year[\"Children (Millions)\"])\n",
    "    by_year[\"Education\"] = education\n",
    "    ed_by_year_dataframes.append(by_year)\n",
    "\n",
    "fdf = pd.concat(ed_by_year_dataframes)\n",
    "# Create a normalized sigma column for a second y-axis\n",
    "fdf[\"Normalized Sigma\"] = fdf[\"Sigma\"] / fdf[\"Sigma\"].abs().max()\n",
    "\n",
    "fig = px.scatter(\n",
    "    fdf,\n",
    "    x=\"Year\",\n",
    "    y=\"Sigma\",\n",
    "    color=\"Education\",\n",
    "    size=\"Women (Millions)\",\n",
    "    title=\"Fertility Trends by Education Segment<br><sup>YoY Sigma</sup>\",\n",
    "    template=\"plotly_dark\",\n",
    "    hover_name=\"Education\",\n",
    "    hover_data={\n",
    "        \"Year\": True,\n",
    "        \"Children (Millions)\": \":.2f\",\n",
    "        \"Women (Millions)\": \":.2f\",\n",
    "    },\n",
    "    labels={\n",
    "        \"Sigma\": \"Sigma (YoY)\",\n",
    "    },\n",
    "    color_discrete_sequence=colorbrewer.Dark2,           \n",
    ")\n",
    "# Update legend rank\n",
    "fig.for_each_trace(\n",
    "    lambda trace: trace.update(\n",
    "        legendrank=education_rank_order.index(trace.name)\n",
    "    )\n",
    ")\n",
    "\n",
    "fig.update_layout(\n",
    "    paper_bgcolor='rgba(0,0,0,0)',\n",
    "    plot_bgcolor='rgba(0,0,0,0)',\n",
    "    hovermode=\"x\",\n",
    ")\n",
    "fig.update_traces(mode=\"markers+lines\", marker=dict(symbol=\"arrow\"))\n",
    "fig"
   ]
  },
  {
   "attachments": {},
   "cell_type": "markdown",
   "metadata": {},
   "source": [
    "**Commentary**\n",
    "\n",
    "Using sigma instead of point differentials reveals a commonality: the fertility of highly educated women is increasing. The story for the other two is similar, with a notable change. Both are slightly decreasing as observed before, but now fertility for women with bachelor's degrees is attriting slightly more relative to those with high school diplomas."
   ]
  },
  {
   "attachments": {},
   "cell_type": "markdown",
   "metadata": {},
   "source": [
    "# The Paradox\n"
   ]
  },
  {
   "cell_type": "code",
   "execution_count": 11,
   "metadata": {},
   "outputs": [
    {
     "data": {
      "application/vnd.plotly.v1+json": {
       "config": {
        "plotlyServerURL": "https://plot.ly"
       },
       "data": [
        {
         "customdata": [
          [
           1.292718,
           4.397
          ],
          [
           1.465464,
           4.697
          ],
          [
           1.493714,
           5.098
          ],
          [
           1.495096,
           5.051
          ],
          [
           1.547028,
           6.139
          ]
         ],
         "hovertemplate": "<b>%{hovertext}</b><br><br>Education=Bachelor's<br>Year=%{x}<br>Children Ever Born per Woman=%{y}<br>Women (Millions)=%{customdata[1]:.2f}<br>Children (Millions)=%{customdata[0]:.2f}<extra></extra>",
         "hovertext": [
          "Bachelor's",
          "Bachelor's",
          "Bachelor's",
          "Bachelor's",
          "Bachelor's"
         ],
         "legendgroup": "Bachelor's",
         "legendrank": 1,
         "marker": {
          "color": "rgb(27,158,119)",
          "size": [
           4.397,
           4.697,
           5.098,
           5.051,
           6.139
          ],
          "sizemode": "area",
          "sizeref": 0.029895,
          "symbol": "arrow"
         },
         "mode": "markers+lines",
         "name": "Bachelor's",
         "orientation": "v",
         "showlegend": true,
         "type": "scatter",
         "x": [
          2012,
          2014,
          2016,
          2018,
          2020
         ],
         "xaxis": "x",
         "y": [
          0.294,
          0.312,
          0.293,
          0.296,
          0.252
         ],
         "yaxis": "y"
        },
        {
         "customdata": [
          [
           0.32271,
           1.041
          ],
          [
           0.397308,
           1.172
          ],
          [
           0.3549,
           1.365
          ],
          [
           0.4058339999999999,
           1.419
          ],
          [
           0.394228,
           1.471
          ]
         ],
         "hovertemplate": "<b>%{hovertext}</b><br><br>Education=Graduate<br>Year=%{x}<br>Children Ever Born per Woman=%{y}<br>Women (Millions)=%{customdata[1]:.2f}<br>Children (Millions)=%{customdata[0]:.2f}<extra></extra>",
         "hovertext": [
          "Graduate",
          "Graduate",
          "Graduate",
          "Graduate",
          "Graduate"
         ],
         "legendgroup": "Graduate",
         "legendrank": 2,
         "marker": {
          "color": "rgb(217,95,2)",
          "size": [
           1.041,
           1.172,
           1.365,
           1.419,
           1.471
          ],
          "sizemode": "area",
          "sizeref": 0.029895,
          "symbol": "arrow"
         },
         "mode": "markers+lines",
         "name": "Graduate",
         "orientation": "v",
         "showlegend": true,
         "type": "scatter",
         "x": [
          2012,
          2014,
          2016,
          2018,
          2020
         ],
         "xaxis": "x",
         "y": [
          0.31,
          0.339,
          0.26,
          0.286,
          0.268
         ],
         "yaxis": "y"
        },
        {
         "customdata": [
          [
           8.498623,
           11.893
          ],
          [
           8.212233,
           11.881
          ],
          [
           7.95612,
           11.958
          ],
          [
           7.78065,
           11.845
          ],
          [
           6.016273,
           10.94
          ]
         ],
         "hovertemplate": "<b>%{hovertext}</b><br><br>Education=High School<br>Year=%{x}<br>Children Ever Born per Woman=%{y}<br>Women (Millions)=%{customdata[1]:.2f}<br>Children (Millions)=%{customdata[0]:.2f}<extra></extra>",
         "hovertext": [
          "High School",
          "High School",
          "High School",
          "High School",
          "High School"
         ],
         "legendgroup": "High School",
         "legendrank": 0,
         "marker": {
          "color": "rgb(117,112,179)",
          "size": [
           11.893,
           11.881,
           11.958,
           11.845,
           10.94
          ],
          "sizemode": "area",
          "sizeref": 0.029895,
          "symbol": "arrow"
         },
         "mode": "markers+lines",
         "name": "High School",
         "orientation": "v",
         "showlegend": true,
         "type": "scatter",
         "x": [
          2012,
          2014,
          2016,
          2018,
          2020
         ],
         "xaxis": "x",
         "y": [
          0.7145903472630959,
          0.6912072216143422,
          0.6653386853988962,
          0.6568720979316167,
          0.5499335466179159
         ],
         "yaxis": "y"
        }
       ],
       "layout": {
        "hovermode": "x",
        "legend": {
         "itemsizing": "constant",
         "title": {
          "text": "Education"
         },
         "tracegroupgap": 0
        },
        "paper_bgcolor": "rgba(0,0,0,0)",
        "plot_bgcolor": "rgba(0,0,0,0)",
        "template": {
         "data": {
          "bar": [
           {
            "error_x": {
             "color": "#f2f5fa"
            },
            "error_y": {
             "color": "#f2f5fa"
            },
            "marker": {
             "line": {
              "color": "rgb(17,17,17)",
              "width": 0.5
             },
             "pattern": {
              "fillmode": "overlay",
              "size": 10,
              "solidity": 0.2
             }
            },
            "type": "bar"
           }
          ],
          "barpolar": [
           {
            "marker": {
             "line": {
              "color": "rgb(17,17,17)",
              "width": 0.5
             },
             "pattern": {
              "fillmode": "overlay",
              "size": 10,
              "solidity": 0.2
             }
            },
            "type": "barpolar"
           }
          ],
          "carpet": [
           {
            "aaxis": {
             "endlinecolor": "#A2B1C6",
             "gridcolor": "#506784",
             "linecolor": "#506784",
             "minorgridcolor": "#506784",
             "startlinecolor": "#A2B1C6"
            },
            "baxis": {
             "endlinecolor": "#A2B1C6",
             "gridcolor": "#506784",
             "linecolor": "#506784",
             "minorgridcolor": "#506784",
             "startlinecolor": "#A2B1C6"
            },
            "type": "carpet"
           }
          ],
          "choropleth": [
           {
            "colorbar": {
             "outlinewidth": 0,
             "ticks": ""
            },
            "type": "choropleth"
           }
          ],
          "contour": [
           {
            "colorbar": {
             "outlinewidth": 0,
             "ticks": ""
            },
            "colorscale": [
             [
              0,
              "#0d0887"
             ],
             [
              0.1111111111111111,
              "#46039f"
             ],
             [
              0.2222222222222222,
              "#7201a8"
             ],
             [
              0.3333333333333333,
              "#9c179e"
             ],
             [
              0.4444444444444444,
              "#bd3786"
             ],
             [
              0.5555555555555556,
              "#d8576b"
             ],
             [
              0.6666666666666666,
              "#ed7953"
             ],
             [
              0.7777777777777778,
              "#fb9f3a"
             ],
             [
              0.8888888888888888,
              "#fdca26"
             ],
             [
              1,
              "#f0f921"
             ]
            ],
            "type": "contour"
           }
          ],
          "contourcarpet": [
           {
            "colorbar": {
             "outlinewidth": 0,
             "ticks": ""
            },
            "type": "contourcarpet"
           }
          ],
          "heatmap": [
           {
            "colorbar": {
             "outlinewidth": 0,
             "ticks": ""
            },
            "colorscale": [
             [
              0,
              "#0d0887"
             ],
             [
              0.1111111111111111,
              "#46039f"
             ],
             [
              0.2222222222222222,
              "#7201a8"
             ],
             [
              0.3333333333333333,
              "#9c179e"
             ],
             [
              0.4444444444444444,
              "#bd3786"
             ],
             [
              0.5555555555555556,
              "#d8576b"
             ],
             [
              0.6666666666666666,
              "#ed7953"
             ],
             [
              0.7777777777777778,
              "#fb9f3a"
             ],
             [
              0.8888888888888888,
              "#fdca26"
             ],
             [
              1,
              "#f0f921"
             ]
            ],
            "type": "heatmap"
           }
          ],
          "heatmapgl": [
           {
            "colorbar": {
             "outlinewidth": 0,
             "ticks": ""
            },
            "colorscale": [
             [
              0,
              "#0d0887"
             ],
             [
              0.1111111111111111,
              "#46039f"
             ],
             [
              0.2222222222222222,
              "#7201a8"
             ],
             [
              0.3333333333333333,
              "#9c179e"
             ],
             [
              0.4444444444444444,
              "#bd3786"
             ],
             [
              0.5555555555555556,
              "#d8576b"
             ],
             [
              0.6666666666666666,
              "#ed7953"
             ],
             [
              0.7777777777777778,
              "#fb9f3a"
             ],
             [
              0.8888888888888888,
              "#fdca26"
             ],
             [
              1,
              "#f0f921"
             ]
            ],
            "type": "heatmapgl"
           }
          ],
          "histogram": [
           {
            "marker": {
             "pattern": {
              "fillmode": "overlay",
              "size": 10,
              "solidity": 0.2
             }
            },
            "type": "histogram"
           }
          ],
          "histogram2d": [
           {
            "colorbar": {
             "outlinewidth": 0,
             "ticks": ""
            },
            "colorscale": [
             [
              0,
              "#0d0887"
             ],
             [
              0.1111111111111111,
              "#46039f"
             ],
             [
              0.2222222222222222,
              "#7201a8"
             ],
             [
              0.3333333333333333,
              "#9c179e"
             ],
             [
              0.4444444444444444,
              "#bd3786"
             ],
             [
              0.5555555555555556,
              "#d8576b"
             ],
             [
              0.6666666666666666,
              "#ed7953"
             ],
             [
              0.7777777777777778,
              "#fb9f3a"
             ],
             [
              0.8888888888888888,
              "#fdca26"
             ],
             [
              1,
              "#f0f921"
             ]
            ],
            "type": "histogram2d"
           }
          ],
          "histogram2dcontour": [
           {
            "colorbar": {
             "outlinewidth": 0,
             "ticks": ""
            },
            "colorscale": [
             [
              0,
              "#0d0887"
             ],
             [
              0.1111111111111111,
              "#46039f"
             ],
             [
              0.2222222222222222,
              "#7201a8"
             ],
             [
              0.3333333333333333,
              "#9c179e"
             ],
             [
              0.4444444444444444,
              "#bd3786"
             ],
             [
              0.5555555555555556,
              "#d8576b"
             ],
             [
              0.6666666666666666,
              "#ed7953"
             ],
             [
              0.7777777777777778,
              "#fb9f3a"
             ],
             [
              0.8888888888888888,
              "#fdca26"
             ],
             [
              1,
              "#f0f921"
             ]
            ],
            "type": "histogram2dcontour"
           }
          ],
          "mesh3d": [
           {
            "colorbar": {
             "outlinewidth": 0,
             "ticks": ""
            },
            "type": "mesh3d"
           }
          ],
          "parcoords": [
           {
            "line": {
             "colorbar": {
              "outlinewidth": 0,
              "ticks": ""
             }
            },
            "type": "parcoords"
           }
          ],
          "pie": [
           {
            "automargin": true,
            "type": "pie"
           }
          ],
          "scatter": [
           {
            "marker": {
             "line": {
              "color": "#283442"
             }
            },
            "type": "scatter"
           }
          ],
          "scatter3d": [
           {
            "line": {
             "colorbar": {
              "outlinewidth": 0,
              "ticks": ""
             }
            },
            "marker": {
             "colorbar": {
              "outlinewidth": 0,
              "ticks": ""
             }
            },
            "type": "scatter3d"
           }
          ],
          "scattercarpet": [
           {
            "marker": {
             "colorbar": {
              "outlinewidth": 0,
              "ticks": ""
             }
            },
            "type": "scattercarpet"
           }
          ],
          "scattergeo": [
           {
            "marker": {
             "colorbar": {
              "outlinewidth": 0,
              "ticks": ""
             }
            },
            "type": "scattergeo"
           }
          ],
          "scattergl": [
           {
            "marker": {
             "line": {
              "color": "#283442"
             }
            },
            "type": "scattergl"
           }
          ],
          "scattermapbox": [
           {
            "marker": {
             "colorbar": {
              "outlinewidth": 0,
              "ticks": ""
             }
            },
            "type": "scattermapbox"
           }
          ],
          "scatterpolar": [
           {
            "marker": {
             "colorbar": {
              "outlinewidth": 0,
              "ticks": ""
             }
            },
            "type": "scatterpolar"
           }
          ],
          "scatterpolargl": [
           {
            "marker": {
             "colorbar": {
              "outlinewidth": 0,
              "ticks": ""
             }
            },
            "type": "scatterpolargl"
           }
          ],
          "scatterternary": [
           {
            "marker": {
             "colorbar": {
              "outlinewidth": 0,
              "ticks": ""
             }
            },
            "type": "scatterternary"
           }
          ],
          "surface": [
           {
            "colorbar": {
             "outlinewidth": 0,
             "ticks": ""
            },
            "colorscale": [
             [
              0,
              "#0d0887"
             ],
             [
              0.1111111111111111,
              "#46039f"
             ],
             [
              0.2222222222222222,
              "#7201a8"
             ],
             [
              0.3333333333333333,
              "#9c179e"
             ],
             [
              0.4444444444444444,
              "#bd3786"
             ],
             [
              0.5555555555555556,
              "#d8576b"
             ],
             [
              0.6666666666666666,
              "#ed7953"
             ],
             [
              0.7777777777777778,
              "#fb9f3a"
             ],
             [
              0.8888888888888888,
              "#fdca26"
             ],
             [
              1,
              "#f0f921"
             ]
            ],
            "type": "surface"
           }
          ],
          "table": [
           {
            "cells": {
             "fill": {
              "color": "#506784"
             },
             "line": {
              "color": "rgb(17,17,17)"
             }
            },
            "header": {
             "fill": {
              "color": "#2a3f5f"
             },
             "line": {
              "color": "rgb(17,17,17)"
             }
            },
            "type": "table"
           }
          ]
         },
         "layout": {
          "annotationdefaults": {
           "arrowcolor": "#f2f5fa",
           "arrowhead": 0,
           "arrowwidth": 1
          },
          "autotypenumbers": "strict",
          "coloraxis": {
           "colorbar": {
            "outlinewidth": 0,
            "ticks": ""
           }
          },
          "colorscale": {
           "diverging": [
            [
             0,
             "#8e0152"
            ],
            [
             0.1,
             "#c51b7d"
            ],
            [
             0.2,
             "#de77ae"
            ],
            [
             0.3,
             "#f1b6da"
            ],
            [
             0.4,
             "#fde0ef"
            ],
            [
             0.5,
             "#f7f7f7"
            ],
            [
             0.6,
             "#e6f5d0"
            ],
            [
             0.7,
             "#b8e186"
            ],
            [
             0.8,
             "#7fbc41"
            ],
            [
             0.9,
             "#4d9221"
            ],
            [
             1,
             "#276419"
            ]
           ],
           "sequential": [
            [
             0,
             "#0d0887"
            ],
            [
             0.1111111111111111,
             "#46039f"
            ],
            [
             0.2222222222222222,
             "#7201a8"
            ],
            [
             0.3333333333333333,
             "#9c179e"
            ],
            [
             0.4444444444444444,
             "#bd3786"
            ],
            [
             0.5555555555555556,
             "#d8576b"
            ],
            [
             0.6666666666666666,
             "#ed7953"
            ],
            [
             0.7777777777777778,
             "#fb9f3a"
            ],
            [
             0.8888888888888888,
             "#fdca26"
            ],
            [
             1,
             "#f0f921"
            ]
           ],
           "sequentialminus": [
            [
             0,
             "#0d0887"
            ],
            [
             0.1111111111111111,
             "#46039f"
            ],
            [
             0.2222222222222222,
             "#7201a8"
            ],
            [
             0.3333333333333333,
             "#9c179e"
            ],
            [
             0.4444444444444444,
             "#bd3786"
            ],
            [
             0.5555555555555556,
             "#d8576b"
            ],
            [
             0.6666666666666666,
             "#ed7953"
            ],
            [
             0.7777777777777778,
             "#fb9f3a"
            ],
            [
             0.8888888888888888,
             "#fdca26"
            ],
            [
             1,
             "#f0f921"
            ]
           ]
          },
          "colorway": [
           "#636efa",
           "#EF553B",
           "#00cc96",
           "#ab63fa",
           "#FFA15A",
           "#19d3f3",
           "#FF6692",
           "#B6E880",
           "#FF97FF",
           "#FECB52"
          ],
          "font": {
           "color": "#f2f5fa"
          },
          "geo": {
           "bgcolor": "rgb(17,17,17)",
           "lakecolor": "rgb(17,17,17)",
           "landcolor": "rgb(17,17,17)",
           "showlakes": true,
           "showland": true,
           "subunitcolor": "#506784"
          },
          "hoverlabel": {
           "align": "left"
          },
          "hovermode": "closest",
          "mapbox": {
           "style": "dark"
          },
          "paper_bgcolor": "rgb(17,17,17)",
          "plot_bgcolor": "rgb(17,17,17)",
          "polar": {
           "angularaxis": {
            "gridcolor": "#506784",
            "linecolor": "#506784",
            "ticks": ""
           },
           "bgcolor": "rgb(17,17,17)",
           "radialaxis": {
            "gridcolor": "#506784",
            "linecolor": "#506784",
            "ticks": ""
           }
          },
          "scene": {
           "xaxis": {
            "backgroundcolor": "rgb(17,17,17)",
            "gridcolor": "#506784",
            "gridwidth": 2,
            "linecolor": "#506784",
            "showbackground": true,
            "ticks": "",
            "zerolinecolor": "#C8D4E3"
           },
           "yaxis": {
            "backgroundcolor": "rgb(17,17,17)",
            "gridcolor": "#506784",
            "gridwidth": 2,
            "linecolor": "#506784",
            "showbackground": true,
            "ticks": "",
            "zerolinecolor": "#C8D4E3"
           },
           "zaxis": {
            "backgroundcolor": "rgb(17,17,17)",
            "gridcolor": "#506784",
            "gridwidth": 2,
            "linecolor": "#506784",
            "showbackground": true,
            "ticks": "",
            "zerolinecolor": "#C8D4E3"
           }
          },
          "shapedefaults": {
           "line": {
            "color": "#f2f5fa"
           }
          },
          "sliderdefaults": {
           "bgcolor": "#C8D4E3",
           "bordercolor": "rgb(17,17,17)",
           "borderwidth": 1,
           "tickwidth": 0
          },
          "ternary": {
           "aaxis": {
            "gridcolor": "#506784",
            "linecolor": "#506784",
            "ticks": ""
           },
           "baxis": {
            "gridcolor": "#506784",
            "linecolor": "#506784",
            "ticks": ""
           },
           "bgcolor": "rgb(17,17,17)",
           "caxis": {
            "gridcolor": "#506784",
            "linecolor": "#506784",
            "ticks": ""
           }
          },
          "title": {
           "x": 0.05
          },
          "updatemenudefaults": {
           "bgcolor": "#506784",
           "borderwidth": 0
          },
          "xaxis": {
           "automargin": true,
           "gridcolor": "#283442",
           "linecolor": "#506784",
           "ticks": "",
           "title": {
            "standoff": 15
           },
           "zerolinecolor": "#283442",
           "zerolinewidth": 2
          },
          "yaxis": {
           "automargin": true,
           "gridcolor": "#283442",
           "linecolor": "#506784",
           "ticks": "",
           "title": {
            "standoff": 15
           },
           "zerolinecolor": "#283442",
           "zerolinewidth": 2
          }
         }
        },
        "title": {
         "text": "Fertility Trends for Women Aged 20 - 29 by Education Segment<br><sup>Children Ever Born to Segment</sup>"
        },
        "xaxis": {
         "anchor": "y",
         "domain": [
          0,
          1
         ],
         "title": {
          "text": "Year"
         }
        },
        "yaxis": {
         "anchor": "x",
         "domain": [
          0,
          1
         ],
         "title": {
          "text": "Children Ever Born per Woman"
         }
        }
       }
      }
     },
     "metadata": {},
     "output_type": "display_data"
    },
    {
     "data": {
      "application/vnd.plotly.v1+json": {
       "config": {
        "plotlyServerURL": "https://plot.ly"
       },
       "data": [
        {
         "customdata": [
          [
           6.578508,
           4.659
          ],
          [
           6.791096,
           5.023
          ],
          [
           6.994344,
           5.208
          ],
          [
           7.70829,
           5.774
          ],
          [
           8.14338,
           6.463
          ]
         ],
         "hovertemplate": "<b>%{hovertext}</b><br><br>Education=Bachelor's<br>Year=%{x}<br>Children Ever Born per Woman=%{y}<br>Women (Millions)=%{customdata[1]:.2f}<br>Children (Millions)=%{customdata[0]:.2f}<extra></extra>",
         "hovertext": [
          "Bachelor's",
          "Bachelor's",
          "Bachelor's",
          "Bachelor's",
          "Bachelor's"
         ],
         "legendgroup": "Bachelor's",
         "legendrank": 1,
         "marker": {
          "color": "rgb(27,158,119)",
          "size": [
           4.659,
           5.023,
           5.208,
           5.774,
           6.463
          ],
          "sizemode": "area",
          "sizeref": 0.0204475,
          "symbol": "arrow"
         },
         "mode": "markers+lines",
         "name": "Bachelor's",
         "orientation": "v",
         "showlegend": true,
         "type": "scatter",
         "x": [
          2012,
          2014,
          2016,
          2018,
          2020
         ],
         "xaxis": "x",
         "y": [
          1.412,
          1.352,
          1.343,
          1.335,
          1.26
         ],
         "yaxis": "y"
        },
        {
         "customdata": [
          [
           3.5128170000000005,
           2.877
          ],
          [
           3.3944519999999994,
           2.962
          ],
          [
           4.325998,
           3.599
          ],
          [
           4.22662,
           3.628
          ],
          [
           5.075571,
           4.327
          ]
         ],
         "hovertemplate": "<b>%{hovertext}</b><br><br>Education=Graduate<br>Year=%{x}<br>Children Ever Born per Woman=%{y}<br>Women (Millions)=%{customdata[1]:.2f}<br>Children (Millions)=%{customdata[0]:.2f}<extra></extra>",
         "hovertext": [
          "Graduate",
          "Graduate",
          "Graduate",
          "Graduate",
          "Graduate"
         ],
         "legendgroup": "Graduate",
         "legendrank": 2,
         "marker": {
          "color": "rgb(217,95,2)",
          "size": [
           2.877,
           2.962,
           3.599,
           3.628,
           4.327
          ],
          "sizemode": "area",
          "sizeref": 0.0204475,
          "symbol": "arrow"
         },
         "mode": "markers+lines",
         "name": "Graduate",
         "orientation": "v",
         "showlegend": true,
         "type": "scatter",
         "x": [
          2012,
          2014,
          2016,
          2018,
          2020
         ],
         "xaxis": "x",
         "y": [
          1.221,
          1.146,
          1.202,
          1.165,
          1.173
         ],
         "yaxis": "y"
        },
        {
         "customdata": [
          [
           15.951109,
           8.098
          ],
          [
           15.261314,
           8.087
          ],
          [
           16.275203,
           8.179
          ],
          [
           14.502546,
           7.899
          ],
          [
           13.00076,
           7.4
          ]
         ],
         "hovertemplate": "<b>%{hovertext}</b><br><br>Education=High School<br>Year=%{x}<br>Children Ever Born per Woman=%{y}<br>Women (Millions)=%{customdata[1]:.2f}<br>Children (Millions)=%{customdata[0]:.2f}<extra></extra>",
         "hovertext": [
          "High School",
          "High School",
          "High School",
          "High School",
          "High School"
         ],
         "legendgroup": "High School",
         "legendrank": 0,
         "marker": {
          "color": "rgb(117,112,179)",
          "size": [
           8.098,
           8.087,
           8.179,
           7.899,
           7.4
          ],
          "sizemode": "area",
          "sizeref": 0.0204475,
          "symbol": "arrow"
         },
         "mode": "markers+lines",
         "name": "High School",
         "orientation": "v",
         "showlegend": true,
         "type": "scatter",
         "x": [
          2012,
          2014,
          2016,
          2018,
          2020
         ],
         "xaxis": "x",
         "y": [
          1.9697590763151396,
          1.8871415852602944,
          1.9898768798141584,
          1.8359977212305356,
          1.7568594594594595
         ],
         "yaxis": "y"
        }
       ],
       "layout": {
        "hovermode": "x",
        "legend": {
         "itemsizing": "constant",
         "title": {
          "text": "Education"
         },
         "tracegroupgap": 0
        },
        "paper_bgcolor": "rgba(0,0,0,0)",
        "plot_bgcolor": "rgba(0,0,0,0)",
        "template": {
         "data": {
          "bar": [
           {
            "error_x": {
             "color": "#f2f5fa"
            },
            "error_y": {
             "color": "#f2f5fa"
            },
            "marker": {
             "line": {
              "color": "rgb(17,17,17)",
              "width": 0.5
             },
             "pattern": {
              "fillmode": "overlay",
              "size": 10,
              "solidity": 0.2
             }
            },
            "type": "bar"
           }
          ],
          "barpolar": [
           {
            "marker": {
             "line": {
              "color": "rgb(17,17,17)",
              "width": 0.5
             },
             "pattern": {
              "fillmode": "overlay",
              "size": 10,
              "solidity": 0.2
             }
            },
            "type": "barpolar"
           }
          ],
          "carpet": [
           {
            "aaxis": {
             "endlinecolor": "#A2B1C6",
             "gridcolor": "#506784",
             "linecolor": "#506784",
             "minorgridcolor": "#506784",
             "startlinecolor": "#A2B1C6"
            },
            "baxis": {
             "endlinecolor": "#A2B1C6",
             "gridcolor": "#506784",
             "linecolor": "#506784",
             "minorgridcolor": "#506784",
             "startlinecolor": "#A2B1C6"
            },
            "type": "carpet"
           }
          ],
          "choropleth": [
           {
            "colorbar": {
             "outlinewidth": 0,
             "ticks": ""
            },
            "type": "choropleth"
           }
          ],
          "contour": [
           {
            "colorbar": {
             "outlinewidth": 0,
             "ticks": ""
            },
            "colorscale": [
             [
              0,
              "#0d0887"
             ],
             [
              0.1111111111111111,
              "#46039f"
             ],
             [
              0.2222222222222222,
              "#7201a8"
             ],
             [
              0.3333333333333333,
              "#9c179e"
             ],
             [
              0.4444444444444444,
              "#bd3786"
             ],
             [
              0.5555555555555556,
              "#d8576b"
             ],
             [
              0.6666666666666666,
              "#ed7953"
             ],
             [
              0.7777777777777778,
              "#fb9f3a"
             ],
             [
              0.8888888888888888,
              "#fdca26"
             ],
             [
              1,
              "#f0f921"
             ]
            ],
            "type": "contour"
           }
          ],
          "contourcarpet": [
           {
            "colorbar": {
             "outlinewidth": 0,
             "ticks": ""
            },
            "type": "contourcarpet"
           }
          ],
          "heatmap": [
           {
            "colorbar": {
             "outlinewidth": 0,
             "ticks": ""
            },
            "colorscale": [
             [
              0,
              "#0d0887"
             ],
             [
              0.1111111111111111,
              "#46039f"
             ],
             [
              0.2222222222222222,
              "#7201a8"
             ],
             [
              0.3333333333333333,
              "#9c179e"
             ],
             [
              0.4444444444444444,
              "#bd3786"
             ],
             [
              0.5555555555555556,
              "#d8576b"
             ],
             [
              0.6666666666666666,
              "#ed7953"
             ],
             [
              0.7777777777777778,
              "#fb9f3a"
             ],
             [
              0.8888888888888888,
              "#fdca26"
             ],
             [
              1,
              "#f0f921"
             ]
            ],
            "type": "heatmap"
           }
          ],
          "heatmapgl": [
           {
            "colorbar": {
             "outlinewidth": 0,
             "ticks": ""
            },
            "colorscale": [
             [
              0,
              "#0d0887"
             ],
             [
              0.1111111111111111,
              "#46039f"
             ],
             [
              0.2222222222222222,
              "#7201a8"
             ],
             [
              0.3333333333333333,
              "#9c179e"
             ],
             [
              0.4444444444444444,
              "#bd3786"
             ],
             [
              0.5555555555555556,
              "#d8576b"
             ],
             [
              0.6666666666666666,
              "#ed7953"
             ],
             [
              0.7777777777777778,
              "#fb9f3a"
             ],
             [
              0.8888888888888888,
              "#fdca26"
             ],
             [
              1,
              "#f0f921"
             ]
            ],
            "type": "heatmapgl"
           }
          ],
          "histogram": [
           {
            "marker": {
             "pattern": {
              "fillmode": "overlay",
              "size": 10,
              "solidity": 0.2
             }
            },
            "type": "histogram"
           }
          ],
          "histogram2d": [
           {
            "colorbar": {
             "outlinewidth": 0,
             "ticks": ""
            },
            "colorscale": [
             [
              0,
              "#0d0887"
             ],
             [
              0.1111111111111111,
              "#46039f"
             ],
             [
              0.2222222222222222,
              "#7201a8"
             ],
             [
              0.3333333333333333,
              "#9c179e"
             ],
             [
              0.4444444444444444,
              "#bd3786"
             ],
             [
              0.5555555555555556,
              "#d8576b"
             ],
             [
              0.6666666666666666,
              "#ed7953"
             ],
             [
              0.7777777777777778,
              "#fb9f3a"
             ],
             [
              0.8888888888888888,
              "#fdca26"
             ],
             [
              1,
              "#f0f921"
             ]
            ],
            "type": "histogram2d"
           }
          ],
          "histogram2dcontour": [
           {
            "colorbar": {
             "outlinewidth": 0,
             "ticks": ""
            },
            "colorscale": [
             [
              0,
              "#0d0887"
             ],
             [
              0.1111111111111111,
              "#46039f"
             ],
             [
              0.2222222222222222,
              "#7201a8"
             ],
             [
              0.3333333333333333,
              "#9c179e"
             ],
             [
              0.4444444444444444,
              "#bd3786"
             ],
             [
              0.5555555555555556,
              "#d8576b"
             ],
             [
              0.6666666666666666,
              "#ed7953"
             ],
             [
              0.7777777777777778,
              "#fb9f3a"
             ],
             [
              0.8888888888888888,
              "#fdca26"
             ],
             [
              1,
              "#f0f921"
             ]
            ],
            "type": "histogram2dcontour"
           }
          ],
          "mesh3d": [
           {
            "colorbar": {
             "outlinewidth": 0,
             "ticks": ""
            },
            "type": "mesh3d"
           }
          ],
          "parcoords": [
           {
            "line": {
             "colorbar": {
              "outlinewidth": 0,
              "ticks": ""
             }
            },
            "type": "parcoords"
           }
          ],
          "pie": [
           {
            "automargin": true,
            "type": "pie"
           }
          ],
          "scatter": [
           {
            "marker": {
             "line": {
              "color": "#283442"
             }
            },
            "type": "scatter"
           }
          ],
          "scatter3d": [
           {
            "line": {
             "colorbar": {
              "outlinewidth": 0,
              "ticks": ""
             }
            },
            "marker": {
             "colorbar": {
              "outlinewidth": 0,
              "ticks": ""
             }
            },
            "type": "scatter3d"
           }
          ],
          "scattercarpet": [
           {
            "marker": {
             "colorbar": {
              "outlinewidth": 0,
              "ticks": ""
             }
            },
            "type": "scattercarpet"
           }
          ],
          "scattergeo": [
           {
            "marker": {
             "colorbar": {
              "outlinewidth": 0,
              "ticks": ""
             }
            },
            "type": "scattergeo"
           }
          ],
          "scattergl": [
           {
            "marker": {
             "line": {
              "color": "#283442"
             }
            },
            "type": "scattergl"
           }
          ],
          "scattermapbox": [
           {
            "marker": {
             "colorbar": {
              "outlinewidth": 0,
              "ticks": ""
             }
            },
            "type": "scattermapbox"
           }
          ],
          "scatterpolar": [
           {
            "marker": {
             "colorbar": {
              "outlinewidth": 0,
              "ticks": ""
             }
            },
            "type": "scatterpolar"
           }
          ],
          "scatterpolargl": [
           {
            "marker": {
             "colorbar": {
              "outlinewidth": 0,
              "ticks": ""
             }
            },
            "type": "scatterpolargl"
           }
          ],
          "scatterternary": [
           {
            "marker": {
             "colorbar": {
              "outlinewidth": 0,
              "ticks": ""
             }
            },
            "type": "scatterternary"
           }
          ],
          "surface": [
           {
            "colorbar": {
             "outlinewidth": 0,
             "ticks": ""
            },
            "colorscale": [
             [
              0,
              "#0d0887"
             ],
             [
              0.1111111111111111,
              "#46039f"
             ],
             [
              0.2222222222222222,
              "#7201a8"
             ],
             [
              0.3333333333333333,
              "#9c179e"
             ],
             [
              0.4444444444444444,
              "#bd3786"
             ],
             [
              0.5555555555555556,
              "#d8576b"
             ],
             [
              0.6666666666666666,
              "#ed7953"
             ],
             [
              0.7777777777777778,
              "#fb9f3a"
             ],
             [
              0.8888888888888888,
              "#fdca26"
             ],
             [
              1,
              "#f0f921"
             ]
            ],
            "type": "surface"
           }
          ],
          "table": [
           {
            "cells": {
             "fill": {
              "color": "#506784"
             },
             "line": {
              "color": "rgb(17,17,17)"
             }
            },
            "header": {
             "fill": {
              "color": "#2a3f5f"
             },
             "line": {
              "color": "rgb(17,17,17)"
             }
            },
            "type": "table"
           }
          ]
         },
         "layout": {
          "annotationdefaults": {
           "arrowcolor": "#f2f5fa",
           "arrowhead": 0,
           "arrowwidth": 1
          },
          "autotypenumbers": "strict",
          "coloraxis": {
           "colorbar": {
            "outlinewidth": 0,
            "ticks": ""
           }
          },
          "colorscale": {
           "diverging": [
            [
             0,
             "#8e0152"
            ],
            [
             0.1,
             "#c51b7d"
            ],
            [
             0.2,
             "#de77ae"
            ],
            [
             0.3,
             "#f1b6da"
            ],
            [
             0.4,
             "#fde0ef"
            ],
            [
             0.5,
             "#f7f7f7"
            ],
            [
             0.6,
             "#e6f5d0"
            ],
            [
             0.7,
             "#b8e186"
            ],
            [
             0.8,
             "#7fbc41"
            ],
            [
             0.9,
             "#4d9221"
            ],
            [
             1,
             "#276419"
            ]
           ],
           "sequential": [
            [
             0,
             "#0d0887"
            ],
            [
             0.1111111111111111,
             "#46039f"
            ],
            [
             0.2222222222222222,
             "#7201a8"
            ],
            [
             0.3333333333333333,
             "#9c179e"
            ],
            [
             0.4444444444444444,
             "#bd3786"
            ],
            [
             0.5555555555555556,
             "#d8576b"
            ],
            [
             0.6666666666666666,
             "#ed7953"
            ],
            [
             0.7777777777777778,
             "#fb9f3a"
            ],
            [
             0.8888888888888888,
             "#fdca26"
            ],
            [
             1,
             "#f0f921"
            ]
           ],
           "sequentialminus": [
            [
             0,
             "#0d0887"
            ],
            [
             0.1111111111111111,
             "#46039f"
            ],
            [
             0.2222222222222222,
             "#7201a8"
            ],
            [
             0.3333333333333333,
             "#9c179e"
            ],
            [
             0.4444444444444444,
             "#bd3786"
            ],
            [
             0.5555555555555556,
             "#d8576b"
            ],
            [
             0.6666666666666666,
             "#ed7953"
            ],
            [
             0.7777777777777778,
             "#fb9f3a"
            ],
            [
             0.8888888888888888,
             "#fdca26"
            ],
            [
             1,
             "#f0f921"
            ]
           ]
          },
          "colorway": [
           "#636efa",
           "#EF553B",
           "#00cc96",
           "#ab63fa",
           "#FFA15A",
           "#19d3f3",
           "#FF6692",
           "#B6E880",
           "#FF97FF",
           "#FECB52"
          ],
          "font": {
           "color": "#f2f5fa"
          },
          "geo": {
           "bgcolor": "rgb(17,17,17)",
           "lakecolor": "rgb(17,17,17)",
           "landcolor": "rgb(17,17,17)",
           "showlakes": true,
           "showland": true,
           "subunitcolor": "#506784"
          },
          "hoverlabel": {
           "align": "left"
          },
          "hovermode": "closest",
          "mapbox": {
           "style": "dark"
          },
          "paper_bgcolor": "rgb(17,17,17)",
          "plot_bgcolor": "rgb(17,17,17)",
          "polar": {
           "angularaxis": {
            "gridcolor": "#506784",
            "linecolor": "#506784",
            "ticks": ""
           },
           "bgcolor": "rgb(17,17,17)",
           "radialaxis": {
            "gridcolor": "#506784",
            "linecolor": "#506784",
            "ticks": ""
           }
          },
          "scene": {
           "xaxis": {
            "backgroundcolor": "rgb(17,17,17)",
            "gridcolor": "#506784",
            "gridwidth": 2,
            "linecolor": "#506784",
            "showbackground": true,
            "ticks": "",
            "zerolinecolor": "#C8D4E3"
           },
           "yaxis": {
            "backgroundcolor": "rgb(17,17,17)",
            "gridcolor": "#506784",
            "gridwidth": 2,
            "linecolor": "#506784",
            "showbackground": true,
            "ticks": "",
            "zerolinecolor": "#C8D4E3"
           },
           "zaxis": {
            "backgroundcolor": "rgb(17,17,17)",
            "gridcolor": "#506784",
            "gridwidth": 2,
            "linecolor": "#506784",
            "showbackground": true,
            "ticks": "",
            "zerolinecolor": "#C8D4E3"
           }
          },
          "shapedefaults": {
           "line": {
            "color": "#f2f5fa"
           }
          },
          "sliderdefaults": {
           "bgcolor": "#C8D4E3",
           "bordercolor": "rgb(17,17,17)",
           "borderwidth": 1,
           "tickwidth": 0
          },
          "ternary": {
           "aaxis": {
            "gridcolor": "#506784",
            "linecolor": "#506784",
            "ticks": ""
           },
           "baxis": {
            "gridcolor": "#506784",
            "linecolor": "#506784",
            "ticks": ""
           },
           "bgcolor": "rgb(17,17,17)",
           "caxis": {
            "gridcolor": "#506784",
            "linecolor": "#506784",
            "ticks": ""
           }
          },
          "title": {
           "x": 0.05
          },
          "updatemenudefaults": {
           "bgcolor": "#506784",
           "borderwidth": 0
          },
          "xaxis": {
           "automargin": true,
           "gridcolor": "#283442",
           "linecolor": "#506784",
           "ticks": "",
           "title": {
            "standoff": 15
           },
           "zerolinecolor": "#283442",
           "zerolinewidth": 2
          },
          "yaxis": {
           "automargin": true,
           "gridcolor": "#283442",
           "linecolor": "#506784",
           "ticks": "",
           "title": {
            "standoff": 15
           },
           "zerolinecolor": "#283442",
           "zerolinewidth": 2
          }
         }
        },
        "title": {
         "text": "Fertility Trends for Women Aged 30 - 39 by Education Segment<br><sup>Children Ever Born to Segment</sup>"
        },
        "xaxis": {
         "anchor": "y",
         "domain": [
          0,
          1
         ],
         "title": {
          "text": "Year"
         }
        },
        "yaxis": {
         "anchor": "x",
         "domain": [
          0,
          1
         ],
         "title": {
          "text": "Children Ever Born per Woman"
         }
        }
       }
      }
     },
     "metadata": {},
     "output_type": "display_data"
    },
    {
     "data": {
      "application/vnd.plotly.v1+json": {
       "config": {
        "plotlyServerURL": "https://plot.ly"
       },
       "data": [
        {
         "customdata": [
          [
           9.669385,
           5.357
          ],
          [
           10.220796,
           5.622
          ],
          [
           9.727602,
           5.281
          ],
          [
           9.94882,
           5.558
          ],
          [
           10.989837,
           5.899
          ]
         ],
         "hovertemplate": "<b>%{hovertext}</b><br><br>Education=Bachelor's<br>Year=%{x}<br>Children Ever Born per Woman=%{y}<br>Women (Millions)=%{customdata[1]:.2f}<br>Children (Millions)=%{customdata[0]:.2f}<extra></extra>",
         "hovertext": [
          "Bachelor's",
          "Bachelor's",
          "Bachelor's",
          "Bachelor's",
          "Bachelor's"
         ],
         "legendgroup": "Bachelor's",
         "legendrank": 1,
         "marker": {
          "color": "rgb(27,158,119)",
          "size": [
           5.357,
           5.622,
           5.281,
           5.558,
           5.899
          ],
          "sizemode": "area",
          "sizeref": 0.0261275,
          "symbol": "arrow"
         },
         "mode": "markers+lines",
         "name": "Bachelor's",
         "orientation": "v",
         "showlegend": true,
         "type": "scatter",
         "x": [
          2012,
          2014,
          2016,
          2018,
          2020
         ],
         "xaxis": "x",
         "y": [
          1.805,
          1.818,
          1.842,
          1.79,
          1.863
         ],
         "yaxis": "y"
        },
        {
         "customdata": [
          [
           4.76445,
           2.762
          ],
          [
           5.047107,
           3.057
          ],
          [
           5.61105,
           3.33
          ],
          [
           6.40281,
           3.585
          ],
          [
           7.141592,
           4.196
          ]
         ],
         "hovertemplate": "<b>%{hovertext}</b><br><br>Education=Graduate<br>Year=%{x}<br>Children Ever Born per Woman=%{y}<br>Women (Millions)=%{customdata[1]:.2f}<br>Children (Millions)=%{customdata[0]:.2f}<extra></extra>",
         "hovertext": [
          "Graduate",
          "Graduate",
          "Graduate",
          "Graduate",
          "Graduate"
         ],
         "legendgroup": "Graduate",
         "legendrank": 2,
         "marker": {
          "color": "rgb(217,95,2)",
          "size": [
           2.762,
           3.057,
           3.33,
           3.585,
           4.196
          ],
          "sizemode": "area",
          "sizeref": 0.0261275,
          "symbol": "arrow"
         },
         "mode": "markers+lines",
         "name": "Graduate",
         "orientation": "v",
         "showlegend": true,
         "type": "scatter",
         "x": [
          2012,
          2014,
          2016,
          2018,
          2020
         ],
         "xaxis": "x",
         "y": [
          1.725,
          1.651,
          1.685,
          1.786,
          1.702
         ],
         "yaxis": "y"
        },
        {
         "customdata": [
          [
           21.226814,
           10.451
          ],
          [
           19.790734,
           9.631
          ],
          [
           18.069362,
           8.846
          ],
          [
           17.493866,
           8.411
          ],
          [
           16.649122,
           7.892
          ]
         ],
         "hovertemplate": "<b>%{hovertext}</b><br><br>Education=High School<br>Year=%{x}<br>Children Ever Born per Woman=%{y}<br>Women (Millions)=%{customdata[1]:.2f}<br>Children (Millions)=%{customdata[0]:.2f}<extra></extra>",
         "hovertext": [
          "High School",
          "High School",
          "High School",
          "High School",
          "High School"
         ],
         "legendgroup": "High School",
         "legendrank": 0,
         "marker": {
          "color": "rgb(117,112,179)",
          "size": [
           10.451,
           9.631,
           8.846,
           8.411,
           7.892
          ],
          "sizemode": "area",
          "sizeref": 0.0261275,
          "symbol": "arrow"
         },
         "mode": "markers+lines",
         "name": "High School",
         "orientation": "v",
         "showlegend": true,
         "type": "scatter",
         "x": [
          2012,
          2014,
          2016,
          2018,
          2020
         ],
         "xaxis": "x",
         "y": [
          2.0310797052913596,
          2.054899179732115,
          2.042659054940086,
          2.0798794435857806,
          2.1096201216421693
         ],
         "yaxis": "y"
        }
       ],
       "layout": {
        "hovermode": "x",
        "legend": {
         "itemsizing": "constant",
         "title": {
          "text": "Education"
         },
         "tracegroupgap": 0
        },
        "paper_bgcolor": "rgba(0,0,0,0)",
        "plot_bgcolor": "rgba(0,0,0,0)",
        "template": {
         "data": {
          "bar": [
           {
            "error_x": {
             "color": "#f2f5fa"
            },
            "error_y": {
             "color": "#f2f5fa"
            },
            "marker": {
             "line": {
              "color": "rgb(17,17,17)",
              "width": 0.5
             },
             "pattern": {
              "fillmode": "overlay",
              "size": 10,
              "solidity": 0.2
             }
            },
            "type": "bar"
           }
          ],
          "barpolar": [
           {
            "marker": {
             "line": {
              "color": "rgb(17,17,17)",
              "width": 0.5
             },
             "pattern": {
              "fillmode": "overlay",
              "size": 10,
              "solidity": 0.2
             }
            },
            "type": "barpolar"
           }
          ],
          "carpet": [
           {
            "aaxis": {
             "endlinecolor": "#A2B1C6",
             "gridcolor": "#506784",
             "linecolor": "#506784",
             "minorgridcolor": "#506784",
             "startlinecolor": "#A2B1C6"
            },
            "baxis": {
             "endlinecolor": "#A2B1C6",
             "gridcolor": "#506784",
             "linecolor": "#506784",
             "minorgridcolor": "#506784",
             "startlinecolor": "#A2B1C6"
            },
            "type": "carpet"
           }
          ],
          "choropleth": [
           {
            "colorbar": {
             "outlinewidth": 0,
             "ticks": ""
            },
            "type": "choropleth"
           }
          ],
          "contour": [
           {
            "colorbar": {
             "outlinewidth": 0,
             "ticks": ""
            },
            "colorscale": [
             [
              0,
              "#0d0887"
             ],
             [
              0.1111111111111111,
              "#46039f"
             ],
             [
              0.2222222222222222,
              "#7201a8"
             ],
             [
              0.3333333333333333,
              "#9c179e"
             ],
             [
              0.4444444444444444,
              "#bd3786"
             ],
             [
              0.5555555555555556,
              "#d8576b"
             ],
             [
              0.6666666666666666,
              "#ed7953"
             ],
             [
              0.7777777777777778,
              "#fb9f3a"
             ],
             [
              0.8888888888888888,
              "#fdca26"
             ],
             [
              1,
              "#f0f921"
             ]
            ],
            "type": "contour"
           }
          ],
          "contourcarpet": [
           {
            "colorbar": {
             "outlinewidth": 0,
             "ticks": ""
            },
            "type": "contourcarpet"
           }
          ],
          "heatmap": [
           {
            "colorbar": {
             "outlinewidth": 0,
             "ticks": ""
            },
            "colorscale": [
             [
              0,
              "#0d0887"
             ],
             [
              0.1111111111111111,
              "#46039f"
             ],
             [
              0.2222222222222222,
              "#7201a8"
             ],
             [
              0.3333333333333333,
              "#9c179e"
             ],
             [
              0.4444444444444444,
              "#bd3786"
             ],
             [
              0.5555555555555556,
              "#d8576b"
             ],
             [
              0.6666666666666666,
              "#ed7953"
             ],
             [
              0.7777777777777778,
              "#fb9f3a"
             ],
             [
              0.8888888888888888,
              "#fdca26"
             ],
             [
              1,
              "#f0f921"
             ]
            ],
            "type": "heatmap"
           }
          ],
          "heatmapgl": [
           {
            "colorbar": {
             "outlinewidth": 0,
             "ticks": ""
            },
            "colorscale": [
             [
              0,
              "#0d0887"
             ],
             [
              0.1111111111111111,
              "#46039f"
             ],
             [
              0.2222222222222222,
              "#7201a8"
             ],
             [
              0.3333333333333333,
              "#9c179e"
             ],
             [
              0.4444444444444444,
              "#bd3786"
             ],
             [
              0.5555555555555556,
              "#d8576b"
             ],
             [
              0.6666666666666666,
              "#ed7953"
             ],
             [
              0.7777777777777778,
              "#fb9f3a"
             ],
             [
              0.8888888888888888,
              "#fdca26"
             ],
             [
              1,
              "#f0f921"
             ]
            ],
            "type": "heatmapgl"
           }
          ],
          "histogram": [
           {
            "marker": {
             "pattern": {
              "fillmode": "overlay",
              "size": 10,
              "solidity": 0.2
             }
            },
            "type": "histogram"
           }
          ],
          "histogram2d": [
           {
            "colorbar": {
             "outlinewidth": 0,
             "ticks": ""
            },
            "colorscale": [
             [
              0,
              "#0d0887"
             ],
             [
              0.1111111111111111,
              "#46039f"
             ],
             [
              0.2222222222222222,
              "#7201a8"
             ],
             [
              0.3333333333333333,
              "#9c179e"
             ],
             [
              0.4444444444444444,
              "#bd3786"
             ],
             [
              0.5555555555555556,
              "#d8576b"
             ],
             [
              0.6666666666666666,
              "#ed7953"
             ],
             [
              0.7777777777777778,
              "#fb9f3a"
             ],
             [
              0.8888888888888888,
              "#fdca26"
             ],
             [
              1,
              "#f0f921"
             ]
            ],
            "type": "histogram2d"
           }
          ],
          "histogram2dcontour": [
           {
            "colorbar": {
             "outlinewidth": 0,
             "ticks": ""
            },
            "colorscale": [
             [
              0,
              "#0d0887"
             ],
             [
              0.1111111111111111,
              "#46039f"
             ],
             [
              0.2222222222222222,
              "#7201a8"
             ],
             [
              0.3333333333333333,
              "#9c179e"
             ],
             [
              0.4444444444444444,
              "#bd3786"
             ],
             [
              0.5555555555555556,
              "#d8576b"
             ],
             [
              0.6666666666666666,
              "#ed7953"
             ],
             [
              0.7777777777777778,
              "#fb9f3a"
             ],
             [
              0.8888888888888888,
              "#fdca26"
             ],
             [
              1,
              "#f0f921"
             ]
            ],
            "type": "histogram2dcontour"
           }
          ],
          "mesh3d": [
           {
            "colorbar": {
             "outlinewidth": 0,
             "ticks": ""
            },
            "type": "mesh3d"
           }
          ],
          "parcoords": [
           {
            "line": {
             "colorbar": {
              "outlinewidth": 0,
              "ticks": ""
             }
            },
            "type": "parcoords"
           }
          ],
          "pie": [
           {
            "automargin": true,
            "type": "pie"
           }
          ],
          "scatter": [
           {
            "marker": {
             "line": {
              "color": "#283442"
             }
            },
            "type": "scatter"
           }
          ],
          "scatter3d": [
           {
            "line": {
             "colorbar": {
              "outlinewidth": 0,
              "ticks": ""
             }
            },
            "marker": {
             "colorbar": {
              "outlinewidth": 0,
              "ticks": ""
             }
            },
            "type": "scatter3d"
           }
          ],
          "scattercarpet": [
           {
            "marker": {
             "colorbar": {
              "outlinewidth": 0,
              "ticks": ""
             }
            },
            "type": "scattercarpet"
           }
          ],
          "scattergeo": [
           {
            "marker": {
             "colorbar": {
              "outlinewidth": 0,
              "ticks": ""
             }
            },
            "type": "scattergeo"
           }
          ],
          "scattergl": [
           {
            "marker": {
             "line": {
              "color": "#283442"
             }
            },
            "type": "scattergl"
           }
          ],
          "scattermapbox": [
           {
            "marker": {
             "colorbar": {
              "outlinewidth": 0,
              "ticks": ""
             }
            },
            "type": "scattermapbox"
           }
          ],
          "scatterpolar": [
           {
            "marker": {
             "colorbar": {
              "outlinewidth": 0,
              "ticks": ""
             }
            },
            "type": "scatterpolar"
           }
          ],
          "scatterpolargl": [
           {
            "marker": {
             "colorbar": {
              "outlinewidth": 0,
              "ticks": ""
             }
            },
            "type": "scatterpolargl"
           }
          ],
          "scatterternary": [
           {
            "marker": {
             "colorbar": {
              "outlinewidth": 0,
              "ticks": ""
             }
            },
            "type": "scatterternary"
           }
          ],
          "surface": [
           {
            "colorbar": {
             "outlinewidth": 0,
             "ticks": ""
            },
            "colorscale": [
             [
              0,
              "#0d0887"
             ],
             [
              0.1111111111111111,
              "#46039f"
             ],
             [
              0.2222222222222222,
              "#7201a8"
             ],
             [
              0.3333333333333333,
              "#9c179e"
             ],
             [
              0.4444444444444444,
              "#bd3786"
             ],
             [
              0.5555555555555556,
              "#d8576b"
             ],
             [
              0.6666666666666666,
              "#ed7953"
             ],
             [
              0.7777777777777778,
              "#fb9f3a"
             ],
             [
              0.8888888888888888,
              "#fdca26"
             ],
             [
              1,
              "#f0f921"
             ]
            ],
            "type": "surface"
           }
          ],
          "table": [
           {
            "cells": {
             "fill": {
              "color": "#506784"
             },
             "line": {
              "color": "rgb(17,17,17)"
             }
            },
            "header": {
             "fill": {
              "color": "#2a3f5f"
             },
             "line": {
              "color": "rgb(17,17,17)"
             }
            },
            "type": "table"
           }
          ]
         },
         "layout": {
          "annotationdefaults": {
           "arrowcolor": "#f2f5fa",
           "arrowhead": 0,
           "arrowwidth": 1
          },
          "autotypenumbers": "strict",
          "coloraxis": {
           "colorbar": {
            "outlinewidth": 0,
            "ticks": ""
           }
          },
          "colorscale": {
           "diverging": [
            [
             0,
             "#8e0152"
            ],
            [
             0.1,
             "#c51b7d"
            ],
            [
             0.2,
             "#de77ae"
            ],
            [
             0.3,
             "#f1b6da"
            ],
            [
             0.4,
             "#fde0ef"
            ],
            [
             0.5,
             "#f7f7f7"
            ],
            [
             0.6,
             "#e6f5d0"
            ],
            [
             0.7,
             "#b8e186"
            ],
            [
             0.8,
             "#7fbc41"
            ],
            [
             0.9,
             "#4d9221"
            ],
            [
             1,
             "#276419"
            ]
           ],
           "sequential": [
            [
             0,
             "#0d0887"
            ],
            [
             0.1111111111111111,
             "#46039f"
            ],
            [
             0.2222222222222222,
             "#7201a8"
            ],
            [
             0.3333333333333333,
             "#9c179e"
            ],
            [
             0.4444444444444444,
             "#bd3786"
            ],
            [
             0.5555555555555556,
             "#d8576b"
            ],
            [
             0.6666666666666666,
             "#ed7953"
            ],
            [
             0.7777777777777778,
             "#fb9f3a"
            ],
            [
             0.8888888888888888,
             "#fdca26"
            ],
            [
             1,
             "#f0f921"
            ]
           ],
           "sequentialminus": [
            [
             0,
             "#0d0887"
            ],
            [
             0.1111111111111111,
             "#46039f"
            ],
            [
             0.2222222222222222,
             "#7201a8"
            ],
            [
             0.3333333333333333,
             "#9c179e"
            ],
            [
             0.4444444444444444,
             "#bd3786"
            ],
            [
             0.5555555555555556,
             "#d8576b"
            ],
            [
             0.6666666666666666,
             "#ed7953"
            ],
            [
             0.7777777777777778,
             "#fb9f3a"
            ],
            [
             0.8888888888888888,
             "#fdca26"
            ],
            [
             1,
             "#f0f921"
            ]
           ]
          },
          "colorway": [
           "#636efa",
           "#EF553B",
           "#00cc96",
           "#ab63fa",
           "#FFA15A",
           "#19d3f3",
           "#FF6692",
           "#B6E880",
           "#FF97FF",
           "#FECB52"
          ],
          "font": {
           "color": "#f2f5fa"
          },
          "geo": {
           "bgcolor": "rgb(17,17,17)",
           "lakecolor": "rgb(17,17,17)",
           "landcolor": "rgb(17,17,17)",
           "showlakes": true,
           "showland": true,
           "subunitcolor": "#506784"
          },
          "hoverlabel": {
           "align": "left"
          },
          "hovermode": "closest",
          "mapbox": {
           "style": "dark"
          },
          "paper_bgcolor": "rgb(17,17,17)",
          "plot_bgcolor": "rgb(17,17,17)",
          "polar": {
           "angularaxis": {
            "gridcolor": "#506784",
            "linecolor": "#506784",
            "ticks": ""
           },
           "bgcolor": "rgb(17,17,17)",
           "radialaxis": {
            "gridcolor": "#506784",
            "linecolor": "#506784",
            "ticks": ""
           }
          },
          "scene": {
           "xaxis": {
            "backgroundcolor": "rgb(17,17,17)",
            "gridcolor": "#506784",
            "gridwidth": 2,
            "linecolor": "#506784",
            "showbackground": true,
            "ticks": "",
            "zerolinecolor": "#C8D4E3"
           },
           "yaxis": {
            "backgroundcolor": "rgb(17,17,17)",
            "gridcolor": "#506784",
            "gridwidth": 2,
            "linecolor": "#506784",
            "showbackground": true,
            "ticks": "",
            "zerolinecolor": "#C8D4E3"
           },
           "zaxis": {
            "backgroundcolor": "rgb(17,17,17)",
            "gridcolor": "#506784",
            "gridwidth": 2,
            "linecolor": "#506784",
            "showbackground": true,
            "ticks": "",
            "zerolinecolor": "#C8D4E3"
           }
          },
          "shapedefaults": {
           "line": {
            "color": "#f2f5fa"
           }
          },
          "sliderdefaults": {
           "bgcolor": "#C8D4E3",
           "bordercolor": "rgb(17,17,17)",
           "borderwidth": 1,
           "tickwidth": 0
          },
          "ternary": {
           "aaxis": {
            "gridcolor": "#506784",
            "linecolor": "#506784",
            "ticks": ""
           },
           "baxis": {
            "gridcolor": "#506784",
            "linecolor": "#506784",
            "ticks": ""
           },
           "bgcolor": "rgb(17,17,17)",
           "caxis": {
            "gridcolor": "#506784",
            "linecolor": "#506784",
            "ticks": ""
           }
          },
          "title": {
           "x": 0.05
          },
          "updatemenudefaults": {
           "bgcolor": "#506784",
           "borderwidth": 0
          },
          "xaxis": {
           "automargin": true,
           "gridcolor": "#283442",
           "linecolor": "#506784",
           "ticks": "",
           "title": {
            "standoff": 15
           },
           "zerolinecolor": "#283442",
           "zerolinewidth": 2
          },
          "yaxis": {
           "automargin": true,
           "gridcolor": "#283442",
           "linecolor": "#506784",
           "ticks": "",
           "title": {
            "standoff": 15
           },
           "zerolinecolor": "#283442",
           "zerolinewidth": 2
          }
         }
        },
        "title": {
         "text": "Fertility Trends for Women Aged 40 - 50 by Education Segment<br><sup>Children Ever Born to Segment</sup>"
        },
        "xaxis": {
         "anchor": "y",
         "domain": [
          0,
          1
         ],
         "title": {
          "text": "Year"
         }
        },
        "yaxis": {
         "anchor": "x",
         "domain": [
          0,
          1
         ],
         "title": {
          "text": "Children Ever Born per Woman"
         }
        }
       }
      }
     },
     "metadata": {},
     "output_type": "display_data"
    },
    {
     "data": {
      "application/vnd.plotly.v1+json": {
       "config": {
        "plotlyServerURL": "https://plot.ly"
       },
       "data": [
        {
         "customdata": [
          [
           17.540611,
           14.413
          ],
          [
           18.477356,
           15.342
          ],
          [
           18.21566,
           15.587
          ],
          [
           19.152206,
           16.383
          ],
          [
           20.680245,
           18.501
          ]
         ],
         "hovertemplate": "<b>%{hovertext}</b><br><br>Education=Bachelor's<br>Year=%{x}<br>Children Ever Born per Woman=%{y}<br>Women (Millions)=%{customdata[1]:.2f}<br>Children (Millions)=%{customdata[0]:.2f}<extra></extra>",
         "hovertext": [
          "Bachelor's",
          "Bachelor's",
          "Bachelor's",
          "Bachelor's",
          "Bachelor's"
         ],
         "legendgroup": "Bachelor's",
         "legendrank": 1,
         "marker": {
          "color": "rgb(27,158,119)",
          "size": [
           14.413,
           15.342,
           15.587,
           16.383,
           18.501
          ],
          "sizemode": "area",
          "sizeref": 0.076105,
          "symbol": "arrow"
         },
         "mode": "markers+lines",
         "name": "Bachelor's",
         "orientation": "v",
         "showlegend": true,
         "type": "scatter",
         "x": [
          2012,
          2014,
          2016,
          2018,
          2020
         ],
         "xaxis": "x",
         "y": [
          1.216999306181919,
          1.2043642289140921,
          1.168644383139796,
          1.1690292376243667,
          1.1177906599643264
         ],
         "yaxis": "y"
        },
        {
         "customdata": [
          [
           8.599977,
           6.68
          ],
          [
           8.838867,
           7.191
          ],
          [
           10.291948,
           8.294
          ],
          [
           11.035264,
           8.632
          ],
          [
           12.611391,
           9.994
          ]
         ],
         "hovertemplate": "<b>%{hovertext}</b><br><br>Education=Graduate<br>Year=%{x}<br>Children Ever Born per Woman=%{y}<br>Women (Millions)=%{customdata[1]:.2f}<br>Children (Millions)=%{customdata[0]:.2f}<extra></extra>",
         "hovertext": [
          "Graduate",
          "Graduate",
          "Graduate",
          "Graduate",
          "Graduate"
         ],
         "legendgroup": "Graduate",
         "legendrank": 2,
         "marker": {
          "color": "rgb(217,95,2)",
          "size": [
           6.68,
           7.191,
           8.294,
           8.632,
           9.994
          ],
          "sizemode": "area",
          "sizeref": 0.076105,
          "symbol": "arrow"
         },
         "mode": "markers+lines",
         "name": "Graduate",
         "orientation": "v",
         "showlegend": true,
         "type": "scatter",
         "x": [
          2012,
          2014,
          2016,
          2018,
          2020
         ],
         "xaxis": "x",
         "y": [
          1.2874217065868263,
          1.229156862745098,
          1.2408907644080058,
          1.278413345690454,
          1.2618962377426455
         ],
         "yaxis": "y"
        },
        {
         "customdata": [
          [
           45.676546,
           30.442
          ],
          [
           43.264281,
           29.599
          ],
          [
           42.300685,
           28.983
          ],
          [
           39.777062,
           28.155
          ],
          [
           35.666155,
           26.232
          ]
         ],
         "hovertemplate": "<b>%{hovertext}</b><br><br>Education=High School<br>Year=%{x}<br>Children Ever Born per Woman=%{y}<br>Women (Millions)=%{customdata[1]:.2f}<br>Children (Millions)=%{customdata[0]:.2f}<extra></extra>",
         "hovertext": [
          "High School",
          "High School",
          "High School",
          "High School",
          "High School"
         ],
         "legendgroup": "High School",
         "legendrank": 0,
         "marker": {
          "color": "rgb(117,112,179)",
          "size": [
           30.442,
           29.599,
           28.983,
           28.155,
           26.232
          ],
          "sizemode": "area",
          "sizeref": 0.076105,
          "symbol": "arrow"
         },
         "mode": "markers+lines",
         "name": "High School",
         "orientation": "v",
         "showlegend": true,
         "type": "scatter",
         "x": [
          2012,
          2014,
          2016,
          2018,
          2020
         ],
         "xaxis": "x",
         "y": [
          1.5004449773339466,
          1.4616804959627014,
          1.4594998792395542,
          1.4127885633102468,
          1.3596429932906373
         ],
         "yaxis": "y"
        }
       ],
       "layout": {
        "hovermode": "x",
        "legend": {
         "itemsizing": "constant",
         "title": {
          "text": "Education"
         },
         "tracegroupgap": 0
        },
        "paper_bgcolor": "rgba(0,0,0,0)",
        "plot_bgcolor": "rgba(0,0,0,0)",
        "template": {
         "data": {
          "bar": [
           {
            "error_x": {
             "color": "#f2f5fa"
            },
            "error_y": {
             "color": "#f2f5fa"
            },
            "marker": {
             "line": {
              "color": "rgb(17,17,17)",
              "width": 0.5
             },
             "pattern": {
              "fillmode": "overlay",
              "size": 10,
              "solidity": 0.2
             }
            },
            "type": "bar"
           }
          ],
          "barpolar": [
           {
            "marker": {
             "line": {
              "color": "rgb(17,17,17)",
              "width": 0.5
             },
             "pattern": {
              "fillmode": "overlay",
              "size": 10,
              "solidity": 0.2
             }
            },
            "type": "barpolar"
           }
          ],
          "carpet": [
           {
            "aaxis": {
             "endlinecolor": "#A2B1C6",
             "gridcolor": "#506784",
             "linecolor": "#506784",
             "minorgridcolor": "#506784",
             "startlinecolor": "#A2B1C6"
            },
            "baxis": {
             "endlinecolor": "#A2B1C6",
             "gridcolor": "#506784",
             "linecolor": "#506784",
             "minorgridcolor": "#506784",
             "startlinecolor": "#A2B1C6"
            },
            "type": "carpet"
           }
          ],
          "choropleth": [
           {
            "colorbar": {
             "outlinewidth": 0,
             "ticks": ""
            },
            "type": "choropleth"
           }
          ],
          "contour": [
           {
            "colorbar": {
             "outlinewidth": 0,
             "ticks": ""
            },
            "colorscale": [
             [
              0,
              "#0d0887"
             ],
             [
              0.1111111111111111,
              "#46039f"
             ],
             [
              0.2222222222222222,
              "#7201a8"
             ],
             [
              0.3333333333333333,
              "#9c179e"
             ],
             [
              0.4444444444444444,
              "#bd3786"
             ],
             [
              0.5555555555555556,
              "#d8576b"
             ],
             [
              0.6666666666666666,
              "#ed7953"
             ],
             [
              0.7777777777777778,
              "#fb9f3a"
             ],
             [
              0.8888888888888888,
              "#fdca26"
             ],
             [
              1,
              "#f0f921"
             ]
            ],
            "type": "contour"
           }
          ],
          "contourcarpet": [
           {
            "colorbar": {
             "outlinewidth": 0,
             "ticks": ""
            },
            "type": "contourcarpet"
           }
          ],
          "heatmap": [
           {
            "colorbar": {
             "outlinewidth": 0,
             "ticks": ""
            },
            "colorscale": [
             [
              0,
              "#0d0887"
             ],
             [
              0.1111111111111111,
              "#46039f"
             ],
             [
              0.2222222222222222,
              "#7201a8"
             ],
             [
              0.3333333333333333,
              "#9c179e"
             ],
             [
              0.4444444444444444,
              "#bd3786"
             ],
             [
              0.5555555555555556,
              "#d8576b"
             ],
             [
              0.6666666666666666,
              "#ed7953"
             ],
             [
              0.7777777777777778,
              "#fb9f3a"
             ],
             [
              0.8888888888888888,
              "#fdca26"
             ],
             [
              1,
              "#f0f921"
             ]
            ],
            "type": "heatmap"
           }
          ],
          "heatmapgl": [
           {
            "colorbar": {
             "outlinewidth": 0,
             "ticks": ""
            },
            "colorscale": [
             [
              0,
              "#0d0887"
             ],
             [
              0.1111111111111111,
              "#46039f"
             ],
             [
              0.2222222222222222,
              "#7201a8"
             ],
             [
              0.3333333333333333,
              "#9c179e"
             ],
             [
              0.4444444444444444,
              "#bd3786"
             ],
             [
              0.5555555555555556,
              "#d8576b"
             ],
             [
              0.6666666666666666,
              "#ed7953"
             ],
             [
              0.7777777777777778,
              "#fb9f3a"
             ],
             [
              0.8888888888888888,
              "#fdca26"
             ],
             [
              1,
              "#f0f921"
             ]
            ],
            "type": "heatmapgl"
           }
          ],
          "histogram": [
           {
            "marker": {
             "pattern": {
              "fillmode": "overlay",
              "size": 10,
              "solidity": 0.2
             }
            },
            "type": "histogram"
           }
          ],
          "histogram2d": [
           {
            "colorbar": {
             "outlinewidth": 0,
             "ticks": ""
            },
            "colorscale": [
             [
              0,
              "#0d0887"
             ],
             [
              0.1111111111111111,
              "#46039f"
             ],
             [
              0.2222222222222222,
              "#7201a8"
             ],
             [
              0.3333333333333333,
              "#9c179e"
             ],
             [
              0.4444444444444444,
              "#bd3786"
             ],
             [
              0.5555555555555556,
              "#d8576b"
             ],
             [
              0.6666666666666666,
              "#ed7953"
             ],
             [
              0.7777777777777778,
              "#fb9f3a"
             ],
             [
              0.8888888888888888,
              "#fdca26"
             ],
             [
              1,
              "#f0f921"
             ]
            ],
            "type": "histogram2d"
           }
          ],
          "histogram2dcontour": [
           {
            "colorbar": {
             "outlinewidth": 0,
             "ticks": ""
            },
            "colorscale": [
             [
              0,
              "#0d0887"
             ],
             [
              0.1111111111111111,
              "#46039f"
             ],
             [
              0.2222222222222222,
              "#7201a8"
             ],
             [
              0.3333333333333333,
              "#9c179e"
             ],
             [
              0.4444444444444444,
              "#bd3786"
             ],
             [
              0.5555555555555556,
              "#d8576b"
             ],
             [
              0.6666666666666666,
              "#ed7953"
             ],
             [
              0.7777777777777778,
              "#fb9f3a"
             ],
             [
              0.8888888888888888,
              "#fdca26"
             ],
             [
              1,
              "#f0f921"
             ]
            ],
            "type": "histogram2dcontour"
           }
          ],
          "mesh3d": [
           {
            "colorbar": {
             "outlinewidth": 0,
             "ticks": ""
            },
            "type": "mesh3d"
           }
          ],
          "parcoords": [
           {
            "line": {
             "colorbar": {
              "outlinewidth": 0,
              "ticks": ""
             }
            },
            "type": "parcoords"
           }
          ],
          "pie": [
           {
            "automargin": true,
            "type": "pie"
           }
          ],
          "scatter": [
           {
            "marker": {
             "line": {
              "color": "#283442"
             }
            },
            "type": "scatter"
           }
          ],
          "scatter3d": [
           {
            "line": {
             "colorbar": {
              "outlinewidth": 0,
              "ticks": ""
             }
            },
            "marker": {
             "colorbar": {
              "outlinewidth": 0,
              "ticks": ""
             }
            },
            "type": "scatter3d"
           }
          ],
          "scattercarpet": [
           {
            "marker": {
             "colorbar": {
              "outlinewidth": 0,
              "ticks": ""
             }
            },
            "type": "scattercarpet"
           }
          ],
          "scattergeo": [
           {
            "marker": {
             "colorbar": {
              "outlinewidth": 0,
              "ticks": ""
             }
            },
            "type": "scattergeo"
           }
          ],
          "scattergl": [
           {
            "marker": {
             "line": {
              "color": "#283442"
             }
            },
            "type": "scattergl"
           }
          ],
          "scattermapbox": [
           {
            "marker": {
             "colorbar": {
              "outlinewidth": 0,
              "ticks": ""
             }
            },
            "type": "scattermapbox"
           }
          ],
          "scatterpolar": [
           {
            "marker": {
             "colorbar": {
              "outlinewidth": 0,
              "ticks": ""
             }
            },
            "type": "scatterpolar"
           }
          ],
          "scatterpolargl": [
           {
            "marker": {
             "colorbar": {
              "outlinewidth": 0,
              "ticks": ""
             }
            },
            "type": "scatterpolargl"
           }
          ],
          "scatterternary": [
           {
            "marker": {
             "colorbar": {
              "outlinewidth": 0,
              "ticks": ""
             }
            },
            "type": "scatterternary"
           }
          ],
          "surface": [
           {
            "colorbar": {
             "outlinewidth": 0,
             "ticks": ""
            },
            "colorscale": [
             [
              0,
              "#0d0887"
             ],
             [
              0.1111111111111111,
              "#46039f"
             ],
             [
              0.2222222222222222,
              "#7201a8"
             ],
             [
              0.3333333333333333,
              "#9c179e"
             ],
             [
              0.4444444444444444,
              "#bd3786"
             ],
             [
              0.5555555555555556,
              "#d8576b"
             ],
             [
              0.6666666666666666,
              "#ed7953"
             ],
             [
              0.7777777777777778,
              "#fb9f3a"
             ],
             [
              0.8888888888888888,
              "#fdca26"
             ],
             [
              1,
              "#f0f921"
             ]
            ],
            "type": "surface"
           }
          ],
          "table": [
           {
            "cells": {
             "fill": {
              "color": "#506784"
             },
             "line": {
              "color": "rgb(17,17,17)"
             }
            },
            "header": {
             "fill": {
              "color": "#2a3f5f"
             },
             "line": {
              "color": "rgb(17,17,17)"
             }
            },
            "type": "table"
           }
          ]
         },
         "layout": {
          "annotationdefaults": {
           "arrowcolor": "#f2f5fa",
           "arrowhead": 0,
           "arrowwidth": 1
          },
          "autotypenumbers": "strict",
          "coloraxis": {
           "colorbar": {
            "outlinewidth": 0,
            "ticks": ""
           }
          },
          "colorscale": {
           "diverging": [
            [
             0,
             "#8e0152"
            ],
            [
             0.1,
             "#c51b7d"
            ],
            [
             0.2,
             "#de77ae"
            ],
            [
             0.3,
             "#f1b6da"
            ],
            [
             0.4,
             "#fde0ef"
            ],
            [
             0.5,
             "#f7f7f7"
            ],
            [
             0.6,
             "#e6f5d0"
            ],
            [
             0.7,
             "#b8e186"
            ],
            [
             0.8,
             "#7fbc41"
            ],
            [
             0.9,
             "#4d9221"
            ],
            [
             1,
             "#276419"
            ]
           ],
           "sequential": [
            [
             0,
             "#0d0887"
            ],
            [
             0.1111111111111111,
             "#46039f"
            ],
            [
             0.2222222222222222,
             "#7201a8"
            ],
            [
             0.3333333333333333,
             "#9c179e"
            ],
            [
             0.4444444444444444,
             "#bd3786"
            ],
            [
             0.5555555555555556,
             "#d8576b"
            ],
            [
             0.6666666666666666,
             "#ed7953"
            ],
            [
             0.7777777777777778,
             "#fb9f3a"
            ],
            [
             0.8888888888888888,
             "#fdca26"
            ],
            [
             1,
             "#f0f921"
            ]
           ],
           "sequentialminus": [
            [
             0,
             "#0d0887"
            ],
            [
             0.1111111111111111,
             "#46039f"
            ],
            [
             0.2222222222222222,
             "#7201a8"
            ],
            [
             0.3333333333333333,
             "#9c179e"
            ],
            [
             0.4444444444444444,
             "#bd3786"
            ],
            [
             0.5555555555555556,
             "#d8576b"
            ],
            [
             0.6666666666666666,
             "#ed7953"
            ],
            [
             0.7777777777777778,
             "#fb9f3a"
            ],
            [
             0.8888888888888888,
             "#fdca26"
            ],
            [
             1,
             "#f0f921"
            ]
           ]
          },
          "colorway": [
           "#636efa",
           "#EF553B",
           "#00cc96",
           "#ab63fa",
           "#FFA15A",
           "#19d3f3",
           "#FF6692",
           "#B6E880",
           "#FF97FF",
           "#FECB52"
          ],
          "font": {
           "color": "#f2f5fa"
          },
          "geo": {
           "bgcolor": "rgb(17,17,17)",
           "lakecolor": "rgb(17,17,17)",
           "landcolor": "rgb(17,17,17)",
           "showlakes": true,
           "showland": true,
           "subunitcolor": "#506784"
          },
          "hoverlabel": {
           "align": "left"
          },
          "hovermode": "closest",
          "mapbox": {
           "style": "dark"
          },
          "paper_bgcolor": "rgb(17,17,17)",
          "plot_bgcolor": "rgb(17,17,17)",
          "polar": {
           "angularaxis": {
            "gridcolor": "#506784",
            "linecolor": "#506784",
            "ticks": ""
           },
           "bgcolor": "rgb(17,17,17)",
           "radialaxis": {
            "gridcolor": "#506784",
            "linecolor": "#506784",
            "ticks": ""
           }
          },
          "scene": {
           "xaxis": {
            "backgroundcolor": "rgb(17,17,17)",
            "gridcolor": "#506784",
            "gridwidth": 2,
            "linecolor": "#506784",
            "showbackground": true,
            "ticks": "",
            "zerolinecolor": "#C8D4E3"
           },
           "yaxis": {
            "backgroundcolor": "rgb(17,17,17)",
            "gridcolor": "#506784",
            "gridwidth": 2,
            "linecolor": "#506784",
            "showbackground": true,
            "ticks": "",
            "zerolinecolor": "#C8D4E3"
           },
           "zaxis": {
            "backgroundcolor": "rgb(17,17,17)",
            "gridcolor": "#506784",
            "gridwidth": 2,
            "linecolor": "#506784",
            "showbackground": true,
            "ticks": "",
            "zerolinecolor": "#C8D4E3"
           }
          },
          "shapedefaults": {
           "line": {
            "color": "#f2f5fa"
           }
          },
          "sliderdefaults": {
           "bgcolor": "#C8D4E3",
           "bordercolor": "rgb(17,17,17)",
           "borderwidth": 1,
           "tickwidth": 0
          },
          "ternary": {
           "aaxis": {
            "gridcolor": "#506784",
            "linecolor": "#506784",
            "ticks": ""
           },
           "baxis": {
            "gridcolor": "#506784",
            "linecolor": "#506784",
            "ticks": ""
           },
           "bgcolor": "rgb(17,17,17)",
           "caxis": {
            "gridcolor": "#506784",
            "linecolor": "#506784",
            "ticks": ""
           }
          },
          "title": {
           "x": 0.05
          },
          "updatemenudefaults": {
           "bgcolor": "#506784",
           "borderwidth": 0
          },
          "xaxis": {
           "automargin": true,
           "gridcolor": "#283442",
           "linecolor": "#506784",
           "ticks": "",
           "title": {
            "standoff": 15
           },
           "zerolinecolor": "#283442",
           "zerolinewidth": 2
          },
          "yaxis": {
           "automargin": true,
           "gridcolor": "#283442",
           "linecolor": "#506784",
           "ticks": "",
           "title": {
            "standoff": 15
           },
           "zerolinecolor": "#283442",
           "zerolinewidth": 2
          }
         }
        },
        "title": {
         "text": "Fertility Trends for Women Aged 20 - 50 by Education Segment<br><sup>Children Ever Born to Segment</sup>"
        },
        "xaxis": {
         "anchor": "y",
         "domain": [
          0,
          1
         ],
         "title": {
          "text": "Year"
         }
        },
        "yaxis": {
         "anchor": "x",
         "domain": [
          0,
          1
         ],
         "title": {
          "text": "Children Ever Born per Woman"
         }
        }
       }
      }
     },
     "metadata": {},
     "output_type": "display_data"
    },
    {
     "data": {
      "text/html": [
       "<div>\n",
       "<style scoped>\n",
       "    .dataframe tbody tr th:only-of-type {\n",
       "        vertical-align: middle;\n",
       "    }\n",
       "\n",
       "    .dataframe tbody tr th {\n",
       "        vertical-align: top;\n",
       "    }\n",
       "\n",
       "    .dataframe thead th {\n",
       "        text-align: right;\n",
       "    }\n",
       "</style>\n",
       "<table border=\"1\" class=\"dataframe\">\n",
       "  <thead>\n",
       "    <tr style=\"text-align: right;\">\n",
       "      <th></th>\n",
       "      <th>Year</th>\n",
       "      <th>Education</th>\n",
       "      <th>Birth Rate</th>\n",
       "      <th>Children Ever Born per Woman</th>\n",
       "      <th>Total Women</th>\n",
       "      <th>Total Children</th>\n",
       "      <th>Total Births</th>\n",
       "      <th>Age Group</th>\n",
       "      <th>Marital Status</th>\n",
       "      <th>Childlessness</th>\n",
       "    </tr>\n",
       "  </thead>\n",
       "  <tbody>\n",
       "    <tr>\n",
       "      <th>0</th>\n",
       "      <td>2012</td>\n",
       "      <td>Associate's degree</td>\n",
       "      <td>2.330833</td>\n",
       "      <td>4.401</td>\n",
       "      <td>7214000.0</td>\n",
       "      <td>11066905.0</td>\n",
       "      <td>5484824.0</td>\n",
       "      <td>20 - 50</td>\n",
       "      <td>NaN</td>\n",
       "      <td>NaN</td>\n",
       "    </tr>\n",
       "    <tr>\n",
       "      <th>1</th>\n",
       "      <td>2012</td>\n",
       "      <td>Bachelor's degree</td>\n",
       "      <td>2.005512</td>\n",
       "      <td>3.511</td>\n",
       "      <td>14413000.0</td>\n",
       "      <td>17540611.0</td>\n",
       "      <td>9669385.0</td>\n",
       "      <td>20 - 50</td>\n",
       "      <td>NaN</td>\n",
       "      <td>NaN</td>\n",
       "    </tr>\n",
       "    <tr>\n",
       "      <th>2</th>\n",
       "      <td>2012</td>\n",
       "      <td>Graduate or professional degree</td>\n",
       "      <td>1.871993</td>\n",
       "      <td>3.256</td>\n",
       "      <td>6680000.0</td>\n",
       "      <td>8599977.0</td>\n",
       "      <td>4764450.0</td>\n",
       "      <td>20 - 50</td>\n",
       "      <td>NaN</td>\n",
       "      <td>NaN</td>\n",
       "    </tr>\n",
       "    <tr>\n",
       "      <th>3</th>\n",
       "      <td>2012</td>\n",
       "      <td>High school graduate</td>\n",
       "      <td>2.519022</td>\n",
       "      <td>5.071</td>\n",
       "      <td>16260000.0</td>\n",
       "      <td>27642657.0</td>\n",
       "      <td>13369004.0</td>\n",
       "      <td>20 - 50</td>\n",
       "      <td>NaN</td>\n",
       "      <td>NaN</td>\n",
       "    </tr>\n",
       "    <tr>\n",
       "      <th>4</th>\n",
       "      <td>2012</td>\n",
       "      <td>Not a high school graduate</td>\n",
       "      <td>2.900503</td>\n",
       "      <td>6.718</td>\n",
       "      <td>6294000.0</td>\n",
       "      <td>14197288.0</td>\n",
       "      <td>5915597.0</td>\n",
       "      <td>20 - 50</td>\n",
       "      <td>NaN</td>\n",
       "      <td>NaN</td>\n",
       "    </tr>\n",
       "    <tr>\n",
       "      <th>...</th>\n",
       "      <td>...</td>\n",
       "      <td>...</td>\n",
       "      <td>...</td>\n",
       "      <td>...</td>\n",
       "      <td>...</td>\n",
       "      <td>...</td>\n",
       "      <td>...</td>\n",
       "      <td>...</td>\n",
       "      <td>...</td>\n",
       "      <td>...</td>\n",
       "    </tr>\n",
       "    <tr>\n",
       "      <th>175</th>\n",
       "      <td>2020</td>\n",
       "      <td>Bachelor's degree</td>\n",
       "      <td>0.482532</td>\n",
       "      <td>1.863</td>\n",
       "      <td>5899000.0</td>\n",
       "      <td>10989837.0</td>\n",
       "      <td>2846457.0</td>\n",
       "      <td>40 - 50</td>\n",
       "      <td>All Marital Statuses</td>\n",
       "      <td>0.190</td>\n",
       "    </tr>\n",
       "    <tr>\n",
       "      <th>176</th>\n",
       "      <td>2020</td>\n",
       "      <td>Graduate or professional degree</td>\n",
       "      <td>0.492379</td>\n",
       "      <td>1.702</td>\n",
       "      <td>4196000.0</td>\n",
       "      <td>7141592.0</td>\n",
       "      <td>2066021.0</td>\n",
       "      <td>40 - 50</td>\n",
       "      <td>All Marital Statuses</td>\n",
       "      <td>0.192</td>\n",
       "    </tr>\n",
       "    <tr>\n",
       "      <th>177</th>\n",
       "      <td>2020</td>\n",
       "      <td>High school graduate</td>\n",
       "      <td>0.546985</td>\n",
       "      <td>2.092</td>\n",
       "      <td>4869000.0</td>\n",
       "      <td>10185948.0</td>\n",
       "      <td>2663268.0</td>\n",
       "      <td>40 - 50</td>\n",
       "      <td>All Marital Statuses</td>\n",
       "      <td>0.134</td>\n",
       "    </tr>\n",
       "    <tr>\n",
       "      <th>178</th>\n",
       "      <td>2020</td>\n",
       "      <td>Not a high school graduate</td>\n",
       "      <td>0.652835</td>\n",
       "      <td>2.676</td>\n",
       "      <td>1810000.0</td>\n",
       "      <td>4843560.0</td>\n",
       "      <td>1181631.0</td>\n",
       "      <td>40 - 50</td>\n",
       "      <td>All Marital Statuses</td>\n",
       "      <td>0.077</td>\n",
       "    </tr>\n",
       "    <tr>\n",
       "      <th>179</th>\n",
       "      <td>2020</td>\n",
       "      <td>Some college, no degree</td>\n",
       "      <td>0.325866</td>\n",
       "      <td>2.138</td>\n",
       "      <td>3023000.0</td>\n",
       "      <td>6463174.0</td>\n",
       "      <td>985094.0</td>\n",
       "      <td>40 - 50</td>\n",
       "      <td>All Marital Statuses</td>\n",
       "      <td>0.153</td>\n",
       "    </tr>\n",
       "  </tbody>\n",
       "</table>\n",
       "<p>120 rows × 10 columns</p>\n",
       "</div>"
      ],
      "text/plain": [
       "     Year                        Education  Birth Rate   \n",
       "0    2012               Associate's degree    2.330833  \\\n",
       "1    2012                Bachelor's degree    2.005512   \n",
       "2    2012  Graduate or professional degree    1.871993   \n",
       "3    2012             High school graduate    2.519022   \n",
       "4    2012       Not a high school graduate    2.900503   \n",
       "..    ...                              ...         ...   \n",
       "175  2020                Bachelor's degree    0.482532   \n",
       "176  2020  Graduate or professional degree    0.492379   \n",
       "177  2020             High school graduate    0.546985   \n",
       "178  2020       Not a high school graduate    0.652835   \n",
       "179  2020          Some college, no degree    0.325866   \n",
       "\n",
       "     Children Ever Born per Woman  Total Women  Total Children  Total Births   \n",
       "0                           4.401    7214000.0      11066905.0     5484824.0  \\\n",
       "1                           3.511   14413000.0      17540611.0     9669385.0   \n",
       "2                           3.256    6680000.0       8599977.0     4764450.0   \n",
       "3                           5.071   16260000.0      27642657.0    13369004.0   \n",
       "4                           6.718    6294000.0      14197288.0     5915597.0   \n",
       "..                            ...          ...             ...           ...   \n",
       "175                         1.863    5899000.0      10989837.0     2846457.0   \n",
       "176                         1.702    4196000.0       7141592.0     2066021.0   \n",
       "177                         2.092    4869000.0      10185948.0     2663268.0   \n",
       "178                         2.676    1810000.0       4843560.0     1181631.0   \n",
       "179                         2.138    3023000.0       6463174.0      985094.0   \n",
       "\n",
       "    Age Group        Marital Status  Childlessness  \n",
       "0     20 - 50                   NaN            NaN  \n",
       "1     20 - 50                   NaN            NaN  \n",
       "2     20 - 50                   NaN            NaN  \n",
       "3     20 - 50                   NaN            NaN  \n",
       "4     20 - 50                   NaN            NaN  \n",
       "..        ...                   ...            ...  \n",
       "175   40 - 50  All Marital Statuses          0.190  \n",
       "176   40 - 50  All Marital Statuses          0.192  \n",
       "177   40 - 50  All Marital Statuses          0.134  \n",
       "178   40 - 50  All Marital Statuses          0.077  \n",
       "179   40 - 50  All Marital Statuses          0.153  \n",
       "\n",
       "[120 rows x 10 columns]"
      ]
     },
     "execution_count": 11,
     "metadata": {},
     "output_type": "execute_result"
    }
   ],
   "source": [
    "# Plot the birth rate for each age group and education segment\n",
    "\n",
    "gdf = df.groupby([\"Year\", \"Education\"], as_index=False).agg({\"Birth Rate\": \"sum\", \"Children Ever Born per Woman\": \"sum\", \"Total Women\": \"sum\", \"Total Children\": \"sum\", \"Total Births\": \"sum\"})\n",
    "gdf[\"Age Group\"] = \"20 - 50\"\n",
    "gdf = pd.concat([gdf, df])\n",
    "\n",
    "\n",
    "for age_group in [\"20 - 29\", \"30 - 39\", \"40 - 50\", \"20 - 50\"]:\n",
    "    fdf: pd.DataFrame = make_education_filtered_df(gdf[gdf[\"Age Group\"] == age_group].copy())\n",
    "    # Convert to millions\n",
    "    fdf[\"Women (Millions)\"] = fdf[\"Total Women\"] / 1_000_000\n",
    "    fdf[\"Children (Millions)\"] = fdf[\"Total Children\"] / 1_000_000\n",
    "\n",
    "    fig = px.scatter(\n",
    "        fdf,\n",
    "        x=\"Year\",\n",
    "        y=\"Children Ever Born per Woman\",\n",
    "        color=\"Education\",\n",
    "        size=\"Women (Millions)\",\n",
    "        title=f\"Fertility Trends for Women Aged {age_group} by Education Segment<br><sup>Children Ever Born to Segment</sup>\",\n",
    "        template=\"plotly_dark\",\n",
    "        hover_name=\"Education\",\n",
    "        hover_data={\n",
    "            \"Year\": True,\n",
    "            \"Children (Millions)\": \":.2f\",\n",
    "            \"Women (Millions)\": \":.2f\",\n",
    "        },\n",
    "        color_discrete_sequence=colorbrewer.Dark2,           \n",
    "    )\n",
    "    # Update legend rank\n",
    "    fig.for_each_trace(\n",
    "        lambda trace: trace.update(\n",
    "            legendrank=education_rank_order.index(trace.name)\n",
    "        )\n",
    "    )\n",
    "\n",
    "    fig.update_layout(\n",
    "        paper_bgcolor='rgba(0,0,0,0)',\n",
    "        plot_bgcolor='rgba(0,0,0,0)',\n",
    "        hovermode=\"x\",\n",
    "    )\n",
    "    fig.update_traces(mode=\"markers+lines\", marker=dict(symbol=\"arrow\"))\n",
    "    fig.show()\n",
    "gdf"
   ]
  },
  {
   "attachments": {},
   "cell_type": "markdown",
   "metadata": {},
   "source": [
    "**Commentary**\n",
    "\n",
    "The above plots display an enigma: graduate-educated women aged 20-50 have more children per woman than those with bachelor's degrees, but they have fewer children per woman than those with bachelor's degrees in age groups 20-29, 30-39, and 40-50\\*.\n",
    "\n",
    "'Children ever born' is a metric that gets closer to the age cohort's true contribution to the next generation over time. The 40-50 cohort is the most stable metric while a 15-19 cohort would be the least stable.\n",
    "\n",
    "\\* There is that small lead in 20-29 in 2012, 2014, and 2020, but the graduate population is so small for the age group that it shouldn't be driving such a stark change for even those years (See [Appendix, 1](#1-total-women-by-age-group-and-education-segment))\n",
    "\n",
    "| Institude for Family Studies | Statista | CDC |\n",
    "| :---: | :---: | :---: |\n",
    "| ![](https://ifstudies.org/ifs-admin/resources/figure-1edfertility-copy-2-w640.png) | ![](https://www.statista.com/graphic/1/1238575/total-fertility-rate-us-education.jpg) | [National Vital Statistics Reports Volume 70 Number 5 May 12, 2021 (Page 3)](https://www.cdc.gov/nchs/data/nvsr/nvsr70/nvsr70-05-508.pdf) |\n"
   ]
  },
  {
   "attachments": {},
   "cell_type": "markdown",
   "metadata": {},
   "source": [
    "## Simpson's Paradox\n",
    "\n",
    "The inversion of the graduate and bachelor's rates is an example of a statistical phenomenon colloquially known as \"Simpson's Paradox\". It's a where a trend in subgroups disappears or reverses when combined.\n",
    "\n",
    "| Interpretation | Correlation | Vectors |\n",
    "| :-- | :---: | :---: |\n",
    "| **Plot** | ![](https://upload.wikimedia.org/wikipedia/commons/thumb/f/fb/Simpsons_paradox_-_animation.gif/440px-Simpsons_paradox_-_animation.gif) | ![](https://upload.wikimedia.org/wikipedia/commons/thumb/c/cd/Simpson_paradox_vectors.svg/440px-Simpson_paradox_vectors.svg.png) |\n",
    "| **Rationale** | | Each of the blue vectors have stronger slopes than their categorical counterparts in the orange. <br> While the slopes of $B_1$ > $L_1$ and $B_2$ > $L_2$, $L_2$ > $B_1$ and its magnitude combined with the<br>difference in angles is substantial enough to outweigh the marginal leads of each $B_i$ over $L_i$. |\n",
    "\n",
    "**Extras**\n",
    "\n",
    "- [Wikipedia](https://en.wikipedia.org/wiki/Simpson's_paradox)\n",
    "- [Stanford](https://plato.stanford.edu/entries/paradox-simpson/#:~:text=Simpson's%20Paradox%20is%20a%20statistical,population%20is%20divided%20into%20subpopulations.)\n"
   ]
  },
  {
   "cell_type": "code",
   "execution_count": 12,
   "metadata": {},
   "outputs": [
    {
     "data": {
      "text/html": [
       "<div>\n",
       "<style scoped>\n",
       "    .dataframe tbody tr th:only-of-type {\n",
       "        vertical-align: middle;\n",
       "    }\n",
       "\n",
       "    .dataframe tbody tr th {\n",
       "        vertical-align: top;\n",
       "    }\n",
       "\n",
       "    .dataframe thead tr th {\n",
       "        text-align: left;\n",
       "    }\n",
       "\n",
       "    .dataframe thead tr:last-of-type th {\n",
       "        text-align: right;\n",
       "    }\n",
       "</style>\n",
       "<table border=\"1\" class=\"dataframe\">\n",
       "  <thead>\n",
       "    <tr>\n",
       "      <th></th>\n",
       "      <th colspan=\"4\" halign=\"left\">Total Children (Millions)</th>\n",
       "      <th colspan=\"4\" halign=\"left\">Total Women (Millions)</th>\n",
       "      <th colspan=\"4\" halign=\"left\">Children Ever Born per Woman</th>\n",
       "    </tr>\n",
       "    <tr>\n",
       "      <th>Age Group</th>\n",
       "      <th>20 - 29</th>\n",
       "      <th>30 - 39</th>\n",
       "      <th>40 - 50</th>\n",
       "      <th>20 - 50</th>\n",
       "      <th>20 - 29</th>\n",
       "      <th>30 - 39</th>\n",
       "      <th>40 - 50</th>\n",
       "      <th>20 - 50</th>\n",
       "      <th>20 - 29</th>\n",
       "      <th>30 - 39</th>\n",
       "      <th>40 - 50</th>\n",
       "      <th>20 - 50</th>\n",
       "    </tr>\n",
       "    <tr>\n",
       "      <th>Education</th>\n",
       "      <th></th>\n",
       "      <th></th>\n",
       "      <th></th>\n",
       "      <th></th>\n",
       "      <th></th>\n",
       "      <th></th>\n",
       "      <th></th>\n",
       "      <th></th>\n",
       "      <th></th>\n",
       "      <th></th>\n",
       "      <th></th>\n",
       "      <th></th>\n",
       "    </tr>\n",
       "  </thead>\n",
       "  <tbody>\n",
       "    <tr>\n",
       "      <th>Bachelor's</th>\n",
       "      <td>1.5</td>\n",
       "      <td>8.1</td>\n",
       "      <td>11.0</td>\n",
       "      <td>20.7</td>\n",
       "      <td>6.1</td>\n",
       "      <td>6.5</td>\n",
       "      <td>5.9</td>\n",
       "      <td>18.5</td>\n",
       "      <td>0.3</td>\n",
       "      <td>1.3</td>\n",
       "      <td>1.9</td>\n",
       "      <td>1.1</td>\n",
       "    </tr>\n",
       "    <tr>\n",
       "      <th>Graduate</th>\n",
       "      <td>0.4</td>\n",
       "      <td>5.1</td>\n",
       "      <td>7.1</td>\n",
       "      <td>12.6</td>\n",
       "      <td>1.5</td>\n",
       "      <td>4.3</td>\n",
       "      <td>4.2</td>\n",
       "      <td>10.0</td>\n",
       "      <td>0.3</td>\n",
       "      <td>1.2</td>\n",
       "      <td>1.7</td>\n",
       "      <td>1.3</td>\n",
       "    </tr>\n",
       "    <tr>\n",
       "      <th>High School</th>\n",
       "      <td>6.0</td>\n",
       "      <td>13.0</td>\n",
       "      <td>16.6</td>\n",
       "      <td>35.7</td>\n",
       "      <td>10.9</td>\n",
       "      <td>7.4</td>\n",
       "      <td>7.9</td>\n",
       "      <td>26.2</td>\n",
       "      <td>0.5</td>\n",
       "      <td>1.8</td>\n",
       "      <td>2.1</td>\n",
       "      <td>1.4</td>\n",
       "    </tr>\n",
       "  </tbody>\n",
       "</table>\n",
       "</div>"
      ],
      "text/plain": [
       "            Total Children (Millions)                           \n",
       "Age Group                     20 - 29 30 - 39 40 - 50 20 - 50   \n",
       "Education                                                       \n",
       "Bachelor's                        1.5     8.1    11.0    20.7  \\\n",
       "Graduate                          0.4     5.1     7.1    12.6   \n",
       "High School                       6.0    13.0    16.6    35.7   \n",
       "\n",
       "            Total Women (Millions)                           \n",
       "Age Group                  20 - 29 30 - 39 40 - 50 20 - 50   \n",
       "Education                                                    \n",
       "Bachelor's                     6.1     6.5     5.9    18.5  \\\n",
       "Graduate                       1.5     4.3     4.2    10.0   \n",
       "High School                   10.9     7.4     7.9    26.2   \n",
       "\n",
       "            Children Ever Born per Woman                          \n",
       "Age Group                        20 - 29 30 - 39 40 - 50 20 - 50  \n",
       "Education                                                         \n",
       "Bachelor's                           0.3     1.3     1.9     1.1  \n",
       "Graduate                             0.3     1.2     1.7     1.3  \n",
       "High School                          0.5     1.8     2.1     1.4  "
      ]
     },
     "execution_count": 12,
     "metadata": {},
     "output_type": "execute_result"
    }
   ],
   "source": [
    "gdf = make_education_filtered_df(df.copy()).groupby([\"Year\", \"Education\"], as_index=False).agg({\"Birth Rate\": \"sum\", \"Children Ever Born per Woman\": \"sum\", \"Total Women\": \"sum\", \"Total Children\": \"sum\", \"Total Births\": \"sum\"})\n",
    "gdf[\"Age Group\"] = \"20 - 50\"\n",
    "gdf = pd.concat([gdf, df])\n",
    "gdf = make_education_filtered_df(gdf)\n",
    "gdf = gdf[gdf[\"Year\"] == 2020]\n",
    "\n",
    "gdf[\"Total Women (Millions)\"] = (gdf[\"Total Women\"] / 1000000).round(1)\n",
    "gdf[\"Total Children (Millions)\"] = (gdf[\"Total Children\"] / 1000000).round(1)\n",
    "gdf[\"Children Ever Born per Woman\"] = gdf[\"Children Ever Born per Woman\"].round(1)\n",
    "\n",
    "age_group_order = [\"20 - 29\", \"30 - 39\", \"40 - 50\", \"20 - 50\"]\n",
    "metric_order = [\"Total Children (Millions)\", \"Total Women (Millions)\", \"Children Ever Born per Woman\"]\n",
    "piv = gdf.pivot_table(index=\"Education\", columns=\"Age Group\", values=metric_order)\n",
    "\n",
    "# Reorder so that the age groups of each metric look like they are\n",
    "# culminating in the 20 - 50 age group\n",
    "i = 0\n",
    "for metric in metric_order:\n",
    "    for age_group in age_group_order:\n",
    "        piv.insert(i, (metric, age_group), piv.pop((metric, age_group)))\n",
    "        i += 1\n",
    "\n",
    "piv"
   ]
  },
  {
   "cell_type": "code",
   "execution_count": 13,
   "metadata": {},
   "outputs": [
    {
     "data": {
      "application/vnd.plotly.v1+json": {
       "config": {
        "plotlyServerURL": "https://plot.ly"
       },
       "data": [
        {
         "customdata": [
          [
           0.5499335466179159
          ]
         ],
         "hovertemplate": "Education=High School<br>Age Group=20 - 29<br>Total Women=%{x}<br>Total Children=%{y}<br>Size=%{marker.size}<br>Children Ever Born per Woman=%{customdata[0]}<extra></extra>",
         "legendgroup": "High School, 20 - 29",
         "marker": {
          "color": "rgb(117,112,179)",
          "size": [
           10
          ],
          "sizemode": "area",
          "sizeref": 0.1,
          "symbol": "circle"
         },
         "mode": "markers",
         "name": "High School, 20 - 29",
         "orientation": "v",
         "showlegend": true,
         "type": "scatter",
         "x": [
          10940000
         ],
         "xaxis": "x",
         "y": [
          6016273
         ],
         "yaxis": "y"
        },
        {
         "customdata": [
          [
           1.7568594594594595
          ]
         ],
         "hovertemplate": "Education=High School<br>Age Group=30 - 39<br>Total Women=%{x}<br>Total Children=%{y}<br>Size=%{marker.size}<br>Children Ever Born per Woman=%{customdata[0]}<extra></extra>",
         "legendgroup": "High School, 30 - 39",
         "marker": {
          "color": "rgb(117,112,179)",
          "size": [
           20
          ],
          "sizemode": "area",
          "sizeref": 0.1,
          "symbol": "diamond"
         },
         "mode": "markers",
         "name": "High School, 30 - 39",
         "orientation": "v",
         "showlegend": true,
         "type": "scatter",
         "x": [
          7400000
         ],
         "xaxis": "x",
         "y": [
          13000760
         ],
         "yaxis": "y"
        },
        {
         "customdata": [
          [
           2.1096201216421693
          ]
         ],
         "hovertemplate": "Education=High School<br>Age Group=40 - 50<br>Total Women=%{x}<br>Total Children=%{y}<br>Size=%{marker.size}<br>Children Ever Born per Woman=%{customdata[0]}<extra></extra>",
         "legendgroup": "High School, 40 - 50",
         "marker": {
          "color": "rgb(117,112,179)",
          "size": [
           30
          ],
          "sizemode": "area",
          "sizeref": 0.1,
          "symbol": "square"
         },
         "mode": "markers",
         "name": "High School, 40 - 50",
         "orientation": "v",
         "showlegend": true,
         "type": "scatter",
         "x": [
          7892000
         ],
         "xaxis": "x",
         "y": [
          16649122
         ],
         "yaxis": "y"
        },
        {
         "customdata": [
          [
           1.3596429932906373
          ]
         ],
         "hovertemplate": "Education=High School<br>Age Group=20 - 50<br>Total Women=%{x}<br>Total Children=%{y}<br>Size=%{marker.size}<br>Children Ever Born per Woman=%{customdata[0]}<extra></extra>",
         "legendgroup": "High School, 20 - 50",
         "marker": {
          "color": "rgb(117,112,179)",
          "size": [
           40
          ],
          "sizemode": "area",
          "sizeref": 0.1,
          "symbol": "x"
         },
         "mode": "markers",
         "name": "High School, 20 - 50",
         "orientation": "v",
         "showlegend": true,
         "type": "scatter",
         "x": [
          26232000
         ],
         "xaxis": "x",
         "y": [
          35666155
         ],
         "yaxis": "y"
        },
        {
         "customdata": [
          [
           0.252
          ]
         ],
         "hovertemplate": "Education=Bachelor's<br>Age Group=20 - 29<br>Total Women=%{x}<br>Total Children=%{y}<br>Size=%{marker.size}<br>Children Ever Born per Woman=%{customdata[0]}<extra></extra>",
         "legendgroup": "Bachelor's, 20 - 29",
         "marker": {
          "color": "rgb(27,158,119)",
          "size": [
           10
          ],
          "sizemode": "area",
          "sizeref": 0.1,
          "symbol": "circle"
         },
         "mode": "markers",
         "name": "Bachelor's, 20 - 29",
         "orientation": "v",
         "showlegend": true,
         "type": "scatter",
         "x": [
          6139000
         ],
         "xaxis": "x",
         "y": [
          1547028
         ],
         "yaxis": "y"
        },
        {
         "customdata": [
          [
           1.26
          ]
         ],
         "hovertemplate": "Education=Bachelor's<br>Age Group=30 - 39<br>Total Women=%{x}<br>Total Children=%{y}<br>Size=%{marker.size}<br>Children Ever Born per Woman=%{customdata[0]}<extra></extra>",
         "legendgroup": "Bachelor's, 30 - 39",
         "marker": {
          "color": "rgb(27,158,119)",
          "size": [
           20
          ],
          "sizemode": "area",
          "sizeref": 0.1,
          "symbol": "diamond"
         },
         "mode": "markers",
         "name": "Bachelor's, 30 - 39",
         "orientation": "v",
         "showlegend": true,
         "type": "scatter",
         "x": [
          6463000
         ],
         "xaxis": "x",
         "y": [
          8143380
         ],
         "yaxis": "y"
        },
        {
         "customdata": [
          [
           1.863
          ]
         ],
         "hovertemplate": "Education=Bachelor's<br>Age Group=40 - 50<br>Total Women=%{x}<br>Total Children=%{y}<br>Size=%{marker.size}<br>Children Ever Born per Woman=%{customdata[0]}<extra></extra>",
         "legendgroup": "Bachelor's, 40 - 50",
         "marker": {
          "color": "rgb(27,158,119)",
          "size": [
           30
          ],
          "sizemode": "area",
          "sizeref": 0.1,
          "symbol": "square"
         },
         "mode": "markers",
         "name": "Bachelor's, 40 - 50",
         "orientation": "v",
         "showlegend": true,
         "type": "scatter",
         "x": [
          5899000
         ],
         "xaxis": "x",
         "y": [
          10989837
         ],
         "yaxis": "y"
        },
        {
         "customdata": [
          [
           1.1177906599643264
          ]
         ],
         "hovertemplate": "Education=Bachelor's<br>Age Group=20 - 50<br>Total Women=%{x}<br>Total Children=%{y}<br>Size=%{marker.size}<br>Children Ever Born per Woman=%{customdata[0]}<extra></extra>",
         "legendgroup": "Bachelor's, 20 - 50",
         "marker": {
          "color": "rgb(27,158,119)",
          "size": [
           40
          ],
          "sizemode": "area",
          "sizeref": 0.1,
          "symbol": "x"
         },
         "mode": "markers",
         "name": "Bachelor's, 20 - 50",
         "orientation": "v",
         "showlegend": true,
         "type": "scatter",
         "x": [
          18501000
         ],
         "xaxis": "x",
         "y": [
          20680245
         ],
         "yaxis": "y"
        },
        {
         "customdata": [
          [
           0.268
          ]
         ],
         "hovertemplate": "Education=Graduate<br>Age Group=20 - 29<br>Total Women=%{x}<br>Total Children=%{y}<br>Size=%{marker.size}<br>Children Ever Born per Woman=%{customdata[0]}<extra></extra>",
         "legendgroup": "Graduate, 20 - 29",
         "marker": {
          "color": "rgb(217,95,2)",
          "size": [
           10
          ],
          "sizemode": "area",
          "sizeref": 0.1,
          "symbol": "circle"
         },
         "mode": "markers",
         "name": "Graduate, 20 - 29",
         "orientation": "v",
         "showlegend": true,
         "type": "scatter",
         "x": [
          1471000
         ],
         "xaxis": "x",
         "y": [
          394228
         ],
         "yaxis": "y"
        },
        {
         "customdata": [
          [
           1.173
          ]
         ],
         "hovertemplate": "Education=Graduate<br>Age Group=30 - 39<br>Total Women=%{x}<br>Total Children=%{y}<br>Size=%{marker.size}<br>Children Ever Born per Woman=%{customdata[0]}<extra></extra>",
         "legendgroup": "Graduate, 30 - 39",
         "marker": {
          "color": "rgb(217,95,2)",
          "size": [
           20
          ],
          "sizemode": "area",
          "sizeref": 0.1,
          "symbol": "diamond"
         },
         "mode": "markers",
         "name": "Graduate, 30 - 39",
         "orientation": "v",
         "showlegend": true,
         "type": "scatter",
         "x": [
          4327000
         ],
         "xaxis": "x",
         "y": [
          5075571
         ],
         "yaxis": "y"
        },
        {
         "customdata": [
          [
           1.702
          ]
         ],
         "hovertemplate": "Education=Graduate<br>Age Group=40 - 50<br>Total Women=%{x}<br>Total Children=%{y}<br>Size=%{marker.size}<br>Children Ever Born per Woman=%{customdata[0]}<extra></extra>",
         "legendgroup": "Graduate, 40 - 50",
         "marker": {
          "color": "rgb(217,95,2)",
          "size": [
           30
          ],
          "sizemode": "area",
          "sizeref": 0.1,
          "symbol": "square"
         },
         "mode": "markers",
         "name": "Graduate, 40 - 50",
         "orientation": "v",
         "showlegend": true,
         "type": "scatter",
         "x": [
          4196000
         ],
         "xaxis": "x",
         "y": [
          7141592
         ],
         "yaxis": "y"
        },
        {
         "customdata": [
          [
           1.2618962377426455
          ]
         ],
         "hovertemplate": "Education=Graduate<br>Age Group=20 - 50<br>Total Women=%{x}<br>Total Children=%{y}<br>Size=%{marker.size}<br>Children Ever Born per Woman=%{customdata[0]}<extra></extra>",
         "legendgroup": "Graduate, 20 - 50",
         "marker": {
          "color": "rgb(217,95,2)",
          "size": [
           40
          ],
          "sizemode": "area",
          "sizeref": 0.1,
          "symbol": "x"
         },
         "mode": "markers",
         "name": "Graduate, 20 - 50",
         "orientation": "v",
         "showlegend": true,
         "type": "scatter",
         "x": [
          9994000
         ],
         "xaxis": "x",
         "y": [
          12611391
         ],
         "yaxis": "y"
        }
       ],
       "layout": {
        "legend": {
         "itemsizing": "constant",
         "title": {
          "text": "Education, Age Group"
         },
         "tracegroupgap": 0
        },
        "paper_bgcolor": "rgba(0,0,0,0)",
        "plot_bgcolor": "rgba(0,0,0,0)",
        "shapes": [
         {
          "layer": "below",
          "line": {
           "color": "rgb(117,112,179)",
           "dash": "dot",
           "width": 2
          },
          "type": "line",
          "x0": 0,
          "x1": 10940000,
          "y0": 0,
          "y1": 6016273
         },
         {
          "layer": "below",
          "line": {
           "color": "rgb(27,158,119)",
           "dash": "dot",
           "width": 2
          },
          "type": "line",
          "x0": 0,
          "x1": 6139000,
          "y0": 0,
          "y1": 1547028
         },
         {
          "layer": "below",
          "line": {
           "color": "rgb(217,95,2)",
           "dash": "dot",
           "width": 2
          },
          "type": "line",
          "x0": 0,
          "x1": 1471000,
          "y0": 0,
          "y1": 394228
         }
        ],
        "template": {
         "data": {
          "bar": [
           {
            "error_x": {
             "color": "#f2f5fa"
            },
            "error_y": {
             "color": "#f2f5fa"
            },
            "marker": {
             "line": {
              "color": "rgb(17,17,17)",
              "width": 0.5
             },
             "pattern": {
              "fillmode": "overlay",
              "size": 10,
              "solidity": 0.2
             }
            },
            "type": "bar"
           }
          ],
          "barpolar": [
           {
            "marker": {
             "line": {
              "color": "rgb(17,17,17)",
              "width": 0.5
             },
             "pattern": {
              "fillmode": "overlay",
              "size": 10,
              "solidity": 0.2
             }
            },
            "type": "barpolar"
           }
          ],
          "carpet": [
           {
            "aaxis": {
             "endlinecolor": "#A2B1C6",
             "gridcolor": "#506784",
             "linecolor": "#506784",
             "minorgridcolor": "#506784",
             "startlinecolor": "#A2B1C6"
            },
            "baxis": {
             "endlinecolor": "#A2B1C6",
             "gridcolor": "#506784",
             "linecolor": "#506784",
             "minorgridcolor": "#506784",
             "startlinecolor": "#A2B1C6"
            },
            "type": "carpet"
           }
          ],
          "choropleth": [
           {
            "colorbar": {
             "outlinewidth": 0,
             "ticks": ""
            },
            "type": "choropleth"
           }
          ],
          "contour": [
           {
            "colorbar": {
             "outlinewidth": 0,
             "ticks": ""
            },
            "colorscale": [
             [
              0,
              "#0d0887"
             ],
             [
              0.1111111111111111,
              "#46039f"
             ],
             [
              0.2222222222222222,
              "#7201a8"
             ],
             [
              0.3333333333333333,
              "#9c179e"
             ],
             [
              0.4444444444444444,
              "#bd3786"
             ],
             [
              0.5555555555555556,
              "#d8576b"
             ],
             [
              0.6666666666666666,
              "#ed7953"
             ],
             [
              0.7777777777777778,
              "#fb9f3a"
             ],
             [
              0.8888888888888888,
              "#fdca26"
             ],
             [
              1,
              "#f0f921"
             ]
            ],
            "type": "contour"
           }
          ],
          "contourcarpet": [
           {
            "colorbar": {
             "outlinewidth": 0,
             "ticks": ""
            },
            "type": "contourcarpet"
           }
          ],
          "heatmap": [
           {
            "colorbar": {
             "outlinewidth": 0,
             "ticks": ""
            },
            "colorscale": [
             [
              0,
              "#0d0887"
             ],
             [
              0.1111111111111111,
              "#46039f"
             ],
             [
              0.2222222222222222,
              "#7201a8"
             ],
             [
              0.3333333333333333,
              "#9c179e"
             ],
             [
              0.4444444444444444,
              "#bd3786"
             ],
             [
              0.5555555555555556,
              "#d8576b"
             ],
             [
              0.6666666666666666,
              "#ed7953"
             ],
             [
              0.7777777777777778,
              "#fb9f3a"
             ],
             [
              0.8888888888888888,
              "#fdca26"
             ],
             [
              1,
              "#f0f921"
             ]
            ],
            "type": "heatmap"
           }
          ],
          "heatmapgl": [
           {
            "colorbar": {
             "outlinewidth": 0,
             "ticks": ""
            },
            "colorscale": [
             [
              0,
              "#0d0887"
             ],
             [
              0.1111111111111111,
              "#46039f"
             ],
             [
              0.2222222222222222,
              "#7201a8"
             ],
             [
              0.3333333333333333,
              "#9c179e"
             ],
             [
              0.4444444444444444,
              "#bd3786"
             ],
             [
              0.5555555555555556,
              "#d8576b"
             ],
             [
              0.6666666666666666,
              "#ed7953"
             ],
             [
              0.7777777777777778,
              "#fb9f3a"
             ],
             [
              0.8888888888888888,
              "#fdca26"
             ],
             [
              1,
              "#f0f921"
             ]
            ],
            "type": "heatmapgl"
           }
          ],
          "histogram": [
           {
            "marker": {
             "pattern": {
              "fillmode": "overlay",
              "size": 10,
              "solidity": 0.2
             }
            },
            "type": "histogram"
           }
          ],
          "histogram2d": [
           {
            "colorbar": {
             "outlinewidth": 0,
             "ticks": ""
            },
            "colorscale": [
             [
              0,
              "#0d0887"
             ],
             [
              0.1111111111111111,
              "#46039f"
             ],
             [
              0.2222222222222222,
              "#7201a8"
             ],
             [
              0.3333333333333333,
              "#9c179e"
             ],
             [
              0.4444444444444444,
              "#bd3786"
             ],
             [
              0.5555555555555556,
              "#d8576b"
             ],
             [
              0.6666666666666666,
              "#ed7953"
             ],
             [
              0.7777777777777778,
              "#fb9f3a"
             ],
             [
              0.8888888888888888,
              "#fdca26"
             ],
             [
              1,
              "#f0f921"
             ]
            ],
            "type": "histogram2d"
           }
          ],
          "histogram2dcontour": [
           {
            "colorbar": {
             "outlinewidth": 0,
             "ticks": ""
            },
            "colorscale": [
             [
              0,
              "#0d0887"
             ],
             [
              0.1111111111111111,
              "#46039f"
             ],
             [
              0.2222222222222222,
              "#7201a8"
             ],
             [
              0.3333333333333333,
              "#9c179e"
             ],
             [
              0.4444444444444444,
              "#bd3786"
             ],
             [
              0.5555555555555556,
              "#d8576b"
             ],
             [
              0.6666666666666666,
              "#ed7953"
             ],
             [
              0.7777777777777778,
              "#fb9f3a"
             ],
             [
              0.8888888888888888,
              "#fdca26"
             ],
             [
              1,
              "#f0f921"
             ]
            ],
            "type": "histogram2dcontour"
           }
          ],
          "mesh3d": [
           {
            "colorbar": {
             "outlinewidth": 0,
             "ticks": ""
            },
            "type": "mesh3d"
           }
          ],
          "parcoords": [
           {
            "line": {
             "colorbar": {
              "outlinewidth": 0,
              "ticks": ""
             }
            },
            "type": "parcoords"
           }
          ],
          "pie": [
           {
            "automargin": true,
            "type": "pie"
           }
          ],
          "scatter": [
           {
            "marker": {
             "line": {
              "color": "#283442"
             }
            },
            "type": "scatter"
           }
          ],
          "scatter3d": [
           {
            "line": {
             "colorbar": {
              "outlinewidth": 0,
              "ticks": ""
             }
            },
            "marker": {
             "colorbar": {
              "outlinewidth": 0,
              "ticks": ""
             }
            },
            "type": "scatter3d"
           }
          ],
          "scattercarpet": [
           {
            "marker": {
             "colorbar": {
              "outlinewidth": 0,
              "ticks": ""
             }
            },
            "type": "scattercarpet"
           }
          ],
          "scattergeo": [
           {
            "marker": {
             "colorbar": {
              "outlinewidth": 0,
              "ticks": ""
             }
            },
            "type": "scattergeo"
           }
          ],
          "scattergl": [
           {
            "marker": {
             "line": {
              "color": "#283442"
             }
            },
            "type": "scattergl"
           }
          ],
          "scattermapbox": [
           {
            "marker": {
             "colorbar": {
              "outlinewidth": 0,
              "ticks": ""
             }
            },
            "type": "scattermapbox"
           }
          ],
          "scatterpolar": [
           {
            "marker": {
             "colorbar": {
              "outlinewidth": 0,
              "ticks": ""
             }
            },
            "type": "scatterpolar"
           }
          ],
          "scatterpolargl": [
           {
            "marker": {
             "colorbar": {
              "outlinewidth": 0,
              "ticks": ""
             }
            },
            "type": "scatterpolargl"
           }
          ],
          "scatterternary": [
           {
            "marker": {
             "colorbar": {
              "outlinewidth": 0,
              "ticks": ""
             }
            },
            "type": "scatterternary"
           }
          ],
          "surface": [
           {
            "colorbar": {
             "outlinewidth": 0,
             "ticks": ""
            },
            "colorscale": [
             [
              0,
              "#0d0887"
             ],
             [
              0.1111111111111111,
              "#46039f"
             ],
             [
              0.2222222222222222,
              "#7201a8"
             ],
             [
              0.3333333333333333,
              "#9c179e"
             ],
             [
              0.4444444444444444,
              "#bd3786"
             ],
             [
              0.5555555555555556,
              "#d8576b"
             ],
             [
              0.6666666666666666,
              "#ed7953"
             ],
             [
              0.7777777777777778,
              "#fb9f3a"
             ],
             [
              0.8888888888888888,
              "#fdca26"
             ],
             [
              1,
              "#f0f921"
             ]
            ],
            "type": "surface"
           }
          ],
          "table": [
           {
            "cells": {
             "fill": {
              "color": "#506784"
             },
             "line": {
              "color": "rgb(17,17,17)"
             }
            },
            "header": {
             "fill": {
              "color": "#2a3f5f"
             },
             "line": {
              "color": "rgb(17,17,17)"
             }
            },
            "type": "table"
           }
          ]
         },
         "layout": {
          "annotationdefaults": {
           "arrowcolor": "#f2f5fa",
           "arrowhead": 0,
           "arrowwidth": 1
          },
          "autotypenumbers": "strict",
          "coloraxis": {
           "colorbar": {
            "outlinewidth": 0,
            "ticks": ""
           }
          },
          "colorscale": {
           "diverging": [
            [
             0,
             "#8e0152"
            ],
            [
             0.1,
             "#c51b7d"
            ],
            [
             0.2,
             "#de77ae"
            ],
            [
             0.3,
             "#f1b6da"
            ],
            [
             0.4,
             "#fde0ef"
            ],
            [
             0.5,
             "#f7f7f7"
            ],
            [
             0.6,
             "#e6f5d0"
            ],
            [
             0.7,
             "#b8e186"
            ],
            [
             0.8,
             "#7fbc41"
            ],
            [
             0.9,
             "#4d9221"
            ],
            [
             1,
             "#276419"
            ]
           ],
           "sequential": [
            [
             0,
             "#0d0887"
            ],
            [
             0.1111111111111111,
             "#46039f"
            ],
            [
             0.2222222222222222,
             "#7201a8"
            ],
            [
             0.3333333333333333,
             "#9c179e"
            ],
            [
             0.4444444444444444,
             "#bd3786"
            ],
            [
             0.5555555555555556,
             "#d8576b"
            ],
            [
             0.6666666666666666,
             "#ed7953"
            ],
            [
             0.7777777777777778,
             "#fb9f3a"
            ],
            [
             0.8888888888888888,
             "#fdca26"
            ],
            [
             1,
             "#f0f921"
            ]
           ],
           "sequentialminus": [
            [
             0,
             "#0d0887"
            ],
            [
             0.1111111111111111,
             "#46039f"
            ],
            [
             0.2222222222222222,
             "#7201a8"
            ],
            [
             0.3333333333333333,
             "#9c179e"
            ],
            [
             0.4444444444444444,
             "#bd3786"
            ],
            [
             0.5555555555555556,
             "#d8576b"
            ],
            [
             0.6666666666666666,
             "#ed7953"
            ],
            [
             0.7777777777777778,
             "#fb9f3a"
            ],
            [
             0.8888888888888888,
             "#fdca26"
            ],
            [
             1,
             "#f0f921"
            ]
           ]
          },
          "colorway": [
           "#636efa",
           "#EF553B",
           "#00cc96",
           "#ab63fa",
           "#FFA15A",
           "#19d3f3",
           "#FF6692",
           "#B6E880",
           "#FF97FF",
           "#FECB52"
          ],
          "font": {
           "color": "#f2f5fa"
          },
          "geo": {
           "bgcolor": "rgb(17,17,17)",
           "lakecolor": "rgb(17,17,17)",
           "landcolor": "rgb(17,17,17)",
           "showlakes": true,
           "showland": true,
           "subunitcolor": "#506784"
          },
          "hoverlabel": {
           "align": "left"
          },
          "hovermode": "closest",
          "mapbox": {
           "style": "dark"
          },
          "paper_bgcolor": "rgb(17,17,17)",
          "plot_bgcolor": "rgb(17,17,17)",
          "polar": {
           "angularaxis": {
            "gridcolor": "#506784",
            "linecolor": "#506784",
            "ticks": ""
           },
           "bgcolor": "rgb(17,17,17)",
           "radialaxis": {
            "gridcolor": "#506784",
            "linecolor": "#506784",
            "ticks": ""
           }
          },
          "scene": {
           "xaxis": {
            "backgroundcolor": "rgb(17,17,17)",
            "gridcolor": "#506784",
            "gridwidth": 2,
            "linecolor": "#506784",
            "showbackground": true,
            "ticks": "",
            "zerolinecolor": "#C8D4E3"
           },
           "yaxis": {
            "backgroundcolor": "rgb(17,17,17)",
            "gridcolor": "#506784",
            "gridwidth": 2,
            "linecolor": "#506784",
            "showbackground": true,
            "ticks": "",
            "zerolinecolor": "#C8D4E3"
           },
           "zaxis": {
            "backgroundcolor": "rgb(17,17,17)",
            "gridcolor": "#506784",
            "gridwidth": 2,
            "linecolor": "#506784",
            "showbackground": true,
            "ticks": "",
            "zerolinecolor": "#C8D4E3"
           }
          },
          "shapedefaults": {
           "line": {
            "color": "#f2f5fa"
           }
          },
          "sliderdefaults": {
           "bgcolor": "#C8D4E3",
           "bordercolor": "rgb(17,17,17)",
           "borderwidth": 1,
           "tickwidth": 0
          },
          "ternary": {
           "aaxis": {
            "gridcolor": "#506784",
            "linecolor": "#506784",
            "ticks": ""
           },
           "baxis": {
            "gridcolor": "#506784",
            "linecolor": "#506784",
            "ticks": ""
           },
           "bgcolor": "rgb(17,17,17)",
           "caxis": {
            "gridcolor": "#506784",
            "linecolor": "#506784",
            "ticks": ""
           }
          },
          "title": {
           "x": 0.05
          },
          "updatemenudefaults": {
           "bgcolor": "#506784",
           "borderwidth": 0
          },
          "xaxis": {
           "automargin": true,
           "gridcolor": "#283442",
           "linecolor": "#506784",
           "ticks": "",
           "title": {
            "standoff": 15
           },
           "zerolinecolor": "#283442",
           "zerolinewidth": 2
          },
          "yaxis": {
           "automargin": true,
           "gridcolor": "#283442",
           "linecolor": "#506784",
           "ticks": "",
           "title": {
            "standoff": 15
           },
           "zerolinecolor": "#283442",
           "zerolinewidth": 2
          }
         }
        },
        "title": {
         "text": "Children per Woman Aged 20 - 29 Slopes by Education Segment (2020)"
        },
        "xaxis": {
         "anchor": "y",
         "domain": [
          0,
          1
         ],
         "title": {
          "text": "Total Women"
         }
        },
        "yaxis": {
         "anchor": "x",
         "domain": [
          0,
          1
         ],
         "title": {
          "text": "Total Children"
         }
        }
       }
      }
     },
     "metadata": {},
     "output_type": "display_data"
    },
    {
     "data": {
      "application/vnd.plotly.v1+json": {
       "config": {
        "plotlyServerURL": "https://plot.ly"
       },
       "data": [
        {
         "customdata": [
          [
           0.5499335466179159
          ]
         ],
         "hovertemplate": "Education=High School<br>Age Group=20 - 29<br>Total Women=%{x}<br>Total Children=%{y}<br>Size=%{marker.size}<br>Children Ever Born per Woman=%{customdata[0]}<extra></extra>",
         "legendgroup": "High School, 20 - 29",
         "marker": {
          "color": "rgb(117,112,179)",
          "size": [
           10
          ],
          "sizemode": "area",
          "sizeref": 0.1,
          "symbol": "circle"
         },
         "mode": "markers",
         "name": "High School, 20 - 29",
         "orientation": "v",
         "showlegend": true,
         "type": "scatter",
         "x": [
          10940000
         ],
         "xaxis": "x",
         "y": [
          6016273
         ],
         "yaxis": "y"
        },
        {
         "customdata": [
          [
           1.7568594594594595
          ]
         ],
         "hovertemplate": "Education=High School<br>Age Group=30 - 39<br>Total Women=%{x}<br>Total Children=%{y}<br>Size=%{marker.size}<br>Children Ever Born per Woman=%{customdata[0]}<extra></extra>",
         "legendgroup": "High School, 30 - 39",
         "marker": {
          "color": "rgb(117,112,179)",
          "size": [
           20
          ],
          "sizemode": "area",
          "sizeref": 0.1,
          "symbol": "diamond"
         },
         "mode": "markers",
         "name": "High School, 30 - 39",
         "orientation": "v",
         "showlegend": true,
         "type": "scatter",
         "x": [
          7400000
         ],
         "xaxis": "x",
         "y": [
          13000760
         ],
         "yaxis": "y"
        },
        {
         "customdata": [
          [
           2.1096201216421693
          ]
         ],
         "hovertemplate": "Education=High School<br>Age Group=40 - 50<br>Total Women=%{x}<br>Total Children=%{y}<br>Size=%{marker.size}<br>Children Ever Born per Woman=%{customdata[0]}<extra></extra>",
         "legendgroup": "High School, 40 - 50",
         "marker": {
          "color": "rgb(117,112,179)",
          "size": [
           30
          ],
          "sizemode": "area",
          "sizeref": 0.1,
          "symbol": "square"
         },
         "mode": "markers",
         "name": "High School, 40 - 50",
         "orientation": "v",
         "showlegend": true,
         "type": "scatter",
         "x": [
          7892000
         ],
         "xaxis": "x",
         "y": [
          16649122
         ],
         "yaxis": "y"
        },
        {
         "customdata": [
          [
           1.3596429932906373
          ]
         ],
         "hovertemplate": "Education=High School<br>Age Group=20 - 50<br>Total Women=%{x}<br>Total Children=%{y}<br>Size=%{marker.size}<br>Children Ever Born per Woman=%{customdata[0]}<extra></extra>",
         "legendgroup": "High School, 20 - 50",
         "marker": {
          "color": "rgb(117,112,179)",
          "size": [
           40
          ],
          "sizemode": "area",
          "sizeref": 0.1,
          "symbol": "x"
         },
         "mode": "markers",
         "name": "High School, 20 - 50",
         "orientation": "v",
         "showlegend": true,
         "type": "scatter",
         "x": [
          26232000
         ],
         "xaxis": "x",
         "y": [
          35666155
         ],
         "yaxis": "y"
        },
        {
         "customdata": [
          [
           0.252
          ]
         ],
         "hovertemplate": "Education=Bachelor's<br>Age Group=20 - 29<br>Total Women=%{x}<br>Total Children=%{y}<br>Size=%{marker.size}<br>Children Ever Born per Woman=%{customdata[0]}<extra></extra>",
         "legendgroup": "Bachelor's, 20 - 29",
         "marker": {
          "color": "rgb(27,158,119)",
          "size": [
           10
          ],
          "sizemode": "area",
          "sizeref": 0.1,
          "symbol": "circle"
         },
         "mode": "markers",
         "name": "Bachelor's, 20 - 29",
         "orientation": "v",
         "showlegend": true,
         "type": "scatter",
         "x": [
          6139000
         ],
         "xaxis": "x",
         "y": [
          1547028
         ],
         "yaxis": "y"
        },
        {
         "customdata": [
          [
           1.26
          ]
         ],
         "hovertemplate": "Education=Bachelor's<br>Age Group=30 - 39<br>Total Women=%{x}<br>Total Children=%{y}<br>Size=%{marker.size}<br>Children Ever Born per Woman=%{customdata[0]}<extra></extra>",
         "legendgroup": "Bachelor's, 30 - 39",
         "marker": {
          "color": "rgb(27,158,119)",
          "size": [
           20
          ],
          "sizemode": "area",
          "sizeref": 0.1,
          "symbol": "diamond"
         },
         "mode": "markers",
         "name": "Bachelor's, 30 - 39",
         "orientation": "v",
         "showlegend": true,
         "type": "scatter",
         "x": [
          6463000
         ],
         "xaxis": "x",
         "y": [
          8143380
         ],
         "yaxis": "y"
        },
        {
         "customdata": [
          [
           1.863
          ]
         ],
         "hovertemplate": "Education=Bachelor's<br>Age Group=40 - 50<br>Total Women=%{x}<br>Total Children=%{y}<br>Size=%{marker.size}<br>Children Ever Born per Woman=%{customdata[0]}<extra></extra>",
         "legendgroup": "Bachelor's, 40 - 50",
         "marker": {
          "color": "rgb(27,158,119)",
          "size": [
           30
          ],
          "sizemode": "area",
          "sizeref": 0.1,
          "symbol": "square"
         },
         "mode": "markers",
         "name": "Bachelor's, 40 - 50",
         "orientation": "v",
         "showlegend": true,
         "type": "scatter",
         "x": [
          5899000
         ],
         "xaxis": "x",
         "y": [
          10989837
         ],
         "yaxis": "y"
        },
        {
         "customdata": [
          [
           1.1177906599643264
          ]
         ],
         "hovertemplate": "Education=Bachelor's<br>Age Group=20 - 50<br>Total Women=%{x}<br>Total Children=%{y}<br>Size=%{marker.size}<br>Children Ever Born per Woman=%{customdata[0]}<extra></extra>",
         "legendgroup": "Bachelor's, 20 - 50",
         "marker": {
          "color": "rgb(27,158,119)",
          "size": [
           40
          ],
          "sizemode": "area",
          "sizeref": 0.1,
          "symbol": "x"
         },
         "mode": "markers",
         "name": "Bachelor's, 20 - 50",
         "orientation": "v",
         "showlegend": true,
         "type": "scatter",
         "x": [
          18501000
         ],
         "xaxis": "x",
         "y": [
          20680245
         ],
         "yaxis": "y"
        },
        {
         "customdata": [
          [
           0.268
          ]
         ],
         "hovertemplate": "Education=Graduate<br>Age Group=20 - 29<br>Total Women=%{x}<br>Total Children=%{y}<br>Size=%{marker.size}<br>Children Ever Born per Woman=%{customdata[0]}<extra></extra>",
         "legendgroup": "Graduate, 20 - 29",
         "marker": {
          "color": "rgb(217,95,2)",
          "size": [
           10
          ],
          "sizemode": "area",
          "sizeref": 0.1,
          "symbol": "circle"
         },
         "mode": "markers",
         "name": "Graduate, 20 - 29",
         "orientation": "v",
         "showlegend": true,
         "type": "scatter",
         "x": [
          1471000
         ],
         "xaxis": "x",
         "y": [
          394228
         ],
         "yaxis": "y"
        },
        {
         "customdata": [
          [
           1.173
          ]
         ],
         "hovertemplate": "Education=Graduate<br>Age Group=30 - 39<br>Total Women=%{x}<br>Total Children=%{y}<br>Size=%{marker.size}<br>Children Ever Born per Woman=%{customdata[0]}<extra></extra>",
         "legendgroup": "Graduate, 30 - 39",
         "marker": {
          "color": "rgb(217,95,2)",
          "size": [
           20
          ],
          "sizemode": "area",
          "sizeref": 0.1,
          "symbol": "diamond"
         },
         "mode": "markers",
         "name": "Graduate, 30 - 39",
         "orientation": "v",
         "showlegend": true,
         "type": "scatter",
         "x": [
          4327000
         ],
         "xaxis": "x",
         "y": [
          5075571
         ],
         "yaxis": "y"
        },
        {
         "customdata": [
          [
           1.702
          ]
         ],
         "hovertemplate": "Education=Graduate<br>Age Group=40 - 50<br>Total Women=%{x}<br>Total Children=%{y}<br>Size=%{marker.size}<br>Children Ever Born per Woman=%{customdata[0]}<extra></extra>",
         "legendgroup": "Graduate, 40 - 50",
         "marker": {
          "color": "rgb(217,95,2)",
          "size": [
           30
          ],
          "sizemode": "area",
          "sizeref": 0.1,
          "symbol": "square"
         },
         "mode": "markers",
         "name": "Graduate, 40 - 50",
         "orientation": "v",
         "showlegend": true,
         "type": "scatter",
         "x": [
          4196000
         ],
         "xaxis": "x",
         "y": [
          7141592
         ],
         "yaxis": "y"
        },
        {
         "customdata": [
          [
           1.2618962377426455
          ]
         ],
         "hovertemplate": "Education=Graduate<br>Age Group=20 - 50<br>Total Women=%{x}<br>Total Children=%{y}<br>Size=%{marker.size}<br>Children Ever Born per Woman=%{customdata[0]}<extra></extra>",
         "legendgroup": "Graduate, 20 - 50",
         "marker": {
          "color": "rgb(217,95,2)",
          "size": [
           40
          ],
          "sizemode": "area",
          "sizeref": 0.1,
          "symbol": "x"
         },
         "mode": "markers",
         "name": "Graduate, 20 - 50",
         "orientation": "v",
         "showlegend": true,
         "type": "scatter",
         "x": [
          9994000
         ],
         "xaxis": "x",
         "y": [
          12611391
         ],
         "yaxis": "y"
        }
       ],
       "layout": {
        "legend": {
         "itemsizing": "constant",
         "title": {
          "text": "Education, Age Group"
         },
         "tracegroupgap": 0
        },
        "paper_bgcolor": "rgba(0,0,0,0)",
        "plot_bgcolor": "rgba(0,0,0,0)",
        "shapes": [
         {
          "layer": "below",
          "line": {
           "color": "rgb(117,112,179)",
           "dash": "dot",
           "width": 2
          },
          "type": "line",
          "x0": 0,
          "x1": 7400000,
          "y0": 0,
          "y1": 13000760
         },
         {
          "layer": "below",
          "line": {
           "color": "rgb(27,158,119)",
           "dash": "dot",
           "width": 2
          },
          "type": "line",
          "x0": 0,
          "x1": 6463000,
          "y0": 0,
          "y1": 8143380
         },
         {
          "layer": "below",
          "line": {
           "color": "rgb(217,95,2)",
           "dash": "dot",
           "width": 2
          },
          "type": "line",
          "x0": 0,
          "x1": 4327000,
          "y0": 0,
          "y1": 5075571
         }
        ],
        "template": {
         "data": {
          "bar": [
           {
            "error_x": {
             "color": "#f2f5fa"
            },
            "error_y": {
             "color": "#f2f5fa"
            },
            "marker": {
             "line": {
              "color": "rgb(17,17,17)",
              "width": 0.5
             },
             "pattern": {
              "fillmode": "overlay",
              "size": 10,
              "solidity": 0.2
             }
            },
            "type": "bar"
           }
          ],
          "barpolar": [
           {
            "marker": {
             "line": {
              "color": "rgb(17,17,17)",
              "width": 0.5
             },
             "pattern": {
              "fillmode": "overlay",
              "size": 10,
              "solidity": 0.2
             }
            },
            "type": "barpolar"
           }
          ],
          "carpet": [
           {
            "aaxis": {
             "endlinecolor": "#A2B1C6",
             "gridcolor": "#506784",
             "linecolor": "#506784",
             "minorgridcolor": "#506784",
             "startlinecolor": "#A2B1C6"
            },
            "baxis": {
             "endlinecolor": "#A2B1C6",
             "gridcolor": "#506784",
             "linecolor": "#506784",
             "minorgridcolor": "#506784",
             "startlinecolor": "#A2B1C6"
            },
            "type": "carpet"
           }
          ],
          "choropleth": [
           {
            "colorbar": {
             "outlinewidth": 0,
             "ticks": ""
            },
            "type": "choropleth"
           }
          ],
          "contour": [
           {
            "colorbar": {
             "outlinewidth": 0,
             "ticks": ""
            },
            "colorscale": [
             [
              0,
              "#0d0887"
             ],
             [
              0.1111111111111111,
              "#46039f"
             ],
             [
              0.2222222222222222,
              "#7201a8"
             ],
             [
              0.3333333333333333,
              "#9c179e"
             ],
             [
              0.4444444444444444,
              "#bd3786"
             ],
             [
              0.5555555555555556,
              "#d8576b"
             ],
             [
              0.6666666666666666,
              "#ed7953"
             ],
             [
              0.7777777777777778,
              "#fb9f3a"
             ],
             [
              0.8888888888888888,
              "#fdca26"
             ],
             [
              1,
              "#f0f921"
             ]
            ],
            "type": "contour"
           }
          ],
          "contourcarpet": [
           {
            "colorbar": {
             "outlinewidth": 0,
             "ticks": ""
            },
            "type": "contourcarpet"
           }
          ],
          "heatmap": [
           {
            "colorbar": {
             "outlinewidth": 0,
             "ticks": ""
            },
            "colorscale": [
             [
              0,
              "#0d0887"
             ],
             [
              0.1111111111111111,
              "#46039f"
             ],
             [
              0.2222222222222222,
              "#7201a8"
             ],
             [
              0.3333333333333333,
              "#9c179e"
             ],
             [
              0.4444444444444444,
              "#bd3786"
             ],
             [
              0.5555555555555556,
              "#d8576b"
             ],
             [
              0.6666666666666666,
              "#ed7953"
             ],
             [
              0.7777777777777778,
              "#fb9f3a"
             ],
             [
              0.8888888888888888,
              "#fdca26"
             ],
             [
              1,
              "#f0f921"
             ]
            ],
            "type": "heatmap"
           }
          ],
          "heatmapgl": [
           {
            "colorbar": {
             "outlinewidth": 0,
             "ticks": ""
            },
            "colorscale": [
             [
              0,
              "#0d0887"
             ],
             [
              0.1111111111111111,
              "#46039f"
             ],
             [
              0.2222222222222222,
              "#7201a8"
             ],
             [
              0.3333333333333333,
              "#9c179e"
             ],
             [
              0.4444444444444444,
              "#bd3786"
             ],
             [
              0.5555555555555556,
              "#d8576b"
             ],
             [
              0.6666666666666666,
              "#ed7953"
             ],
             [
              0.7777777777777778,
              "#fb9f3a"
             ],
             [
              0.8888888888888888,
              "#fdca26"
             ],
             [
              1,
              "#f0f921"
             ]
            ],
            "type": "heatmapgl"
           }
          ],
          "histogram": [
           {
            "marker": {
             "pattern": {
              "fillmode": "overlay",
              "size": 10,
              "solidity": 0.2
             }
            },
            "type": "histogram"
           }
          ],
          "histogram2d": [
           {
            "colorbar": {
             "outlinewidth": 0,
             "ticks": ""
            },
            "colorscale": [
             [
              0,
              "#0d0887"
             ],
             [
              0.1111111111111111,
              "#46039f"
             ],
             [
              0.2222222222222222,
              "#7201a8"
             ],
             [
              0.3333333333333333,
              "#9c179e"
             ],
             [
              0.4444444444444444,
              "#bd3786"
             ],
             [
              0.5555555555555556,
              "#d8576b"
             ],
             [
              0.6666666666666666,
              "#ed7953"
             ],
             [
              0.7777777777777778,
              "#fb9f3a"
             ],
             [
              0.8888888888888888,
              "#fdca26"
             ],
             [
              1,
              "#f0f921"
             ]
            ],
            "type": "histogram2d"
           }
          ],
          "histogram2dcontour": [
           {
            "colorbar": {
             "outlinewidth": 0,
             "ticks": ""
            },
            "colorscale": [
             [
              0,
              "#0d0887"
             ],
             [
              0.1111111111111111,
              "#46039f"
             ],
             [
              0.2222222222222222,
              "#7201a8"
             ],
             [
              0.3333333333333333,
              "#9c179e"
             ],
             [
              0.4444444444444444,
              "#bd3786"
             ],
             [
              0.5555555555555556,
              "#d8576b"
             ],
             [
              0.6666666666666666,
              "#ed7953"
             ],
             [
              0.7777777777777778,
              "#fb9f3a"
             ],
             [
              0.8888888888888888,
              "#fdca26"
             ],
             [
              1,
              "#f0f921"
             ]
            ],
            "type": "histogram2dcontour"
           }
          ],
          "mesh3d": [
           {
            "colorbar": {
             "outlinewidth": 0,
             "ticks": ""
            },
            "type": "mesh3d"
           }
          ],
          "parcoords": [
           {
            "line": {
             "colorbar": {
              "outlinewidth": 0,
              "ticks": ""
             }
            },
            "type": "parcoords"
           }
          ],
          "pie": [
           {
            "automargin": true,
            "type": "pie"
           }
          ],
          "scatter": [
           {
            "marker": {
             "line": {
              "color": "#283442"
             }
            },
            "type": "scatter"
           }
          ],
          "scatter3d": [
           {
            "line": {
             "colorbar": {
              "outlinewidth": 0,
              "ticks": ""
             }
            },
            "marker": {
             "colorbar": {
              "outlinewidth": 0,
              "ticks": ""
             }
            },
            "type": "scatter3d"
           }
          ],
          "scattercarpet": [
           {
            "marker": {
             "colorbar": {
              "outlinewidth": 0,
              "ticks": ""
             }
            },
            "type": "scattercarpet"
           }
          ],
          "scattergeo": [
           {
            "marker": {
             "colorbar": {
              "outlinewidth": 0,
              "ticks": ""
             }
            },
            "type": "scattergeo"
           }
          ],
          "scattergl": [
           {
            "marker": {
             "line": {
              "color": "#283442"
             }
            },
            "type": "scattergl"
           }
          ],
          "scattermapbox": [
           {
            "marker": {
             "colorbar": {
              "outlinewidth": 0,
              "ticks": ""
             }
            },
            "type": "scattermapbox"
           }
          ],
          "scatterpolar": [
           {
            "marker": {
             "colorbar": {
              "outlinewidth": 0,
              "ticks": ""
             }
            },
            "type": "scatterpolar"
           }
          ],
          "scatterpolargl": [
           {
            "marker": {
             "colorbar": {
              "outlinewidth": 0,
              "ticks": ""
             }
            },
            "type": "scatterpolargl"
           }
          ],
          "scatterternary": [
           {
            "marker": {
             "colorbar": {
              "outlinewidth": 0,
              "ticks": ""
             }
            },
            "type": "scatterternary"
           }
          ],
          "surface": [
           {
            "colorbar": {
             "outlinewidth": 0,
             "ticks": ""
            },
            "colorscale": [
             [
              0,
              "#0d0887"
             ],
             [
              0.1111111111111111,
              "#46039f"
             ],
             [
              0.2222222222222222,
              "#7201a8"
             ],
             [
              0.3333333333333333,
              "#9c179e"
             ],
             [
              0.4444444444444444,
              "#bd3786"
             ],
             [
              0.5555555555555556,
              "#d8576b"
             ],
             [
              0.6666666666666666,
              "#ed7953"
             ],
             [
              0.7777777777777778,
              "#fb9f3a"
             ],
             [
              0.8888888888888888,
              "#fdca26"
             ],
             [
              1,
              "#f0f921"
             ]
            ],
            "type": "surface"
           }
          ],
          "table": [
           {
            "cells": {
             "fill": {
              "color": "#506784"
             },
             "line": {
              "color": "rgb(17,17,17)"
             }
            },
            "header": {
             "fill": {
              "color": "#2a3f5f"
             },
             "line": {
              "color": "rgb(17,17,17)"
             }
            },
            "type": "table"
           }
          ]
         },
         "layout": {
          "annotationdefaults": {
           "arrowcolor": "#f2f5fa",
           "arrowhead": 0,
           "arrowwidth": 1
          },
          "autotypenumbers": "strict",
          "coloraxis": {
           "colorbar": {
            "outlinewidth": 0,
            "ticks": ""
           }
          },
          "colorscale": {
           "diverging": [
            [
             0,
             "#8e0152"
            ],
            [
             0.1,
             "#c51b7d"
            ],
            [
             0.2,
             "#de77ae"
            ],
            [
             0.3,
             "#f1b6da"
            ],
            [
             0.4,
             "#fde0ef"
            ],
            [
             0.5,
             "#f7f7f7"
            ],
            [
             0.6,
             "#e6f5d0"
            ],
            [
             0.7,
             "#b8e186"
            ],
            [
             0.8,
             "#7fbc41"
            ],
            [
             0.9,
             "#4d9221"
            ],
            [
             1,
             "#276419"
            ]
           ],
           "sequential": [
            [
             0,
             "#0d0887"
            ],
            [
             0.1111111111111111,
             "#46039f"
            ],
            [
             0.2222222222222222,
             "#7201a8"
            ],
            [
             0.3333333333333333,
             "#9c179e"
            ],
            [
             0.4444444444444444,
             "#bd3786"
            ],
            [
             0.5555555555555556,
             "#d8576b"
            ],
            [
             0.6666666666666666,
             "#ed7953"
            ],
            [
             0.7777777777777778,
             "#fb9f3a"
            ],
            [
             0.8888888888888888,
             "#fdca26"
            ],
            [
             1,
             "#f0f921"
            ]
           ],
           "sequentialminus": [
            [
             0,
             "#0d0887"
            ],
            [
             0.1111111111111111,
             "#46039f"
            ],
            [
             0.2222222222222222,
             "#7201a8"
            ],
            [
             0.3333333333333333,
             "#9c179e"
            ],
            [
             0.4444444444444444,
             "#bd3786"
            ],
            [
             0.5555555555555556,
             "#d8576b"
            ],
            [
             0.6666666666666666,
             "#ed7953"
            ],
            [
             0.7777777777777778,
             "#fb9f3a"
            ],
            [
             0.8888888888888888,
             "#fdca26"
            ],
            [
             1,
             "#f0f921"
            ]
           ]
          },
          "colorway": [
           "#636efa",
           "#EF553B",
           "#00cc96",
           "#ab63fa",
           "#FFA15A",
           "#19d3f3",
           "#FF6692",
           "#B6E880",
           "#FF97FF",
           "#FECB52"
          ],
          "font": {
           "color": "#f2f5fa"
          },
          "geo": {
           "bgcolor": "rgb(17,17,17)",
           "lakecolor": "rgb(17,17,17)",
           "landcolor": "rgb(17,17,17)",
           "showlakes": true,
           "showland": true,
           "subunitcolor": "#506784"
          },
          "hoverlabel": {
           "align": "left"
          },
          "hovermode": "closest",
          "mapbox": {
           "style": "dark"
          },
          "paper_bgcolor": "rgb(17,17,17)",
          "plot_bgcolor": "rgb(17,17,17)",
          "polar": {
           "angularaxis": {
            "gridcolor": "#506784",
            "linecolor": "#506784",
            "ticks": ""
           },
           "bgcolor": "rgb(17,17,17)",
           "radialaxis": {
            "gridcolor": "#506784",
            "linecolor": "#506784",
            "ticks": ""
           }
          },
          "scene": {
           "xaxis": {
            "backgroundcolor": "rgb(17,17,17)",
            "gridcolor": "#506784",
            "gridwidth": 2,
            "linecolor": "#506784",
            "showbackground": true,
            "ticks": "",
            "zerolinecolor": "#C8D4E3"
           },
           "yaxis": {
            "backgroundcolor": "rgb(17,17,17)",
            "gridcolor": "#506784",
            "gridwidth": 2,
            "linecolor": "#506784",
            "showbackground": true,
            "ticks": "",
            "zerolinecolor": "#C8D4E3"
           },
           "zaxis": {
            "backgroundcolor": "rgb(17,17,17)",
            "gridcolor": "#506784",
            "gridwidth": 2,
            "linecolor": "#506784",
            "showbackground": true,
            "ticks": "",
            "zerolinecolor": "#C8D4E3"
           }
          },
          "shapedefaults": {
           "line": {
            "color": "#f2f5fa"
           }
          },
          "sliderdefaults": {
           "bgcolor": "#C8D4E3",
           "bordercolor": "rgb(17,17,17)",
           "borderwidth": 1,
           "tickwidth": 0
          },
          "ternary": {
           "aaxis": {
            "gridcolor": "#506784",
            "linecolor": "#506784",
            "ticks": ""
           },
           "baxis": {
            "gridcolor": "#506784",
            "linecolor": "#506784",
            "ticks": ""
           },
           "bgcolor": "rgb(17,17,17)",
           "caxis": {
            "gridcolor": "#506784",
            "linecolor": "#506784",
            "ticks": ""
           }
          },
          "title": {
           "x": 0.05
          },
          "updatemenudefaults": {
           "bgcolor": "#506784",
           "borderwidth": 0
          },
          "xaxis": {
           "automargin": true,
           "gridcolor": "#283442",
           "linecolor": "#506784",
           "ticks": "",
           "title": {
            "standoff": 15
           },
           "zerolinecolor": "#283442",
           "zerolinewidth": 2
          },
          "yaxis": {
           "automargin": true,
           "gridcolor": "#283442",
           "linecolor": "#506784",
           "ticks": "",
           "title": {
            "standoff": 15
           },
           "zerolinecolor": "#283442",
           "zerolinewidth": 2
          }
         }
        },
        "title": {
         "text": "Children per Woman Aged 30 - 39 Slopes by Education Segment (2020)"
        },
        "xaxis": {
         "anchor": "y",
         "domain": [
          0,
          1
         ],
         "title": {
          "text": "Total Women"
         }
        },
        "yaxis": {
         "anchor": "x",
         "domain": [
          0,
          1
         ],
         "title": {
          "text": "Total Children"
         }
        }
       }
      }
     },
     "metadata": {},
     "output_type": "display_data"
    },
    {
     "data": {
      "application/vnd.plotly.v1+json": {
       "config": {
        "plotlyServerURL": "https://plot.ly"
       },
       "data": [
        {
         "customdata": [
          [
           0.5499335466179159
          ]
         ],
         "hovertemplate": "Education=High School<br>Age Group=20 - 29<br>Total Women=%{x}<br>Total Children=%{y}<br>Size=%{marker.size}<br>Children Ever Born per Woman=%{customdata[0]}<extra></extra>",
         "legendgroup": "High School, 20 - 29",
         "marker": {
          "color": "rgb(117,112,179)",
          "size": [
           10
          ],
          "sizemode": "area",
          "sizeref": 0.1,
          "symbol": "circle"
         },
         "mode": "markers",
         "name": "High School, 20 - 29",
         "orientation": "v",
         "showlegend": true,
         "type": "scatter",
         "x": [
          10940000
         ],
         "xaxis": "x",
         "y": [
          6016273
         ],
         "yaxis": "y"
        },
        {
         "customdata": [
          [
           1.7568594594594595
          ]
         ],
         "hovertemplate": "Education=High School<br>Age Group=30 - 39<br>Total Women=%{x}<br>Total Children=%{y}<br>Size=%{marker.size}<br>Children Ever Born per Woman=%{customdata[0]}<extra></extra>",
         "legendgroup": "High School, 30 - 39",
         "marker": {
          "color": "rgb(117,112,179)",
          "size": [
           20
          ],
          "sizemode": "area",
          "sizeref": 0.1,
          "symbol": "diamond"
         },
         "mode": "markers",
         "name": "High School, 30 - 39",
         "orientation": "v",
         "showlegend": true,
         "type": "scatter",
         "x": [
          7400000
         ],
         "xaxis": "x",
         "y": [
          13000760
         ],
         "yaxis": "y"
        },
        {
         "customdata": [
          [
           2.1096201216421693
          ]
         ],
         "hovertemplate": "Education=High School<br>Age Group=40 - 50<br>Total Women=%{x}<br>Total Children=%{y}<br>Size=%{marker.size}<br>Children Ever Born per Woman=%{customdata[0]}<extra></extra>",
         "legendgroup": "High School, 40 - 50",
         "marker": {
          "color": "rgb(117,112,179)",
          "size": [
           30
          ],
          "sizemode": "area",
          "sizeref": 0.1,
          "symbol": "square"
         },
         "mode": "markers",
         "name": "High School, 40 - 50",
         "orientation": "v",
         "showlegend": true,
         "type": "scatter",
         "x": [
          7892000
         ],
         "xaxis": "x",
         "y": [
          16649122
         ],
         "yaxis": "y"
        },
        {
         "customdata": [
          [
           1.3596429932906373
          ]
         ],
         "hovertemplate": "Education=High School<br>Age Group=20 - 50<br>Total Women=%{x}<br>Total Children=%{y}<br>Size=%{marker.size}<br>Children Ever Born per Woman=%{customdata[0]}<extra></extra>",
         "legendgroup": "High School, 20 - 50",
         "marker": {
          "color": "rgb(117,112,179)",
          "size": [
           40
          ],
          "sizemode": "area",
          "sizeref": 0.1,
          "symbol": "x"
         },
         "mode": "markers",
         "name": "High School, 20 - 50",
         "orientation": "v",
         "showlegend": true,
         "type": "scatter",
         "x": [
          26232000
         ],
         "xaxis": "x",
         "y": [
          35666155
         ],
         "yaxis": "y"
        },
        {
         "customdata": [
          [
           0.252
          ]
         ],
         "hovertemplate": "Education=Bachelor's<br>Age Group=20 - 29<br>Total Women=%{x}<br>Total Children=%{y}<br>Size=%{marker.size}<br>Children Ever Born per Woman=%{customdata[0]}<extra></extra>",
         "legendgroup": "Bachelor's, 20 - 29",
         "marker": {
          "color": "rgb(27,158,119)",
          "size": [
           10
          ],
          "sizemode": "area",
          "sizeref": 0.1,
          "symbol": "circle"
         },
         "mode": "markers",
         "name": "Bachelor's, 20 - 29",
         "orientation": "v",
         "showlegend": true,
         "type": "scatter",
         "x": [
          6139000
         ],
         "xaxis": "x",
         "y": [
          1547028
         ],
         "yaxis": "y"
        },
        {
         "customdata": [
          [
           1.26
          ]
         ],
         "hovertemplate": "Education=Bachelor's<br>Age Group=30 - 39<br>Total Women=%{x}<br>Total Children=%{y}<br>Size=%{marker.size}<br>Children Ever Born per Woman=%{customdata[0]}<extra></extra>",
         "legendgroup": "Bachelor's, 30 - 39",
         "marker": {
          "color": "rgb(27,158,119)",
          "size": [
           20
          ],
          "sizemode": "area",
          "sizeref": 0.1,
          "symbol": "diamond"
         },
         "mode": "markers",
         "name": "Bachelor's, 30 - 39",
         "orientation": "v",
         "showlegend": true,
         "type": "scatter",
         "x": [
          6463000
         ],
         "xaxis": "x",
         "y": [
          8143380
         ],
         "yaxis": "y"
        },
        {
         "customdata": [
          [
           1.863
          ]
         ],
         "hovertemplate": "Education=Bachelor's<br>Age Group=40 - 50<br>Total Women=%{x}<br>Total Children=%{y}<br>Size=%{marker.size}<br>Children Ever Born per Woman=%{customdata[0]}<extra></extra>",
         "legendgroup": "Bachelor's, 40 - 50",
         "marker": {
          "color": "rgb(27,158,119)",
          "size": [
           30
          ],
          "sizemode": "area",
          "sizeref": 0.1,
          "symbol": "square"
         },
         "mode": "markers",
         "name": "Bachelor's, 40 - 50",
         "orientation": "v",
         "showlegend": true,
         "type": "scatter",
         "x": [
          5899000
         ],
         "xaxis": "x",
         "y": [
          10989837
         ],
         "yaxis": "y"
        },
        {
         "customdata": [
          [
           1.1177906599643264
          ]
         ],
         "hovertemplate": "Education=Bachelor's<br>Age Group=20 - 50<br>Total Women=%{x}<br>Total Children=%{y}<br>Size=%{marker.size}<br>Children Ever Born per Woman=%{customdata[0]}<extra></extra>",
         "legendgroup": "Bachelor's, 20 - 50",
         "marker": {
          "color": "rgb(27,158,119)",
          "size": [
           40
          ],
          "sizemode": "area",
          "sizeref": 0.1,
          "symbol": "x"
         },
         "mode": "markers",
         "name": "Bachelor's, 20 - 50",
         "orientation": "v",
         "showlegend": true,
         "type": "scatter",
         "x": [
          18501000
         ],
         "xaxis": "x",
         "y": [
          20680245
         ],
         "yaxis": "y"
        },
        {
         "customdata": [
          [
           0.268
          ]
         ],
         "hovertemplate": "Education=Graduate<br>Age Group=20 - 29<br>Total Women=%{x}<br>Total Children=%{y}<br>Size=%{marker.size}<br>Children Ever Born per Woman=%{customdata[0]}<extra></extra>",
         "legendgroup": "Graduate, 20 - 29",
         "marker": {
          "color": "rgb(217,95,2)",
          "size": [
           10
          ],
          "sizemode": "area",
          "sizeref": 0.1,
          "symbol": "circle"
         },
         "mode": "markers",
         "name": "Graduate, 20 - 29",
         "orientation": "v",
         "showlegend": true,
         "type": "scatter",
         "x": [
          1471000
         ],
         "xaxis": "x",
         "y": [
          394228
         ],
         "yaxis": "y"
        },
        {
         "customdata": [
          [
           1.173
          ]
         ],
         "hovertemplate": "Education=Graduate<br>Age Group=30 - 39<br>Total Women=%{x}<br>Total Children=%{y}<br>Size=%{marker.size}<br>Children Ever Born per Woman=%{customdata[0]}<extra></extra>",
         "legendgroup": "Graduate, 30 - 39",
         "marker": {
          "color": "rgb(217,95,2)",
          "size": [
           20
          ],
          "sizemode": "area",
          "sizeref": 0.1,
          "symbol": "diamond"
         },
         "mode": "markers",
         "name": "Graduate, 30 - 39",
         "orientation": "v",
         "showlegend": true,
         "type": "scatter",
         "x": [
          4327000
         ],
         "xaxis": "x",
         "y": [
          5075571
         ],
         "yaxis": "y"
        },
        {
         "customdata": [
          [
           1.702
          ]
         ],
         "hovertemplate": "Education=Graduate<br>Age Group=40 - 50<br>Total Women=%{x}<br>Total Children=%{y}<br>Size=%{marker.size}<br>Children Ever Born per Woman=%{customdata[0]}<extra></extra>",
         "legendgroup": "Graduate, 40 - 50",
         "marker": {
          "color": "rgb(217,95,2)",
          "size": [
           30
          ],
          "sizemode": "area",
          "sizeref": 0.1,
          "symbol": "square"
         },
         "mode": "markers",
         "name": "Graduate, 40 - 50",
         "orientation": "v",
         "showlegend": true,
         "type": "scatter",
         "x": [
          4196000
         ],
         "xaxis": "x",
         "y": [
          7141592
         ],
         "yaxis": "y"
        },
        {
         "customdata": [
          [
           1.2618962377426455
          ]
         ],
         "hovertemplate": "Education=Graduate<br>Age Group=20 - 50<br>Total Women=%{x}<br>Total Children=%{y}<br>Size=%{marker.size}<br>Children Ever Born per Woman=%{customdata[0]}<extra></extra>",
         "legendgroup": "Graduate, 20 - 50",
         "marker": {
          "color": "rgb(217,95,2)",
          "size": [
           40
          ],
          "sizemode": "area",
          "sizeref": 0.1,
          "symbol": "x"
         },
         "mode": "markers",
         "name": "Graduate, 20 - 50",
         "orientation": "v",
         "showlegend": true,
         "type": "scatter",
         "x": [
          9994000
         ],
         "xaxis": "x",
         "y": [
          12611391
         ],
         "yaxis": "y"
        }
       ],
       "layout": {
        "legend": {
         "itemsizing": "constant",
         "title": {
          "text": "Education, Age Group"
         },
         "tracegroupgap": 0
        },
        "paper_bgcolor": "rgba(0,0,0,0)",
        "plot_bgcolor": "rgba(0,0,0,0)",
        "shapes": [
         {
          "layer": "below",
          "line": {
           "color": "rgb(117,112,179)",
           "dash": "dot",
           "width": 2
          },
          "type": "line",
          "x0": 0,
          "x1": 7892000,
          "y0": 0,
          "y1": 16649122
         },
         {
          "layer": "below",
          "line": {
           "color": "rgb(27,158,119)",
           "dash": "dot",
           "width": 2
          },
          "type": "line",
          "x0": 0,
          "x1": 5899000,
          "y0": 0,
          "y1": 10989837
         },
         {
          "layer": "below",
          "line": {
           "color": "rgb(217,95,2)",
           "dash": "dot",
           "width": 2
          },
          "type": "line",
          "x0": 0,
          "x1": 4196000,
          "y0": 0,
          "y1": 7141592
         }
        ],
        "template": {
         "data": {
          "bar": [
           {
            "error_x": {
             "color": "#f2f5fa"
            },
            "error_y": {
             "color": "#f2f5fa"
            },
            "marker": {
             "line": {
              "color": "rgb(17,17,17)",
              "width": 0.5
             },
             "pattern": {
              "fillmode": "overlay",
              "size": 10,
              "solidity": 0.2
             }
            },
            "type": "bar"
           }
          ],
          "barpolar": [
           {
            "marker": {
             "line": {
              "color": "rgb(17,17,17)",
              "width": 0.5
             },
             "pattern": {
              "fillmode": "overlay",
              "size": 10,
              "solidity": 0.2
             }
            },
            "type": "barpolar"
           }
          ],
          "carpet": [
           {
            "aaxis": {
             "endlinecolor": "#A2B1C6",
             "gridcolor": "#506784",
             "linecolor": "#506784",
             "minorgridcolor": "#506784",
             "startlinecolor": "#A2B1C6"
            },
            "baxis": {
             "endlinecolor": "#A2B1C6",
             "gridcolor": "#506784",
             "linecolor": "#506784",
             "minorgridcolor": "#506784",
             "startlinecolor": "#A2B1C6"
            },
            "type": "carpet"
           }
          ],
          "choropleth": [
           {
            "colorbar": {
             "outlinewidth": 0,
             "ticks": ""
            },
            "type": "choropleth"
           }
          ],
          "contour": [
           {
            "colorbar": {
             "outlinewidth": 0,
             "ticks": ""
            },
            "colorscale": [
             [
              0,
              "#0d0887"
             ],
             [
              0.1111111111111111,
              "#46039f"
             ],
             [
              0.2222222222222222,
              "#7201a8"
             ],
             [
              0.3333333333333333,
              "#9c179e"
             ],
             [
              0.4444444444444444,
              "#bd3786"
             ],
             [
              0.5555555555555556,
              "#d8576b"
             ],
             [
              0.6666666666666666,
              "#ed7953"
             ],
             [
              0.7777777777777778,
              "#fb9f3a"
             ],
             [
              0.8888888888888888,
              "#fdca26"
             ],
             [
              1,
              "#f0f921"
             ]
            ],
            "type": "contour"
           }
          ],
          "contourcarpet": [
           {
            "colorbar": {
             "outlinewidth": 0,
             "ticks": ""
            },
            "type": "contourcarpet"
           }
          ],
          "heatmap": [
           {
            "colorbar": {
             "outlinewidth": 0,
             "ticks": ""
            },
            "colorscale": [
             [
              0,
              "#0d0887"
             ],
             [
              0.1111111111111111,
              "#46039f"
             ],
             [
              0.2222222222222222,
              "#7201a8"
             ],
             [
              0.3333333333333333,
              "#9c179e"
             ],
             [
              0.4444444444444444,
              "#bd3786"
             ],
             [
              0.5555555555555556,
              "#d8576b"
             ],
             [
              0.6666666666666666,
              "#ed7953"
             ],
             [
              0.7777777777777778,
              "#fb9f3a"
             ],
             [
              0.8888888888888888,
              "#fdca26"
             ],
             [
              1,
              "#f0f921"
             ]
            ],
            "type": "heatmap"
           }
          ],
          "heatmapgl": [
           {
            "colorbar": {
             "outlinewidth": 0,
             "ticks": ""
            },
            "colorscale": [
             [
              0,
              "#0d0887"
             ],
             [
              0.1111111111111111,
              "#46039f"
             ],
             [
              0.2222222222222222,
              "#7201a8"
             ],
             [
              0.3333333333333333,
              "#9c179e"
             ],
             [
              0.4444444444444444,
              "#bd3786"
             ],
             [
              0.5555555555555556,
              "#d8576b"
             ],
             [
              0.6666666666666666,
              "#ed7953"
             ],
             [
              0.7777777777777778,
              "#fb9f3a"
             ],
             [
              0.8888888888888888,
              "#fdca26"
             ],
             [
              1,
              "#f0f921"
             ]
            ],
            "type": "heatmapgl"
           }
          ],
          "histogram": [
           {
            "marker": {
             "pattern": {
              "fillmode": "overlay",
              "size": 10,
              "solidity": 0.2
             }
            },
            "type": "histogram"
           }
          ],
          "histogram2d": [
           {
            "colorbar": {
             "outlinewidth": 0,
             "ticks": ""
            },
            "colorscale": [
             [
              0,
              "#0d0887"
             ],
             [
              0.1111111111111111,
              "#46039f"
             ],
             [
              0.2222222222222222,
              "#7201a8"
             ],
             [
              0.3333333333333333,
              "#9c179e"
             ],
             [
              0.4444444444444444,
              "#bd3786"
             ],
             [
              0.5555555555555556,
              "#d8576b"
             ],
             [
              0.6666666666666666,
              "#ed7953"
             ],
             [
              0.7777777777777778,
              "#fb9f3a"
             ],
             [
              0.8888888888888888,
              "#fdca26"
             ],
             [
              1,
              "#f0f921"
             ]
            ],
            "type": "histogram2d"
           }
          ],
          "histogram2dcontour": [
           {
            "colorbar": {
             "outlinewidth": 0,
             "ticks": ""
            },
            "colorscale": [
             [
              0,
              "#0d0887"
             ],
             [
              0.1111111111111111,
              "#46039f"
             ],
             [
              0.2222222222222222,
              "#7201a8"
             ],
             [
              0.3333333333333333,
              "#9c179e"
             ],
             [
              0.4444444444444444,
              "#bd3786"
             ],
             [
              0.5555555555555556,
              "#d8576b"
             ],
             [
              0.6666666666666666,
              "#ed7953"
             ],
             [
              0.7777777777777778,
              "#fb9f3a"
             ],
             [
              0.8888888888888888,
              "#fdca26"
             ],
             [
              1,
              "#f0f921"
             ]
            ],
            "type": "histogram2dcontour"
           }
          ],
          "mesh3d": [
           {
            "colorbar": {
             "outlinewidth": 0,
             "ticks": ""
            },
            "type": "mesh3d"
           }
          ],
          "parcoords": [
           {
            "line": {
             "colorbar": {
              "outlinewidth": 0,
              "ticks": ""
             }
            },
            "type": "parcoords"
           }
          ],
          "pie": [
           {
            "automargin": true,
            "type": "pie"
           }
          ],
          "scatter": [
           {
            "marker": {
             "line": {
              "color": "#283442"
             }
            },
            "type": "scatter"
           }
          ],
          "scatter3d": [
           {
            "line": {
             "colorbar": {
              "outlinewidth": 0,
              "ticks": ""
             }
            },
            "marker": {
             "colorbar": {
              "outlinewidth": 0,
              "ticks": ""
             }
            },
            "type": "scatter3d"
           }
          ],
          "scattercarpet": [
           {
            "marker": {
             "colorbar": {
              "outlinewidth": 0,
              "ticks": ""
             }
            },
            "type": "scattercarpet"
           }
          ],
          "scattergeo": [
           {
            "marker": {
             "colorbar": {
              "outlinewidth": 0,
              "ticks": ""
             }
            },
            "type": "scattergeo"
           }
          ],
          "scattergl": [
           {
            "marker": {
             "line": {
              "color": "#283442"
             }
            },
            "type": "scattergl"
           }
          ],
          "scattermapbox": [
           {
            "marker": {
             "colorbar": {
              "outlinewidth": 0,
              "ticks": ""
             }
            },
            "type": "scattermapbox"
           }
          ],
          "scatterpolar": [
           {
            "marker": {
             "colorbar": {
              "outlinewidth": 0,
              "ticks": ""
             }
            },
            "type": "scatterpolar"
           }
          ],
          "scatterpolargl": [
           {
            "marker": {
             "colorbar": {
              "outlinewidth": 0,
              "ticks": ""
             }
            },
            "type": "scatterpolargl"
           }
          ],
          "scatterternary": [
           {
            "marker": {
             "colorbar": {
              "outlinewidth": 0,
              "ticks": ""
             }
            },
            "type": "scatterternary"
           }
          ],
          "surface": [
           {
            "colorbar": {
             "outlinewidth": 0,
             "ticks": ""
            },
            "colorscale": [
             [
              0,
              "#0d0887"
             ],
             [
              0.1111111111111111,
              "#46039f"
             ],
             [
              0.2222222222222222,
              "#7201a8"
             ],
             [
              0.3333333333333333,
              "#9c179e"
             ],
             [
              0.4444444444444444,
              "#bd3786"
             ],
             [
              0.5555555555555556,
              "#d8576b"
             ],
             [
              0.6666666666666666,
              "#ed7953"
             ],
             [
              0.7777777777777778,
              "#fb9f3a"
             ],
             [
              0.8888888888888888,
              "#fdca26"
             ],
             [
              1,
              "#f0f921"
             ]
            ],
            "type": "surface"
           }
          ],
          "table": [
           {
            "cells": {
             "fill": {
              "color": "#506784"
             },
             "line": {
              "color": "rgb(17,17,17)"
             }
            },
            "header": {
             "fill": {
              "color": "#2a3f5f"
             },
             "line": {
              "color": "rgb(17,17,17)"
             }
            },
            "type": "table"
           }
          ]
         },
         "layout": {
          "annotationdefaults": {
           "arrowcolor": "#f2f5fa",
           "arrowhead": 0,
           "arrowwidth": 1
          },
          "autotypenumbers": "strict",
          "coloraxis": {
           "colorbar": {
            "outlinewidth": 0,
            "ticks": ""
           }
          },
          "colorscale": {
           "diverging": [
            [
             0,
             "#8e0152"
            ],
            [
             0.1,
             "#c51b7d"
            ],
            [
             0.2,
             "#de77ae"
            ],
            [
             0.3,
             "#f1b6da"
            ],
            [
             0.4,
             "#fde0ef"
            ],
            [
             0.5,
             "#f7f7f7"
            ],
            [
             0.6,
             "#e6f5d0"
            ],
            [
             0.7,
             "#b8e186"
            ],
            [
             0.8,
             "#7fbc41"
            ],
            [
             0.9,
             "#4d9221"
            ],
            [
             1,
             "#276419"
            ]
           ],
           "sequential": [
            [
             0,
             "#0d0887"
            ],
            [
             0.1111111111111111,
             "#46039f"
            ],
            [
             0.2222222222222222,
             "#7201a8"
            ],
            [
             0.3333333333333333,
             "#9c179e"
            ],
            [
             0.4444444444444444,
             "#bd3786"
            ],
            [
             0.5555555555555556,
             "#d8576b"
            ],
            [
             0.6666666666666666,
             "#ed7953"
            ],
            [
             0.7777777777777778,
             "#fb9f3a"
            ],
            [
             0.8888888888888888,
             "#fdca26"
            ],
            [
             1,
             "#f0f921"
            ]
           ],
           "sequentialminus": [
            [
             0,
             "#0d0887"
            ],
            [
             0.1111111111111111,
             "#46039f"
            ],
            [
             0.2222222222222222,
             "#7201a8"
            ],
            [
             0.3333333333333333,
             "#9c179e"
            ],
            [
             0.4444444444444444,
             "#bd3786"
            ],
            [
             0.5555555555555556,
             "#d8576b"
            ],
            [
             0.6666666666666666,
             "#ed7953"
            ],
            [
             0.7777777777777778,
             "#fb9f3a"
            ],
            [
             0.8888888888888888,
             "#fdca26"
            ],
            [
             1,
             "#f0f921"
            ]
           ]
          },
          "colorway": [
           "#636efa",
           "#EF553B",
           "#00cc96",
           "#ab63fa",
           "#FFA15A",
           "#19d3f3",
           "#FF6692",
           "#B6E880",
           "#FF97FF",
           "#FECB52"
          ],
          "font": {
           "color": "#f2f5fa"
          },
          "geo": {
           "bgcolor": "rgb(17,17,17)",
           "lakecolor": "rgb(17,17,17)",
           "landcolor": "rgb(17,17,17)",
           "showlakes": true,
           "showland": true,
           "subunitcolor": "#506784"
          },
          "hoverlabel": {
           "align": "left"
          },
          "hovermode": "closest",
          "mapbox": {
           "style": "dark"
          },
          "paper_bgcolor": "rgb(17,17,17)",
          "plot_bgcolor": "rgb(17,17,17)",
          "polar": {
           "angularaxis": {
            "gridcolor": "#506784",
            "linecolor": "#506784",
            "ticks": ""
           },
           "bgcolor": "rgb(17,17,17)",
           "radialaxis": {
            "gridcolor": "#506784",
            "linecolor": "#506784",
            "ticks": ""
           }
          },
          "scene": {
           "xaxis": {
            "backgroundcolor": "rgb(17,17,17)",
            "gridcolor": "#506784",
            "gridwidth": 2,
            "linecolor": "#506784",
            "showbackground": true,
            "ticks": "",
            "zerolinecolor": "#C8D4E3"
           },
           "yaxis": {
            "backgroundcolor": "rgb(17,17,17)",
            "gridcolor": "#506784",
            "gridwidth": 2,
            "linecolor": "#506784",
            "showbackground": true,
            "ticks": "",
            "zerolinecolor": "#C8D4E3"
           },
           "zaxis": {
            "backgroundcolor": "rgb(17,17,17)",
            "gridcolor": "#506784",
            "gridwidth": 2,
            "linecolor": "#506784",
            "showbackground": true,
            "ticks": "",
            "zerolinecolor": "#C8D4E3"
           }
          },
          "shapedefaults": {
           "line": {
            "color": "#f2f5fa"
           }
          },
          "sliderdefaults": {
           "bgcolor": "#C8D4E3",
           "bordercolor": "rgb(17,17,17)",
           "borderwidth": 1,
           "tickwidth": 0
          },
          "ternary": {
           "aaxis": {
            "gridcolor": "#506784",
            "linecolor": "#506784",
            "ticks": ""
           },
           "baxis": {
            "gridcolor": "#506784",
            "linecolor": "#506784",
            "ticks": ""
           },
           "bgcolor": "rgb(17,17,17)",
           "caxis": {
            "gridcolor": "#506784",
            "linecolor": "#506784",
            "ticks": ""
           }
          },
          "title": {
           "x": 0.05
          },
          "updatemenudefaults": {
           "bgcolor": "#506784",
           "borderwidth": 0
          },
          "xaxis": {
           "automargin": true,
           "gridcolor": "#283442",
           "linecolor": "#506784",
           "ticks": "",
           "title": {
            "standoff": 15
           },
           "zerolinecolor": "#283442",
           "zerolinewidth": 2
          },
          "yaxis": {
           "automargin": true,
           "gridcolor": "#283442",
           "linecolor": "#506784",
           "ticks": "",
           "title": {
            "standoff": 15
           },
           "zerolinecolor": "#283442",
           "zerolinewidth": 2
          }
         }
        },
        "title": {
         "text": "Children per Woman Aged 40 - 50 Slopes by Education Segment (2020)"
        },
        "xaxis": {
         "anchor": "y",
         "domain": [
          0,
          1
         ],
         "title": {
          "text": "Total Women"
         }
        },
        "yaxis": {
         "anchor": "x",
         "domain": [
          0,
          1
         ],
         "title": {
          "text": "Total Children"
         }
        }
       }
      }
     },
     "metadata": {},
     "output_type": "display_data"
    },
    {
     "data": {
      "application/vnd.plotly.v1+json": {
       "config": {
        "plotlyServerURL": "https://plot.ly"
       },
       "data": [
        {
         "customdata": [
          [
           0.5499335466179159
          ]
         ],
         "hovertemplate": "Education=High School<br>Age Group=20 - 29<br>Total Women=%{x}<br>Total Children=%{y}<br>Size=%{marker.size}<br>Children Ever Born per Woman=%{customdata[0]}<extra></extra>",
         "legendgroup": "High School, 20 - 29",
         "marker": {
          "color": "rgb(117,112,179)",
          "size": [
           10
          ],
          "sizemode": "area",
          "sizeref": 0.1,
          "symbol": "circle"
         },
         "mode": "markers",
         "name": "High School, 20 - 29",
         "orientation": "v",
         "showlegend": true,
         "type": "scatter",
         "x": [
          10940000
         ],
         "xaxis": "x",
         "y": [
          6016273
         ],
         "yaxis": "y"
        },
        {
         "customdata": [
          [
           1.7568594594594595
          ]
         ],
         "hovertemplate": "Education=High School<br>Age Group=30 - 39<br>Total Women=%{x}<br>Total Children=%{y}<br>Size=%{marker.size}<br>Children Ever Born per Woman=%{customdata[0]}<extra></extra>",
         "legendgroup": "High School, 30 - 39",
         "marker": {
          "color": "rgb(117,112,179)",
          "size": [
           20
          ],
          "sizemode": "area",
          "sizeref": 0.1,
          "symbol": "diamond"
         },
         "mode": "markers",
         "name": "High School, 30 - 39",
         "orientation": "v",
         "showlegend": true,
         "type": "scatter",
         "x": [
          7400000
         ],
         "xaxis": "x",
         "y": [
          13000760
         ],
         "yaxis": "y"
        },
        {
         "customdata": [
          [
           2.1096201216421693
          ]
         ],
         "hovertemplate": "Education=High School<br>Age Group=40 - 50<br>Total Women=%{x}<br>Total Children=%{y}<br>Size=%{marker.size}<br>Children Ever Born per Woman=%{customdata[0]}<extra></extra>",
         "legendgroup": "High School, 40 - 50",
         "marker": {
          "color": "rgb(117,112,179)",
          "size": [
           30
          ],
          "sizemode": "area",
          "sizeref": 0.1,
          "symbol": "square"
         },
         "mode": "markers",
         "name": "High School, 40 - 50",
         "orientation": "v",
         "showlegend": true,
         "type": "scatter",
         "x": [
          7892000
         ],
         "xaxis": "x",
         "y": [
          16649122
         ],
         "yaxis": "y"
        },
        {
         "customdata": [
          [
           1.3596429932906373
          ]
         ],
         "hovertemplate": "Education=High School<br>Age Group=20 - 50<br>Total Women=%{x}<br>Total Children=%{y}<br>Size=%{marker.size}<br>Children Ever Born per Woman=%{customdata[0]}<extra></extra>",
         "legendgroup": "High School, 20 - 50",
         "marker": {
          "color": "rgb(117,112,179)",
          "size": [
           40
          ],
          "sizemode": "area",
          "sizeref": 0.1,
          "symbol": "x"
         },
         "mode": "markers",
         "name": "High School, 20 - 50",
         "orientation": "v",
         "showlegend": true,
         "type": "scatter",
         "x": [
          26232000
         ],
         "xaxis": "x",
         "y": [
          35666155
         ],
         "yaxis": "y"
        },
        {
         "customdata": [
          [
           0.252
          ]
         ],
         "hovertemplate": "Education=Bachelor's<br>Age Group=20 - 29<br>Total Women=%{x}<br>Total Children=%{y}<br>Size=%{marker.size}<br>Children Ever Born per Woman=%{customdata[0]}<extra></extra>",
         "legendgroup": "Bachelor's, 20 - 29",
         "marker": {
          "color": "rgb(27,158,119)",
          "size": [
           10
          ],
          "sizemode": "area",
          "sizeref": 0.1,
          "symbol": "circle"
         },
         "mode": "markers",
         "name": "Bachelor's, 20 - 29",
         "orientation": "v",
         "showlegend": true,
         "type": "scatter",
         "x": [
          6139000
         ],
         "xaxis": "x",
         "y": [
          1547028
         ],
         "yaxis": "y"
        },
        {
         "customdata": [
          [
           1.26
          ]
         ],
         "hovertemplate": "Education=Bachelor's<br>Age Group=30 - 39<br>Total Women=%{x}<br>Total Children=%{y}<br>Size=%{marker.size}<br>Children Ever Born per Woman=%{customdata[0]}<extra></extra>",
         "legendgroup": "Bachelor's, 30 - 39",
         "marker": {
          "color": "rgb(27,158,119)",
          "size": [
           20
          ],
          "sizemode": "area",
          "sizeref": 0.1,
          "symbol": "diamond"
         },
         "mode": "markers",
         "name": "Bachelor's, 30 - 39",
         "orientation": "v",
         "showlegend": true,
         "type": "scatter",
         "x": [
          6463000
         ],
         "xaxis": "x",
         "y": [
          8143380
         ],
         "yaxis": "y"
        },
        {
         "customdata": [
          [
           1.863
          ]
         ],
         "hovertemplate": "Education=Bachelor's<br>Age Group=40 - 50<br>Total Women=%{x}<br>Total Children=%{y}<br>Size=%{marker.size}<br>Children Ever Born per Woman=%{customdata[0]}<extra></extra>",
         "legendgroup": "Bachelor's, 40 - 50",
         "marker": {
          "color": "rgb(27,158,119)",
          "size": [
           30
          ],
          "sizemode": "area",
          "sizeref": 0.1,
          "symbol": "square"
         },
         "mode": "markers",
         "name": "Bachelor's, 40 - 50",
         "orientation": "v",
         "showlegend": true,
         "type": "scatter",
         "x": [
          5899000
         ],
         "xaxis": "x",
         "y": [
          10989837
         ],
         "yaxis": "y"
        },
        {
         "customdata": [
          [
           1.1177906599643264
          ]
         ],
         "hovertemplate": "Education=Bachelor's<br>Age Group=20 - 50<br>Total Women=%{x}<br>Total Children=%{y}<br>Size=%{marker.size}<br>Children Ever Born per Woman=%{customdata[0]}<extra></extra>",
         "legendgroup": "Bachelor's, 20 - 50",
         "marker": {
          "color": "rgb(27,158,119)",
          "size": [
           40
          ],
          "sizemode": "area",
          "sizeref": 0.1,
          "symbol": "x"
         },
         "mode": "markers",
         "name": "Bachelor's, 20 - 50",
         "orientation": "v",
         "showlegend": true,
         "type": "scatter",
         "x": [
          18501000
         ],
         "xaxis": "x",
         "y": [
          20680245
         ],
         "yaxis": "y"
        },
        {
         "customdata": [
          [
           0.268
          ]
         ],
         "hovertemplate": "Education=Graduate<br>Age Group=20 - 29<br>Total Women=%{x}<br>Total Children=%{y}<br>Size=%{marker.size}<br>Children Ever Born per Woman=%{customdata[0]}<extra></extra>",
         "legendgroup": "Graduate, 20 - 29",
         "marker": {
          "color": "rgb(217,95,2)",
          "size": [
           10
          ],
          "sizemode": "area",
          "sizeref": 0.1,
          "symbol": "circle"
         },
         "mode": "markers",
         "name": "Graduate, 20 - 29",
         "orientation": "v",
         "showlegend": true,
         "type": "scatter",
         "x": [
          1471000
         ],
         "xaxis": "x",
         "y": [
          394228
         ],
         "yaxis": "y"
        },
        {
         "customdata": [
          [
           1.173
          ]
         ],
         "hovertemplate": "Education=Graduate<br>Age Group=30 - 39<br>Total Women=%{x}<br>Total Children=%{y}<br>Size=%{marker.size}<br>Children Ever Born per Woman=%{customdata[0]}<extra></extra>",
         "legendgroup": "Graduate, 30 - 39",
         "marker": {
          "color": "rgb(217,95,2)",
          "size": [
           20
          ],
          "sizemode": "area",
          "sizeref": 0.1,
          "symbol": "diamond"
         },
         "mode": "markers",
         "name": "Graduate, 30 - 39",
         "orientation": "v",
         "showlegend": true,
         "type": "scatter",
         "x": [
          4327000
         ],
         "xaxis": "x",
         "y": [
          5075571
         ],
         "yaxis": "y"
        },
        {
         "customdata": [
          [
           1.702
          ]
         ],
         "hovertemplate": "Education=Graduate<br>Age Group=40 - 50<br>Total Women=%{x}<br>Total Children=%{y}<br>Size=%{marker.size}<br>Children Ever Born per Woman=%{customdata[0]}<extra></extra>",
         "legendgroup": "Graduate, 40 - 50",
         "marker": {
          "color": "rgb(217,95,2)",
          "size": [
           30
          ],
          "sizemode": "area",
          "sizeref": 0.1,
          "symbol": "square"
         },
         "mode": "markers",
         "name": "Graduate, 40 - 50",
         "orientation": "v",
         "showlegend": true,
         "type": "scatter",
         "x": [
          4196000
         ],
         "xaxis": "x",
         "y": [
          7141592
         ],
         "yaxis": "y"
        },
        {
         "customdata": [
          [
           1.2618962377426455
          ]
         ],
         "hovertemplate": "Education=Graduate<br>Age Group=20 - 50<br>Total Women=%{x}<br>Total Children=%{y}<br>Size=%{marker.size}<br>Children Ever Born per Woman=%{customdata[0]}<extra></extra>",
         "legendgroup": "Graduate, 20 - 50",
         "marker": {
          "color": "rgb(217,95,2)",
          "size": [
           40
          ],
          "sizemode": "area",
          "sizeref": 0.1,
          "symbol": "x"
         },
         "mode": "markers",
         "name": "Graduate, 20 - 50",
         "orientation": "v",
         "showlegend": true,
         "type": "scatter",
         "x": [
          9994000
         ],
         "xaxis": "x",
         "y": [
          12611391
         ],
         "yaxis": "y"
        }
       ],
       "layout": {
        "legend": {
         "itemsizing": "constant",
         "title": {
          "text": "Education, Age Group"
         },
         "tracegroupgap": 0
        },
        "paper_bgcolor": "rgba(0,0,0,0)",
        "plot_bgcolor": "rgba(0,0,0,0)",
        "shapes": [
         {
          "layer": "below",
          "line": {
           "color": "rgb(117,112,179)",
           "dash": "dot",
           "width": 2
          },
          "type": "line",
          "x0": 0,
          "x1": 26232000,
          "y0": 0,
          "y1": 35666155
         },
         {
          "layer": "below",
          "line": {
           "color": "rgb(27,158,119)",
           "dash": "dot",
           "width": 2
          },
          "type": "line",
          "x0": 0,
          "x1": 18501000,
          "y0": 0,
          "y1": 20680245
         },
         {
          "layer": "below",
          "line": {
           "color": "rgb(217,95,2)",
           "dash": "dot",
           "width": 2
          },
          "type": "line",
          "x0": 0,
          "x1": 9994000,
          "y0": 0,
          "y1": 12611391
         }
        ],
        "template": {
         "data": {
          "bar": [
           {
            "error_x": {
             "color": "#f2f5fa"
            },
            "error_y": {
             "color": "#f2f5fa"
            },
            "marker": {
             "line": {
              "color": "rgb(17,17,17)",
              "width": 0.5
             },
             "pattern": {
              "fillmode": "overlay",
              "size": 10,
              "solidity": 0.2
             }
            },
            "type": "bar"
           }
          ],
          "barpolar": [
           {
            "marker": {
             "line": {
              "color": "rgb(17,17,17)",
              "width": 0.5
             },
             "pattern": {
              "fillmode": "overlay",
              "size": 10,
              "solidity": 0.2
             }
            },
            "type": "barpolar"
           }
          ],
          "carpet": [
           {
            "aaxis": {
             "endlinecolor": "#A2B1C6",
             "gridcolor": "#506784",
             "linecolor": "#506784",
             "minorgridcolor": "#506784",
             "startlinecolor": "#A2B1C6"
            },
            "baxis": {
             "endlinecolor": "#A2B1C6",
             "gridcolor": "#506784",
             "linecolor": "#506784",
             "minorgridcolor": "#506784",
             "startlinecolor": "#A2B1C6"
            },
            "type": "carpet"
           }
          ],
          "choropleth": [
           {
            "colorbar": {
             "outlinewidth": 0,
             "ticks": ""
            },
            "type": "choropleth"
           }
          ],
          "contour": [
           {
            "colorbar": {
             "outlinewidth": 0,
             "ticks": ""
            },
            "colorscale": [
             [
              0,
              "#0d0887"
             ],
             [
              0.1111111111111111,
              "#46039f"
             ],
             [
              0.2222222222222222,
              "#7201a8"
             ],
             [
              0.3333333333333333,
              "#9c179e"
             ],
             [
              0.4444444444444444,
              "#bd3786"
             ],
             [
              0.5555555555555556,
              "#d8576b"
             ],
             [
              0.6666666666666666,
              "#ed7953"
             ],
             [
              0.7777777777777778,
              "#fb9f3a"
             ],
             [
              0.8888888888888888,
              "#fdca26"
             ],
             [
              1,
              "#f0f921"
             ]
            ],
            "type": "contour"
           }
          ],
          "contourcarpet": [
           {
            "colorbar": {
             "outlinewidth": 0,
             "ticks": ""
            },
            "type": "contourcarpet"
           }
          ],
          "heatmap": [
           {
            "colorbar": {
             "outlinewidth": 0,
             "ticks": ""
            },
            "colorscale": [
             [
              0,
              "#0d0887"
             ],
             [
              0.1111111111111111,
              "#46039f"
             ],
             [
              0.2222222222222222,
              "#7201a8"
             ],
             [
              0.3333333333333333,
              "#9c179e"
             ],
             [
              0.4444444444444444,
              "#bd3786"
             ],
             [
              0.5555555555555556,
              "#d8576b"
             ],
             [
              0.6666666666666666,
              "#ed7953"
             ],
             [
              0.7777777777777778,
              "#fb9f3a"
             ],
             [
              0.8888888888888888,
              "#fdca26"
             ],
             [
              1,
              "#f0f921"
             ]
            ],
            "type": "heatmap"
           }
          ],
          "heatmapgl": [
           {
            "colorbar": {
             "outlinewidth": 0,
             "ticks": ""
            },
            "colorscale": [
             [
              0,
              "#0d0887"
             ],
             [
              0.1111111111111111,
              "#46039f"
             ],
             [
              0.2222222222222222,
              "#7201a8"
             ],
             [
              0.3333333333333333,
              "#9c179e"
             ],
             [
              0.4444444444444444,
              "#bd3786"
             ],
             [
              0.5555555555555556,
              "#d8576b"
             ],
             [
              0.6666666666666666,
              "#ed7953"
             ],
             [
              0.7777777777777778,
              "#fb9f3a"
             ],
             [
              0.8888888888888888,
              "#fdca26"
             ],
             [
              1,
              "#f0f921"
             ]
            ],
            "type": "heatmapgl"
           }
          ],
          "histogram": [
           {
            "marker": {
             "pattern": {
              "fillmode": "overlay",
              "size": 10,
              "solidity": 0.2
             }
            },
            "type": "histogram"
           }
          ],
          "histogram2d": [
           {
            "colorbar": {
             "outlinewidth": 0,
             "ticks": ""
            },
            "colorscale": [
             [
              0,
              "#0d0887"
             ],
             [
              0.1111111111111111,
              "#46039f"
             ],
             [
              0.2222222222222222,
              "#7201a8"
             ],
             [
              0.3333333333333333,
              "#9c179e"
             ],
             [
              0.4444444444444444,
              "#bd3786"
             ],
             [
              0.5555555555555556,
              "#d8576b"
             ],
             [
              0.6666666666666666,
              "#ed7953"
             ],
             [
              0.7777777777777778,
              "#fb9f3a"
             ],
             [
              0.8888888888888888,
              "#fdca26"
             ],
             [
              1,
              "#f0f921"
             ]
            ],
            "type": "histogram2d"
           }
          ],
          "histogram2dcontour": [
           {
            "colorbar": {
             "outlinewidth": 0,
             "ticks": ""
            },
            "colorscale": [
             [
              0,
              "#0d0887"
             ],
             [
              0.1111111111111111,
              "#46039f"
             ],
             [
              0.2222222222222222,
              "#7201a8"
             ],
             [
              0.3333333333333333,
              "#9c179e"
             ],
             [
              0.4444444444444444,
              "#bd3786"
             ],
             [
              0.5555555555555556,
              "#d8576b"
             ],
             [
              0.6666666666666666,
              "#ed7953"
             ],
             [
              0.7777777777777778,
              "#fb9f3a"
             ],
             [
              0.8888888888888888,
              "#fdca26"
             ],
             [
              1,
              "#f0f921"
             ]
            ],
            "type": "histogram2dcontour"
           }
          ],
          "mesh3d": [
           {
            "colorbar": {
             "outlinewidth": 0,
             "ticks": ""
            },
            "type": "mesh3d"
           }
          ],
          "parcoords": [
           {
            "line": {
             "colorbar": {
              "outlinewidth": 0,
              "ticks": ""
             }
            },
            "type": "parcoords"
           }
          ],
          "pie": [
           {
            "automargin": true,
            "type": "pie"
           }
          ],
          "scatter": [
           {
            "marker": {
             "line": {
              "color": "#283442"
             }
            },
            "type": "scatter"
           }
          ],
          "scatter3d": [
           {
            "line": {
             "colorbar": {
              "outlinewidth": 0,
              "ticks": ""
             }
            },
            "marker": {
             "colorbar": {
              "outlinewidth": 0,
              "ticks": ""
             }
            },
            "type": "scatter3d"
           }
          ],
          "scattercarpet": [
           {
            "marker": {
             "colorbar": {
              "outlinewidth": 0,
              "ticks": ""
             }
            },
            "type": "scattercarpet"
           }
          ],
          "scattergeo": [
           {
            "marker": {
             "colorbar": {
              "outlinewidth": 0,
              "ticks": ""
             }
            },
            "type": "scattergeo"
           }
          ],
          "scattergl": [
           {
            "marker": {
             "line": {
              "color": "#283442"
             }
            },
            "type": "scattergl"
           }
          ],
          "scattermapbox": [
           {
            "marker": {
             "colorbar": {
              "outlinewidth": 0,
              "ticks": ""
             }
            },
            "type": "scattermapbox"
           }
          ],
          "scatterpolar": [
           {
            "marker": {
             "colorbar": {
              "outlinewidth": 0,
              "ticks": ""
             }
            },
            "type": "scatterpolar"
           }
          ],
          "scatterpolargl": [
           {
            "marker": {
             "colorbar": {
              "outlinewidth": 0,
              "ticks": ""
             }
            },
            "type": "scatterpolargl"
           }
          ],
          "scatterternary": [
           {
            "marker": {
             "colorbar": {
              "outlinewidth": 0,
              "ticks": ""
             }
            },
            "type": "scatterternary"
           }
          ],
          "surface": [
           {
            "colorbar": {
             "outlinewidth": 0,
             "ticks": ""
            },
            "colorscale": [
             [
              0,
              "#0d0887"
             ],
             [
              0.1111111111111111,
              "#46039f"
             ],
             [
              0.2222222222222222,
              "#7201a8"
             ],
             [
              0.3333333333333333,
              "#9c179e"
             ],
             [
              0.4444444444444444,
              "#bd3786"
             ],
             [
              0.5555555555555556,
              "#d8576b"
             ],
             [
              0.6666666666666666,
              "#ed7953"
             ],
             [
              0.7777777777777778,
              "#fb9f3a"
             ],
             [
              0.8888888888888888,
              "#fdca26"
             ],
             [
              1,
              "#f0f921"
             ]
            ],
            "type": "surface"
           }
          ],
          "table": [
           {
            "cells": {
             "fill": {
              "color": "#506784"
             },
             "line": {
              "color": "rgb(17,17,17)"
             }
            },
            "header": {
             "fill": {
              "color": "#2a3f5f"
             },
             "line": {
              "color": "rgb(17,17,17)"
             }
            },
            "type": "table"
           }
          ]
         },
         "layout": {
          "annotationdefaults": {
           "arrowcolor": "#f2f5fa",
           "arrowhead": 0,
           "arrowwidth": 1
          },
          "autotypenumbers": "strict",
          "coloraxis": {
           "colorbar": {
            "outlinewidth": 0,
            "ticks": ""
           }
          },
          "colorscale": {
           "diverging": [
            [
             0,
             "#8e0152"
            ],
            [
             0.1,
             "#c51b7d"
            ],
            [
             0.2,
             "#de77ae"
            ],
            [
             0.3,
             "#f1b6da"
            ],
            [
             0.4,
             "#fde0ef"
            ],
            [
             0.5,
             "#f7f7f7"
            ],
            [
             0.6,
             "#e6f5d0"
            ],
            [
             0.7,
             "#b8e186"
            ],
            [
             0.8,
             "#7fbc41"
            ],
            [
             0.9,
             "#4d9221"
            ],
            [
             1,
             "#276419"
            ]
           ],
           "sequential": [
            [
             0,
             "#0d0887"
            ],
            [
             0.1111111111111111,
             "#46039f"
            ],
            [
             0.2222222222222222,
             "#7201a8"
            ],
            [
             0.3333333333333333,
             "#9c179e"
            ],
            [
             0.4444444444444444,
             "#bd3786"
            ],
            [
             0.5555555555555556,
             "#d8576b"
            ],
            [
             0.6666666666666666,
             "#ed7953"
            ],
            [
             0.7777777777777778,
             "#fb9f3a"
            ],
            [
             0.8888888888888888,
             "#fdca26"
            ],
            [
             1,
             "#f0f921"
            ]
           ],
           "sequentialminus": [
            [
             0,
             "#0d0887"
            ],
            [
             0.1111111111111111,
             "#46039f"
            ],
            [
             0.2222222222222222,
             "#7201a8"
            ],
            [
             0.3333333333333333,
             "#9c179e"
            ],
            [
             0.4444444444444444,
             "#bd3786"
            ],
            [
             0.5555555555555556,
             "#d8576b"
            ],
            [
             0.6666666666666666,
             "#ed7953"
            ],
            [
             0.7777777777777778,
             "#fb9f3a"
            ],
            [
             0.8888888888888888,
             "#fdca26"
            ],
            [
             1,
             "#f0f921"
            ]
           ]
          },
          "colorway": [
           "#636efa",
           "#EF553B",
           "#00cc96",
           "#ab63fa",
           "#FFA15A",
           "#19d3f3",
           "#FF6692",
           "#B6E880",
           "#FF97FF",
           "#FECB52"
          ],
          "font": {
           "color": "#f2f5fa"
          },
          "geo": {
           "bgcolor": "rgb(17,17,17)",
           "lakecolor": "rgb(17,17,17)",
           "landcolor": "rgb(17,17,17)",
           "showlakes": true,
           "showland": true,
           "subunitcolor": "#506784"
          },
          "hoverlabel": {
           "align": "left"
          },
          "hovermode": "closest",
          "mapbox": {
           "style": "dark"
          },
          "paper_bgcolor": "rgb(17,17,17)",
          "plot_bgcolor": "rgb(17,17,17)",
          "polar": {
           "angularaxis": {
            "gridcolor": "#506784",
            "linecolor": "#506784",
            "ticks": ""
           },
           "bgcolor": "rgb(17,17,17)",
           "radialaxis": {
            "gridcolor": "#506784",
            "linecolor": "#506784",
            "ticks": ""
           }
          },
          "scene": {
           "xaxis": {
            "backgroundcolor": "rgb(17,17,17)",
            "gridcolor": "#506784",
            "gridwidth": 2,
            "linecolor": "#506784",
            "showbackground": true,
            "ticks": "",
            "zerolinecolor": "#C8D4E3"
           },
           "yaxis": {
            "backgroundcolor": "rgb(17,17,17)",
            "gridcolor": "#506784",
            "gridwidth": 2,
            "linecolor": "#506784",
            "showbackground": true,
            "ticks": "",
            "zerolinecolor": "#C8D4E3"
           },
           "zaxis": {
            "backgroundcolor": "rgb(17,17,17)",
            "gridcolor": "#506784",
            "gridwidth": 2,
            "linecolor": "#506784",
            "showbackground": true,
            "ticks": "",
            "zerolinecolor": "#C8D4E3"
           }
          },
          "shapedefaults": {
           "line": {
            "color": "#f2f5fa"
           }
          },
          "sliderdefaults": {
           "bgcolor": "#C8D4E3",
           "bordercolor": "rgb(17,17,17)",
           "borderwidth": 1,
           "tickwidth": 0
          },
          "ternary": {
           "aaxis": {
            "gridcolor": "#506784",
            "linecolor": "#506784",
            "ticks": ""
           },
           "baxis": {
            "gridcolor": "#506784",
            "linecolor": "#506784",
            "ticks": ""
           },
           "bgcolor": "rgb(17,17,17)",
           "caxis": {
            "gridcolor": "#506784",
            "linecolor": "#506784",
            "ticks": ""
           }
          },
          "title": {
           "x": 0.05
          },
          "updatemenudefaults": {
           "bgcolor": "#506784",
           "borderwidth": 0
          },
          "xaxis": {
           "automargin": true,
           "gridcolor": "#283442",
           "linecolor": "#506784",
           "ticks": "",
           "title": {
            "standoff": 15
           },
           "zerolinecolor": "#283442",
           "zerolinewidth": 2
          },
          "yaxis": {
           "automargin": true,
           "gridcolor": "#283442",
           "linecolor": "#506784",
           "ticks": "",
           "title": {
            "standoff": 15
           },
           "zerolinecolor": "#283442",
           "zerolinewidth": 2
          }
         }
        },
        "title": {
         "text": "Children per Woman Aged 20 - 50 Slopes by Education Segment (2020)"
        },
        "xaxis": {
         "anchor": "y",
         "domain": [
          0,
          1
         ],
         "title": {
          "text": "Total Women"
         }
        },
        "yaxis": {
         "anchor": "x",
         "domain": [
          0,
          1
         ],
         "title": {
          "text": "Total Children"
         }
        }
       }
      }
     },
     "metadata": {},
     "output_type": "display_data"
    }
   ],
   "source": [
    "size = {\n",
    "    \"20 - 29\": 10,\n",
    "    \"30 - 39\": 20,\n",
    "    \"40 - 50\": 30,\n",
    "    \"20 - 50\": 40,\n",
    "}\n",
    "fdf = make_education_filtered_df(df.copy()).groupby([\"Year\", \"Education\"], as_index=False).agg({\"Birth Rate\": \"sum\", \"Children Ever Born per Woman\": \"sum\", \"Total Women\": \"sum\", \"Total Children\": \"sum\", \"Total Births\": \"sum\"})\n",
    "fdf[\"Age Group\"] = \"20 - 50\"\n",
    "fdf = pd.concat([fdf, df])\n",
    "fdf = make_education_filtered_df(fdf)\n",
    "fdf[\"Size\"] = fdf[\"Age Group\"].replace(size)\n",
    "fdf[\"Education Order\"] = fdf[\"Education\"].apply(lambda x: education_rank_order.index(x))\n",
    "fdf = fdf.sort_values([\"Education Order\", \"Size\"])\n",
    "\n",
    "\n",
    "YEAR = 2020\n",
    "fdf = fdf[fdf[\"Year\"] == YEAR]\n",
    "\n",
    "\n",
    "def draw_line(fig, df, education, age_group, color):\n",
    "    row = df[(df[\"Education\"] == education) & (df[\"Age Group\"] == age_group)].iloc[0]\n",
    "    fig.add_shape(\n",
    "        type=\"line\",\n",
    "        x0=0,\n",
    "        y0=0,\n",
    "        x1=row[\"Total Women\"],\n",
    "        y1=row[\"Total Children\"],\n",
    "        layer=\"below\",\n",
    "        line=dict(\n",
    "            color=color,\n",
    "            width=2,\n",
    "            dash=\"dot\",\n",
    "        ),\n",
    "    )\n",
    "\n",
    "for age_group in [\"20 - 29\", \"30 - 39\", \"40 - 50\", \"20 - 50\"]:\n",
    "\n",
    "    fig = px.scatter(\n",
    "        fdf,\n",
    "        x=\"Total Women\",\n",
    "        y=\"Total Children\",\n",
    "        symbol=\"Age Group\",\n",
    "        color=\"Education\",\n",
    "        size=\"Size\",\n",
    "        template=\"plotly_dark\",\n",
    "        color_discrete_sequence=[colorbrewer.Dark2[2], colorbrewer.Dark2[0], colorbrewer.Dark2[1]],\n",
    "        title=f\"Children per Woman Aged {age_group} Slopes by Education Segment ({YEAR})\",\n",
    "        hover_data=[\"Children Ever Born per Woman\"]\n",
    "    )\n",
    "\n",
    "    education_groups = fdf[\"Education\"].unique()\n",
    "    for education, age_group, color in zip(education_groups, [age_group] * len(education), [colorbrewer.Dark2[2], colorbrewer.Dark2[0], colorbrewer.Dark2[1]]):\n",
    "        draw_line(\n",
    "            fig,\n",
    "            fdf,\n",
    "            education,\n",
    "            age_group,\n",
    "            color\n",
    "        )\n",
    "\n",
    "    fig.update_layout(\n",
    "        paper_bgcolor='rgba(0,0,0,0)',\n",
    "        plot_bgcolor='rgba(0,0,0,0)',\n",
    "    )\n",
    "    fig.show()"
   ]
  },
  {
   "attachments": {},
   "cell_type": "markdown",
   "metadata": {},
   "source": [
    "**commentary**\n",
    "\n",
    "The results of this again demonstrate Simpson's Paradox. However, the cause of it is now observable.\n",
    "\n",
    "For each age group we see that the Children Ever Born per Woman is about the same between women with bachelor's and graduate degrees. The bachelor's tend to have very slightly more children – not as many more as one would expect, but I'll be covering that later. The real differences are seen in the total number of women.\n",
    "\n",
    "The number of women who attain high school or bachelor's are fairly fixed after the ages of 18 and 22. However, people attain MDs, PhDs, MBAs, and JDs all through their late 20s thru 30s. More than half of the 20 - 29 bachelor's attainers are immediately thrown out of the 20-29 graduate group because they just aren't old enough to have attained the degree (even though they will later). Maybe in 10 years they will be classified and counted together...\n",
    "\n",
    "This is where the paradox of your mother's education comes into play. Speaking for myself and the Berkeley admissions department here, I frequently looked at the child rates for each group and expected a simple average to be roughly what made the 20-50 group. It was close to true for the high school attainers, and close to true for the bachelor's attainers, but very much not true for the graduate attainers. This is thanks to the enormous discrepancy between 20 - 29 and 30 - 39 graduates. Because the influence of each age subgroups on the 20-50 group is proportional to the size of the subgroup. All that had to be done was changing the mental math from this\n",
    "\n",
    "$$\\frac{\n",
    "    \\frac{\n",
    "    \\text{20 to 29 children}\n",
    "    }{\\text{20 to 29 women}}\n",
    "+ \\frac{\n",
    "    \\text{30 to 39 children}\n",
    "    }{\\text{30 to 39 women}}\n",
    "+ \\frac{\n",
    "    \\text{40 to 49 children}}{\\text{40 to 49 women}}\n",
    "}{3}$$\n",
    "\n",
    "to this\n",
    "\n",
    "$$\n",
    "\\frac{\n",
    "    \\text{20 to 29 children} + \\text{30 to 39 children} + \\text{40 to 49 children}\n",
    "}{\n",
    "    \\text{20 to 29 women} + \\text{30 to 39 women} + \\text{40 to 49 women}\n",
    "}\n",
    "$$\n",
    "\n",
    "or to old faithful\n",
    "\n",
    "$$\\sum{xp(x)}$$\n",
    "\n",
    "The solution to a problem that nearly turned blue hair red at Berkeley was to remember the definition of an average."
   ]
  },
  {
   "attachments": {},
   "cell_type": "markdown",
   "metadata": {},
   "source": [
    "## The Effect on $\\sigma$"
   ]
  },
  {
   "cell_type": "code",
   "execution_count": 14,
   "metadata": {},
   "outputs": [
    {
     "data": {
      "application/vnd.plotly.v1+json": {
       "config": {
        "plotlyServerURL": "https://plot.ly"
       },
       "data": [
        {
         "customdata": [
          [
           1.292718,
           4.397
          ],
          [
           1.465464,
           4.697
          ],
          [
           1.493714,
           5.098
          ],
          [
           1.495096,
           5.051
          ],
          [
           1.547028,
           6.139
          ]
         ],
         "hovertemplate": "<b>%{hovertext}</b><br><br>Education=Bachelor's<br>Year=%{x}<br>Sigma (YoY)=%{y}<br>Women (Millions)=%{customdata[1]:.2f}<br>Children (Millions)=%{customdata[0]:.2f}<extra></extra>",
         "hovertext": [
          "Bachelor's",
          "Bachelor's",
          "Bachelor's",
          "Bachelor's",
          "Bachelor's"
         ],
         "legendgroup": "Bachelor's",
         "legendrank": 1,
         "marker": {
          "color": "rgb(27,158,119)",
          "size": [
           4.397,
           4.697,
           5.098,
           5.051,
           6.139
          ],
          "sizemode": "area",
          "sizeref": 0.029895,
          "symbol": "arrow"
         },
         "mode": "markers+lines",
         "name": "Bachelor's",
         "orientation": "v",
         "showlegend": true,
         "type": "scatter",
         "x": [
          2012,
          2014,
          2016,
          2018,
          2020
         ],
         "xaxis": "x",
         "y": [
          null,
          0.041778228462738445,
          -0.04076914047631334,
          0.00684832803367097,
          -0.09608659225860718
         ],
         "yaxis": "y"
        },
        {
         "customdata": [
          [
           0.32271,
           1.041
          ],
          [
           0.397308,
           1.172
          ],
          [
           0.3549,
           1.365
          ],
          [
           0.4058339999999999,
           1.419
          ],
          [
           0.394228,
           1.471
          ]
         ],
         "hovertemplate": "<b>%{hovertext}</b><br><br>Education=Graduate<br>Year=%{x}<br>Sigma (YoY)=%{y}<br>Women (Millions)=%{customdata[1]:.2f}<br>Children (Millions)=%{customdata[0]:.2f}<extra></extra>",
         "hovertext": [
          "Graduate",
          "Graduate",
          "Graduate",
          "Graduate",
          "Graduate"
         ],
         "legendgroup": "Graduate",
         "legendrank": 2,
         "marker": {
          "color": "rgb(217,95,2)",
          "size": [
           1.041,
           1.172,
           1.365,
           1.419,
           1.471
          ],
          "sizemode": "area",
          "sizeref": 0.029895,
          "symbol": "arrow"
         },
         "mode": "markers+lines",
         "name": "Graduate",
         "orientation": "v",
         "showlegend": true,
         "type": "scatter",
         "x": [
          2012,
          2014,
          2016,
          2018,
          2020
         ],
         "xaxis": "x",
         "y": [
          null,
          0.23545558382105128,
          -0.6566310174206703,
          0.24640616606789886,
          -0.15964635423425705
         ],
         "yaxis": "y"
        },
        {
         "customdata": [
          [
           8.498623,
           11.893
          ],
          [
           8.212233,
           11.881
          ],
          [
           7.95612,
           11.958
          ],
          [
           7.78065,
           11.845
          ],
          [
           6.016273,
           10.94
          ]
         ],
         "hovertemplate": "<b>%{hovertext}</b><br><br>Education=High School<br>Year=%{x}<br>Sigma (YoY)=%{y}<br>Women (Millions)=%{customdata[1]:.2f}<br>Children (Millions)=%{customdata[0]:.2f}<extra></extra>",
         "hovertext": [
          "High School",
          "High School",
          "High School",
          "High School",
          "High School"
         ],
         "legendgroup": "High School",
         "legendrank": 0,
         "marker": {
          "color": "rgb(117,112,179)",
          "size": [
           11.893,
           11.881,
           11.958,
           11.845,
           10.94
          ],
          "sizemode": "area",
          "sizeref": 0.029895,
          "symbol": "arrow"
         },
         "mode": "markers+lines",
         "name": "High School",
         "orientation": "v",
         "showlegend": true,
         "type": "scatter",
         "x": [
          2012,
          2014,
          2016,
          2018,
          2020
         ],
         "xaxis": "x",
         "y": [
          null,
          -0.0039845947196852334,
          -0.004703945299658705,
          -0.0016354969701151494,
          -0.02705988501447873
         ],
         "yaxis": "y"
        }
       ],
       "layout": {
        "hovermode": "x",
        "legend": {
         "itemsizing": "constant",
         "title": {
          "text": "Education"
         },
         "tracegroupgap": 0
        },
        "paper_bgcolor": "rgba(0,0,0,0)",
        "plot_bgcolor": "rgba(0,0,0,0)",
        "template": {
         "data": {
          "bar": [
           {
            "error_x": {
             "color": "#f2f5fa"
            },
            "error_y": {
             "color": "#f2f5fa"
            },
            "marker": {
             "line": {
              "color": "rgb(17,17,17)",
              "width": 0.5
             },
             "pattern": {
              "fillmode": "overlay",
              "size": 10,
              "solidity": 0.2
             }
            },
            "type": "bar"
           }
          ],
          "barpolar": [
           {
            "marker": {
             "line": {
              "color": "rgb(17,17,17)",
              "width": 0.5
             },
             "pattern": {
              "fillmode": "overlay",
              "size": 10,
              "solidity": 0.2
             }
            },
            "type": "barpolar"
           }
          ],
          "carpet": [
           {
            "aaxis": {
             "endlinecolor": "#A2B1C6",
             "gridcolor": "#506784",
             "linecolor": "#506784",
             "minorgridcolor": "#506784",
             "startlinecolor": "#A2B1C6"
            },
            "baxis": {
             "endlinecolor": "#A2B1C6",
             "gridcolor": "#506784",
             "linecolor": "#506784",
             "minorgridcolor": "#506784",
             "startlinecolor": "#A2B1C6"
            },
            "type": "carpet"
           }
          ],
          "choropleth": [
           {
            "colorbar": {
             "outlinewidth": 0,
             "ticks": ""
            },
            "type": "choropleth"
           }
          ],
          "contour": [
           {
            "colorbar": {
             "outlinewidth": 0,
             "ticks": ""
            },
            "colorscale": [
             [
              0,
              "#0d0887"
             ],
             [
              0.1111111111111111,
              "#46039f"
             ],
             [
              0.2222222222222222,
              "#7201a8"
             ],
             [
              0.3333333333333333,
              "#9c179e"
             ],
             [
              0.4444444444444444,
              "#bd3786"
             ],
             [
              0.5555555555555556,
              "#d8576b"
             ],
             [
              0.6666666666666666,
              "#ed7953"
             ],
             [
              0.7777777777777778,
              "#fb9f3a"
             ],
             [
              0.8888888888888888,
              "#fdca26"
             ],
             [
              1,
              "#f0f921"
             ]
            ],
            "type": "contour"
           }
          ],
          "contourcarpet": [
           {
            "colorbar": {
             "outlinewidth": 0,
             "ticks": ""
            },
            "type": "contourcarpet"
           }
          ],
          "heatmap": [
           {
            "colorbar": {
             "outlinewidth": 0,
             "ticks": ""
            },
            "colorscale": [
             [
              0,
              "#0d0887"
             ],
             [
              0.1111111111111111,
              "#46039f"
             ],
             [
              0.2222222222222222,
              "#7201a8"
             ],
             [
              0.3333333333333333,
              "#9c179e"
             ],
             [
              0.4444444444444444,
              "#bd3786"
             ],
             [
              0.5555555555555556,
              "#d8576b"
             ],
             [
              0.6666666666666666,
              "#ed7953"
             ],
             [
              0.7777777777777778,
              "#fb9f3a"
             ],
             [
              0.8888888888888888,
              "#fdca26"
             ],
             [
              1,
              "#f0f921"
             ]
            ],
            "type": "heatmap"
           }
          ],
          "heatmapgl": [
           {
            "colorbar": {
             "outlinewidth": 0,
             "ticks": ""
            },
            "colorscale": [
             [
              0,
              "#0d0887"
             ],
             [
              0.1111111111111111,
              "#46039f"
             ],
             [
              0.2222222222222222,
              "#7201a8"
             ],
             [
              0.3333333333333333,
              "#9c179e"
             ],
             [
              0.4444444444444444,
              "#bd3786"
             ],
             [
              0.5555555555555556,
              "#d8576b"
             ],
             [
              0.6666666666666666,
              "#ed7953"
             ],
             [
              0.7777777777777778,
              "#fb9f3a"
             ],
             [
              0.8888888888888888,
              "#fdca26"
             ],
             [
              1,
              "#f0f921"
             ]
            ],
            "type": "heatmapgl"
           }
          ],
          "histogram": [
           {
            "marker": {
             "pattern": {
              "fillmode": "overlay",
              "size": 10,
              "solidity": 0.2
             }
            },
            "type": "histogram"
           }
          ],
          "histogram2d": [
           {
            "colorbar": {
             "outlinewidth": 0,
             "ticks": ""
            },
            "colorscale": [
             [
              0,
              "#0d0887"
             ],
             [
              0.1111111111111111,
              "#46039f"
             ],
             [
              0.2222222222222222,
              "#7201a8"
             ],
             [
              0.3333333333333333,
              "#9c179e"
             ],
             [
              0.4444444444444444,
              "#bd3786"
             ],
             [
              0.5555555555555556,
              "#d8576b"
             ],
             [
              0.6666666666666666,
              "#ed7953"
             ],
             [
              0.7777777777777778,
              "#fb9f3a"
             ],
             [
              0.8888888888888888,
              "#fdca26"
             ],
             [
              1,
              "#f0f921"
             ]
            ],
            "type": "histogram2d"
           }
          ],
          "histogram2dcontour": [
           {
            "colorbar": {
             "outlinewidth": 0,
             "ticks": ""
            },
            "colorscale": [
             [
              0,
              "#0d0887"
             ],
             [
              0.1111111111111111,
              "#46039f"
             ],
             [
              0.2222222222222222,
              "#7201a8"
             ],
             [
              0.3333333333333333,
              "#9c179e"
             ],
             [
              0.4444444444444444,
              "#bd3786"
             ],
             [
              0.5555555555555556,
              "#d8576b"
             ],
             [
              0.6666666666666666,
              "#ed7953"
             ],
             [
              0.7777777777777778,
              "#fb9f3a"
             ],
             [
              0.8888888888888888,
              "#fdca26"
             ],
             [
              1,
              "#f0f921"
             ]
            ],
            "type": "histogram2dcontour"
           }
          ],
          "mesh3d": [
           {
            "colorbar": {
             "outlinewidth": 0,
             "ticks": ""
            },
            "type": "mesh3d"
           }
          ],
          "parcoords": [
           {
            "line": {
             "colorbar": {
              "outlinewidth": 0,
              "ticks": ""
             }
            },
            "type": "parcoords"
           }
          ],
          "pie": [
           {
            "automargin": true,
            "type": "pie"
           }
          ],
          "scatter": [
           {
            "marker": {
             "line": {
              "color": "#283442"
             }
            },
            "type": "scatter"
           }
          ],
          "scatter3d": [
           {
            "line": {
             "colorbar": {
              "outlinewidth": 0,
              "ticks": ""
             }
            },
            "marker": {
             "colorbar": {
              "outlinewidth": 0,
              "ticks": ""
             }
            },
            "type": "scatter3d"
           }
          ],
          "scattercarpet": [
           {
            "marker": {
             "colorbar": {
              "outlinewidth": 0,
              "ticks": ""
             }
            },
            "type": "scattercarpet"
           }
          ],
          "scattergeo": [
           {
            "marker": {
             "colorbar": {
              "outlinewidth": 0,
              "ticks": ""
             }
            },
            "type": "scattergeo"
           }
          ],
          "scattergl": [
           {
            "marker": {
             "line": {
              "color": "#283442"
             }
            },
            "type": "scattergl"
           }
          ],
          "scattermapbox": [
           {
            "marker": {
             "colorbar": {
              "outlinewidth": 0,
              "ticks": ""
             }
            },
            "type": "scattermapbox"
           }
          ],
          "scatterpolar": [
           {
            "marker": {
             "colorbar": {
              "outlinewidth": 0,
              "ticks": ""
             }
            },
            "type": "scatterpolar"
           }
          ],
          "scatterpolargl": [
           {
            "marker": {
             "colorbar": {
              "outlinewidth": 0,
              "ticks": ""
             }
            },
            "type": "scatterpolargl"
           }
          ],
          "scatterternary": [
           {
            "marker": {
             "colorbar": {
              "outlinewidth": 0,
              "ticks": ""
             }
            },
            "type": "scatterternary"
           }
          ],
          "surface": [
           {
            "colorbar": {
             "outlinewidth": 0,
             "ticks": ""
            },
            "colorscale": [
             [
              0,
              "#0d0887"
             ],
             [
              0.1111111111111111,
              "#46039f"
             ],
             [
              0.2222222222222222,
              "#7201a8"
             ],
             [
              0.3333333333333333,
              "#9c179e"
             ],
             [
              0.4444444444444444,
              "#bd3786"
             ],
             [
              0.5555555555555556,
              "#d8576b"
             ],
             [
              0.6666666666666666,
              "#ed7953"
             ],
             [
              0.7777777777777778,
              "#fb9f3a"
             ],
             [
              0.8888888888888888,
              "#fdca26"
             ],
             [
              1,
              "#f0f921"
             ]
            ],
            "type": "surface"
           }
          ],
          "table": [
           {
            "cells": {
             "fill": {
              "color": "#506784"
             },
             "line": {
              "color": "rgb(17,17,17)"
             }
            },
            "header": {
             "fill": {
              "color": "#2a3f5f"
             },
             "line": {
              "color": "rgb(17,17,17)"
             }
            },
            "type": "table"
           }
          ]
         },
         "layout": {
          "annotationdefaults": {
           "arrowcolor": "#f2f5fa",
           "arrowhead": 0,
           "arrowwidth": 1
          },
          "autotypenumbers": "strict",
          "coloraxis": {
           "colorbar": {
            "outlinewidth": 0,
            "ticks": ""
           }
          },
          "colorscale": {
           "diverging": [
            [
             0,
             "#8e0152"
            ],
            [
             0.1,
             "#c51b7d"
            ],
            [
             0.2,
             "#de77ae"
            ],
            [
             0.3,
             "#f1b6da"
            ],
            [
             0.4,
             "#fde0ef"
            ],
            [
             0.5,
             "#f7f7f7"
            ],
            [
             0.6,
             "#e6f5d0"
            ],
            [
             0.7,
             "#b8e186"
            ],
            [
             0.8,
             "#7fbc41"
            ],
            [
             0.9,
             "#4d9221"
            ],
            [
             1,
             "#276419"
            ]
           ],
           "sequential": [
            [
             0,
             "#0d0887"
            ],
            [
             0.1111111111111111,
             "#46039f"
            ],
            [
             0.2222222222222222,
             "#7201a8"
            ],
            [
             0.3333333333333333,
             "#9c179e"
            ],
            [
             0.4444444444444444,
             "#bd3786"
            ],
            [
             0.5555555555555556,
             "#d8576b"
            ],
            [
             0.6666666666666666,
             "#ed7953"
            ],
            [
             0.7777777777777778,
             "#fb9f3a"
            ],
            [
             0.8888888888888888,
             "#fdca26"
            ],
            [
             1,
             "#f0f921"
            ]
           ],
           "sequentialminus": [
            [
             0,
             "#0d0887"
            ],
            [
             0.1111111111111111,
             "#46039f"
            ],
            [
             0.2222222222222222,
             "#7201a8"
            ],
            [
             0.3333333333333333,
             "#9c179e"
            ],
            [
             0.4444444444444444,
             "#bd3786"
            ],
            [
             0.5555555555555556,
             "#d8576b"
            ],
            [
             0.6666666666666666,
             "#ed7953"
            ],
            [
             0.7777777777777778,
             "#fb9f3a"
            ],
            [
             0.8888888888888888,
             "#fdca26"
            ],
            [
             1,
             "#f0f921"
            ]
           ]
          },
          "colorway": [
           "#636efa",
           "#EF553B",
           "#00cc96",
           "#ab63fa",
           "#FFA15A",
           "#19d3f3",
           "#FF6692",
           "#B6E880",
           "#FF97FF",
           "#FECB52"
          ],
          "font": {
           "color": "#f2f5fa"
          },
          "geo": {
           "bgcolor": "rgb(17,17,17)",
           "lakecolor": "rgb(17,17,17)",
           "landcolor": "rgb(17,17,17)",
           "showlakes": true,
           "showland": true,
           "subunitcolor": "#506784"
          },
          "hoverlabel": {
           "align": "left"
          },
          "hovermode": "closest",
          "mapbox": {
           "style": "dark"
          },
          "paper_bgcolor": "rgb(17,17,17)",
          "plot_bgcolor": "rgb(17,17,17)",
          "polar": {
           "angularaxis": {
            "gridcolor": "#506784",
            "linecolor": "#506784",
            "ticks": ""
           },
           "bgcolor": "rgb(17,17,17)",
           "radialaxis": {
            "gridcolor": "#506784",
            "linecolor": "#506784",
            "ticks": ""
           }
          },
          "scene": {
           "xaxis": {
            "backgroundcolor": "rgb(17,17,17)",
            "gridcolor": "#506784",
            "gridwidth": 2,
            "linecolor": "#506784",
            "showbackground": true,
            "ticks": "",
            "zerolinecolor": "#C8D4E3"
           },
           "yaxis": {
            "backgroundcolor": "rgb(17,17,17)",
            "gridcolor": "#506784",
            "gridwidth": 2,
            "linecolor": "#506784",
            "showbackground": true,
            "ticks": "",
            "zerolinecolor": "#C8D4E3"
           },
           "zaxis": {
            "backgroundcolor": "rgb(17,17,17)",
            "gridcolor": "#506784",
            "gridwidth": 2,
            "linecolor": "#506784",
            "showbackground": true,
            "ticks": "",
            "zerolinecolor": "#C8D4E3"
           }
          },
          "shapedefaults": {
           "line": {
            "color": "#f2f5fa"
           }
          },
          "sliderdefaults": {
           "bgcolor": "#C8D4E3",
           "bordercolor": "rgb(17,17,17)",
           "borderwidth": 1,
           "tickwidth": 0
          },
          "ternary": {
           "aaxis": {
            "gridcolor": "#506784",
            "linecolor": "#506784",
            "ticks": ""
           },
           "baxis": {
            "gridcolor": "#506784",
            "linecolor": "#506784",
            "ticks": ""
           },
           "bgcolor": "rgb(17,17,17)",
           "caxis": {
            "gridcolor": "#506784",
            "linecolor": "#506784",
            "ticks": ""
           }
          },
          "title": {
           "x": 0.05
          },
          "updatemenudefaults": {
           "bgcolor": "#506784",
           "borderwidth": 0
          },
          "xaxis": {
           "automargin": true,
           "gridcolor": "#283442",
           "linecolor": "#506784",
           "ticks": "",
           "title": {
            "standoff": 15
           },
           "zerolinecolor": "#283442",
           "zerolinewidth": 2
          },
          "yaxis": {
           "automargin": true,
           "gridcolor": "#283442",
           "linecolor": "#506784",
           "ticks": "",
           "title": {
            "standoff": 15
           },
           "zerolinecolor": "#283442",
           "zerolinewidth": 2
          }
         }
        },
        "title": {
         "text": "Fertility Trends for Women Aged 20 - 29 by Education Segment<br><sup>YoY Sigma</sup>"
        },
        "xaxis": {
         "anchor": "y",
         "domain": [
          0,
          1
         ],
         "title": {
          "text": "Year"
         }
        },
        "yaxis": {
         "anchor": "x",
         "domain": [
          0,
          1
         ],
         "title": {
          "text": "Sigma (YoY)"
         }
        }
       }
      }
     },
     "metadata": {},
     "output_type": "display_data"
    },
    {
     "data": {
      "application/vnd.plotly.v1+json": {
       "config": {
        "plotlyServerURL": "https://plot.ly"
       },
       "data": [
        {
         "customdata": [
          [
           6.578508,
           4.659
          ],
          [
           6.791096,
           5.023
          ],
          [
           6.994344,
           5.208
          ],
          [
           7.70829,
           5.774
          ],
          [
           8.14338,
           6.463
          ]
         ],
         "hovertemplate": "<b>%{hovertext}</b><br><br>Education=Bachelor's<br>Year=%{x}<br>Sigma (YoY)=%{y}<br>Women (Millions)=%{customdata[1]:.2f}<br>Children (Millions)=%{customdata[0]:.2f}<extra></extra>",
         "hovertext": [
          "Bachelor's",
          "Bachelor's",
          "Bachelor's",
          "Bachelor's",
          "Bachelor's"
         ],
         "legendgroup": "Bachelor's",
         "legendrank": 1,
         "marker": {
          "color": "rgb(27,158,119)",
          "size": [
           4.659,
           5.023,
           5.208,
           5.774,
           6.463
          ],
          "sizemode": "area",
          "sizeref": 0.0204475,
          "symbol": "arrow"
         },
         "mode": "markers+lines",
         "name": "Bachelor's",
         "orientation": "v",
         "showlegend": true,
         "type": "scatter",
         "x": [
          2012,
          2014,
          2016,
          2018,
          2020
         ],
         "xaxis": "x",
         "y": [
          null,
          -0.0062571516949584596,
          -0.0009517411116364704,
          -0.0007727800984380161,
          -0.0068988276711757016
         ],
         "yaxis": "y"
        },
        {
         "customdata": [
          [
           3.5128170000000005,
           2.877
          ],
          [
           3.3944519999999994,
           2.962
          ],
          [
           4.325998,
           3.599
          ],
          [
           4.22662,
           3.628
          ],
          [
           5.075571,
           4.327
          ]
         ],
         "hovertemplate": "<b>%{hovertext}</b><br><br>Education=Graduate<br>Year=%{x}<br>Sigma (YoY)=%{y}<br>Women (Millions)=%{customdata[1]:.2f}<br>Children (Millions)=%{customdata[0]:.2f}<extra></extra>",
         "hovertext": [
          "Graduate",
          "Graduate",
          "Graduate",
          "Graduate",
          "Graduate"
         ],
         "legendgroup": "Graduate",
         "legendrank": 2,
         "marker": {
          "color": "rgb(217,95,2)",
          "size": [
           2.877,
           2.962,
           3.599,
           3.628,
           4.327
          ],
          "sizemode": "area",
          "sizeref": 0.0204475,
          "symbol": "arrow"
         },
         "mode": "markers+lines",
         "name": "Graduate",
         "orientation": "v",
         "showlegend": true,
         "type": "scatter",
         "x": [
          2012,
          2014,
          2016,
          2018,
          2020
         ],
         "xaxis": "x",
         "y": [
          null,
          -0.018095722498082733,
          0.011295802620862997,
          -0.007282895067473136,
          0.0013529419231254375
         ],
         "yaxis": "y"
        },
        {
         "customdata": [
          [
           15.951109,
           8.098
          ],
          [
           15.261314,
           8.087
          ],
          [
           16.275203,
           8.179
          ],
          [
           14.502546,
           7.899
          ],
          [
           13.00076,
           7.4
          ]
         ],
         "hovertemplate": "<b>%{hovertext}</b><br><br>Education=High School<br>Year=%{x}<br>Sigma (YoY)=%{y}<br>Women (Millions)=%{customdata[1]:.2f}<br>Children (Millions)=%{customdata[0]:.2f}<extra></extra>",
         "hovertext": [
          "High School",
          "High School",
          "High School",
          "High School",
          "High School"
         ],
         "legendgroup": "High School",
         "legendrank": 0,
         "marker": {
          "color": "rgb(117,112,179)",
          "size": [
           8.098,
           8.087,
           8.179,
           7.899,
           7.4
          ],
          "sizemode": "area",
          "sizeref": 0.0204475,
          "symbol": "arrow"
         },
         "mode": "markers+lines",
         "name": "High School",
         "orientation": "v",
         "showlegend": true,
         "type": "scatter",
         "x": [
          2012,
          2014,
          2016,
          2018,
          2020
         ],
         "xaxis": "x",
         "y": [
          null,
          -0.0027483178830000595,
          0.0033449433837292528,
          -0.005332235785970232,
          -0.0033154740118406735
         ],
         "yaxis": "y"
        }
       ],
       "layout": {
        "hovermode": "x",
        "legend": {
         "itemsizing": "constant",
         "title": {
          "text": "Education"
         },
         "tracegroupgap": 0
        },
        "paper_bgcolor": "rgba(0,0,0,0)",
        "plot_bgcolor": "rgba(0,0,0,0)",
        "template": {
         "data": {
          "bar": [
           {
            "error_x": {
             "color": "#f2f5fa"
            },
            "error_y": {
             "color": "#f2f5fa"
            },
            "marker": {
             "line": {
              "color": "rgb(17,17,17)",
              "width": 0.5
             },
             "pattern": {
              "fillmode": "overlay",
              "size": 10,
              "solidity": 0.2
             }
            },
            "type": "bar"
           }
          ],
          "barpolar": [
           {
            "marker": {
             "line": {
              "color": "rgb(17,17,17)",
              "width": 0.5
             },
             "pattern": {
              "fillmode": "overlay",
              "size": 10,
              "solidity": 0.2
             }
            },
            "type": "barpolar"
           }
          ],
          "carpet": [
           {
            "aaxis": {
             "endlinecolor": "#A2B1C6",
             "gridcolor": "#506784",
             "linecolor": "#506784",
             "minorgridcolor": "#506784",
             "startlinecolor": "#A2B1C6"
            },
            "baxis": {
             "endlinecolor": "#A2B1C6",
             "gridcolor": "#506784",
             "linecolor": "#506784",
             "minorgridcolor": "#506784",
             "startlinecolor": "#A2B1C6"
            },
            "type": "carpet"
           }
          ],
          "choropleth": [
           {
            "colorbar": {
             "outlinewidth": 0,
             "ticks": ""
            },
            "type": "choropleth"
           }
          ],
          "contour": [
           {
            "colorbar": {
             "outlinewidth": 0,
             "ticks": ""
            },
            "colorscale": [
             [
              0,
              "#0d0887"
             ],
             [
              0.1111111111111111,
              "#46039f"
             ],
             [
              0.2222222222222222,
              "#7201a8"
             ],
             [
              0.3333333333333333,
              "#9c179e"
             ],
             [
              0.4444444444444444,
              "#bd3786"
             ],
             [
              0.5555555555555556,
              "#d8576b"
             ],
             [
              0.6666666666666666,
              "#ed7953"
             ],
             [
              0.7777777777777778,
              "#fb9f3a"
             ],
             [
              0.8888888888888888,
              "#fdca26"
             ],
             [
              1,
              "#f0f921"
             ]
            ],
            "type": "contour"
           }
          ],
          "contourcarpet": [
           {
            "colorbar": {
             "outlinewidth": 0,
             "ticks": ""
            },
            "type": "contourcarpet"
           }
          ],
          "heatmap": [
           {
            "colorbar": {
             "outlinewidth": 0,
             "ticks": ""
            },
            "colorscale": [
             [
              0,
              "#0d0887"
             ],
             [
              0.1111111111111111,
              "#46039f"
             ],
             [
              0.2222222222222222,
              "#7201a8"
             ],
             [
              0.3333333333333333,
              "#9c179e"
             ],
             [
              0.4444444444444444,
              "#bd3786"
             ],
             [
              0.5555555555555556,
              "#d8576b"
             ],
             [
              0.6666666666666666,
              "#ed7953"
             ],
             [
              0.7777777777777778,
              "#fb9f3a"
             ],
             [
              0.8888888888888888,
              "#fdca26"
             ],
             [
              1,
              "#f0f921"
             ]
            ],
            "type": "heatmap"
           }
          ],
          "heatmapgl": [
           {
            "colorbar": {
             "outlinewidth": 0,
             "ticks": ""
            },
            "colorscale": [
             [
              0,
              "#0d0887"
             ],
             [
              0.1111111111111111,
              "#46039f"
             ],
             [
              0.2222222222222222,
              "#7201a8"
             ],
             [
              0.3333333333333333,
              "#9c179e"
             ],
             [
              0.4444444444444444,
              "#bd3786"
             ],
             [
              0.5555555555555556,
              "#d8576b"
             ],
             [
              0.6666666666666666,
              "#ed7953"
             ],
             [
              0.7777777777777778,
              "#fb9f3a"
             ],
             [
              0.8888888888888888,
              "#fdca26"
             ],
             [
              1,
              "#f0f921"
             ]
            ],
            "type": "heatmapgl"
           }
          ],
          "histogram": [
           {
            "marker": {
             "pattern": {
              "fillmode": "overlay",
              "size": 10,
              "solidity": 0.2
             }
            },
            "type": "histogram"
           }
          ],
          "histogram2d": [
           {
            "colorbar": {
             "outlinewidth": 0,
             "ticks": ""
            },
            "colorscale": [
             [
              0,
              "#0d0887"
             ],
             [
              0.1111111111111111,
              "#46039f"
             ],
             [
              0.2222222222222222,
              "#7201a8"
             ],
             [
              0.3333333333333333,
              "#9c179e"
             ],
             [
              0.4444444444444444,
              "#bd3786"
             ],
             [
              0.5555555555555556,
              "#d8576b"
             ],
             [
              0.6666666666666666,
              "#ed7953"
             ],
             [
              0.7777777777777778,
              "#fb9f3a"
             ],
             [
              0.8888888888888888,
              "#fdca26"
             ],
             [
              1,
              "#f0f921"
             ]
            ],
            "type": "histogram2d"
           }
          ],
          "histogram2dcontour": [
           {
            "colorbar": {
             "outlinewidth": 0,
             "ticks": ""
            },
            "colorscale": [
             [
              0,
              "#0d0887"
             ],
             [
              0.1111111111111111,
              "#46039f"
             ],
             [
              0.2222222222222222,
              "#7201a8"
             ],
             [
              0.3333333333333333,
              "#9c179e"
             ],
             [
              0.4444444444444444,
              "#bd3786"
             ],
             [
              0.5555555555555556,
              "#d8576b"
             ],
             [
              0.6666666666666666,
              "#ed7953"
             ],
             [
              0.7777777777777778,
              "#fb9f3a"
             ],
             [
              0.8888888888888888,
              "#fdca26"
             ],
             [
              1,
              "#f0f921"
             ]
            ],
            "type": "histogram2dcontour"
           }
          ],
          "mesh3d": [
           {
            "colorbar": {
             "outlinewidth": 0,
             "ticks": ""
            },
            "type": "mesh3d"
           }
          ],
          "parcoords": [
           {
            "line": {
             "colorbar": {
              "outlinewidth": 0,
              "ticks": ""
             }
            },
            "type": "parcoords"
           }
          ],
          "pie": [
           {
            "automargin": true,
            "type": "pie"
           }
          ],
          "scatter": [
           {
            "marker": {
             "line": {
              "color": "#283442"
             }
            },
            "type": "scatter"
           }
          ],
          "scatter3d": [
           {
            "line": {
             "colorbar": {
              "outlinewidth": 0,
              "ticks": ""
             }
            },
            "marker": {
             "colorbar": {
              "outlinewidth": 0,
              "ticks": ""
             }
            },
            "type": "scatter3d"
           }
          ],
          "scattercarpet": [
           {
            "marker": {
             "colorbar": {
              "outlinewidth": 0,
              "ticks": ""
             }
            },
            "type": "scattercarpet"
           }
          ],
          "scattergeo": [
           {
            "marker": {
             "colorbar": {
              "outlinewidth": 0,
              "ticks": ""
             }
            },
            "type": "scattergeo"
           }
          ],
          "scattergl": [
           {
            "marker": {
             "line": {
              "color": "#283442"
             }
            },
            "type": "scattergl"
           }
          ],
          "scattermapbox": [
           {
            "marker": {
             "colorbar": {
              "outlinewidth": 0,
              "ticks": ""
             }
            },
            "type": "scattermapbox"
           }
          ],
          "scatterpolar": [
           {
            "marker": {
             "colorbar": {
              "outlinewidth": 0,
              "ticks": ""
             }
            },
            "type": "scatterpolar"
           }
          ],
          "scatterpolargl": [
           {
            "marker": {
             "colorbar": {
              "outlinewidth": 0,
              "ticks": ""
             }
            },
            "type": "scatterpolargl"
           }
          ],
          "scatterternary": [
           {
            "marker": {
             "colorbar": {
              "outlinewidth": 0,
              "ticks": ""
             }
            },
            "type": "scatterternary"
           }
          ],
          "surface": [
           {
            "colorbar": {
             "outlinewidth": 0,
             "ticks": ""
            },
            "colorscale": [
             [
              0,
              "#0d0887"
             ],
             [
              0.1111111111111111,
              "#46039f"
             ],
             [
              0.2222222222222222,
              "#7201a8"
             ],
             [
              0.3333333333333333,
              "#9c179e"
             ],
             [
              0.4444444444444444,
              "#bd3786"
             ],
             [
              0.5555555555555556,
              "#d8576b"
             ],
             [
              0.6666666666666666,
              "#ed7953"
             ],
             [
              0.7777777777777778,
              "#fb9f3a"
             ],
             [
              0.8888888888888888,
              "#fdca26"
             ],
             [
              1,
              "#f0f921"
             ]
            ],
            "type": "surface"
           }
          ],
          "table": [
           {
            "cells": {
             "fill": {
              "color": "#506784"
             },
             "line": {
              "color": "rgb(17,17,17)"
             }
            },
            "header": {
             "fill": {
              "color": "#2a3f5f"
             },
             "line": {
              "color": "rgb(17,17,17)"
             }
            },
            "type": "table"
           }
          ]
         },
         "layout": {
          "annotationdefaults": {
           "arrowcolor": "#f2f5fa",
           "arrowhead": 0,
           "arrowwidth": 1
          },
          "autotypenumbers": "strict",
          "coloraxis": {
           "colorbar": {
            "outlinewidth": 0,
            "ticks": ""
           }
          },
          "colorscale": {
           "diverging": [
            [
             0,
             "#8e0152"
            ],
            [
             0.1,
             "#c51b7d"
            ],
            [
             0.2,
             "#de77ae"
            ],
            [
             0.3,
             "#f1b6da"
            ],
            [
             0.4,
             "#fde0ef"
            ],
            [
             0.5,
             "#f7f7f7"
            ],
            [
             0.6,
             "#e6f5d0"
            ],
            [
             0.7,
             "#b8e186"
            ],
            [
             0.8,
             "#7fbc41"
            ],
            [
             0.9,
             "#4d9221"
            ],
            [
             1,
             "#276419"
            ]
           ],
           "sequential": [
            [
             0,
             "#0d0887"
            ],
            [
             0.1111111111111111,
             "#46039f"
            ],
            [
             0.2222222222222222,
             "#7201a8"
            ],
            [
             0.3333333333333333,
             "#9c179e"
            ],
            [
             0.4444444444444444,
             "#bd3786"
            ],
            [
             0.5555555555555556,
             "#d8576b"
            ],
            [
             0.6666666666666666,
             "#ed7953"
            ],
            [
             0.7777777777777778,
             "#fb9f3a"
            ],
            [
             0.8888888888888888,
             "#fdca26"
            ],
            [
             1,
             "#f0f921"
            ]
           ],
           "sequentialminus": [
            [
             0,
             "#0d0887"
            ],
            [
             0.1111111111111111,
             "#46039f"
            ],
            [
             0.2222222222222222,
             "#7201a8"
            ],
            [
             0.3333333333333333,
             "#9c179e"
            ],
            [
             0.4444444444444444,
             "#bd3786"
            ],
            [
             0.5555555555555556,
             "#d8576b"
            ],
            [
             0.6666666666666666,
             "#ed7953"
            ],
            [
             0.7777777777777778,
             "#fb9f3a"
            ],
            [
             0.8888888888888888,
             "#fdca26"
            ],
            [
             1,
             "#f0f921"
            ]
           ]
          },
          "colorway": [
           "#636efa",
           "#EF553B",
           "#00cc96",
           "#ab63fa",
           "#FFA15A",
           "#19d3f3",
           "#FF6692",
           "#B6E880",
           "#FF97FF",
           "#FECB52"
          ],
          "font": {
           "color": "#f2f5fa"
          },
          "geo": {
           "bgcolor": "rgb(17,17,17)",
           "lakecolor": "rgb(17,17,17)",
           "landcolor": "rgb(17,17,17)",
           "showlakes": true,
           "showland": true,
           "subunitcolor": "#506784"
          },
          "hoverlabel": {
           "align": "left"
          },
          "hovermode": "closest",
          "mapbox": {
           "style": "dark"
          },
          "paper_bgcolor": "rgb(17,17,17)",
          "plot_bgcolor": "rgb(17,17,17)",
          "polar": {
           "angularaxis": {
            "gridcolor": "#506784",
            "linecolor": "#506784",
            "ticks": ""
           },
           "bgcolor": "rgb(17,17,17)",
           "radialaxis": {
            "gridcolor": "#506784",
            "linecolor": "#506784",
            "ticks": ""
           }
          },
          "scene": {
           "xaxis": {
            "backgroundcolor": "rgb(17,17,17)",
            "gridcolor": "#506784",
            "gridwidth": 2,
            "linecolor": "#506784",
            "showbackground": true,
            "ticks": "",
            "zerolinecolor": "#C8D4E3"
           },
           "yaxis": {
            "backgroundcolor": "rgb(17,17,17)",
            "gridcolor": "#506784",
            "gridwidth": 2,
            "linecolor": "#506784",
            "showbackground": true,
            "ticks": "",
            "zerolinecolor": "#C8D4E3"
           },
           "zaxis": {
            "backgroundcolor": "rgb(17,17,17)",
            "gridcolor": "#506784",
            "gridwidth": 2,
            "linecolor": "#506784",
            "showbackground": true,
            "ticks": "",
            "zerolinecolor": "#C8D4E3"
           }
          },
          "shapedefaults": {
           "line": {
            "color": "#f2f5fa"
           }
          },
          "sliderdefaults": {
           "bgcolor": "#C8D4E3",
           "bordercolor": "rgb(17,17,17)",
           "borderwidth": 1,
           "tickwidth": 0
          },
          "ternary": {
           "aaxis": {
            "gridcolor": "#506784",
            "linecolor": "#506784",
            "ticks": ""
           },
           "baxis": {
            "gridcolor": "#506784",
            "linecolor": "#506784",
            "ticks": ""
           },
           "bgcolor": "rgb(17,17,17)",
           "caxis": {
            "gridcolor": "#506784",
            "linecolor": "#506784",
            "ticks": ""
           }
          },
          "title": {
           "x": 0.05
          },
          "updatemenudefaults": {
           "bgcolor": "#506784",
           "borderwidth": 0
          },
          "xaxis": {
           "automargin": true,
           "gridcolor": "#283442",
           "linecolor": "#506784",
           "ticks": "",
           "title": {
            "standoff": 15
           },
           "zerolinecolor": "#283442",
           "zerolinewidth": 2
          },
          "yaxis": {
           "automargin": true,
           "gridcolor": "#283442",
           "linecolor": "#506784",
           "ticks": "",
           "title": {
            "standoff": 15
           },
           "zerolinecolor": "#283442",
           "zerolinewidth": 2
          }
         }
        },
        "title": {
         "text": "Fertility Trends for Women Aged 30 - 39 by Education Segment<br><sup>YoY Sigma</sup>"
        },
        "xaxis": {
         "anchor": "y",
         "domain": [
          0,
          1
         ],
         "title": {
          "text": "Year"
         }
        },
        "yaxis": {
         "anchor": "x",
         "domain": [
          0,
          1
         ],
         "title": {
          "text": "Sigma (YoY)"
         }
        }
       }
      }
     },
     "metadata": {},
     "output_type": "display_data"
    },
    {
     "data": {
      "application/vnd.plotly.v1+json": {
       "config": {
        "plotlyServerURL": "https://plot.ly"
       },
       "data": [
        {
         "customdata": [
          [
           9.669385,
           5.357
          ],
          [
           10.220796,
           5.622
          ],
          [
           9.727602,
           5.281
          ],
          [
           9.94882,
           5.558
          ],
          [
           10.989837,
           5.899
          ]
         ],
         "hovertemplate": "<b>%{hovertext}</b><br><br>Education=Bachelor's<br>Year=%{x}<br>Sigma (YoY)=%{y}<br>Women (Millions)=%{customdata[1]:.2f}<br>Children (Millions)=%{customdata[0]:.2f}<extra></extra>",
         "hovertext": [
          "Bachelor's",
          "Bachelor's",
          "Bachelor's",
          "Bachelor's",
          "Bachelor's"
         ],
         "legendgroup": "Bachelor's",
         "legendrank": 1,
         "marker": {
          "color": "rgb(27,158,119)",
          "size": [
           5.357,
           5.622,
           5.281,
           5.558,
           5.899
          ],
          "sizemode": "area",
          "sizeref": 0.0261275,
          "symbol": "arrow"
         },
         "mode": "markers+lines",
         "name": "Bachelor's",
         "orientation": "v",
         "showlegend": true,
         "type": "scatter",
         "x": [
          2012,
          2014,
          2016,
          2018,
          2020
         ],
         "xaxis": "x",
         "y": [
          null,
          0.0007046629309969588,
          0.0013570991218609747,
          -0.0028375409929997856,
          0.00371089424756963
         ],
         "yaxis": "y"
        },
        {
         "customdata": [
          [
           4.76445,
           2.762
          ],
          [
           5.047107,
           3.057
          ],
          [
           5.61105,
           3.33
          ],
          [
           6.40281,
           3.585
          ],
          [
           7.141592,
           4.196
          ]
         ],
         "hovertemplate": "<b>%{hovertext}</b><br><br>Education=Graduate<br>Year=%{x}<br>Sigma (YoY)=%{y}<br>Women (Millions)=%{customdata[1]:.2f}<br>Children (Millions)=%{customdata[0]:.2f}<extra></extra>",
         "hovertext": [
          "Graduate",
          "Graduate",
          "Graduate",
          "Graduate",
          "Graduate"
         ],
         "legendgroup": "Graduate",
         "legendrank": 2,
         "marker": {
          "color": "rgb(217,95,2)",
          "size": [
           2.762,
           3.057,
           3.33,
           3.585,
           4.196
          ],
          "sizemode": "area",
          "sizeref": 0.0261275,
          "symbol": "arrow"
         },
         "mode": "markers+lines",
         "name": "Graduate",
         "orientation": "v",
         "showlegend": true,
         "type": "scatter",
         "x": [
          2012,
          2014,
          2016,
          2018,
          2020
         ],
         "xaxis": "x",
         "y": [
          null,
          -0.00849963171469076,
          0.003670182879977505,
          0.009361616668149013,
          -0.006585712934039257
         ],
         "yaxis": "y"
        },
        {
         "customdata": [
          [
           21.226814,
           10.451
          ],
          [
           19.790734,
           9.631
          ],
          [
           18.069362,
           8.846
          ],
          [
           17.493866,
           8.411
          ],
          [
           16.649122,
           7.892
          ]
         ],
         "hovertemplate": "<b>%{hovertext}</b><br><br>Education=High School<br>Year=%{x}<br>Sigma (YoY)=%{y}<br>Women (Millions)=%{customdata[1]:.2f}<br>Children (Millions)=%{customdata[0]:.2f}<extra></extra>",
         "hovertext": [
          "High School",
          "High School",
          "High School",
          "High School",
          "High School"
         ],
         "legendgroup": "High School",
         "legendrank": 0,
         "marker": {
          "color": "rgb(117,112,179)",
          "size": [
           10.451,
           9.631,
           8.846,
           8.411,
           7.892
          ],
          "sizemode": "area",
          "sizeref": 0.0261275,
          "symbol": "arrow"
         },
         "mode": "markers+lines",
         "name": "High School",
         "orientation": "v",
         "showlegend": true,
         "type": "scatter",
         "x": [
          2012,
          2014,
          2016,
          2018,
          2020
         ],
         "xaxis": "x",
         "y": [
          null,
          0.0005925749745528403,
          -0.00032964956593472134,
          0.001041595810634248,
          0.0008588580041963772
         ],
         "yaxis": "y"
        }
       ],
       "layout": {
        "hovermode": "x",
        "legend": {
         "itemsizing": "constant",
         "title": {
          "text": "Education"
         },
         "tracegroupgap": 0
        },
        "paper_bgcolor": "rgba(0,0,0,0)",
        "plot_bgcolor": "rgba(0,0,0,0)",
        "template": {
         "data": {
          "bar": [
           {
            "error_x": {
             "color": "#f2f5fa"
            },
            "error_y": {
             "color": "#f2f5fa"
            },
            "marker": {
             "line": {
              "color": "rgb(17,17,17)",
              "width": 0.5
             },
             "pattern": {
              "fillmode": "overlay",
              "size": 10,
              "solidity": 0.2
             }
            },
            "type": "bar"
           }
          ],
          "barpolar": [
           {
            "marker": {
             "line": {
              "color": "rgb(17,17,17)",
              "width": 0.5
             },
             "pattern": {
              "fillmode": "overlay",
              "size": 10,
              "solidity": 0.2
             }
            },
            "type": "barpolar"
           }
          ],
          "carpet": [
           {
            "aaxis": {
             "endlinecolor": "#A2B1C6",
             "gridcolor": "#506784",
             "linecolor": "#506784",
             "minorgridcolor": "#506784",
             "startlinecolor": "#A2B1C6"
            },
            "baxis": {
             "endlinecolor": "#A2B1C6",
             "gridcolor": "#506784",
             "linecolor": "#506784",
             "minorgridcolor": "#506784",
             "startlinecolor": "#A2B1C6"
            },
            "type": "carpet"
           }
          ],
          "choropleth": [
           {
            "colorbar": {
             "outlinewidth": 0,
             "ticks": ""
            },
            "type": "choropleth"
           }
          ],
          "contour": [
           {
            "colorbar": {
             "outlinewidth": 0,
             "ticks": ""
            },
            "colorscale": [
             [
              0,
              "#0d0887"
             ],
             [
              0.1111111111111111,
              "#46039f"
             ],
             [
              0.2222222222222222,
              "#7201a8"
             ],
             [
              0.3333333333333333,
              "#9c179e"
             ],
             [
              0.4444444444444444,
              "#bd3786"
             ],
             [
              0.5555555555555556,
              "#d8576b"
             ],
             [
              0.6666666666666666,
              "#ed7953"
             ],
             [
              0.7777777777777778,
              "#fb9f3a"
             ],
             [
              0.8888888888888888,
              "#fdca26"
             ],
             [
              1,
              "#f0f921"
             ]
            ],
            "type": "contour"
           }
          ],
          "contourcarpet": [
           {
            "colorbar": {
             "outlinewidth": 0,
             "ticks": ""
            },
            "type": "contourcarpet"
           }
          ],
          "heatmap": [
           {
            "colorbar": {
             "outlinewidth": 0,
             "ticks": ""
            },
            "colorscale": [
             [
              0,
              "#0d0887"
             ],
             [
              0.1111111111111111,
              "#46039f"
             ],
             [
              0.2222222222222222,
              "#7201a8"
             ],
             [
              0.3333333333333333,
              "#9c179e"
             ],
             [
              0.4444444444444444,
              "#bd3786"
             ],
             [
              0.5555555555555556,
              "#d8576b"
             ],
             [
              0.6666666666666666,
              "#ed7953"
             ],
             [
              0.7777777777777778,
              "#fb9f3a"
             ],
             [
              0.8888888888888888,
              "#fdca26"
             ],
             [
              1,
              "#f0f921"
             ]
            ],
            "type": "heatmap"
           }
          ],
          "heatmapgl": [
           {
            "colorbar": {
             "outlinewidth": 0,
             "ticks": ""
            },
            "colorscale": [
             [
              0,
              "#0d0887"
             ],
             [
              0.1111111111111111,
              "#46039f"
             ],
             [
              0.2222222222222222,
              "#7201a8"
             ],
             [
              0.3333333333333333,
              "#9c179e"
             ],
             [
              0.4444444444444444,
              "#bd3786"
             ],
             [
              0.5555555555555556,
              "#d8576b"
             ],
             [
              0.6666666666666666,
              "#ed7953"
             ],
             [
              0.7777777777777778,
              "#fb9f3a"
             ],
             [
              0.8888888888888888,
              "#fdca26"
             ],
             [
              1,
              "#f0f921"
             ]
            ],
            "type": "heatmapgl"
           }
          ],
          "histogram": [
           {
            "marker": {
             "pattern": {
              "fillmode": "overlay",
              "size": 10,
              "solidity": 0.2
             }
            },
            "type": "histogram"
           }
          ],
          "histogram2d": [
           {
            "colorbar": {
             "outlinewidth": 0,
             "ticks": ""
            },
            "colorscale": [
             [
              0,
              "#0d0887"
             ],
             [
              0.1111111111111111,
              "#46039f"
             ],
             [
              0.2222222222222222,
              "#7201a8"
             ],
             [
              0.3333333333333333,
              "#9c179e"
             ],
             [
              0.4444444444444444,
              "#bd3786"
             ],
             [
              0.5555555555555556,
              "#d8576b"
             ],
             [
              0.6666666666666666,
              "#ed7953"
             ],
             [
              0.7777777777777778,
              "#fb9f3a"
             ],
             [
              0.8888888888888888,
              "#fdca26"
             ],
             [
              1,
              "#f0f921"
             ]
            ],
            "type": "histogram2d"
           }
          ],
          "histogram2dcontour": [
           {
            "colorbar": {
             "outlinewidth": 0,
             "ticks": ""
            },
            "colorscale": [
             [
              0,
              "#0d0887"
             ],
             [
              0.1111111111111111,
              "#46039f"
             ],
             [
              0.2222222222222222,
              "#7201a8"
             ],
             [
              0.3333333333333333,
              "#9c179e"
             ],
             [
              0.4444444444444444,
              "#bd3786"
             ],
             [
              0.5555555555555556,
              "#d8576b"
             ],
             [
              0.6666666666666666,
              "#ed7953"
             ],
             [
              0.7777777777777778,
              "#fb9f3a"
             ],
             [
              0.8888888888888888,
              "#fdca26"
             ],
             [
              1,
              "#f0f921"
             ]
            ],
            "type": "histogram2dcontour"
           }
          ],
          "mesh3d": [
           {
            "colorbar": {
             "outlinewidth": 0,
             "ticks": ""
            },
            "type": "mesh3d"
           }
          ],
          "parcoords": [
           {
            "line": {
             "colorbar": {
              "outlinewidth": 0,
              "ticks": ""
             }
            },
            "type": "parcoords"
           }
          ],
          "pie": [
           {
            "automargin": true,
            "type": "pie"
           }
          ],
          "scatter": [
           {
            "marker": {
             "line": {
              "color": "#283442"
             }
            },
            "type": "scatter"
           }
          ],
          "scatter3d": [
           {
            "line": {
             "colorbar": {
              "outlinewidth": 0,
              "ticks": ""
             }
            },
            "marker": {
             "colorbar": {
              "outlinewidth": 0,
              "ticks": ""
             }
            },
            "type": "scatter3d"
           }
          ],
          "scattercarpet": [
           {
            "marker": {
             "colorbar": {
              "outlinewidth": 0,
              "ticks": ""
             }
            },
            "type": "scattercarpet"
           }
          ],
          "scattergeo": [
           {
            "marker": {
             "colorbar": {
              "outlinewidth": 0,
              "ticks": ""
             }
            },
            "type": "scattergeo"
           }
          ],
          "scattergl": [
           {
            "marker": {
             "line": {
              "color": "#283442"
             }
            },
            "type": "scattergl"
           }
          ],
          "scattermapbox": [
           {
            "marker": {
             "colorbar": {
              "outlinewidth": 0,
              "ticks": ""
             }
            },
            "type": "scattermapbox"
           }
          ],
          "scatterpolar": [
           {
            "marker": {
             "colorbar": {
              "outlinewidth": 0,
              "ticks": ""
             }
            },
            "type": "scatterpolar"
           }
          ],
          "scatterpolargl": [
           {
            "marker": {
             "colorbar": {
              "outlinewidth": 0,
              "ticks": ""
             }
            },
            "type": "scatterpolargl"
           }
          ],
          "scatterternary": [
           {
            "marker": {
             "colorbar": {
              "outlinewidth": 0,
              "ticks": ""
             }
            },
            "type": "scatterternary"
           }
          ],
          "surface": [
           {
            "colorbar": {
             "outlinewidth": 0,
             "ticks": ""
            },
            "colorscale": [
             [
              0,
              "#0d0887"
             ],
             [
              0.1111111111111111,
              "#46039f"
             ],
             [
              0.2222222222222222,
              "#7201a8"
             ],
             [
              0.3333333333333333,
              "#9c179e"
             ],
             [
              0.4444444444444444,
              "#bd3786"
             ],
             [
              0.5555555555555556,
              "#d8576b"
             ],
             [
              0.6666666666666666,
              "#ed7953"
             ],
             [
              0.7777777777777778,
              "#fb9f3a"
             ],
             [
              0.8888888888888888,
              "#fdca26"
             ],
             [
              1,
              "#f0f921"
             ]
            ],
            "type": "surface"
           }
          ],
          "table": [
           {
            "cells": {
             "fill": {
              "color": "#506784"
             },
             "line": {
              "color": "rgb(17,17,17)"
             }
            },
            "header": {
             "fill": {
              "color": "#2a3f5f"
             },
             "line": {
              "color": "rgb(17,17,17)"
             }
            },
            "type": "table"
           }
          ]
         },
         "layout": {
          "annotationdefaults": {
           "arrowcolor": "#f2f5fa",
           "arrowhead": 0,
           "arrowwidth": 1
          },
          "autotypenumbers": "strict",
          "coloraxis": {
           "colorbar": {
            "outlinewidth": 0,
            "ticks": ""
           }
          },
          "colorscale": {
           "diverging": [
            [
             0,
             "#8e0152"
            ],
            [
             0.1,
             "#c51b7d"
            ],
            [
             0.2,
             "#de77ae"
            ],
            [
             0.3,
             "#f1b6da"
            ],
            [
             0.4,
             "#fde0ef"
            ],
            [
             0.5,
             "#f7f7f7"
            ],
            [
             0.6,
             "#e6f5d0"
            ],
            [
             0.7,
             "#b8e186"
            ],
            [
             0.8,
             "#7fbc41"
            ],
            [
             0.9,
             "#4d9221"
            ],
            [
             1,
             "#276419"
            ]
           ],
           "sequential": [
            [
             0,
             "#0d0887"
            ],
            [
             0.1111111111111111,
             "#46039f"
            ],
            [
             0.2222222222222222,
             "#7201a8"
            ],
            [
             0.3333333333333333,
             "#9c179e"
            ],
            [
             0.4444444444444444,
             "#bd3786"
            ],
            [
             0.5555555555555556,
             "#d8576b"
            ],
            [
             0.6666666666666666,
             "#ed7953"
            ],
            [
             0.7777777777777778,
             "#fb9f3a"
            ],
            [
             0.8888888888888888,
             "#fdca26"
            ],
            [
             1,
             "#f0f921"
            ]
           ],
           "sequentialminus": [
            [
             0,
             "#0d0887"
            ],
            [
             0.1111111111111111,
             "#46039f"
            ],
            [
             0.2222222222222222,
             "#7201a8"
            ],
            [
             0.3333333333333333,
             "#9c179e"
            ],
            [
             0.4444444444444444,
             "#bd3786"
            ],
            [
             0.5555555555555556,
             "#d8576b"
            ],
            [
             0.6666666666666666,
             "#ed7953"
            ],
            [
             0.7777777777777778,
             "#fb9f3a"
            ],
            [
             0.8888888888888888,
             "#fdca26"
            ],
            [
             1,
             "#f0f921"
            ]
           ]
          },
          "colorway": [
           "#636efa",
           "#EF553B",
           "#00cc96",
           "#ab63fa",
           "#FFA15A",
           "#19d3f3",
           "#FF6692",
           "#B6E880",
           "#FF97FF",
           "#FECB52"
          ],
          "font": {
           "color": "#f2f5fa"
          },
          "geo": {
           "bgcolor": "rgb(17,17,17)",
           "lakecolor": "rgb(17,17,17)",
           "landcolor": "rgb(17,17,17)",
           "showlakes": true,
           "showland": true,
           "subunitcolor": "#506784"
          },
          "hoverlabel": {
           "align": "left"
          },
          "hovermode": "closest",
          "mapbox": {
           "style": "dark"
          },
          "paper_bgcolor": "rgb(17,17,17)",
          "plot_bgcolor": "rgb(17,17,17)",
          "polar": {
           "angularaxis": {
            "gridcolor": "#506784",
            "linecolor": "#506784",
            "ticks": ""
           },
           "bgcolor": "rgb(17,17,17)",
           "radialaxis": {
            "gridcolor": "#506784",
            "linecolor": "#506784",
            "ticks": ""
           }
          },
          "scene": {
           "xaxis": {
            "backgroundcolor": "rgb(17,17,17)",
            "gridcolor": "#506784",
            "gridwidth": 2,
            "linecolor": "#506784",
            "showbackground": true,
            "ticks": "",
            "zerolinecolor": "#C8D4E3"
           },
           "yaxis": {
            "backgroundcolor": "rgb(17,17,17)",
            "gridcolor": "#506784",
            "gridwidth": 2,
            "linecolor": "#506784",
            "showbackground": true,
            "ticks": "",
            "zerolinecolor": "#C8D4E3"
           },
           "zaxis": {
            "backgroundcolor": "rgb(17,17,17)",
            "gridcolor": "#506784",
            "gridwidth": 2,
            "linecolor": "#506784",
            "showbackground": true,
            "ticks": "",
            "zerolinecolor": "#C8D4E3"
           }
          },
          "shapedefaults": {
           "line": {
            "color": "#f2f5fa"
           }
          },
          "sliderdefaults": {
           "bgcolor": "#C8D4E3",
           "bordercolor": "rgb(17,17,17)",
           "borderwidth": 1,
           "tickwidth": 0
          },
          "ternary": {
           "aaxis": {
            "gridcolor": "#506784",
            "linecolor": "#506784",
            "ticks": ""
           },
           "baxis": {
            "gridcolor": "#506784",
            "linecolor": "#506784",
            "ticks": ""
           },
           "bgcolor": "rgb(17,17,17)",
           "caxis": {
            "gridcolor": "#506784",
            "linecolor": "#506784",
            "ticks": ""
           }
          },
          "title": {
           "x": 0.05
          },
          "updatemenudefaults": {
           "bgcolor": "#506784",
           "borderwidth": 0
          },
          "xaxis": {
           "automargin": true,
           "gridcolor": "#283442",
           "linecolor": "#506784",
           "ticks": "",
           "title": {
            "standoff": 15
           },
           "zerolinecolor": "#283442",
           "zerolinewidth": 2
          },
          "yaxis": {
           "automargin": true,
           "gridcolor": "#283442",
           "linecolor": "#506784",
           "ticks": "",
           "title": {
            "standoff": 15
           },
           "zerolinecolor": "#283442",
           "zerolinewidth": 2
          }
         }
        },
        "title": {
         "text": "Fertility Trends for Women Aged 40 - 50 by Education Segment<br><sup>YoY Sigma</sup>"
        },
        "xaxis": {
         "anchor": "y",
         "domain": [
          0,
          1
         ],
         "title": {
          "text": "Year"
         }
        },
        "yaxis": {
         "anchor": "x",
         "domain": [
          0,
          1
         ],
         "title": {
          "text": "Sigma (YoY)"
         }
        }
       }
      }
     },
     "metadata": {},
     "output_type": "display_data"
    },
    {
     "data": {
      "application/vnd.plotly.v1+json": {
       "config": {
        "plotlyServerURL": "https://plot.ly"
       },
       "data": [
        {
         "customdata": [
          [
           17.540611,
           14.413
          ],
          [
           18.477356,
           15.342
          ],
          [
           18.21566,
           15.587
          ],
          [
           19.152206,
           16.383
          ],
          [
           20.680245,
           18.501
          ]
         ],
         "hovertemplate": "<b>%{hovertext}</b><br><br>Education=Bachelor's<br>Year=%{x}<br>Sigma (YoY)=%{y}<br>Women (Millions)=%{customdata[1]:.2f}<br>Children (Millions)=%{customdata[0]:.2f}<extra></extra>",
         "hovertext": [
          "Bachelor's",
          "Bachelor's",
          "Bachelor's",
          "Bachelor's",
          "Bachelor's"
         ],
         "legendgroup": "Bachelor's",
         "legendrank": 1,
         "marker": {
          "color": "rgb(27,158,119)",
          "size": [
           14.413,
           15.342,
           15.587,
           16.383,
           18.501
          ],
          "sizemode": "area",
          "sizeref": 0.076105,
          "symbol": "arrow"
         },
         "mode": "markers+lines",
         "name": "Bachelor's",
         "orientation": "v",
         "showlegend": true,
         "type": "scatter",
         "x": [
          2012,
          2014,
          2016,
          2018,
          2020
         ],
         "xaxis": "x",
         "y": [
          null,
          -0.0005618853968476344,
          -0.0016281964956089102,
          0.00001719473041579202,
          -0.0021194150451477774
         ],
         "yaxis": "y"
        },
        {
         "customdata": [
          [
           8.599977,
           6.68
          ],
          [
           8.838867,
           7.191
          ],
          [
           10.291948,
           8.294
          ],
          [
           11.035264,
           8.632
          ],
          [
           12.611391,
           9.994
          ]
         ],
         "hovertemplate": "<b>%{hovertext}</b><br><br>Education=Graduate<br>Year=%{x}<br>Sigma (YoY)=%{y}<br>Women (Millions)=%{customdata[1]:.2f}<br>Children (Millions)=%{customdata[0]:.2f}<extra></extra>",
         "hovertext": [
          "Graduate",
          "Graduate",
          "Graduate",
          "Graduate",
          "Graduate"
         ],
         "legendgroup": "Graduate",
         "legendrank": 2,
         "marker": {
          "color": "rgb(217,95,2)",
          "size": [
           6.68,
           7.191,
           8.294,
           8.632,
           9.994
          ],
          "sizemode": "area",
          "sizeref": 0.076105,
          "symbol": "arrow"
         },
         "mode": "markers+lines",
         "name": "Graduate",
         "orientation": "v",
         "showlegend": true,
         "type": "scatter",
         "x": [
          2012,
          2014,
          2016,
          2018,
          2020
         ],
         "xaxis": "x",
         "y": [
          null,
          -0.0051202263526685604,
          0.0009275504718515193,
          0.0027401631868266044,
          -0.0010244711216594118
         ],
         "yaxis": "y"
        },
        {
         "customdata": [
          [
           45.676546,
           30.442
          ],
          [
           43.264281,
           29.599
          ],
          [
           42.300685,
           28.983
          ],
          [
           39.777062,
           28.155
          ],
          [
           35.666155,
           26.232
          ]
         ],
         "hovertemplate": "<b>%{hovertext}</b><br><br>Education=High School<br>Year=%{x}<br>Sigma (YoY)=%{y}<br>Women (Millions)=%{customdata[1]:.2f}<br>Children (Millions)=%{customdata[0]:.2f}<extra></extra>",
         "hovertext": [
          "High School",
          "High School",
          "High School",
          "High School",
          "High School"
         ],
         "legendgroup": "High School",
         "legendrank": 0,
         "marker": {
          "color": "rgb(117,112,179)",
          "size": [
           30.442,
           29.599,
           28.983,
           28.155,
           26.232
          ],
          "sizemode": "area",
          "sizeref": 0.076105,
          "symbol": "arrow"
         },
         "mode": "markers+lines",
         "name": "High School",
         "orientation": "v",
         "showlegend": true,
         "type": "scatter",
         "x": [
          2012,
          2014,
          2016,
          2018,
          2020
         ],
         "xaxis": "x",
         "y": [
          null,
          -0.0005971513427420066,
          -0.00003526789070004835,
          -0.0008046098345640412,
          -0.0010547113177210015
         ],
         "yaxis": "y"
        }
       ],
       "layout": {
        "hovermode": "x",
        "legend": {
         "itemsizing": "constant",
         "title": {
          "text": "Education"
         },
         "tracegroupgap": 0
        },
        "paper_bgcolor": "rgba(0,0,0,0)",
        "plot_bgcolor": "rgba(0,0,0,0)",
        "template": {
         "data": {
          "bar": [
           {
            "error_x": {
             "color": "#f2f5fa"
            },
            "error_y": {
             "color": "#f2f5fa"
            },
            "marker": {
             "line": {
              "color": "rgb(17,17,17)",
              "width": 0.5
             },
             "pattern": {
              "fillmode": "overlay",
              "size": 10,
              "solidity": 0.2
             }
            },
            "type": "bar"
           }
          ],
          "barpolar": [
           {
            "marker": {
             "line": {
              "color": "rgb(17,17,17)",
              "width": 0.5
             },
             "pattern": {
              "fillmode": "overlay",
              "size": 10,
              "solidity": 0.2
             }
            },
            "type": "barpolar"
           }
          ],
          "carpet": [
           {
            "aaxis": {
             "endlinecolor": "#A2B1C6",
             "gridcolor": "#506784",
             "linecolor": "#506784",
             "minorgridcolor": "#506784",
             "startlinecolor": "#A2B1C6"
            },
            "baxis": {
             "endlinecolor": "#A2B1C6",
             "gridcolor": "#506784",
             "linecolor": "#506784",
             "minorgridcolor": "#506784",
             "startlinecolor": "#A2B1C6"
            },
            "type": "carpet"
           }
          ],
          "choropleth": [
           {
            "colorbar": {
             "outlinewidth": 0,
             "ticks": ""
            },
            "type": "choropleth"
           }
          ],
          "contour": [
           {
            "colorbar": {
             "outlinewidth": 0,
             "ticks": ""
            },
            "colorscale": [
             [
              0,
              "#0d0887"
             ],
             [
              0.1111111111111111,
              "#46039f"
             ],
             [
              0.2222222222222222,
              "#7201a8"
             ],
             [
              0.3333333333333333,
              "#9c179e"
             ],
             [
              0.4444444444444444,
              "#bd3786"
             ],
             [
              0.5555555555555556,
              "#d8576b"
             ],
             [
              0.6666666666666666,
              "#ed7953"
             ],
             [
              0.7777777777777778,
              "#fb9f3a"
             ],
             [
              0.8888888888888888,
              "#fdca26"
             ],
             [
              1,
              "#f0f921"
             ]
            ],
            "type": "contour"
           }
          ],
          "contourcarpet": [
           {
            "colorbar": {
             "outlinewidth": 0,
             "ticks": ""
            },
            "type": "contourcarpet"
           }
          ],
          "heatmap": [
           {
            "colorbar": {
             "outlinewidth": 0,
             "ticks": ""
            },
            "colorscale": [
             [
              0,
              "#0d0887"
             ],
             [
              0.1111111111111111,
              "#46039f"
             ],
             [
              0.2222222222222222,
              "#7201a8"
             ],
             [
              0.3333333333333333,
              "#9c179e"
             ],
             [
              0.4444444444444444,
              "#bd3786"
             ],
             [
              0.5555555555555556,
              "#d8576b"
             ],
             [
              0.6666666666666666,
              "#ed7953"
             ],
             [
              0.7777777777777778,
              "#fb9f3a"
             ],
             [
              0.8888888888888888,
              "#fdca26"
             ],
             [
              1,
              "#f0f921"
             ]
            ],
            "type": "heatmap"
           }
          ],
          "heatmapgl": [
           {
            "colorbar": {
             "outlinewidth": 0,
             "ticks": ""
            },
            "colorscale": [
             [
              0,
              "#0d0887"
             ],
             [
              0.1111111111111111,
              "#46039f"
             ],
             [
              0.2222222222222222,
              "#7201a8"
             ],
             [
              0.3333333333333333,
              "#9c179e"
             ],
             [
              0.4444444444444444,
              "#bd3786"
             ],
             [
              0.5555555555555556,
              "#d8576b"
             ],
             [
              0.6666666666666666,
              "#ed7953"
             ],
             [
              0.7777777777777778,
              "#fb9f3a"
             ],
             [
              0.8888888888888888,
              "#fdca26"
             ],
             [
              1,
              "#f0f921"
             ]
            ],
            "type": "heatmapgl"
           }
          ],
          "histogram": [
           {
            "marker": {
             "pattern": {
              "fillmode": "overlay",
              "size": 10,
              "solidity": 0.2
             }
            },
            "type": "histogram"
           }
          ],
          "histogram2d": [
           {
            "colorbar": {
             "outlinewidth": 0,
             "ticks": ""
            },
            "colorscale": [
             [
              0,
              "#0d0887"
             ],
             [
              0.1111111111111111,
              "#46039f"
             ],
             [
              0.2222222222222222,
              "#7201a8"
             ],
             [
              0.3333333333333333,
              "#9c179e"
             ],
             [
              0.4444444444444444,
              "#bd3786"
             ],
             [
              0.5555555555555556,
              "#d8576b"
             ],
             [
              0.6666666666666666,
              "#ed7953"
             ],
             [
              0.7777777777777778,
              "#fb9f3a"
             ],
             [
              0.8888888888888888,
              "#fdca26"
             ],
             [
              1,
              "#f0f921"
             ]
            ],
            "type": "histogram2d"
           }
          ],
          "histogram2dcontour": [
           {
            "colorbar": {
             "outlinewidth": 0,
             "ticks": ""
            },
            "colorscale": [
             [
              0,
              "#0d0887"
             ],
             [
              0.1111111111111111,
              "#46039f"
             ],
             [
              0.2222222222222222,
              "#7201a8"
             ],
             [
              0.3333333333333333,
              "#9c179e"
             ],
             [
              0.4444444444444444,
              "#bd3786"
             ],
             [
              0.5555555555555556,
              "#d8576b"
             ],
             [
              0.6666666666666666,
              "#ed7953"
             ],
             [
              0.7777777777777778,
              "#fb9f3a"
             ],
             [
              0.8888888888888888,
              "#fdca26"
             ],
             [
              1,
              "#f0f921"
             ]
            ],
            "type": "histogram2dcontour"
           }
          ],
          "mesh3d": [
           {
            "colorbar": {
             "outlinewidth": 0,
             "ticks": ""
            },
            "type": "mesh3d"
           }
          ],
          "parcoords": [
           {
            "line": {
             "colorbar": {
              "outlinewidth": 0,
              "ticks": ""
             }
            },
            "type": "parcoords"
           }
          ],
          "pie": [
           {
            "automargin": true,
            "type": "pie"
           }
          ],
          "scatter": [
           {
            "marker": {
             "line": {
              "color": "#283442"
             }
            },
            "type": "scatter"
           }
          ],
          "scatter3d": [
           {
            "line": {
             "colorbar": {
              "outlinewidth": 0,
              "ticks": ""
             }
            },
            "marker": {
             "colorbar": {
              "outlinewidth": 0,
              "ticks": ""
             }
            },
            "type": "scatter3d"
           }
          ],
          "scattercarpet": [
           {
            "marker": {
             "colorbar": {
              "outlinewidth": 0,
              "ticks": ""
             }
            },
            "type": "scattercarpet"
           }
          ],
          "scattergeo": [
           {
            "marker": {
             "colorbar": {
              "outlinewidth": 0,
              "ticks": ""
             }
            },
            "type": "scattergeo"
           }
          ],
          "scattergl": [
           {
            "marker": {
             "line": {
              "color": "#283442"
             }
            },
            "type": "scattergl"
           }
          ],
          "scattermapbox": [
           {
            "marker": {
             "colorbar": {
              "outlinewidth": 0,
              "ticks": ""
             }
            },
            "type": "scattermapbox"
           }
          ],
          "scatterpolar": [
           {
            "marker": {
             "colorbar": {
              "outlinewidth": 0,
              "ticks": ""
             }
            },
            "type": "scatterpolar"
           }
          ],
          "scatterpolargl": [
           {
            "marker": {
             "colorbar": {
              "outlinewidth": 0,
              "ticks": ""
             }
            },
            "type": "scatterpolargl"
           }
          ],
          "scatterternary": [
           {
            "marker": {
             "colorbar": {
              "outlinewidth": 0,
              "ticks": ""
             }
            },
            "type": "scatterternary"
           }
          ],
          "surface": [
           {
            "colorbar": {
             "outlinewidth": 0,
             "ticks": ""
            },
            "colorscale": [
             [
              0,
              "#0d0887"
             ],
             [
              0.1111111111111111,
              "#46039f"
             ],
             [
              0.2222222222222222,
              "#7201a8"
             ],
             [
              0.3333333333333333,
              "#9c179e"
             ],
             [
              0.4444444444444444,
              "#bd3786"
             ],
             [
              0.5555555555555556,
              "#d8576b"
             ],
             [
              0.6666666666666666,
              "#ed7953"
             ],
             [
              0.7777777777777778,
              "#fb9f3a"
             ],
             [
              0.8888888888888888,
              "#fdca26"
             ],
             [
              1,
              "#f0f921"
             ]
            ],
            "type": "surface"
           }
          ],
          "table": [
           {
            "cells": {
             "fill": {
              "color": "#506784"
             },
             "line": {
              "color": "rgb(17,17,17)"
             }
            },
            "header": {
             "fill": {
              "color": "#2a3f5f"
             },
             "line": {
              "color": "rgb(17,17,17)"
             }
            },
            "type": "table"
           }
          ]
         },
         "layout": {
          "annotationdefaults": {
           "arrowcolor": "#f2f5fa",
           "arrowhead": 0,
           "arrowwidth": 1
          },
          "autotypenumbers": "strict",
          "coloraxis": {
           "colorbar": {
            "outlinewidth": 0,
            "ticks": ""
           }
          },
          "colorscale": {
           "diverging": [
            [
             0,
             "#8e0152"
            ],
            [
             0.1,
             "#c51b7d"
            ],
            [
             0.2,
             "#de77ae"
            ],
            [
             0.3,
             "#f1b6da"
            ],
            [
             0.4,
             "#fde0ef"
            ],
            [
             0.5,
             "#f7f7f7"
            ],
            [
             0.6,
             "#e6f5d0"
            ],
            [
             0.7,
             "#b8e186"
            ],
            [
             0.8,
             "#7fbc41"
            ],
            [
             0.9,
             "#4d9221"
            ],
            [
             1,
             "#276419"
            ]
           ],
           "sequential": [
            [
             0,
             "#0d0887"
            ],
            [
             0.1111111111111111,
             "#46039f"
            ],
            [
             0.2222222222222222,
             "#7201a8"
            ],
            [
             0.3333333333333333,
             "#9c179e"
            ],
            [
             0.4444444444444444,
             "#bd3786"
            ],
            [
             0.5555555555555556,
             "#d8576b"
            ],
            [
             0.6666666666666666,
             "#ed7953"
            ],
            [
             0.7777777777777778,
             "#fb9f3a"
            ],
            [
             0.8888888888888888,
             "#fdca26"
            ],
            [
             1,
             "#f0f921"
            ]
           ],
           "sequentialminus": [
            [
             0,
             "#0d0887"
            ],
            [
             0.1111111111111111,
             "#46039f"
            ],
            [
             0.2222222222222222,
             "#7201a8"
            ],
            [
             0.3333333333333333,
             "#9c179e"
            ],
            [
             0.4444444444444444,
             "#bd3786"
            ],
            [
             0.5555555555555556,
             "#d8576b"
            ],
            [
             0.6666666666666666,
             "#ed7953"
            ],
            [
             0.7777777777777778,
             "#fb9f3a"
            ],
            [
             0.8888888888888888,
             "#fdca26"
            ],
            [
             1,
             "#f0f921"
            ]
           ]
          },
          "colorway": [
           "#636efa",
           "#EF553B",
           "#00cc96",
           "#ab63fa",
           "#FFA15A",
           "#19d3f3",
           "#FF6692",
           "#B6E880",
           "#FF97FF",
           "#FECB52"
          ],
          "font": {
           "color": "#f2f5fa"
          },
          "geo": {
           "bgcolor": "rgb(17,17,17)",
           "lakecolor": "rgb(17,17,17)",
           "landcolor": "rgb(17,17,17)",
           "showlakes": true,
           "showland": true,
           "subunitcolor": "#506784"
          },
          "hoverlabel": {
           "align": "left"
          },
          "hovermode": "closest",
          "mapbox": {
           "style": "dark"
          },
          "paper_bgcolor": "rgb(17,17,17)",
          "plot_bgcolor": "rgb(17,17,17)",
          "polar": {
           "angularaxis": {
            "gridcolor": "#506784",
            "linecolor": "#506784",
            "ticks": ""
           },
           "bgcolor": "rgb(17,17,17)",
           "radialaxis": {
            "gridcolor": "#506784",
            "linecolor": "#506784",
            "ticks": ""
           }
          },
          "scene": {
           "xaxis": {
            "backgroundcolor": "rgb(17,17,17)",
            "gridcolor": "#506784",
            "gridwidth": 2,
            "linecolor": "#506784",
            "showbackground": true,
            "ticks": "",
            "zerolinecolor": "#C8D4E3"
           },
           "yaxis": {
            "backgroundcolor": "rgb(17,17,17)",
            "gridcolor": "#506784",
            "gridwidth": 2,
            "linecolor": "#506784",
            "showbackground": true,
            "ticks": "",
            "zerolinecolor": "#C8D4E3"
           },
           "zaxis": {
            "backgroundcolor": "rgb(17,17,17)",
            "gridcolor": "#506784",
            "gridwidth": 2,
            "linecolor": "#506784",
            "showbackground": true,
            "ticks": "",
            "zerolinecolor": "#C8D4E3"
           }
          },
          "shapedefaults": {
           "line": {
            "color": "#f2f5fa"
           }
          },
          "sliderdefaults": {
           "bgcolor": "#C8D4E3",
           "bordercolor": "rgb(17,17,17)",
           "borderwidth": 1,
           "tickwidth": 0
          },
          "ternary": {
           "aaxis": {
            "gridcolor": "#506784",
            "linecolor": "#506784",
            "ticks": ""
           },
           "baxis": {
            "gridcolor": "#506784",
            "linecolor": "#506784",
            "ticks": ""
           },
           "bgcolor": "rgb(17,17,17)",
           "caxis": {
            "gridcolor": "#506784",
            "linecolor": "#506784",
            "ticks": ""
           }
          },
          "title": {
           "x": 0.05
          },
          "updatemenudefaults": {
           "bgcolor": "#506784",
           "borderwidth": 0
          },
          "xaxis": {
           "automargin": true,
           "gridcolor": "#283442",
           "linecolor": "#506784",
           "ticks": "",
           "title": {
            "standoff": 15
           },
           "zerolinecolor": "#283442",
           "zerolinewidth": 2
          },
          "yaxis": {
           "automargin": true,
           "gridcolor": "#283442",
           "linecolor": "#506784",
           "ticks": "",
           "title": {
            "standoff": 15
           },
           "zerolinecolor": "#283442",
           "zerolinewidth": 2
          }
         }
        },
        "title": {
         "text": "Fertility Trends for Women Aged 20 - 50 by Education Segment<br><sup>YoY Sigma</sup>"
        },
        "xaxis": {
         "anchor": "y",
         "domain": [
          0,
          1
         ],
         "title": {
          "text": "Year"
         }
        },
        "yaxis": {
         "anchor": "x",
         "domain": [
          0,
          1
         ],
         "title": {
          "text": "Sigma (YoY)"
         }
        }
       }
      }
     },
     "metadata": {},
     "output_type": "display_data"
    }
   ],
   "source": [
    "\n",
    "gdf = df.groupby([\"Year\", \"Education\"], as_index=False).agg({\"Birth Rate\": \"sum\", \"Children Ever Born per Woman\": \"sum\", \"Total Women\": \"sum\", \"Total Children\": \"sum\", \"Total Births\": \"sum\"})\n",
    "gdf[\"Age Group\"] = \"20 - 50\"\n",
    "gdf = pd.concat([gdf, df], ignore_index=True)\n",
    "gdf = make_education_filtered_df(gdf)\n",
    "\n",
    "# Convert to millions\n",
    "gdf[\"Women (Millions)\"] = gdf[\"Total Women\"] / 1_000_000\n",
    "gdf[\"Children (Millions)\"] = gdf[\"Total Children\"] / 1_000_000\n",
    "\n",
    "for age_group in [\"20 - 29\", \"30 - 39\", \"40 - 50\", \"20 - 50\"]:\n",
    "    fdf = gdf[gdf[\"Age Group\"] == age_group]\n",
    "    ed_by_year_dataframes = []\n",
    "    for education, edf in fdf.groupby(\"Education\"):\n",
    "        by_year = edf.groupby(\"Year\", as_index=False).agg(\n",
    "            {\n",
    "                \"Children (Millions)\": \"sum\",\n",
    "                \"Women (Millions)\": \"sum\",\n",
    "            }\n",
    "        )\n",
    "        by_year[\"Child Rate\"] = by_year[\"Children (Millions)\"] / by_year[\"Women (Millions)\"]\n",
    "        by_year[\"Sigma\"] = sigma(by_year[\"Child Rate\"].shift(), by_year[\"Women (Millions)\"], by_year[\"Children (Millions)\"])\n",
    "        by_year[\"Education\"] = education\n",
    "        ed_by_year_dataframes.append(by_year)\n",
    "\n",
    "    fdf = pd.concat(ed_by_year_dataframes)\n",
    "    # Create a normalized sigma column for a second y-axis\n",
    "    fdf[\"Normalized Sigma\"] = fdf[\"Sigma\"] / fdf[\"Sigma\"].abs().max()\n",
    "\n",
    "    fig = px.scatter(\n",
    "        fdf,\n",
    "        x=\"Year\",\n",
    "        y=\"Sigma\",\n",
    "        color=\"Education\",\n",
    "        size=\"Women (Millions)\",\n",
    "        title=f\"Fertility Trends for Women Aged {age_group} by Education Segment<br><sup>YoY Sigma</sup>\",\n",
    "        template=\"plotly_dark\",\n",
    "        hover_name=\"Education\",\n",
    "        hover_data={\n",
    "            \"Year\": True,\n",
    "            \"Children (Millions)\": \":.2f\",\n",
    "            \"Women (Millions)\": \":.2f\",\n",
    "        },\n",
    "        labels={\n",
    "            \"Sigma\": \"Sigma (YoY)\",\n",
    "        },\n",
    "        color_discrete_sequence=colorbrewer.Dark2,           \n",
    "    )\n",
    "    # Update legend rank\n",
    "    fig.for_each_trace(\n",
    "        lambda trace: trace.update(\n",
    "            legendrank=education_rank_order.index(trace.name)\n",
    "        )\n",
    "    )\n",
    "\n",
    "    fig.update_layout(\n",
    "        paper_bgcolor='rgba(0,0,0,0)',\n",
    "        plot_bgcolor='rgba(0,0,0,0)',\n",
    "        hovermode=\"x\",\n",
    "    )\n",
    "    fig.update_traces(mode=\"markers+lines\", marker=dict(symbol=\"arrow\"))\n",
    "    fig.show()"
   ]
  },
  {
   "attachments": {},
   "cell_type": "markdown",
   "metadata": {},
   "source": [
    "# Appendix\n",
    "\n",
    "Additional plots for reference.\n",
    "\n",
    "## 1) Total Women by Age Group and Education Segment"
   ]
  },
  {
   "cell_type": "code",
   "execution_count": 15,
   "metadata": {},
   "outputs": [
    {
     "data": {
      "application/vnd.plotly.v1+json": {
       "config": {
        "plotlyServerURL": "https://plot.ly"
       },
       "data": [
        {
         "alignmentgroup": "True",
         "error_y": {
          "array": [
           428701.8777658899,
           314921.1012301335,
           1011334.6132709984
          ]
         },
         "hovertemplate": "Education=High School<br>Age Group=%{x}<br>Total Women=%{y}<extra></extra>",
         "legendgroup": "High School",
         "marker": {
          "color": "rgb(117,112,179)",
          "pattern": {
           "shape": ""
          }
         },
         "name": "High School",
         "offsetgroup": "High School",
         "orientation": "v",
         "showlegend": true,
         "textposition": "auto",
         "type": "bar",
         "x": [
          "20 - 29",
          "30 - 39",
          "40 - 50"
         ],
         "xaxis": "x",
         "y": [
          58517000,
          39663000,
          45231000
         ],
         "yaxis": "y"
        },
        {
         "alignmentgroup": "True",
         "error_y": {
          "array": [
           658741.0720457621,
           706168.0394920178,
           243126.0989692386
          ]
         },
         "hovertemplate": "Education=Bachelor's<br>Age Group=%{x}<br>Total Women=%{y}<extra></extra>",
         "legendgroup": "Bachelor's",
         "marker": {
          "color": "rgb(27,158,119)",
          "pattern": {
           "shape": ""
          }
         },
         "name": "Bachelor's",
         "offsetgroup": "Bachelor's",
         "orientation": "v",
         "showlegend": true,
         "textposition": "auto",
         "type": "bar",
         "x": [
          "20 - 29",
          "30 - 39",
          "40 - 50"
         ],
         "xaxis": "x",
         "y": [
          25382000,
          27127000,
          27717000
         ],
         "yaxis": "y"
        },
        {
         "alignmentgroup": "True",
         "error_y": {
          "array": [
           180891.68029514235,
           588514.4858030259,
           546912.6987006244
          ]
         },
         "hovertemplate": "Education=Graduate<br>Age Group=%{x}<br>Total Women=%{y}<extra></extra>",
         "legendgroup": "Graduate",
         "marker": {
          "color": "rgb(217,95,2)",
          "pattern": {
           "shape": ""
          }
         },
         "name": "Graduate",
         "offsetgroup": "Graduate",
         "orientation": "v",
         "showlegend": true,
         "textposition": "auto",
         "type": "bar",
         "x": [
          "20 - 29",
          "30 - 39",
          "40 - 50"
         ],
         "xaxis": "x",
         "y": [
          6468000,
          17393000,
          16930000
         ],
         "yaxis": "y"
        }
       ],
       "layout": {
        "barmode": "group",
        "legend": {
         "title": {
          "text": "Education"
         },
         "tracegroupgap": 0
        },
        "paper_bgcolor": "rgba(0,0,0,0)",
        "plot_bgcolor": "rgba(0,0,0,0)",
        "template": {
         "data": {
          "bar": [
           {
            "error_x": {
             "color": "#f2f5fa"
            },
            "error_y": {
             "color": "#f2f5fa"
            },
            "marker": {
             "line": {
              "color": "rgb(17,17,17)",
              "width": 0.5
             },
             "pattern": {
              "fillmode": "overlay",
              "size": 10,
              "solidity": 0.2
             }
            },
            "type": "bar"
           }
          ],
          "barpolar": [
           {
            "marker": {
             "line": {
              "color": "rgb(17,17,17)",
              "width": 0.5
             },
             "pattern": {
              "fillmode": "overlay",
              "size": 10,
              "solidity": 0.2
             }
            },
            "type": "barpolar"
           }
          ],
          "carpet": [
           {
            "aaxis": {
             "endlinecolor": "#A2B1C6",
             "gridcolor": "#506784",
             "linecolor": "#506784",
             "minorgridcolor": "#506784",
             "startlinecolor": "#A2B1C6"
            },
            "baxis": {
             "endlinecolor": "#A2B1C6",
             "gridcolor": "#506784",
             "linecolor": "#506784",
             "minorgridcolor": "#506784",
             "startlinecolor": "#A2B1C6"
            },
            "type": "carpet"
           }
          ],
          "choropleth": [
           {
            "colorbar": {
             "outlinewidth": 0,
             "ticks": ""
            },
            "type": "choropleth"
           }
          ],
          "contour": [
           {
            "colorbar": {
             "outlinewidth": 0,
             "ticks": ""
            },
            "colorscale": [
             [
              0,
              "#0d0887"
             ],
             [
              0.1111111111111111,
              "#46039f"
             ],
             [
              0.2222222222222222,
              "#7201a8"
             ],
             [
              0.3333333333333333,
              "#9c179e"
             ],
             [
              0.4444444444444444,
              "#bd3786"
             ],
             [
              0.5555555555555556,
              "#d8576b"
             ],
             [
              0.6666666666666666,
              "#ed7953"
             ],
             [
              0.7777777777777778,
              "#fb9f3a"
             ],
             [
              0.8888888888888888,
              "#fdca26"
             ],
             [
              1,
              "#f0f921"
             ]
            ],
            "type": "contour"
           }
          ],
          "contourcarpet": [
           {
            "colorbar": {
             "outlinewidth": 0,
             "ticks": ""
            },
            "type": "contourcarpet"
           }
          ],
          "heatmap": [
           {
            "colorbar": {
             "outlinewidth": 0,
             "ticks": ""
            },
            "colorscale": [
             [
              0,
              "#0d0887"
             ],
             [
              0.1111111111111111,
              "#46039f"
             ],
             [
              0.2222222222222222,
              "#7201a8"
             ],
             [
              0.3333333333333333,
              "#9c179e"
             ],
             [
              0.4444444444444444,
              "#bd3786"
             ],
             [
              0.5555555555555556,
              "#d8576b"
             ],
             [
              0.6666666666666666,
              "#ed7953"
             ],
             [
              0.7777777777777778,
              "#fb9f3a"
             ],
             [
              0.8888888888888888,
              "#fdca26"
             ],
             [
              1,
              "#f0f921"
             ]
            ],
            "type": "heatmap"
           }
          ],
          "heatmapgl": [
           {
            "colorbar": {
             "outlinewidth": 0,
             "ticks": ""
            },
            "colorscale": [
             [
              0,
              "#0d0887"
             ],
             [
              0.1111111111111111,
              "#46039f"
             ],
             [
              0.2222222222222222,
              "#7201a8"
             ],
             [
              0.3333333333333333,
              "#9c179e"
             ],
             [
              0.4444444444444444,
              "#bd3786"
             ],
             [
              0.5555555555555556,
              "#d8576b"
             ],
             [
              0.6666666666666666,
              "#ed7953"
             ],
             [
              0.7777777777777778,
              "#fb9f3a"
             ],
             [
              0.8888888888888888,
              "#fdca26"
             ],
             [
              1,
              "#f0f921"
             ]
            ],
            "type": "heatmapgl"
           }
          ],
          "histogram": [
           {
            "marker": {
             "pattern": {
              "fillmode": "overlay",
              "size": 10,
              "solidity": 0.2
             }
            },
            "type": "histogram"
           }
          ],
          "histogram2d": [
           {
            "colorbar": {
             "outlinewidth": 0,
             "ticks": ""
            },
            "colorscale": [
             [
              0,
              "#0d0887"
             ],
             [
              0.1111111111111111,
              "#46039f"
             ],
             [
              0.2222222222222222,
              "#7201a8"
             ],
             [
              0.3333333333333333,
              "#9c179e"
             ],
             [
              0.4444444444444444,
              "#bd3786"
             ],
             [
              0.5555555555555556,
              "#d8576b"
             ],
             [
              0.6666666666666666,
              "#ed7953"
             ],
             [
              0.7777777777777778,
              "#fb9f3a"
             ],
             [
              0.8888888888888888,
              "#fdca26"
             ],
             [
              1,
              "#f0f921"
             ]
            ],
            "type": "histogram2d"
           }
          ],
          "histogram2dcontour": [
           {
            "colorbar": {
             "outlinewidth": 0,
             "ticks": ""
            },
            "colorscale": [
             [
              0,
              "#0d0887"
             ],
             [
              0.1111111111111111,
              "#46039f"
             ],
             [
              0.2222222222222222,
              "#7201a8"
             ],
             [
              0.3333333333333333,
              "#9c179e"
             ],
             [
              0.4444444444444444,
              "#bd3786"
             ],
             [
              0.5555555555555556,
              "#d8576b"
             ],
             [
              0.6666666666666666,
              "#ed7953"
             ],
             [
              0.7777777777777778,
              "#fb9f3a"
             ],
             [
              0.8888888888888888,
              "#fdca26"
             ],
             [
              1,
              "#f0f921"
             ]
            ],
            "type": "histogram2dcontour"
           }
          ],
          "mesh3d": [
           {
            "colorbar": {
             "outlinewidth": 0,
             "ticks": ""
            },
            "type": "mesh3d"
           }
          ],
          "parcoords": [
           {
            "line": {
             "colorbar": {
              "outlinewidth": 0,
              "ticks": ""
             }
            },
            "type": "parcoords"
           }
          ],
          "pie": [
           {
            "automargin": true,
            "type": "pie"
           }
          ],
          "scatter": [
           {
            "marker": {
             "line": {
              "color": "#283442"
             }
            },
            "type": "scatter"
           }
          ],
          "scatter3d": [
           {
            "line": {
             "colorbar": {
              "outlinewidth": 0,
              "ticks": ""
             }
            },
            "marker": {
             "colorbar": {
              "outlinewidth": 0,
              "ticks": ""
             }
            },
            "type": "scatter3d"
           }
          ],
          "scattercarpet": [
           {
            "marker": {
             "colorbar": {
              "outlinewidth": 0,
              "ticks": ""
             }
            },
            "type": "scattercarpet"
           }
          ],
          "scattergeo": [
           {
            "marker": {
             "colorbar": {
              "outlinewidth": 0,
              "ticks": ""
             }
            },
            "type": "scattergeo"
           }
          ],
          "scattergl": [
           {
            "marker": {
             "line": {
              "color": "#283442"
             }
            },
            "type": "scattergl"
           }
          ],
          "scattermapbox": [
           {
            "marker": {
             "colorbar": {
              "outlinewidth": 0,
              "ticks": ""
             }
            },
            "type": "scattermapbox"
           }
          ],
          "scatterpolar": [
           {
            "marker": {
             "colorbar": {
              "outlinewidth": 0,
              "ticks": ""
             }
            },
            "type": "scatterpolar"
           }
          ],
          "scatterpolargl": [
           {
            "marker": {
             "colorbar": {
              "outlinewidth": 0,
              "ticks": ""
             }
            },
            "type": "scatterpolargl"
           }
          ],
          "scatterternary": [
           {
            "marker": {
             "colorbar": {
              "outlinewidth": 0,
              "ticks": ""
             }
            },
            "type": "scatterternary"
           }
          ],
          "surface": [
           {
            "colorbar": {
             "outlinewidth": 0,
             "ticks": ""
            },
            "colorscale": [
             [
              0,
              "#0d0887"
             ],
             [
              0.1111111111111111,
              "#46039f"
             ],
             [
              0.2222222222222222,
              "#7201a8"
             ],
             [
              0.3333333333333333,
              "#9c179e"
             ],
             [
              0.4444444444444444,
              "#bd3786"
             ],
             [
              0.5555555555555556,
              "#d8576b"
             ],
             [
              0.6666666666666666,
              "#ed7953"
             ],
             [
              0.7777777777777778,
              "#fb9f3a"
             ],
             [
              0.8888888888888888,
              "#fdca26"
             ],
             [
              1,
              "#f0f921"
             ]
            ],
            "type": "surface"
           }
          ],
          "table": [
           {
            "cells": {
             "fill": {
              "color": "#506784"
             },
             "line": {
              "color": "rgb(17,17,17)"
             }
            },
            "header": {
             "fill": {
              "color": "#2a3f5f"
             },
             "line": {
              "color": "rgb(17,17,17)"
             }
            },
            "type": "table"
           }
          ]
         },
         "layout": {
          "annotationdefaults": {
           "arrowcolor": "#f2f5fa",
           "arrowhead": 0,
           "arrowwidth": 1
          },
          "autotypenumbers": "strict",
          "coloraxis": {
           "colorbar": {
            "outlinewidth": 0,
            "ticks": ""
           }
          },
          "colorscale": {
           "diverging": [
            [
             0,
             "#8e0152"
            ],
            [
             0.1,
             "#c51b7d"
            ],
            [
             0.2,
             "#de77ae"
            ],
            [
             0.3,
             "#f1b6da"
            ],
            [
             0.4,
             "#fde0ef"
            ],
            [
             0.5,
             "#f7f7f7"
            ],
            [
             0.6,
             "#e6f5d0"
            ],
            [
             0.7,
             "#b8e186"
            ],
            [
             0.8,
             "#7fbc41"
            ],
            [
             0.9,
             "#4d9221"
            ],
            [
             1,
             "#276419"
            ]
           ],
           "sequential": [
            [
             0,
             "#0d0887"
            ],
            [
             0.1111111111111111,
             "#46039f"
            ],
            [
             0.2222222222222222,
             "#7201a8"
            ],
            [
             0.3333333333333333,
             "#9c179e"
            ],
            [
             0.4444444444444444,
             "#bd3786"
            ],
            [
             0.5555555555555556,
             "#d8576b"
            ],
            [
             0.6666666666666666,
             "#ed7953"
            ],
            [
             0.7777777777777778,
             "#fb9f3a"
            ],
            [
             0.8888888888888888,
             "#fdca26"
            ],
            [
             1,
             "#f0f921"
            ]
           ],
           "sequentialminus": [
            [
             0,
             "#0d0887"
            ],
            [
             0.1111111111111111,
             "#46039f"
            ],
            [
             0.2222222222222222,
             "#7201a8"
            ],
            [
             0.3333333333333333,
             "#9c179e"
            ],
            [
             0.4444444444444444,
             "#bd3786"
            ],
            [
             0.5555555555555556,
             "#d8576b"
            ],
            [
             0.6666666666666666,
             "#ed7953"
            ],
            [
             0.7777777777777778,
             "#fb9f3a"
            ],
            [
             0.8888888888888888,
             "#fdca26"
            ],
            [
             1,
             "#f0f921"
            ]
           ]
          },
          "colorway": [
           "#636efa",
           "#EF553B",
           "#00cc96",
           "#ab63fa",
           "#FFA15A",
           "#19d3f3",
           "#FF6692",
           "#B6E880",
           "#FF97FF",
           "#FECB52"
          ],
          "font": {
           "color": "#f2f5fa"
          },
          "geo": {
           "bgcolor": "rgb(17,17,17)",
           "lakecolor": "rgb(17,17,17)",
           "landcolor": "rgb(17,17,17)",
           "showlakes": true,
           "showland": true,
           "subunitcolor": "#506784"
          },
          "hoverlabel": {
           "align": "left"
          },
          "hovermode": "closest",
          "mapbox": {
           "style": "dark"
          },
          "paper_bgcolor": "rgb(17,17,17)",
          "plot_bgcolor": "rgb(17,17,17)",
          "polar": {
           "angularaxis": {
            "gridcolor": "#506784",
            "linecolor": "#506784",
            "ticks": ""
           },
           "bgcolor": "rgb(17,17,17)",
           "radialaxis": {
            "gridcolor": "#506784",
            "linecolor": "#506784",
            "ticks": ""
           }
          },
          "scene": {
           "xaxis": {
            "backgroundcolor": "rgb(17,17,17)",
            "gridcolor": "#506784",
            "gridwidth": 2,
            "linecolor": "#506784",
            "showbackground": true,
            "ticks": "",
            "zerolinecolor": "#C8D4E3"
           },
           "yaxis": {
            "backgroundcolor": "rgb(17,17,17)",
            "gridcolor": "#506784",
            "gridwidth": 2,
            "linecolor": "#506784",
            "showbackground": true,
            "ticks": "",
            "zerolinecolor": "#C8D4E3"
           },
           "zaxis": {
            "backgroundcolor": "rgb(17,17,17)",
            "gridcolor": "#506784",
            "gridwidth": 2,
            "linecolor": "#506784",
            "showbackground": true,
            "ticks": "",
            "zerolinecolor": "#C8D4E3"
           }
          },
          "shapedefaults": {
           "line": {
            "color": "#f2f5fa"
           }
          },
          "sliderdefaults": {
           "bgcolor": "#C8D4E3",
           "bordercolor": "rgb(17,17,17)",
           "borderwidth": 1,
           "tickwidth": 0
          },
          "ternary": {
           "aaxis": {
            "gridcolor": "#506784",
            "linecolor": "#506784",
            "ticks": ""
           },
           "baxis": {
            "gridcolor": "#506784",
            "linecolor": "#506784",
            "ticks": ""
           },
           "bgcolor": "rgb(17,17,17)",
           "caxis": {
            "gridcolor": "#506784",
            "linecolor": "#506784",
            "ticks": ""
           }
          },
          "title": {
           "x": 0.05
          },
          "updatemenudefaults": {
           "bgcolor": "#506784",
           "borderwidth": 0
          },
          "xaxis": {
           "automargin": true,
           "gridcolor": "#283442",
           "linecolor": "#506784",
           "ticks": "",
           "title": {
            "standoff": 15
           },
           "zerolinecolor": "#283442",
           "zerolinewidth": 2
          },
          "yaxis": {
           "automargin": true,
           "gridcolor": "#283442",
           "linecolor": "#506784",
           "ticks": "",
           "title": {
            "standoff": 15
           },
           "zerolinecolor": "#283442",
           "zerolinewidth": 2
          }
         }
        },
        "title": {
         "text": "Total Women by Age Group and Education Segment"
        },
        "xaxis": {
         "anchor": "y",
         "domain": [
          0,
          1
         ],
         "title": {
          "text": "Age Group"
         }
        },
        "yaxis": {
         "anchor": "x",
         "domain": [
          0,
          1
         ],
         "title": {
          "text": "Total Women"
         }
        }
       }
      }
     },
     "metadata": {},
     "output_type": "display_data"
    }
   ],
   "source": [
    "fdf = make_education_filtered_df(df)\n",
    "# Aggregate by age group and education segment and calculate the standard deviation\n",
    "fdf = fdf.groupby([\"Age Group\", \"Education\"], as_index=False).agg({\"Total Women\": [\"sum\", \"std\"]})\n",
    "# Flatten hierarchical column index\n",
    "fdf = fdf.set_axis([' '.join(col).strip() for col in fdf.columns], axis=1)\n",
    "\n",
    "fdf[\"Education Order\"] = fdf[\"Education\"].map(lambda x: education_rank_order.index(x))\n",
    "fdf = fdf.sort_values([\"Age Group\", \"Education Order\"])\n",
    "\n",
    "fig = px.bar(\n",
    "    fdf,\n",
    "    x=\"Age Group\",\n",
    "    y=\"Total Women sum\",\n",
    "    color=\"Education\",\n",
    "    title=\"Total Women by Age Group and Education Segment\",\n",
    "    template=\"plotly_dark\",\n",
    "    barmode=\"group\",\n",
    "    # Trying to keep colors consistent across plots. Plots are generated by education label alphabetically, so H is last, B first, G second\n",
    "    color_discrete_sequence=[colorbrewer.Dark2[2], colorbrewer.Dark2[0], colorbrewer.Dark2[1]],\n",
    "    error_y=\"Total Women std\",\n",
    "    labels={\n",
    "        \"Total Women sum\": \"Total Women\"\n",
    "    }\n",
    ")\n",
    "fig.update_layout(\n",
    "    paper_bgcolor='rgba(0,0,0,0)',\n",
    "    plot_bgcolor='rgba(0,0,0,0)',\n",
    ")\n",
    "fig\n"
   ]
  }
 ],
 "metadata": {
  "kernelspec": {
   "display_name": "venv",
   "language": "python",
   "name": "python3"
  },
  "language_info": {
   "codemirror_mode": {
    "name": "ipython",
    "version": 3
   },
   "file_extension": ".py",
   "mimetype": "text/x-python",
   "name": "python",
   "nbconvert_exporter": "python",
   "pygments_lexer": "ipython3",
   "version": "3.11.0"
  },
  "orig_nbformat": 4
 },
 "nbformat": 4,
 "nbformat_minor": 2
}
